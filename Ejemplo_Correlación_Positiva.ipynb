{
  "nbformat": 4,
  "nbformat_minor": 0,
  "metadata": {
    "colab": {
      "provenance": [],
      "authorship_tag": "ABX9TyOq8uM8rI/gbrxoKz5mx8tM",
      "include_colab_link": true
    },
    "kernelspec": {
      "name": "python3",
      "display_name": "Python 3"
    },
    "language_info": {
      "name": "python"
    }
  },
  "cells": [
    {
      "cell_type": "markdown",
      "metadata": {
        "id": "view-in-github",
        "colab_type": "text"
      },
      "source": [
        "<a href=\"https://colab.research.google.com/github/davidriveraarbelaez/IA_Explorador/blob/main/Ejemplo_Correlaci%C3%B3n_Positiva.ipynb\" target=\"_parent\"><img src=\"https://colab.research.google.com/assets/colab-badge.svg\" alt=\"Open In Colab\"/></a>"
      ]
    },
    {
      "cell_type": "code",
      "execution_count": null,
      "metadata": {
        "id": "aHip68JUek8g"
      },
      "outputs": [],
      "source": []
    },
    {
      "cell_type": "markdown",
      "source": [
        "**Ejemplo de correlación positiva**\n",
        "\n",
        "En un sistema de agricultura inteligente, es común observar una correlación positiva entre la humedad del suelo y el crecimiento de las plantas. A medida que la humedad del suelo se mantiene en niveles óptimos, las plantas crecen de forma saludable."
      ],
      "metadata": {
        "id": "orPT70WseqED"
      }
    },
    {
      "cell_type": "code",
      "source": [
        "# Paso 1: Importar librerías necesarias\n",
        "\n",
        "import numpy as np\n",
        "from scipy.stats import pearsonr\n",
        "import matplotlib.pyplot as plt"
      ],
      "metadata": {
        "id": "awDinLaHeyE6"
      },
      "execution_count": null,
      "outputs": []
    },
    {
      "cell_type": "code",
      "source": [
        "# Paso 2: Generar datos simulados\n",
        "\n",
        "\"\"\"\n",
        "Generamos datos de ejemplo para la humedad del suelo (en porcentaje) y el\n",
        "crecimiento de las plantas (en altura, en centímetros). En este caso, la humedad\n",
        "alta debería estar asociada a un mejor crecimiento.\n",
        "\"\"\"\n",
        "\n",
        "# Datos simulados de humedad del suelo (en %)\n",
        "humedad_suelo = np.array([30, 40, 45, 50, 55, 60, 65, 70, 75, 80])\n",
        "\n",
        "# Datos simulados de crecimiento de plantas (en cm)\n",
        "crecimiento_plantas = np.array([10, 15, 17, 20, 22, 25, 28, 30, 35, 38])"
      ],
      "metadata": {
        "id": "lRyikUsxe88K"
      },
      "execution_count": null,
      "outputs": []
    },
    {
      "cell_type": "code",
      "source": [
        "# Paso 3: Visualizar los datos\n",
        "\"\"\"\n",
        "Para mostrar cómo se relacionan visualmente la humedad del suelo y el crecimiento\n",
        "de las plantas, realizamos un gráfico de dispersión.\n",
        "\"\"\"\n",
        "\n",
        "plt.scatter(humedad_suelo, crecimiento_plantas)\n",
        "plt.title('Relación entre Humedad del Suelo y Crecimiento de Plantas')\n",
        "plt.xlabel('Humedad del suelo (%)')\n",
        "plt.ylabel('Crecimiento de plantas (cm)')\n",
        "plt.grid()\n",
        "plt.show()"
      ],
      "metadata": {
        "id": "J_yt-UIMfKag"
      },
      "execution_count": null,
      "outputs": []
    },
    {
      "cell_type": "code",
      "source": [
        "# Paso 4: Calcular el coeficiente de correlación de Pearson\n",
        "\"\"\"\n",
        "Utilizamos el coeficiente de correlación de Pearson para medir la relación entre\n",
        "la humedad y el crecimiento de las plantas.\n",
        "\"\"\"\n",
        "\n",
        "# Calcular el coeficiente de correlación de Pearson\n",
        "coef, p_valor = pearsonr(humedad_suelo, crecimiento_plantas)\n",
        "print(f'Coeficiente de correlación: {coef:.2f}')\n",
        "print(f'Valor p: {p_valor:.4f}')"
      ],
      "metadata": {
        "colab": {
          "base_uri": "https://localhost:8080/"
        },
        "id": "W5rgkoeAfU7w",
        "outputId": "cd544466-29d4-4bef-ced7-20d4a97d5047"
      },
      "execution_count": null,
      "outputs": [
        {
          "output_type": "stream",
          "name": "stdout",
          "text": [
            "Coeficiente de correlación: 1.00\n",
            "Valor p: 0.0000\n"
          ]
        }
      ]
    },
    {
      "cell_type": "code",
      "source": [],
      "metadata": {
        "id": "Ple4FSukfeaQ"
      },
      "execution_count": null,
      "outputs": []
    }
  ]
}