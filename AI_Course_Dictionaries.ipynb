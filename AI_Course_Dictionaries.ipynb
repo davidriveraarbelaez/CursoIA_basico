{
  "cells": [
    {
      "cell_type": "markdown",
      "metadata": {
        "id": "xi2yAKM6P_d9"
      },
      "source": [
        "1. **Introduction to Dictionaries**\n",
        "\n",
        "What is a Dictionary?\n",
        "A dictionary in Python is a collection of key-value pairs. Each key is mapped to a value, and the key must be unique. Dictionaries are unordered, mutable, and can hold elements of different data types.\n",
        "\n",
        "Characteristics of Dictionaries:\n",
        "*  Key-value pairs: Each entry consists of a key and a corresponding value.\n",
        "*  Mutable: You can change the dictionary after its creation.\n",
        "*  Unordered: Dictionaries don’t keep the order of elements (though from Python 3.7+, insertion order is preserved).\n",
        "*  Keys are unique: No duplicate keys are allowed.\n",
        "* Keys are immutable: Keys can be of types like strings, numbers, or tuples, but not lists or other dictionaries.\n",
        "\n",
        "**Example:**"
      ]
    },
    {
      "cell_type": "code",
      "execution_count": null,
      "metadata": {
        "id": "kFR7r20dQLLg"
      },
      "outputs": [],
      "source": [
        "# Creating a dictionary\n",
        "student = {\n",
        "    \"name\": \"John Doe\",\n",
        "    \"age\": 20,\n",
        "    \"major\": \"Computer Science\"\n",
        "}\n",
        "print(student)  # Output: {'name': 'John Doe', 'age': 20, 'major': 'Computer Science'}\n"
      ]
    },
    {
      "cell_type": "markdown",
      "metadata": {
        "id": "mHS9D787QP_A"
      },
      "source": [
        "2. **Accessing Dictionary Elements**\n",
        "\n",
        "You can access the value associated with a key by using square brackets [] or the get() method.\n",
        "\n",
        "**Example:**"
      ]
    },
    {
      "cell_type": "code",
      "execution_count": null,
      "metadata": {
        "id": "GypjkIEWQTyN"
      },
      "outputs": [],
      "source": [
        "student = {\n",
        "    \"name\": \"John Doe\",\n",
        "    \"age\": 20,\n",
        "    \"major\": \"Computer Science\"\n",
        "}\n",
        "\n",
        "# Access value using the key\n",
        "print(student[\"name\"])  # Output: John Doe\n",
        "\n",
        "# Access value using get() method\n",
        "print(student.get(\"age\"))  # Output: 20\n"
      ]
    },
    {
      "cell_type": "markdown",
      "metadata": {
        "id": "770tXUc0Qarw"
      },
      "source": [
        "If you try to access a non-existent key using square brackets, it will raise a KeyError. The get() method returns None if the key is not found."
      ]
    },
    {
      "cell_type": "code",
      "execution_count": null,
      "metadata": {
        "id": "G3Rkc5hlQbeB"
      },
      "outputs": [],
      "source": [
        "# Using a non-existent key\n",
        "# print(student[\"grade\"])  # KeyError\n",
        "\n",
        "# Using get() to avoid KeyError\n",
        "print(student.get(\"grade\"))  # Output: None\n"
      ]
    },
    {
      "cell_type": "markdown",
      "metadata": {
        "id": "qQCmvFTjQm49"
      },
      "source": [
        "3. **Modifying a Dictionary**\n",
        "\n",
        "Dictionaries are mutable, which means you can change, add, or remove elements.\n",
        "\n",
        "*  Adding or Updating Elements:"
      ]
    },
    {
      "cell_type": "code",
      "execution_count": null,
      "metadata": {
        "id": "BUJofIgZQrhJ"
      },
      "outputs": [],
      "source": [
        "student = {\n",
        "    \"name\": \"John Doe\",\n",
        "    \"age\": 20\n",
        "}\n",
        "\n",
        "# Add a new key-value pair\n",
        "student[\"major\"] = \"Computer Science\"\n",
        "print(student)  # Output: {'name': 'John Doe', 'age': 20, 'major': 'Computer Science'}\n",
        "\n",
        "# Update an existing value\n",
        "student[\"age\"] = 21\n",
        "print(student)  # Output: {'name': 'John Doe', 'age': 21, 'major': 'Computer Science'}\n"
      ]
    },
    {
      "cell_type": "markdown",
      "metadata": {
        "id": "nu5SC5clQujh"
      },
      "source": [
        "*  Removing Elements:\n",
        "You can remove items using del, pop(), or popitem()."
      ]
    },
    {
      "cell_type": "code",
      "execution_count": null,
      "metadata": {
        "id": "Hie2GgmhQy2K"
      },
      "outputs": [],
      "source": [
        "# Using del to remove a key-value pair\n",
        "del student[\"age\"]\n",
        "print(student)  # Output: {'name': 'John Doe', 'major': 'Computer Science'}\n",
        "\n",
        "# Using pop() to remove an element and return its value\n",
        "major = student.pop(\"major\")\n",
        "print(major)  # Output: Computer Science\n",
        "print(student)  # Output: {'name': 'John Doe'}\n",
        "\n",
        "# Using popitem() to remove the last inserted key-value pair\n",
        "student[\"age\"] = 21\n",
        "last_item = student.popitem()\n",
        "print(last_item)  # Output: ('age', 21)\n",
        "print(student)  # Output: {'name': 'John Doe'}\n"
      ]
    },
    {
      "cell_type": "markdown",
      "metadata": {
        "id": "2cv6eRkkQ3GR"
      },
      "source": [
        "4. **Iterating through a Dictionary**\n",
        "\n",
        "You can loop through dictionaries in different ways:\n",
        "\n",
        "*  Loop through keys\n",
        "*  Loop through values\n",
        "*  Loop through key-value pairs\n",
        "\n",
        "**Example:**"
      ]
    },
    {
      "cell_type": "code",
      "execution_count": null,
      "metadata": {
        "id": "uFWZR4_kRFGK"
      },
      "outputs": [],
      "source": [
        "student = {\n",
        "    \"name\": \"John Doe\",\n",
        "    \"age\": 20,\n",
        "    \"major\": \"Computer Science\"\n",
        "}\n",
        "\n",
        "# Loop through keys\n",
        "for key in student:\n",
        "    print(key)\n",
        "\n",
        "# Loop through values\n",
        "for value in student.values():\n",
        "    print(value)\n",
        "\n",
        "# Loop through key-value pairs\n",
        "for key, value in student.items():\n",
        "    print(f\"{key}: {value}\")\n"
      ]
    },
    {
      "cell_type": "markdown",
      "metadata": {
        "id": "YAAqnDxQRJpy"
      },
      "source": [
        "5. **Dictionary Methods**\n",
        "\n",
        "Here are some common methods used with dictionaries:\n",
        "\n",
        "*  **keys():** Returns all the keys in the dictionary."
      ]
    },
    {
      "cell_type": "code",
      "execution_count": null,
      "metadata": {
        "id": "LPQkncTyRPKT"
      },
      "outputs": [],
      "source": [
        "student = {\"name\": \"John\", \"age\": 21, \"major\": \"Math\"}\n",
        "print(student.keys())  # Output: dict_keys(['name', 'age', 'major'])\n"
      ]
    },
    {
      "cell_type": "markdown",
      "metadata": {
        "id": "0Gqnn-TCRP9u"
      },
      "source": [
        "*  **values():** Returns all the values in the dictionary."
      ]
    },
    {
      "cell_type": "code",
      "execution_count": null,
      "metadata": {
        "id": "X_rqiJ68RUBe"
      },
      "outputs": [],
      "source": [
        "print(student.values())  # Output: dict_values(['John', 21, 'Math'])\n"
      ]
    },
    {
      "cell_type": "markdown",
      "metadata": {
        "id": "Tef0RFXVRZO0"
      },
      "source": [
        "*  **items():** Returns all the key-value pairs as tuples.\n"
      ]
    },
    {
      "cell_type": "code",
      "execution_count": null,
      "metadata": {
        "id": "YcFIe8KnRdr-"
      },
      "outputs": [],
      "source": [
        "print(student.items())  # Output: dict_items([('name', 'John'), ('age', 21), ('major', 'Math')])"
      ]
    },
    {
      "cell_type": "markdown",
      "metadata": {
        "id": "F8qVFibBRr8G"
      },
      "source": [
        "*  **update():** Adds or updates multiple key-value pairs.\n"
      ]
    },
    {
      "cell_type": "code",
      "execution_count": null,
      "metadata": {
        "id": "U6m66FzHRuiq"
      },
      "outputs": [],
      "source": [
        "student.update({\"grade\": \"A\", \"graduation_year\": 2024})\n",
        "print(student)  # Output: {'name': 'John', 'age': 21, 'major': 'Math', 'grade': 'A', 'graduation_year': 2024}\n"
      ]
    },
    {
      "cell_type": "markdown",
      "metadata": {
        "id": "wHen5ddFRwvG"
      },
      "source": [
        "*  **clear():** Removes all elements from the dictionary.\n"
      ]
    },
    {
      "cell_type": "code",
      "execution_count": null,
      "metadata": {
        "id": "nJjDgVIXR19I"
      },
      "outputs": [],
      "source": [
        "student.clear()\n",
        "print(student)  # Output: {}\n"
      ]
    },
    {
      "cell_type": "markdown",
      "metadata": {
        "id": "WEZiPqHZR9AH"
      },
      "source": [
        "6. **Dictionary Comprehensions**\n",
        "\n",
        "You can create a dictionary using a concise and readable syntax known as dictionary comprehensions.\n",
        "\n",
        "**Example:**"
      ]
    },
    {
      "cell_type": "code",
      "execution_count": null,
      "metadata": {
        "id": "ZF48grA0SC3u"
      },
      "outputs": [],
      "source": [
        "# Example: Creating a dictionary of squares\n",
        "squares = {x: x**2 for x in range(1, 6)}\n",
        "print(squares)  # Output: {1: 1, 2: 4, 3: 9, 4: 16, 5: 25}\n"
      ]
    },
    {
      "cell_type": "markdown",
      "metadata": {
        "id": "_5xgSnlbSFvW"
      },
      "source": [
        "**Example with a condition:**"
      ]
    },
    {
      "cell_type": "code",
      "execution_count": null,
      "metadata": {
        "id": "T4U-5OoUSImH"
      },
      "outputs": [],
      "source": [
        "# Creating a dictionary of squares for only even numbers\n",
        "even_squares = {x: x**2 for x in range(1, 6) if x % 2 == 0}\n",
        "print(even_squares)  # Output: {2: 4, 4: 16}\n"
      ]
    },
    {
      "cell_type": "markdown",
      "metadata": {
        "id": "7zvvoE_8SMPy"
      },
      "source": [
        "7. **When to Use Dictionaries?**\n",
        "\n",
        "Dictionaries are great for use cases where:\n",
        "\n",
        "*  You need to associate values with unique keys (like a contact list with names as keys and phone numbers as values).\n",
        "*  You need fast lookups by key. Dictionary lookups are highly efficient (average time complexity: O(1)).\n",
        "*  Data needs to be stored in pairs where each key maps to one value (e.g., storing attributes of an object)."
      ]
    },
    {
      "cell_type": "markdown",
      "metadata": {
        "id": "14GqvwFRSXbf"
      },
      "source": [
        "8. **Practice Exercises**\n",
        "\n",
        "  1. Create a dictionary representing a car, with keys like make, model, year, and color. Then update the color of the car and print the updated dictionary.\n",
        "\n",
        "  2. Write a program to count the frequency of each character in a given string using a dictionary.\n",
        "\n",
        "  3. Given a dictionary of student names and their grades, write a function that prints the students with grades higher than 80.\n",
        "\n",
        "  4. Write a program that merges two dictionaries and prints the resulting dictionary."
      ]
    },
    {
      "cell_type": "code",
      "execution_count": 1,
      "metadata": {},
      "outputs": [
        {
          "name": "stdout",
          "output_type": "stream",
          "text": [
            "{'make': 'Toyota', 'model': 'Corolla', 'year': 2019, 'color': 'Blue'}\n"
          ]
        }
      ],
      "source": [
        "# 1. Create a dictionary representing a car, with keys like make, model, year, and color. Then update the color of the car and print the updated dictionary.\n",
        "\n",
        "car = {\n",
        "    \"make\": \"Toyota\",\n",
        "    \"model\": \"Corolla\",\n",
        "    \"year\": 2019,\n",
        "    \"color\": \"Red\"\n",
        "}\n",
        "\n",
        "car[\"color\"] = \"Blue\"\n",
        "print(car)  # Output: {'make': 'Toyota', 'model': 'Corolla', 'year': 2019, 'color': 'Blue'}\n"
      ]
    },
    {
      "cell_type": "code",
      "execution_count": 6,
      "metadata": {},
      "outputs": [
        {
          "name": "stdout",
          "output_type": "stream",
          "text": [
            "{'h': 1, 'e': 1, 'l': 3, 'o': 2, ' ': 1, 'w': 1, 'r': 1, 'd': 1}\n"
          ]
        }
      ],
      "source": [
        "# 2. Write a program to count the frequency of each character in a given string using a dictionary.\n",
        "string = \"hello world\"\n",
        "frequency = {}\n",
        "\n",
        "for char in string:\n",
        "    if char in frequency:\n",
        "        frequency[char] += 1\n",
        "    else:\n",
        "        frequency[char] = 1\n",
        "\n",
        "print(frequency)"
      ]
    },
    {
      "cell_type": "code",
      "execution_count": 3,
      "metadata": {},
      "outputs": [
        {
          "name": "stdout",
          "output_type": "stream",
          "text": [
            "Alice\n",
            "Charlie\n"
          ]
        }
      ],
      "source": [
        "#  3. Given a dictionary of student names and their grades, write a program that prints the students with grades higher than 80.\n",
        "students = {\n",
        "    \"Alice\": 85,\n",
        "    \"Bob\": 70,\n",
        "    \"Charlie\": 90,\n",
        "    \"David\": 65\n",
        "}\n",
        "\n",
        "for student, grade in students.items():\n",
        "    if grade > 80:\n",
        "        print(student)"
      ]
    },
    {
      "cell_type": "code",
      "execution_count": 5,
      "metadata": {},
      "outputs": [
        {
          "name": "stdout",
          "output_type": "stream",
          "text": [
            "{'a': 1, 'b': 2, 'c': 3, 'd': 4}\n"
          ]
        }
      ],
      "source": [
        "#  4. Write a program that merges two dictionaries and prints the resulting dictionary.\n",
        "dict1 = {\"a\": 1, \"b\": 2}\n",
        "dict2 = {\"c\": 3, \"d\": 4}\n",
        "\n",
        "# Merging dictionaries\n",
        "merged_dict = {**dict1, **dict2}\n",
        "print(merged_dict)  # Output: {'a': 1, 'b': 2, 'c': 3, 'd': 4}"
      ]
    }
  ],
  "metadata": {
    "colab": {
      "provenance": []
    },
    "kernelspec": {
      "display_name": "iacourse",
      "language": "python",
      "name": "python3"
    },
    "language_info": {
      "codemirror_mode": {
        "name": "ipython",
        "version": 3
      },
      "file_extension": ".py",
      "mimetype": "text/x-python",
      "name": "python",
      "nbconvert_exporter": "python",
      "pygments_lexer": "ipython3",
      "version": "3.12.3"
    }
  },
  "nbformat": 4,
  "nbformat_minor": 0
}
