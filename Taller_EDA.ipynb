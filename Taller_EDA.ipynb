{
  "nbformat": 4,
  "nbformat_minor": 0,
  "metadata": {
    "colab": {
      "provenance": []
    },
    "kernelspec": {
      "name": "python3",
      "display_name": "Python 3"
    },
    "language_info": {
      "name": "python"
    }
  },
  "cells": [
    {
      "cell_type": "code",
      "execution_count": null,
      "metadata": {
        "id": "vA2Zwm7IV58f"
      },
      "outputs": [],
      "source": [
        "# Cargar el dataset DatasetEDA disponible en https://github.com/davidriveraarbelaez/IA_Explorador/blob/main/DatasetEDA.csv"
      ]
    },
    {
      "cell_type": "code",
      "source": [],
      "metadata": {
        "id": "-vHr3zphWxLp"
      },
      "execution_count": null,
      "outputs": []
    },
    {
      "cell_type": "markdown",
      "source": [
        "La Exploración Inicial en EDA es necesario para verificar la calidad y validez de los datos antes de aplicar técnicas de análisis más avanzadas. Proporciona una visión sobre la idoneidad de los datos para análisis posteriores, orienta las decisiones sobre el manejo de valores atípicos o datos faltantes, y facilita la selección de variables relevantes. Además, esta fase contribuye a la identificación de patrones y tendencias preliminares, permitiendo a los analistas tomar decisiones informadas sobre cómo proceder en la siguiente etapa del análisis de datos."
      ],
      "metadata": {
        "id": "Dd7xoNMLWUx4"
      }
    },
    {
      "cell_type": "code",
      "source": [],
      "metadata": {
        "id": "79O7Mx_8Wbap"
      },
      "execution_count": null,
      "outputs": []
    },
    {
      "cell_type": "markdown",
      "source": [
        "**Limpieza de datos**\n",
        "\n",
        "·         Tratamiento de Duplicados\n",
        "\n",
        "·         Corrección de Errores de Entrada\n",
        "\n",
        "·         Normalización y Estandarización\n",
        "\n",
        "·         Validación de Formatos de Datos\n",
        "\n",
        "·         Gestión de Variables Redundantes\n",
        "\n",
        "·         Manejo de Inconsistencias"
      ],
      "metadata": {
        "id": "i79OEQcRWb4R"
      }
    },
    {
      "cell_type": "code",
      "source": [],
      "metadata": {
        "id": "5dWE8WlCWivw"
      },
      "execution_count": null,
      "outputs": []
    },
    {
      "cell_type": "markdown",
      "source": [
        "**Tratamiento de Datos Faltantes:**\n",
        "\n",
        "El manejo adecuado de datos faltantes es esencial para evitar sesgos en el análisis.\n",
        "\n",
        "La elección de la o las soluciones a los datos faltantes dependerá del contexto del proceso o problema en análisis. Es clave además tener un adecuado entendimiento del negocio, organización y proceso que se analizará. Si no se tiene ese conocimiento el tratamiento de Datos Faltantes debe revisarse y acordarse en conjunto con quienes tengan dicho conocimiento.\n",
        "\n",
        "A continuación, algunos ejemplos de técnicas que se pueden aplicar\n",
        "\n",
        "Eliminación de Filas o Columnas: Si la cantidad de datos faltantes es pequeña y no afecta significativamente el análisis, se pueden eliminar las filas o columnas correspondientes.\n",
        "\n",
        "Completitud Simple: Sustituir los valores faltantes por estadísticas descriptivas, como la media, mediana o moda."
      ],
      "metadata": {
        "id": "2oZ2_xWZWjGp"
      }
    },
    {
      "cell_type": "code",
      "source": [],
      "metadata": {
        "id": "-0ieGjAEWvbh"
      },
      "execution_count": null,
      "outputs": []
    },
    {
      "cell_type": "markdown",
      "source": [
        "**Identificación y Tratamiento de Outliers:**\n",
        "\n",
        "Los outliers, valores atípicos en un conjunto de datos, pueden distorsionar la interpretación de la información. En EDA, se identifican mediante técnicas visuales como boxplots o scatter plots, y métodos estadísticos como el rango intercuartílico (IQR). Estos valores se destacan por su desviación significativa de la tendencia general.\n",
        "\n",
        "Se pueden eliminar, transformar, reemplazar o tratarse como un grupo separado de datos. Lo relevante en el caso de los datos atípicos es evaluar si se originan en errores de registro o evidencian alguna situación que debe tratarse en forma separada. De hecho en procesos de auditoría o control interno los valores atípicos pueden representar un proceso que debe analizarse en forma particular."
      ],
      "metadata": {
        "id": "iZCD5gwaW6_F"
      }
    }
  ]
}