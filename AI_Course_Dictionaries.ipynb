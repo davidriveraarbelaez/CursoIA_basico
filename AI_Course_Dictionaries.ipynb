{
  "nbformat": 4,
  "nbformat_minor": 0,
  "metadata": {
    "colab": {
      "provenance": []
    },
    "kernelspec": {
      "name": "python3",
      "display_name": "Python 3"
    },
    "language_info": {
      "name": "python"
    }
  },
  "cells": [
    {
      "cell_type": "markdown",
      "source": [
        "1. **Introduction to Dictionaries**\n",
        "\n",
        "What is a Dictionary?\n",
        "A dictionary in Python is a collection of key-value pairs. Each key is mapped to a value, and the key must be unique. Dictionaries are unordered, mutable, and can hold elements of different data types.\n",
        "\n",
        "Characteristics of Dictionaries:\n",
        "*  Key-value pairs: Each entry consists of a key and a corresponding value.\n",
        "*  Mutable: You can change the dictionary after its creation.\n",
        "*  Unordered: Dictionaries don’t keep the order of elements (though from Python 3.7+, insertion order is preserved).\n",
        "*  Keys are unique: No duplicate keys are allowed.\n",
        "* Keys are immutable: Keys can be of types like strings, numbers, or tuples, but not lists or other dictionaries.\n",
        "\n",
        "**Example:**"
      ],
      "metadata": {
        "id": "xi2yAKM6P_d9"
      }
    },
    {
      "cell_type": "code",
      "source": [
        "# Creating a dictionary\n",
        "student = {\n",
        "    \"name\": \"John Doe\",\n",
        "    \"age\": 20,\n",
        "    \"major\": \"Computer Science\"\n",
        "}\n",
        "print(student)  # Output: {'name': 'John Doe', 'age': 20, 'major': 'Computer Science'}\n"
      ],
      "metadata": {
        "id": "kFR7r20dQLLg"
      },
      "execution_count": null,
      "outputs": []
    },
    {
      "cell_type": "markdown",
      "source": [
        "2. **Accessing Dictionary Elements**\n",
        "\n",
        "You can access the value associated with a key by using square brackets [] or the get() method.\n",
        "\n",
        "**Example:**"
      ],
      "metadata": {
        "id": "mHS9D787QP_A"
      }
    },
    {
      "cell_type": "code",
      "source": [
        "student = {\n",
        "    \"name\": \"John Doe\",\n",
        "    \"age\": 20,\n",
        "    \"major\": \"Computer Science\"\n",
        "}\n",
        "\n",
        "# Access value using the key\n",
        "print(student[\"name\"])  # Output: John Doe\n",
        "\n",
        "# Access value using get() method\n",
        "print(student.get(\"age\"))  # Output: 20\n"
      ],
      "metadata": {
        "id": "GypjkIEWQTyN"
      },
      "execution_count": null,
      "outputs": []
    },
    {
      "cell_type": "markdown",
      "source": [
        "If you try to access a non-existent key using square brackets, it will raise a KeyError. The get() method returns None if the key is not found."
      ],
      "metadata": {
        "id": "770tXUc0Qarw"
      }
    },
    {
      "cell_type": "code",
      "source": [
        "# Using a non-existent key\n",
        "# print(student[\"grade\"])  # KeyError\n",
        "\n",
        "# Using get() to avoid KeyError\n",
        "print(student.get(\"grade\"))  # Output: None\n"
      ],
      "metadata": {
        "id": "G3Rkc5hlQbeB"
      },
      "execution_count": null,
      "outputs": []
    },
    {
      "cell_type": "markdown",
      "source": [
        "3. **Modifying a Dictionary**\n",
        "\n",
        "Dictionaries are mutable, which means you can change, add, or remove elements.\n",
        "\n",
        "*  Adding or Updating Elements:"
      ],
      "metadata": {
        "id": "qQCmvFTjQm49"
      }
    },
    {
      "cell_type": "code",
      "source": [
        "student = {\n",
        "    \"name\": \"John Doe\",\n",
        "    \"age\": 20\n",
        "}\n",
        "\n",
        "# Add a new key-value pair\n",
        "student[\"major\"] = \"Computer Science\"\n",
        "print(student)  # Output: {'name': 'John Doe', 'age': 20, 'major': 'Computer Science'}\n",
        "\n",
        "# Update an existing value\n",
        "student[\"age\"] = 21\n",
        "print(student)  # Output: {'name': 'John Doe', 'age': 21, 'major': 'Computer Science'}\n"
      ],
      "metadata": {
        "id": "BUJofIgZQrhJ"
      },
      "execution_count": null,
      "outputs": []
    },
    {
      "cell_type": "markdown",
      "source": [
        "*  Removing Elements:\n",
        "You can remove items using del, pop(), or popitem()."
      ],
      "metadata": {
        "id": "nu5SC5clQujh"
      }
    },
    {
      "cell_type": "code",
      "source": [
        "# Using del to remove a key-value pair\n",
        "del student[\"age\"]\n",
        "print(student)  # Output: {'name': 'John Doe', 'major': 'Computer Science'}\n",
        "\n",
        "# Using pop() to remove an element and return its value\n",
        "major = student.pop(\"major\")\n",
        "print(major)  # Output: Computer Science\n",
        "print(student)  # Output: {'name': 'John Doe'}\n",
        "\n",
        "# Using popitem() to remove the last inserted key-value pair\n",
        "student[\"age\"] = 21\n",
        "last_item = student.popitem()\n",
        "print(last_item)  # Output: ('age', 21)\n",
        "print(student)  # Output: {'name': 'John Doe'}\n"
      ],
      "metadata": {
        "id": "Hie2GgmhQy2K"
      },
      "execution_count": null,
      "outputs": []
    },
    {
      "cell_type": "markdown",
      "source": [
        "4. **Iterating through a Dictionary**\n",
        "\n",
        "You can loop through dictionaries in different ways:\n",
        "\n",
        "*  Loop through keys\n",
        "*  Loop through values\n",
        "*  Loop through key-value pairs\n",
        "\n",
        "**Example:**"
      ],
      "metadata": {
        "id": "2cv6eRkkQ3GR"
      }
    },
    {
      "cell_type": "code",
      "source": [
        "student = {\n",
        "    \"name\": \"John Doe\",\n",
        "    \"age\": 20,\n",
        "    \"major\": \"Computer Science\"\n",
        "}\n",
        "\n",
        "# Loop through keys\n",
        "for key in student:\n",
        "    print(key)\n",
        "\n",
        "# Loop through values\n",
        "for value in student.values():\n",
        "    print(value)\n",
        "\n",
        "# Loop through key-value pairs\n",
        "for key, value in student.items():\n",
        "    print(f\"{key}: {value}\")\n"
      ],
      "metadata": {
        "id": "uFWZR4_kRFGK"
      },
      "execution_count": null,
      "outputs": []
    },
    {
      "cell_type": "markdown",
      "source": [
        "5. **Dictionary Methods**\n",
        "\n",
        "Here are some common methods used with dictionaries:\n",
        "\n",
        "*  **keys():** Returns all the keys in the dictionary."
      ],
      "metadata": {
        "id": "YAAqnDxQRJpy"
      }
    },
    {
      "cell_type": "code",
      "source": [
        "student = {\"name\": \"John\", \"age\": 21, \"major\": \"Math\"}\n",
        "print(student.keys())  # Output: dict_keys(['name', 'age', 'major'])\n"
      ],
      "metadata": {
        "id": "LPQkncTyRPKT"
      },
      "execution_count": null,
      "outputs": []
    },
    {
      "cell_type": "markdown",
      "source": [
        "*  **values():** Returns all the values in the dictionary."
      ],
      "metadata": {
        "id": "0Gqnn-TCRP9u"
      }
    },
    {
      "cell_type": "code",
      "source": [
        "print(student.values())  # Output: dict_values(['John', 21, 'Math'])\n"
      ],
      "metadata": {
        "id": "X_rqiJ68RUBe"
      },
      "execution_count": null,
      "outputs": []
    },
    {
      "cell_type": "markdown",
      "source": [
        "*  **items():** Returns all the key-value pairs as tuples.\n"
      ],
      "metadata": {
        "id": "Tef0RFXVRZO0"
      }
    },
    {
      "cell_type": "code",
      "source": [
        "print(student.items())  # Output: dict_items([('name', 'John'), ('age', 21), ('major', 'Math')])"
      ],
      "metadata": {
        "id": "YcFIe8KnRdr-"
      },
      "execution_count": null,
      "outputs": []
    },
    {
      "cell_type": "markdown",
      "source": [
        "*  **update():** Adds or updates multiple key-value pairs.\n"
      ],
      "metadata": {
        "id": "F8qVFibBRr8G"
      }
    },
    {
      "cell_type": "code",
      "source": [
        "student.update({\"grade\": \"A\", \"graduation_year\": 2024})\n",
        "print(student)  # Output: {'name': 'John', 'age': 21, 'major': 'Math', 'grade': 'A', 'graduation_year': 2024}\n"
      ],
      "metadata": {
        "id": "U6m66FzHRuiq"
      },
      "execution_count": null,
      "outputs": []
    },
    {
      "cell_type": "markdown",
      "source": [
        "*  **clear():** Removes all elements from the dictionary.\n"
      ],
      "metadata": {
        "id": "wHen5ddFRwvG"
      }
    },
    {
      "cell_type": "code",
      "source": [
        "student.clear()\n",
        "print(student)  # Output: {}\n"
      ],
      "metadata": {
        "id": "nJjDgVIXR19I"
      },
      "execution_count": null,
      "outputs": []
    },
    {
      "cell_type": "markdown",
      "source": [
        "6. **Dictionary Comprehensions**\n",
        "\n",
        "You can create a dictionary using a concise and readable syntax known as dictionary comprehensions.\n",
        "\n",
        "**Example:**"
      ],
      "metadata": {
        "id": "WEZiPqHZR9AH"
      }
    },
    {
      "cell_type": "code",
      "source": [
        "# Example: Creating a dictionary of squares\n",
        "squares = {x: x**2 for x in range(1, 6)}\n",
        "print(squares)  # Output: {1: 1, 2: 4, 3: 9, 4: 16, 5: 25}\n"
      ],
      "metadata": {
        "id": "ZF48grA0SC3u"
      },
      "execution_count": null,
      "outputs": []
    },
    {
      "cell_type": "markdown",
      "source": [
        "**Example with a condition:**"
      ],
      "metadata": {
        "id": "_5xgSnlbSFvW"
      }
    },
    {
      "cell_type": "code",
      "source": [
        "# Creating a dictionary of squares for only even numbers\n",
        "even_squares = {x: x**2 for x in range(1, 6) if x % 2 == 0}\n",
        "print(even_squares)  # Output: {2: 4, 4: 16}\n"
      ],
      "metadata": {
        "id": "T4U-5OoUSImH"
      },
      "execution_count": null,
      "outputs": []
    },
    {
      "cell_type": "markdown",
      "source": [
        "7. **When to Use Dictionaries?**\n",
        "\n",
        "Dictionaries are great for use cases where:\n",
        "\n",
        "*  You need to associate values with unique keys (like a contact list with names as keys and phone numbers as values).\n",
        "*  You need fast lookups by key. Dictionary lookups are highly efficient (average time complexity: O(1)).\n",
        "*  Data needs to be stored in pairs where each key maps to one value (e.g., storing attributes of an object)."
      ],
      "metadata": {
        "id": "7zvvoE_8SMPy"
      }
    },
    {
      "cell_type": "markdown",
      "source": [
        "8. **Practice Exercises**\n",
        "\n",
        "  1. Create a dictionary representing a car, with keys like make, model, year, and color. Then update the color of the car and print the updated dictionary.\n",
        "\n",
        "  2. Write a program to count the frequency of each character in a given string using a dictionary.\n",
        "\n",
        "  3. Given a dictionary of student names and their grades, write a function that prints the students with grades higher than 80.\n",
        "\n",
        "  4. Write a program that merges two dictionaries and prints the resulting dictionary."
      ],
      "metadata": {
        "id": "14GqvwFRSXbf"
      }
    }
  ]
}