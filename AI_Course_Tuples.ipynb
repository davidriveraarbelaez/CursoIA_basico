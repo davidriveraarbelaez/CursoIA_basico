{
  "cells": [
    {
      "cell_type": "markdown",
      "metadata": {
        "id": "_vYqP_Ge57c2"
      },
      "source": [
        "1.   **Introduction to Tuples**\n",
        "\n",
        "**What is a Tuple?**\n",
        "A tuple is an immutable, ordered collection of items in Python. Once a tuple is created, its elements cannot be changed, added, or removed. Tuples are defined by parentheses () and can contain elements of any data type, similar to lists.\n",
        "\n",
        "Characteristics of Tuples:\n",
        "*   **Immutable:** You cannot change the elements after the tuple is created.\n",
        "*   **Ordered:** Elements in a tuple maintain their order.\n",
        "*   **Heterogeneous:** Tuples can store different data types.\n",
        "*   **Can contain duplicates:*** Elements can appear more than once."
      ]
    },
    {
      "cell_type": "code",
      "execution_count": null,
      "metadata": {
        "id": "BjEq4bZt6XZ0"
      },
      "outputs": [],
      "source": [
        "# Creating a tuple\n",
        "my_tuple = (1, \"Hello\", True, 3.14)\n",
        "print(my_tuple)  # Output: (1, 'Hello', True, 3.14)\n"
      ]
    },
    {
      "cell_type": "markdown",
      "metadata": {
        "id": "x46iQwbV6ZDM"
      },
      "source": [
        "2.   **Accessing Tuple Elements**\n",
        "\n",
        "You can access the elements in a tuple using indexes, similar to lists. Indexing starts at 0."
      ]
    },
    {
      "cell_type": "code",
      "execution_count": null,
      "metadata": {
        "id": "0pajKu4z6frF"
      },
      "outputs": [],
      "source": [
        "# Accessing elements by index\n",
        "my_tuple = (10, 20, 30, 40, 50)\n",
        "\n",
        "# First element\n",
        "print(my_tuple[0])  # Output: 10\n",
        "\n",
        "# Last element\n",
        "print(my_tuple[-1])  # Output: 50\n",
        "\n",
        "# Slicing a tuple (subtuple)\n",
        "print(my_tuple[1:4])  # Output: (20, 30, 40)"
      ]
    },
    {
      "cell_type": "markdown",
      "metadata": {
        "id": "g7veuoDT6njx"
      },
      "source": [
        "3.   **Tuple Immutability**\n",
        "\n",
        "Tuples are immutable, which means once a tuple is created, its content cannot be changed. You cannot modify, append, or remove elements from a tuple."
      ]
    },
    {
      "cell_type": "code",
      "execution_count": 3,
      "metadata": {
        "id": "EzS_k8L56xol"
      },
      "outputs": [],
      "source": [
        "# Follow the steps, first, run the following line to test it\n",
        "my_tuple = (10, 20, 30)\n",
        "\n",
        "\"\"\"\n",
        "Attempting to modify an element\n",
        "Please uncomment the following line to test it, and then comment it out again.\n",
        "\"\"\"\n",
        "# my_tuple[0] = 100  # This will raise a TypeError\n",
        "\n",
        "# Tuples cannot be changed"
      ]
    },
    {
      "cell_type": "markdown",
      "metadata": {
        "id": "fHzCSXNoCy7K"
      },
      "source": [
        "However, if a tuple contains mutable objects (like lists), the objects within the tuple can be modified."
      ]
    },
    {
      "cell_type": "code",
      "execution_count": null,
      "metadata": {
        "id": "rPJXwr51C7e_"
      },
      "outputs": [],
      "source": [
        "# Tuple with a list\n",
        "my_tuple = (1, 2, [3, 4])\n",
        "\n",
        "# Modify the list inside the tuple\n",
        "my_tuple[2].append(5)\n",
        "print(my_tuple)  # Output: (1, 2, [3, 4, 5])"
      ]
    },
    {
      "cell_type": "markdown",
      "metadata": {
        "id": "Sj0Un4DHDA5o"
      },
      "source": [
        "4.  **Tuple Operations**\n",
        "\n",
        "Although tuples are immutable, you can still perform some useful operations like concatenation, repetition, and checking membership."
      ]
    },
    {
      "cell_type": "markdown",
      "metadata": {
        "id": "8QTmm8vuDI7E"
      },
      "source": [
        "-   Concatenation:\n",
        "You can concatenate two or more tuples using the + operator."
      ]
    },
    {
      "cell_type": "code",
      "execution_count": null,
      "metadata": {
        "id": "62_8ZBDODD0p"
      },
      "outputs": [],
      "source": [
        "tuple1 = (1, 2, 3)\n",
        "tuple2 = (4, 5, 6)\n",
        "result = tuple1 + tuple2\n",
        "print(result)  # Output: (1, 2, 3, 4, 5, 6)"
      ]
    },
    {
      "cell_type": "markdown",
      "metadata": {
        "id": "05PaKcPuDORA"
      },
      "source": [
        "-   Repetition:\n",
        "You can repeat a tuple multiple times using the * operator."
      ]
    },
    {
      "cell_type": "code",
      "execution_count": null,
      "metadata": {
        "id": "vLlyq-34DUIu"
      },
      "outputs": [],
      "source": [
        "my_tuple = (1, 2, 3)\n",
        "result = my_tuple * 2\n",
        "print(result)  # Output: (1, 2, 3, 1, 2, 3)"
      ]
    },
    {
      "cell_type": "markdown",
      "metadata": {
        "id": "oWkndY79DXDd"
      },
      "source": [
        "*  Membership Test:\n",
        "You can check if an element exists in a tuple using the in keyword."
      ]
    },
    {
      "cell_type": "code",
      "execution_count": null,
      "metadata": {
        "id": "71brlH18DbWs"
      },
      "outputs": [],
      "source": [
        "my_tuple = (10, 20, 30)\n",
        "print(20 in my_tuple)  # Output: True\n",
        "print(100 in my_tuple)  # Output: False"
      ]
    },
    {
      "cell_type": "markdown",
      "metadata": {
        "id": "KHO3KfjtDhxA"
      },
      "source": [
        "5.   **Tuple Packing and Unpacking**\n",
        "*   **Tuple Packing:** When multiple values are assigned to a single variable, it automatically creates a tuple. This is known as tuple packing."
      ]
    },
    {
      "cell_type": "code",
      "execution_count": null,
      "metadata": {
        "id": "036kyN32Du1c"
      },
      "outputs": [],
      "source": [
        "# Tuple packing\n",
        "my_tuple = 1, \"Hello\", 3.14\n",
        "print(my_tuple)  # Output: (1, 'Hello', 3.14)"
      ]
    },
    {
      "cell_type": "markdown",
      "metadata": {
        "id": "j6lk6BkaDqeZ"
      },
      "source": [
        "*   **Tuple Unpacking:** You can extract the elements of a tuple into individual variables, known as tuple unpacking."
      ]
    },
    {
      "cell_type": "code",
      "execution_count": null,
      "metadata": {
        "id": "_PW8yTaED4Du"
      },
      "outputs": [],
      "source": [
        "# Tuple unpacking\n",
        "a, b, c = my_tuple\n",
        "print(a)  # Output: 1\n",
        "print(b)  # Output: Hello\n",
        "print(c)  # Output: 3.14"
      ]
    },
    {
      "cell_type": "markdown",
      "metadata": {
        "id": "_g89OGijD8y4"
      },
      "source": [
        "Note: The number of variables on the left side must match the number of elements in the tuple."
      ]
    },
    {
      "cell_type": "markdown",
      "metadata": {
        "id": "tKHfKSuDEcx2"
      },
      "source": [
        "6.   **Built-in Functions for Tuples**\n",
        "\n",
        "Python provides several built-in functions to work with tuples.\n",
        "\n",
        "-  **len():** Returns the length of a tuple."
      ]
    },
    {
      "cell_type": "code",
      "execution_count": null,
      "metadata": {
        "id": "YJ1l9XsMEliN"
      },
      "outputs": [],
      "source": [
        "my_tuple = (10, 20, 30)\n",
        "print(len(my_tuple))  # Output: 3"
      ]
    },
    {
      "cell_type": "markdown",
      "metadata": {
        "id": "8HryBd_tEqKk"
      },
      "source": [
        "*   **min()** and **max()**: Returns the minimum and maximum value in a tuple of numbers."
      ]
    },
    {
      "cell_type": "code",
      "execution_count": null,
      "metadata": {
        "id": "mbtFduESEvt5"
      },
      "outputs": [],
      "source": [
        "numbers = (10, 20, 30, 40, 50)\n",
        "print(min(numbers))  # Output: 10\n",
        "print(max(numbers))  # Output: 50"
      ]
    },
    {
      "cell_type": "markdown",
      "metadata": {
        "id": "_0V9E-V5E2dq"
      },
      "source": [
        "*  **sum():** Returns the sum of all elements in a tuple of numbers.\n"
      ]
    },
    {
      "cell_type": "code",
      "execution_count": null,
      "metadata": {
        "id": "3A2T0K9AE5Sq"
      },
      "outputs": [],
      "source": [
        "numbers = (10, 20, 30)\n",
        "print(sum(numbers))  # Output: 60"
      ]
    },
    {
      "cell_type": "markdown",
      "metadata": {
        "id": "AeGn9ngNE93B"
      },
      "source": [
        "*  **index():** Returns the index of the first occurrence of a specified value."
      ]
    },
    {
      "cell_type": "code",
      "execution_count": null,
      "metadata": {
        "id": "_cjIIFw-FBj6"
      },
      "outputs": [],
      "source": [
        "my_tuple = (10, 20, 30, 40)\n",
        "print(my_tuple.index(30))  # Output: 2"
      ]
    },
    {
      "cell_type": "markdown",
      "metadata": {
        "id": "yNihHx0DFGCS"
      },
      "source": [
        "*   **count():** Returns the number of times a value appears in the tuple."
      ]
    },
    {
      "cell_type": "code",
      "execution_count": null,
      "metadata": {
        "id": "Q0ecshWGFIPH"
      },
      "outputs": [],
      "source": [
        "my_tuple = (10, 20, 10, 30)\n",
        "print(my_tuple.count(10))  # Output: 2"
      ]
    },
    {
      "cell_type": "markdown",
      "metadata": {
        "id": "VSLGIMPvFWt-"
      },
      "source": [
        "7. **Tuples vs Lists**\n",
        "\n",
        "Though tuples and lists are both sequences in Python, they have some differences:"
      ]
    },
    {
      "cell_type": "markdown",
      "metadata": {
        "id": "JvMDeJd9JNEv"
      },
      "source": [
        "\\begin{array}{|c|c|c|}\n",
        "\\hline\n",
        "\\textbf{Feature}   & \\textbf{Tuple}                          & \\textbf{List}                           \\\\ \\hline\n",
        "\\textbf{Mutable}   & \\text{No}                               & \\text{Yes}                              \\\\ \\hline\n",
        "\\textbf{Syntax}    & Parentheses ()          & Square brackets [ ]      \\\\ \\hline\n",
        "\\textbf{Performance} & \\text{Faster (due to immutability)}    & \\text{Slower (due to mutability)}       \\\\ \\hline\n",
        "\\textbf{Use cases} & \\text{Fixed collections, e.g., coordinates, constants} & \\text{Dynamic collections, e.g., shopping lists, to-do lists} \\\\ \\hline\n",
        "\\end{array}\n"
      ]
    },
    {
      "cell_type": "markdown",
      "metadata": {
        "id": "nqcCjmmpIB9C"
      },
      "source": [
        "8. **When to Use Tuples?**\n",
        "\n",
        "You should use tuples when:\n",
        "\n",
        "*  You need a collection of items that should not change over time.\n",
        "*  The data represents a fixed structure like coordinates, color values, or database records.\n",
        "*  You want to ensure data integrity by preventing accidental modification."
      ]
    },
    {
      "cell_type": "markdown",
      "metadata": {
        "id": "44GvJ7r9IL1U"
      },
      "source": [
        "9. **Practice Exercises**\n",
        "\n",
        "  1.  Create a tuple containing your first name, last name, and age. Use tuple unpacking to assign these values to separate variables and print them.\n",
        "\n",
        "  2.  Given a tuple numbers = (1, 2, 3, 4, 5), create a new tuple where each element is squared.\n",
        "\n",
        "  3.  Write a function that takes a tuple of integers and returns a tuple with only the even numbers.\n",
        "\n",
        "  4.  **Create two tuples:** one containing integers and another containing strings. Concatenate them and print the result."
      ]
    },
    {
      "cell_type": "code",
      "execution_count": 3,
      "metadata": {},
      "outputs": [
        {
          "name": "stdout",
          "output_type": "stream",
          "text": [
            "(1, 4, 9, 16, 25)\n"
          ]
        }
      ],
      "source": [
        "#   2.  Given a tuple numbers = (1, 2, 3, 4, 5), create a new tuple where each element is squared.\n",
        "\n",
        "numbers = (1, 2, 3, 4, 5)\n",
        "squared_numbers = tuple(x ** 2 for x in numbers)\n",
        "print(squared_numbers)  # Output: (1, 4, 9, 16, 25)\n"
      ]
    },
    {
      "cell_type": "code",
      "execution_count": 2,
      "metadata": {},
      "outputs": [
        {
          "name": "stdout",
          "output_type": "stream",
          "text": [
            "(2, 4, 6, 8, 10)\n"
          ]
        }
      ],
      "source": [
        "# 3.  Write a function that takes a tuple of integers and returns a tuple with only the even numbers.\n",
        "numbers = (1, 2, 3, 4, 5, 6, 7, 8, 9, 10)\n",
        "even_numbers = tuple(x for x in numbers if x % 2 == 0)\n",
        "print(even_numbers)  # Output: (2, 4, 6, 8, 10)\n",
        "\n",
        "\n"
      ]
    },
    {
      "cell_type": "code",
      "execution_count": 1,
      "metadata": {},
      "outputs": [
        {
          "name": "stdout",
          "output_type": "stream",
          "text": [
            "(1, 2, 3, 'hello', 'world')\n"
          ]
        }
      ],
      "source": [
        "# 4.  **Create two tuples:** one containing integers and another containing strings. Concatenate them and print the result.\n",
        "\n",
        "integers = (1, 2, 3)\n",
        "strings = (\"hello\", \"world\")\n",
        "concatenated = integers + strings\n",
        "print(concatenated)  # Output: (1, 2, 3, 'hello', 'world')\n"
      ]
    }
  ],
  "metadata": {
    "colab": {
      "provenance": []
    },
    "kernelspec": {
      "display_name": "iacourse",
      "language": "python",
      "name": "python3"
    },
    "language_info": {
      "codemirror_mode": {
        "name": "ipython",
        "version": 3
      },
      "file_extension": ".py",
      "mimetype": "text/x-python",
      "name": "python",
      "nbconvert_exporter": "python",
      "pygments_lexer": "ipython3",
      "version": "3.12.3"
    }
  },
  "nbformat": 4,
  "nbformat_minor": 0
}
