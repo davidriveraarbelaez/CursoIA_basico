{
 "cells": [
  {
   "cell_type": "code",
   "execution_count": null,
   "metadata": {},
   "outputs": [],
   "source": []
  },
  {
   "cell_type": "code",
   "execution_count": 25,
   "metadata": {},
   "outputs": [
    {
     "name": "stdout",
     "output_type": "stream",
     "text": [
      "           ID             Name  Age  \\\n",
      "0      209658      L. Goretzka   27   \n",
      "1      212198  Bruno Fernandes   27   \n",
      "2      224334         M. Acuña   30   \n",
      "3      192985     K. De Bruyne   31   \n",
      "4      224232       N. Barella   25   \n",
      "...       ...              ...  ...   \n",
      "17655  269526    Deng Xiongtao   19   \n",
      "17656  267946   22 Lim Jun Sub   17   \n",
      "17657  270567         A. Demir   25   \n",
      "17658  256624     21 S. Czajor   18   \n",
      "17659  256376  21 F. Jakobsson   20   \n",
      "\n",
      "                                                  Photo     Nationality  \\\n",
      "0      https://cdn.sofifa.net/players/209/658/23_60.png         Germany   \n",
      "1      https://cdn.sofifa.net/players/212/198/23_60.png        Portugal   \n",
      "2      https://cdn.sofifa.net/players/224/334/23_60.png       Argentina   \n",
      "3      https://cdn.sofifa.net/players/192/985/23_60.png         Belgium   \n",
      "4      https://cdn.sofifa.net/players/224/232/23_60.png           Italy   \n",
      "...                                                 ...             ...   \n",
      "17655  https://cdn.sofifa.net/players/269/526/23_60.png        China PR   \n",
      "17656  https://cdn.sofifa.net/players/267/946/22_60.png  Korea Republic   \n",
      "17657  https://cdn.sofifa.net/players/270/567/23_60.png          Turkey   \n",
      "17658  https://cdn.sofifa.net/players/256/624/21_60.png          Poland   \n",
      "17659  https://cdn.sofifa.net/players/256/376/21_60.png          Sweden   \n",
      "\n",
      "                                      Flag  Overall  Potential  \\\n",
      "0      https://cdn.sofifa.net/flags/de.png       87         88   \n",
      "1      https://cdn.sofifa.net/flags/pt.png       86         87   \n",
      "2      https://cdn.sofifa.net/flags/ar.png       85         85   \n",
      "3      https://cdn.sofifa.net/flags/be.png       91         91   \n",
      "4      https://cdn.sofifa.net/flags/it.png       86         89   \n",
      "...                                    ...      ...        ...   \n",
      "17655  https://cdn.sofifa.net/flags/cn.png       48         61   \n",
      "17656  https://cdn.sofifa.net/flags/kr.png       48         64   \n",
      "17657  https://cdn.sofifa.net/flags/tr.png       51         56   \n",
      "17658  https://cdn.sofifa.net/flags/pl.png       50         65   \n",
      "17659  https://cdn.sofifa.net/flags/se.png       50         61   \n",
      "\n",
      "                    Club                                   Club Logo  ...  \\\n",
      "0      FC Bayern München      https://cdn.sofifa.net/teams/21/30.png  ...   \n",
      "1      Manchester United      https://cdn.sofifa.net/teams/11/30.png  ...   \n",
      "2             Sevilla FC     https://cdn.sofifa.net/teams/481/30.png  ...   \n",
      "3        Manchester City      https://cdn.sofifa.net/teams/10/30.png  ...   \n",
      "4                  Inter      https://cdn.sofifa.net/teams/44/30.png  ...   \n",
      "...                  ...                                         ...  ...   \n",
      "17655      Meizhou Hakka  https://cdn.sofifa.net/teams/114628/30.png  ...   \n",
      "17656     Jeju United FC    https://cdn.sofifa.net/teams/1478/30.png  ...   \n",
      "17657       Ümraniyespor  https://cdn.sofifa.net/teams/113796/30.png  ...   \n",
      "17658     Fleetwood Town  https://cdn.sofifa.net/teams/112260/30.png  ...   \n",
      "17659     IFK Norrköping     https://cdn.sofifa.net/teams/702/30.png  ...   \n",
      "\n",
      "      Real Face                     Position        Joined Loaned From  \\\n",
      "0           Yes  <span class=\"pos pos28\">SUB   Jul 1, 2018         NaN   \n",
      "1           Yes  <span class=\"pos pos15\">LCM  Jan 30, 2020         NaN   \n",
      "2            No    <span class=\"pos pos7\">LB  Sep 14, 2020         NaN   \n",
      "3           Yes  <span class=\"pos pos13\">RCM  Aug 30, 2015         NaN   \n",
      "4           Yes  <span class=\"pos pos13\">RCM   Sep 1, 2020         NaN   \n",
      "...         ...                          ...           ...         ...   \n",
      "17655        No  <span class=\"pos pos29\">RES  Apr 11, 2022         NaN   \n",
      "17656        No  <span class=\"pos pos29\">RES   Jan 1, 2022         NaN   \n",
      "17657        No  <span class=\"pos pos29\">RES   Jun 6, 2021         NaN   \n",
      "17658        No  <span class=\"pos pos29\">RES   Jan 1, 2020         NaN   \n",
      "17659        No  <span class=\"pos pos29\">RES   Jan 8, 2020         NaN   \n",
      "\n",
      "       Contract Valid Until  Height  Weight Release Clause Kit Number  \\\n",
      "0                      2026   189cm    82kg          €157M        8.0   \n",
      "1                      2026   179cm    69kg          €155M        8.0   \n",
      "2                      2024   172cm    69kg         €97.7M       19.0   \n",
      "3                      2025   181cm    70kg        €198.9M       17.0   \n",
      "4                      2026   172cm    68kg        €154.4M       23.0   \n",
      "...                     ...     ...     ...            ...        ...   \n",
      "17655                  2027   190cm    78kg          €218K       35.0   \n",
      "17656                  2026   195cm    84kg          €188K       21.0   \n",
      "17657                  2023   190cm    82kg          €142K       12.0   \n",
      "17658                  2021   187cm    79kg          €214K       40.0   \n",
      "17659                  2021   186cm    78kg          €131K       30.0   \n",
      "\n",
      "      Best Overall Rating  \n",
      "0                     NaN  \n",
      "1                     NaN  \n",
      "2                     NaN  \n",
      "3                     NaN  \n",
      "4                     NaN  \n",
      "...                   ...  \n",
      "17655                 NaN  \n",
      "17656                 NaN  \n",
      "17657                 NaN  \n",
      "17658                 NaN  \n",
      "17659                 NaN  \n",
      "\n",
      "[17660 rows x 29 columns]\n"
     ]
    }
   ],
   "source": [
    "# Abrir FIFA23 csv\n",
    "import pandas as pd\n",
    "archivo = 'FIFA23_official_data.csv'\n",
    "\n",
    "with open(archivo, mode=\"r\", encoding=\"utf-8\") as archivo:\n",
    "    data = pd.read_csv(archivo)\n",
    "    print(data)"
   ]
  },
  {
   "cell_type": "code",
   "execution_count": 39,
   "metadata": {},
   "outputs": [
    {
     "name": "stdout",
     "output_type": "stream",
     "text": [
      "                  Name  Overall  Potential                     Position\n",
      "0          L. Goretzka       87         88  <span class=\"pos pos28\">SUB\n",
      "1      Bruno Fernandes       86         87  <span class=\"pos pos15\">LCM\n",
      "2             M. Acuña       85         85    <span class=\"pos pos7\">LB\n",
      "3         K. De Bruyne       91         91  <span class=\"pos pos13\">RCM\n",
      "4           N. Barella       86         89  <span class=\"pos pos13\">RCM\n",
      "...                ...      ...        ...                          ...\n",
      "17655    Deng Xiongtao       48         61  <span class=\"pos pos29\">RES\n",
      "17656   22 Lim Jun Sub       48         64  <span class=\"pos pos29\">RES\n",
      "17657         A. Demir       51         56  <span class=\"pos pos29\">RES\n",
      "17658     21 S. Czajor       50         65  <span class=\"pos pos29\">RES\n",
      "17659  21 F. Jakobsson       50         61  <span class=\"pos pos29\">RES\n",
      "\n",
      "[17660 rows x 4 columns]\n"
     ]
    }
   ],
   "source": [
    "# Crear un DataFrame con los datos de posición, nombre, overall de los jugadores\n",
    "df = pd.DataFrame(data, columns=['Name', 'Overall','Potential','Position'])\n",
    "print(df)\n",
    "\n"
   ]
  },
  {
   "cell_type": "code",
   "execution_count": 41,
   "metadata": {},
   "outputs": [
    {
     "name": "stdout",
     "output_type": "stream",
     "text": [
      "                  Name  Overall  Potential                     Position  Age\n",
      "70       J. Bellingham       84         91  <span class=\"pos pos11\">LDM   19\n",
      "172       E. Camavinga       79         89  <span class=\"pos pos28\">SUB   19\n",
      "214              Pedri       85         93  <span class=\"pos pos15\">LCM   19\n",
      "245     R. Gravenberch       79         89  <span class=\"pos pos28\">SUB   20\n",
      "247            B. Saka       82         89   <span class=\"pos pos12\">RM   20\n",
      "...                ...      ...        ...                          ...  ...\n",
      "17654     22 L. Grimpe       54         68  <span class=\"pos pos29\">RES   17\n",
      "17655    Deng Xiongtao       48         61  <span class=\"pos pos29\">RES   19\n",
      "17656   22 Lim Jun Sub       48         64  <span class=\"pos pos29\">RES   17\n",
      "17658     21 S. Czajor       50         65  <span class=\"pos pos29\">RES   18\n",
      "17659  21 F. Jakobsson       50         61  <span class=\"pos pos29\">RES   20\n",
      "\n",
      "[6180 rows x 5 columns]\n"
     ]
    }
   ],
   "source": [
    "# Crear un DataFrame con los datos de nombre, overall y potential de los jugadores que esten en el rango de 16 a 20 años\n",
    "df2 = pd.DataFrame(data, columns=['Name', 'Overall', 'Potential', 'Position','Age'])\n",
    "df2 = df2[(df2['Age'] >= 16) & (df2['Age'] <= 20)]\n",
    "print(df2)\n"
   ]
  },
  {
   "cell_type": "code",
   "execution_count": 44,
   "metadata": {},
   "outputs": [
    {
     "name": "stdout",
     "output_type": "stream",
     "text": [
      "Empty DataFrame\n",
      "Columns: [Name, Overall, Potential, Position, Age]\n",
      "Index: []\n"
     ]
    }
   ],
   "source": [
    "# Muéstrame los arqueros menores de 20 años con mayor potencial\n",
    "\n",
    "df3 = pd.DataFrame(data, columns=['Name', 'Overall', 'Potential', 'Position','Age'])\n",
    "df3 = df3[(df3['Age'] < 20) & (df3['Position'] == 'GK')]\n",
    "df3 = df3.sort_values(by=['Potential'], ascending=False)\n",
    "print(df3)\n"
   ]
  },
  {
   "cell_type": "code",
   "execution_count": 46,
   "metadata": {},
   "outputs": [
    {
     "name": "stdout",
     "output_type": "stream",
     "text": [
      "                 Name  Overall  Potential                     Position  Age\n",
      "1144         M. Bulat       69         83  <span class=\"pos pos29\">RES   20\n",
      "1730   Í. Jóhannesson       67         82   <span class=\"pos pos12\">RM   19\n",
      "1754         D. Samek       69         80  <span class=\"pos pos28\">SUB   18\n",
      "1993    M. Kjaergaard       67         83  <span class=\"pos pos28\">SUB   19\n",
      "2076       M. Manhoef       69         80  <span class=\"pos pos28\">SUB   20\n",
      "...               ...      ...        ...                          ...  ...\n",
      "16750       G. Restes       58         81  <span class=\"pos pos29\">RES   17\n",
      "16839         L. Moro       62         80  <span class=\"pos pos28\">SUB   17\n",
      "16943    Álex Padilla       62         80  <span class=\"pos pos29\">RES   18\n",
      "17223      22 L. Brey       61         80  <span class=\"pos pos29\">RES   18\n",
      "17465     K. Peersman       60         81  <span class=\"pos pos29\">RES   18\n",
      "\n",
      "[342 rows x 5 columns]\n"
     ]
    }
   ],
   "source": [
    "# Del df2 extraeme los jugadores que tengan menos de 70 de overall y más de 78 de potential\n",
    "\n",
    "df3 = df2[(df2['Overall'] < 70) & (df2['Potential'] > 79)]\n",
    "print(df3)\n"
   ]
  }
 ],
 "metadata": {
  "kernelspec": {
   "display_name": "cursoia",
   "language": "python",
   "name": "python3"
  },
  "language_info": {
   "codemirror_mode": {
    "name": "ipython",
    "version": 3
   },
   "file_extension": ".py",
   "mimetype": "text/x-python",
   "name": "python",
   "nbconvert_exporter": "python",
   "pygments_lexer": "ipython3",
   "version": "3.12.4"
  }
 },
 "nbformat": 4,
 "nbformat_minor": 2
}
