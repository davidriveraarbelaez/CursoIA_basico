{
  "nbformat": 4,
  "nbformat_minor": 0,
  "metadata": {
    "colab": {
      "provenance": [],
      "authorship_tag": "ABX9TyOA7Xm28JEEozG7qO8DaEWP",
      "include_colab_link": true
    },
    "kernelspec": {
      "name": "python3",
      "display_name": "Python 3"
    },
    "language_info": {
      "name": "python"
    }
  },
  "cells": [
    {
      "cell_type": "markdown",
      "metadata": {
        "id": "view-in-github",
        "colab_type": "text"
      },
      "source": [
        "<a href=\"https://colab.research.google.com/github/davidriveraarbelaez/IA_Explorador/blob/main/Tema_1_Regresi%C3%B3n_log%C3%ADstica.ipynb\" target=\"_parent\"><img src=\"https://colab.research.google.com/assets/colab-badge.svg\" alt=\"Open In Colab\"/></a>"
      ]
    },
    {
      "cell_type": "code",
      "execution_count": null,
      "metadata": {
        "id": "oDTKIff0XLOh"
      },
      "outputs": [],
      "source": [
        "import numpy as np\n",
        "import pandas as pd\n",
        "import statsmodels.api as sm\n",
        "import matplotlib.pyplot as plt\n",
        "from sklearn.metrics import confusion_matrix, accuracy_score, classification_report, roc_curve, roc_auc_score\n",
        "import seaborn as sns"
      ]
    },
    {
      "cell_type": "markdown",
      "source": [
        "**Paso 1: Preparar el Dataset**\n",
        "\n",
        "Convertimos rating en una variable binaria:\n",
        "\n",
        "    0: Calificaciones de 1 a 3 (consideradas \"bajas\").\n",
        "    1: Calificaciones de 4 a 5 (consideradas \"altas\").\n"
      ],
      "metadata": {
        "id": "buujcy2bYMWA"
      }
    },
    {
      "cell_type": "code",
      "source": [
        "# Cargar el dataset\n",
        "data_logistic = pd.read_csv('/content/product_ratings_with_features.csv')\n",
        "\n",
        "# Crear la variable binaria 'rating_high' para clasificación\n",
        "data_logistic['rating_high'] = data_logistic['rating'].apply(lambda x: 1 if x >= 4 else 0)\n",
        "\n",
        "# Definir variables predictoras y la variable dependiente\n",
        "X = data_logistic[['views', 'is_featured', 'is_discounted']]\n",
        "y = data_logistic['rating_high']\n",
        "\n",
        "# Agregar una constante al modelo\n",
        "X = sm.add_constant(X)\n"
      ],
      "metadata": {
        "id": "bK9rsgC2YHWP"
      },
      "execution_count": null,
      "outputs": []
    },
    {
      "cell_type": "markdown",
      "source": [
        "**Paso 2: Ajustar el Modelo de Regresión Logística**\n",
        "\n",
        "Ajustamos el modelo utilizando statsmodels."
      ],
      "metadata": {
        "id": "YDC8bOaRYuH5"
      }
    },
    {
      "cell_type": "code",
      "source": [
        "# Ajustar el modelo de regresión logística\n",
        "logit_model = sm.Logit(y, X)\n",
        "result = logit_model.fit()\n",
        "\n",
        "# Resumen de los resultados\n",
        "print(result.summary())\n"
      ],
      "metadata": {
        "colab": {
          "base_uri": "https://localhost:8080/"
        },
        "id": "ZW8XQDwjYqEA",
        "outputId": "565d646f-83eb-43eb-8286-07ae189373fe"
      },
      "execution_count": null,
      "outputs": [
        {
          "output_type": "stream",
          "name": "stdout",
          "text": [
            "Optimization terminated successfully.\n",
            "         Current function value: 0.106581\n",
            "         Iterations 10\n",
            "                           Logit Regression Results                           \n",
            "==============================================================================\n",
            "Dep. Variable:            rating_high   No. Observations:                  100\n",
            "Model:                          Logit   Df Residuals:                       96\n",
            "Method:                           MLE   Df Model:                            3\n",
            "Date:                Fri, 08 Nov 2024   Pseudo R-squ.:                  0.8203\n",
            "Time:                        15:28:50   Log-Likelihood:                -10.658\n",
            "converged:                       True   LL-Null:                       -59.295\n",
            "Covariance Type:            nonrobust   LLR p-value:                 5.991e-21\n",
            "=================================================================================\n",
            "                    coef    std err          z      P>|z|      [0.025      0.975]\n",
            "---------------------------------------------------------------------------------\n",
            "const           -24.8320      7.163     -3.467      0.001     -38.870     -10.794\n",
            "views             0.0633      0.019      3.402      0.001       0.027       0.100\n",
            "is_featured       2.2698      1.330      1.707      0.088      -0.336       4.876\n",
            "is_discounted    -0.1053      1.183     -0.089      0.929      -2.423       2.213\n",
            "=================================================================================\n",
            "\n",
            "Possibly complete quasi-separation: A fraction 0.43 of observations can be\n",
            "perfectly predicted. This might indicate that there is complete\n",
            "quasi-separation. In this case some parameters will not be identified.\n"
          ]
        }
      ]
    },
    {
      "cell_type": "markdown",
      "source": [
        "**Paso 3: Evaluación del Modelo**\n",
        "1. Coeficiente de Determinación (Pseudo R²)\n",
        "\n",
        "El pseudo R² es una métrica que, aunque no es equivalente al R² de una regresión lineal, se usa para medir qué tan bien el modelo se ajusta a los datos. Un valor más alto indica un mejor ajuste."
      ],
      "metadata": {
        "id": "27mctbZZY1Xr"
      }
    },
    {
      "cell_type": "code",
      "source": [
        "# Pseudo R² (McFadden)\n",
        "pseudo_r2 = 1 - (result.llf / result.llnull)\n",
        "print(\"Pseudo R² (McFadden):\", pseudo_r2)\n"
      ],
      "metadata": {
        "colab": {
          "base_uri": "https://localhost:8080/"
        },
        "id": "41cSj3o8Y0US",
        "outputId": "332ae34a-78ea-4d4f-976f-72f1405c6cf1"
      },
      "execution_count": null,
      "outputs": [
        {
          "output_type": "stream",
          "name": "stdout",
          "text": [
            "Pseudo R² (McFadden): 0.820253297242999\n"
          ]
        }
      ]
    },
    {
      "cell_type": "markdown",
      "source": [
        "2. Predicciones y Tabla de Contingencia\n",
        "\n",
        "Generamos las predicciones y creamos una tabla de contingencia (matriz de confusión) para observar el desempeño del modelo."
      ],
      "metadata": {
        "id": "dzsek6idZCXN"
      }
    },
    {
      "cell_type": "code",
      "source": [
        "# Predicciones de clasificación\n",
        "y_pred_prob = result.predict(X)\n",
        "y_pred = [1 if prob > 0.5 else 0 for prob in y_pred_prob]\n",
        "\n",
        "# Tabla de Contingencia\n",
        "conf_matrix = confusion_matrix(y, y_pred)\n",
        "print(\"Matriz de Confusión:\\n\", conf_matrix)\n",
        "\n",
        "# Visualización de la Matriz de Confusión\n",
        "sns.heatmap(conf_matrix, annot=True, fmt=\"d\", cmap=\"Blues\", cbar=False)\n",
        "plt.xlabel(\"Predicción\")\n",
        "plt.ylabel(\"Real\")\n",
        "plt.title(\"Matriz de Confusión\")\n",
        "plt.show()\n",
        "\n",
        "# Reporte de Clasificación\n",
        "print(\"\\nReporte de Clasificación:\")\n",
        "print(classification_report(y, y_pred))\n",
        "print(\"Exactitud del Modelo:\", accuracy_score(y, y_pred))\n"
      ],
      "metadata": {
        "colab": {
          "base_uri": "https://localhost:8080/"
        },
        "id": "B6YPyvF9ZFYC",
        "outputId": "1a78f95e-b35d-4eaa-eb72-1046fd7c06f5"
      },
      "execution_count": null,
      "outputs": [
        {
          "output_type": "stream",
          "name": "stdout",
          "text": [
            "Matriz de Confusión:\n",
            " [[71  1]\n",
            " [ 2 26]]\n"
          ]
        },
        {
          "output_type": "display_data",
          "data": {
            "text/plain": [
              "<Figure size 640x480 with 1 Axes>"
            ],
            "image/png": "[encoded data removed]"
          },
          "metadata": {}
        },
        {
          "output_type": "stream",
          "name": "stdout",
          "text": [
            "\n",
            "Reporte de Clasificación:\n",
            "              precision    recall  f1-score   support\n",
            "\n",
            "           0       0.97      0.99      0.98        72\n",
            "           1       0.96      0.93      0.95        28\n",
            "\n",
            "    accuracy                           0.97       100\n",
            "   macro avg       0.97      0.96      0.96       100\n",
            "weighted avg       0.97      0.97      0.97       100\n",
            "\n",
            "Exactitud del Modelo: 0.97\n"
          ]
        }
      ]
    },
    {
      "cell_type": "markdown",
      "source": [
        "3. Curva ROC y AUC\n",
        "\n",
        "La Curva ROC y el AUC miden la capacidad del modelo para diferenciar entre clases. Un AUC cercano a 1 indica un modelo con excelente capacidad de clasificación."
      ],
      "metadata": {
        "id": "yTo-jMDcZWEY"
      }
    },
    {
      "cell_type": "code",
      "source": [
        "# Calcular la Curva ROC y AUC\n",
        "fpr, tpr, thresholds = roc_curve(y, y_pred_prob)\n",
        "auc = roc_auc_score(y, y_pred_prob)\n",
        "print(\"Área bajo la Curva ROC (AUC):\", auc)\n",
        "\n",
        "# Graficar la Curva ROC\n",
        "plt.plot(fpr, tpr, label=f'AUC = {auc:.2f}')\n",
        "plt.plot([0, 1], [0, 1], 'k--')  # Línea de referencia\n",
        "plt.xlabel(\"Tasa de Falsos Positivos\")\n",
        "plt.ylabel(\"Tasa de Verdaderos Positivos\")\n",
        "plt.title(\"Curva ROC\")\n",
        "plt.legend(loc=\"lower right\")\n",
        "plt.show()\n"
      ],
      "metadata": {
        "colab": {
          "base_uri": "https://localhost:8080/"
        },
        "id": "yZTiuk4NZYWU",
        "outputId": "aa77b8bb-0269-46a5-9181-0d3afb25457a"
      },
      "execution_count": null,
      "outputs": [
        {
          "output_type": "stream",
          "name": "stdout",
          "text": [
            "Área bajo la Curva ROC (AUC): 0.9905753968253969\n"
          ]
        },
        {
          "output_type": "display_data",
          "data": {
            "text/plain": [
              "<Figure size 640x480 with 1 Axes>"
            ],
            "image/png": "[encoded data removed]"
          },
          "metadata": {}
        }
      ]
    },
    {
      "cell_type": "markdown",
      "source": [
        "    * Pseudo R²: Mide el ajuste general del modelo.\n",
        "    * Matriz de Confusión: Evalúa la precisión y sensibilidad del modelo.\n",
        "    * Curva ROC y AUC: Mide la capacidad del modelo para clasificar correctamente."
      ],
      "metadata": {
        "id": "uq47PDmsaEox"
      }
    }
  ]
}