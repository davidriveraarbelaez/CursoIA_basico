{
  "nbformat": 4,
  "nbformat_minor": 0,
  "metadata": {
    "colab": {
      "provenance": [],
      "authorship_tag": "ABX9TyOzUfaiTiMmCHPsrYn1dyjd",
      "include_colab_link": true
    },
    "kernelspec": {
      "name": "python3",
      "display_name": "Python 3"
    },
    "language_info": {
      "name": "python"
    }
  },
  "cells": [
    {
      "cell_type": "markdown",
      "metadata": {
        "id": "view-in-github",
        "colab_type": "text"
      },
      "source": [
        "<a href=\"https://colab.research.google.com/github/davidriveraarbelaez/IA_Explorador/blob/main/Tema_6_Ejemplo_Spearman.ipynb\" target=\"_parent\"><img src=\"https://colab.research.google.com/assets/colab-badge.svg\" alt=\"Open In Colab\"/></a>"
      ]
    },
    {
      "cell_type": "markdown",
      "source": [
        "**Ejemplo práctico:**\n",
        "Una empresa del sector retail está desarrollando un sistema de recomendación y desea contratar tus servicios para evaluar la relación entre la calificación de los usuarios y el número de veces que un producto ha sido visto. Dado que las calificaciones suelen ser datos ordinales, podrías usar el coeficiente de Spearman para verificar si una mayor cantidad de vistas tiende a correlacionarse con mejores calificaciones. Esto puede ayudarte a mejorar el sistema, identificando patrones de comportamiento de los usuarios sin requerir una relación estrictamente lineal entre las variables."
      ],
      "metadata": {
        "id": "ve5BIAHzhEeG"
      }
    },
    {
      "cell_type": "code",
      "source": [
        "# Paso 1: Importar las librerías necesarias\n",
        "import pandas as pd"
      ],
      "metadata": {
        "id": "IZEorjkBhX86"
      },
      "execution_count": 2,
      "outputs": []
    },
    {
      "cell_type": "code",
      "source": [
        "# Paso 2: Cargar el dataset desde el archivo\n",
        "data = pd.read_csv('/content/product_ratings.csv')\n",
        "\n",
        "# Visualizar los primeros datos del dataset para confirmar su estructura\n",
        "print(\"Datos cargados:\")\n",
        "print(data.head(10))"
      ],
      "metadata": {
        "id": "WfeEMTR5hzzz"
      },
      "execution_count": null,
      "outputs": []
    },
    {
      "cell_type": "code",
      "source": [
        "#data.describe()"
      ],
      "metadata": {
        "id": "MBDOH01jiB7L"
      },
      "execution_count": null,
      "outputs": []
    },
    {
      "cell_type": "code",
      "source": [
        "# Paso 3: Calcular el coeficiente de correlación de Spearman\n",
        "# Correlación entre el número de veces que ha sido visto el producto ('views') y la calificación ('rating')\n",
        "spearman_corr = data['views'].corr(data['rating'], method='spearman')\n",
        "\n",
        "# Mostrar el resultado de la correlación de Spearman\n",
        "print(\"\\nCoeficiente de correlación de Spearman entre 'views' y 'rating':\", spearman_corr)"
      ],
      "metadata": {
        "id": "ipzQVNQXh2Sq"
      },
      "execution_count": null,
      "outputs": []
    }
  ]
}