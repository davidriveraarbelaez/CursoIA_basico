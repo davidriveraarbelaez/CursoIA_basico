{
  "nbformat": 4,
  "nbformat_minor": 0,
  "metadata": {
    "colab": {
      "provenance": [],
      "authorship_tag": "ABX9TyMsGwF4kbA/5G2ScvZpxe1w",
      "include_colab_link": true
    },
    "kernelspec": {
      "name": "python3",
      "display_name": "Python 3"
    },
    "language_info": {
      "name": "python"
    }
  },
  "cells": [
    {
      "cell_type": "markdown",
      "metadata": {
        "id": "view-in-github",
        "colab_type": "text"
      },
      "source": [
        "<a href=\"https://colab.research.google.com/github/davidriveraarbelaez/IA_Explorador/blob/main/Tema_1_error_estandar_residuales.ipynb\" target=\"_parent\"><img src=\"https://colab.research.google.com/assets/colab-badge.svg\" alt=\"Open In Colab\"/></a>"
      ]
    },
    {
      "cell_type": "code",
      "execution_count": null,
      "metadata": {
        "id": "FQEjaku5QGXL"
      },
      "outputs": [],
      "source": [
        "import numpy as np\n",
        "import pandas as pd\n",
        "from scipy import stats"
      ]
    },
    {
      "cell_type": "code",
      "source": [
        "data = pd.read_csv('/content/product_ratings.csv')"
      ],
      "metadata": {
        "id": "VnUbTntaQc3z"
      },
      "execution_count": null,
      "outputs": []
    },
    {
      "cell_type": "code",
      "source": [
        "# Variables independientes y dependientes\n",
        "X = data['views'].values\n",
        "y = data['rating'].values"
      ],
      "metadata": {
        "id": "-HL2o5NPQlCR"
      },
      "execution_count": null,
      "outputs": []
    },
    {
      "cell_type": "code",
      "source": [
        "# Ajuste del modelo\n",
        "slope, intercept, r_value, p_value, std_err = stats.linregress(X, y)"
      ],
      "metadata": {
        "id": "lUG2WehYQn9T"
      },
      "execution_count": null,
      "outputs": []
    },
    {
      "cell_type": "code",
      "source": [
        "# Predicciones\n",
        "y_pred = slope * X + intercept"
      ],
      "metadata": {
        "id": "rC9mngy6QuR2"
      },
      "execution_count": null,
      "outputs": []
    },
    {
      "cell_type": "code",
      "source": [
        "# Calcular SE de los residuales\n",
        "n = len(X)\n",
        "residuals = y - y_pred\n",
        "SE_residual = np.sqrt(np.sum(residuals**2) / (n - 2))"
      ],
      "metadata": {
        "id": "J64R0yNnQx-Z"
      },
      "execution_count": null,
      "outputs": []
    },
    {
      "cell_type": "code",
      "source": [
        "# Calcular SE de la pendiente\n",
        "X_mean = np.mean(X)\n",
        "SE_slope = SE_residual / np.sqrt(np.sum((X - X_mean)**2))"
      ],
      "metadata": {
        "id": "yeZx616qQ0ex"
      },
      "execution_count": null,
      "outputs": []
    },
    {
      "cell_type": "code",
      "source": [
        "# Calcular SE de la intersección\n",
        "SE_intercept = SE_residual * np.sqrt(1/n + (X_mean**2) / np.sum((X - X_mean)**2))"
      ],
      "metadata": {
        "id": "4ftlaroKQ2hN"
      },
      "execution_count": null,
      "outputs": []
    },
    {
      "cell_type": "code",
      "source": [
        "# Resultados\n",
        "print(\"Error Estándar de la Pendiente (slope):\", SE_slope)\n",
        "print(\"Error Estándar de la Intersección (intercept):\", SE_intercept)"
      ],
      "metadata": {
        "colab": {
          "base_uri": "https://localhost:8080/"
        },
        "id": "pVy81euxQ6E3",
        "outputId": "3bfd2e7f-7980-447e-ea5c-9d0a536ea7d6"
      },
      "execution_count": null,
      "outputs": [
        {
          "output_type": "stream",
          "name": "stdout",
          "text": [
            "Error Estándar de la Pendiente (slope): 0.0003760054094622852\n",
            "Error Estándar de la Intersección (intercept): 0.11241277718015262\n"
          ]
        }
      ]
    }
  ]
}