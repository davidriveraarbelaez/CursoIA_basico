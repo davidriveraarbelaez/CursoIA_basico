{
 "cells": [
  {
   "cell_type": "code",
   "execution_count": null,
   "metadata": {},
   "outputs": [],
   "source": [
    "# Cargar el dataset DatasetEDA disponible en https://github.com/davidriveraarbelaez/IA_Explorador/blob/main/DatasetEDA.csv\n",
    "archivo = "
   ]
  }
 ],
 "metadata": {
  "language_info": {
   "name": "python"
  }
 },
 "nbformat": 4,
 "nbformat_minor": 2
}
