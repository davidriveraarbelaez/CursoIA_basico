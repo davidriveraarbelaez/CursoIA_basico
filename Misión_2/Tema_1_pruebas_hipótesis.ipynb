{
  "nbformat": 4,
  "nbformat_minor": 0,
  "metadata": {
    "colab": {
      "provenance": [],
      "authorship_tag": "ABX9TyNePZ5pWEL8lLNZh3xsKmo3",
      "include_colab_link": true
    },
    "kernelspec": {
      "name": "python3",
      "display_name": "Python 3"
    },
    "language_info": {
      "name": "python"
    }
  },
  "cells": [
    {
      "cell_type": "markdown",
      "metadata": {
        "id": "view-in-github",
        "colab_type": "text"
      },
      "source": [
        "<a href=\"https://colab.research.google.com/github/davidriveraarbelaez/IA_Explorador/blob/main/Tema_1_pruebas_hip%C3%B3tesis.ipynb\" target=\"_parent\"><img src=\"https://colab.research.google.com/assets/colab-badge.svg\" alt=\"Open In Colab\"/></a>"
      ]
    },
    {
      "cell_type": "markdown",
      "source": [
        "Paso 1. Importar las librerías necesarias"
      ],
      "metadata": {
        "id": "zozA96ZRarTJ"
      }
    },
    {
      "cell_type": "code",
      "execution_count": null,
      "metadata": {
        "id": "lBkVXMqaakJ6"
      },
      "outputs": [],
      "source": [
        "import numpy as np\n",
        "from scipy import stats\n",
        "import pandas as pd"
      ]
    },
    {
      "cell_type": "markdown",
      "source": [
        "Paso 2. Preparar los datos"
      ],
      "metadata": {
        "id": "JXRcPinGa2P-"
      }
    },
    {
      "cell_type": "code",
      "source": [
        "# Cargar el dataset\n",
        "data = pd.read_csv('/content/product_ratings.csv')\n",
        "X = data['views'].values\n",
        "y = data['rating'].values"
      ],
      "metadata": {
        "id": "ta37es7Ia5oD"
      },
      "execution_count": null,
      "outputs": []
    },
    {
      "cell_type": "markdown",
      "source": [
        "Paso 3. Ajuste del modelo de Regresión y cálculo de los coeficientes"
      ],
      "metadata": {
        "id": "Sl_WV6UYbfjy"
      }
    },
    {
      "cell_type": "code",
      "source": [
        "# Ajustar el modelo\n",
        "slope, intercept, r_value, p_value, std_err = stats.linregress(X, y)\n",
        "\n",
        "# Imprimir los resultados\n",
        "print(\"Pendiente (slope):\", slope)\n",
        "print(\"Intersección (intercept):\", intercept)\n",
        "print(\"Valor p de la pendiente:\", p_value)\n"
      ],
      "metadata": {
        "colab": {
          "base_uri": "https://localhost:8080/"
        },
        "id": "iN1sw-PnbkUA",
        "outputId": "17abaf66-55b0-468b-df43-520b0336b73a"
      },
      "execution_count": null,
      "outputs": [
        {
          "output_type": "stream",
          "name": "stdout",
          "text": [
            "Pendiente (slope): 0.008519684841934813\n",
            "Intersección (intercept): 0.4857978470510149\n",
            "Valor p de la pendiente: 9.601434809584454e-41\n"
          ]
        }
      ]
    },
    {
      "cell_type": "markdown",
      "source": [
        "Paso 4. Interpretar el resultado de la prueba de hipótesis"
      ],
      "metadata": {
        "id": "ID4JOr8rb4d4"
      }
    },
    {
      "cell_type": "code",
      "source": [
        "if p_value < 0.05:\n",
        "    print(\"La relación entre 'views' y 'rating' es significativa (p < 0.05).\")\n",
        "else:\n",
        "    print(\"No hay suficiente evidencia para concluir que 'views' afecta significativamente a 'rating' (p >= 0.05).\")\n"
      ],
      "metadata": {
        "colab": {
          "base_uri": "https://localhost:8080/"
        },
        "id": "Zf12isd4b2aN",
        "outputId": "3918f352-6eb5-4d41-e99d-1a7884dcad3d"
      },
      "execution_count": null,
      "outputs": [
        {
          "output_type": "stream",
          "name": "stdout",
          "text": [
            "La relación entre 'views' y 'rating' es significativa (p < 0.05).\n"
          ]
        }
      ]
    }
  ]
}