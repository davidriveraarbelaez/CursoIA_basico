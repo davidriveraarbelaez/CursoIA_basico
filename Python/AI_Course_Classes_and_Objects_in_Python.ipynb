{
  "cells": [
    {
      "cell_type": "markdown",
      "metadata": {
        "id": "uPMWLKwIDf7f"
      },
      "source": [
        "# Classes in Python\n",
        "\n",
        "### What are objects?\n",
        "Python is an object-oriented programming language. This means that it has a particular type of variable called an object. An object is a package of variables and functions that should be grouped together for consistency and convenience.\n",
        "\n",
        "### What are the classes?\n",
        "Objects have a structure, they are composed of a given set of variables and functions, which we call **attributes**.\n",
        "\n",
        "This object structure is not made explicit in the code every time we define an object. Instead, objects are usually created from *templates* which we call **classes**.\n",
        "\n",
        "The **classes** give the objects their shape, define the variables and functions that compose these objects."
      ]
    },
    {
      "cell_type": "markdown",
      "metadata": {
        "id": "GPycKx1jICLG"
      },
      "source": [
        "\n",
        "\n",
        "### We define a class\n",
        "We will begin by defining a very simple class, which we will call `Person`. This class will be the template through which we will generate objects, which we will call **instances** of this class.\n",
        "\n",
        "To begin this example, we will give it the attributes that we think are indispensable to define a person: name and age."
      ]
    },
    {
      "cell_type": "code",
      "execution_count": null,
      "metadata": {
        "id": "3f8zS8UVDf7h"
      },
      "outputs": [],
      "source": [
        "class Person:\n",
        "    \"\"\"\n",
        "    This is a class where all the data regarding a person is aggregated.\n",
        "    \"\"\"\n",
        "    def __init__(self, name, age):\n",
        "        # All we define in __init__ will ran\n",
        "        # after we create an instance of the class\n",
        "        self.name = name\n",
        "        self.age = age"
      ]
    },
    {
      "cell_type": "markdown",
      "metadata": {
        "id": "6BvaWE4ODf7m"
      },
      "source": [
        "So far we did not create an object, we only defined the shape that the objects of the *Person* class will have.\n",
        "\n",
        "Now, using this template, we will create an **instance** of the *Person* class, which we will call p1."
      ]
    },
    {
      "cell_type": "code",
      "execution_count": null,
      "metadata": {
        "id": "61NtOauTDf7n"
      },
      "outputs": [],
      "source": [
        "p1 = Person(\"Juan\", 26)\n",
        "\n",
        "print(p1.name)\n",
        "print(p1.age)"
      ]
    },
    {
      "cell_type": "markdown",
      "metadata": {
        "id": "iiuysS0ODf7s"
      },
      "source": [
        "When inspecting the variable type, python warns us that p1 is an object belonging to the Person class:"
      ]
    },
    {
      "cell_type": "code",
      "execution_count": null,
      "metadata": {
        "id": "emWuClVPDf7s"
      },
      "outputs": [],
      "source": [
        "type(p1)"
      ]
    },
    {
      "cell_type": "markdown",
      "metadata": {
        "id": "yXokYBVsDf73"
      },
      "source": [
        "The attributes of a class instance can be modified like any variable:"
      ]
    },
    {
      "cell_type": "code",
      "execution_count": null,
      "metadata": {
        "id": "wYTbNFDhDf75"
      },
      "outputs": [],
      "source": [
        "p1.age = 30\n",
        "p1.age"
      ]
    },
    {
      "cell_type": "markdown",
      "metadata": {
        "id": "UXpEJ5wFDf7-"
      },
      "source": [
        "#### **Example:**\n",
        "* Create a class called `Rectangle`, whose attributes are the variables `side_length_1` and `side_length_2`.\n",
        "* Create an instance of this class named `c1`, with sides of length 10 and 20."
      ]
    },
    {
      "cell_type": "code",
      "execution_count": null,
      "metadata": {
        "id": "gZZE0PnSDf7-"
      },
      "outputs": [],
      "source": [
        "class Rectangle:\n",
        "    def __init__(self, side_1, side_2):\n",
        "        self.side_1 = side_1\n",
        "        self.side_2 = side_2"
      ]
    },
    {
      "cell_type": "code",
      "execution_count": null,
      "metadata": {
        "id": "o-6TXaJnDf8C"
      },
      "outputs": [],
      "source": [
        "c1 = Rectangle(10,20)"
      ]
    },
    {
      "cell_type": "markdown",
      "metadata": {
        "id": "N1iZP4U2Df8K"
      },
      "source": [
        "### Methods\n",
        "We call the functions that compose a class **methods**. These functions can be called by putting the name of an instance of the class followed by a dot and the name of the method. Methods can act on the values of other attributes of that instance, they can return some output through `return` or they can do both.\n",
        "\n",
        "We are going to give a method to the class person, for this we are going to redefine the class as:"
      ]
    },
    {
      "cell_type": "code",
      "execution_count": null,
      "metadata": {
        "id": "x7rOAm57Df8M"
      },
      "outputs": [],
      "source": [
        "class Person:\n",
        "    \"\"\"\n",
        "    This is a class where all the data regarding a person is aggregated.\n",
        "    \"\"\"\n",
        "    def __init__(self, name, age):\n",
        "        # All we define in __init__ will ran\n",
        "        # after we create an instance of the class\n",
        "        self.name = name\n",
        "        self.age = age\n",
        "\n",
        "    def Introduce_myself(self):\n",
        "        print(\"Hi, my name is \" + self.name)"
      ]
    },
    {
      "cell_type": "code",
      "execution_count": null,
      "metadata": {
        "id": "o1GumL14Df8Q"
      },
      "outputs": [],
      "source": [
        "p1 = Person(\"Juan\", 26)\n",
        "p1.Introduce_myself()"
      ]
    },
    {
      "cell_type": "markdown",
      "metadata": {
        "id": "6z3FMfFpDf8T"
      },
      "source": [
        "As we already said, the methods can also modify the value of certain attributes of an instance. We are going to create a method for the class person, that makes the person turn one year old and at the same time returns us the value of its age:"
      ]
    },
    {
      "cell_type": "code",
      "execution_count": null,
      "metadata": {
        "id": "RWyQjCiBDf8V"
      },
      "outputs": [],
      "source": [
        "class Person:\n",
        "    \"\"\"\n",
        "    This is a class where all the data regarding a person is aggregated.\n",
        "    \"\"\"\n",
        "    def __init__(self, name, age):\n",
        "        # All we define in __init__ will ran\n",
        "        # after we create an instance of the class\n",
        "        self.name = name\n",
        "        self.age = age\n",
        "\n",
        "    def Introduce_myself(self):\n",
        "        print(\"Hi, my name is \" + self.name)\n",
        "\n",
        "    def Birthday(self):\n",
        "        self.age = self.age + 1\n",
        "        # The return causes that, when executing the method,\n",
        "        # it returns the value of age\n",
        "        return self.age"
      ]
    },
    {
      "cell_type": "code",
      "execution_count": null,
      "metadata": {
        "id": "8KMgHX1sDf8c"
      },
      "outputs": [],
      "source": [
        "p1 = Person(\"Marta\", 30)\n",
        "p1.Birthday()"
      ]
    },
    {
      "cell_type": "markdown",
      "metadata": {
        "id": "enUnVhGUDf8i"
      },
      "source": [
        "Did you notice that we define the attributes inside a method called `__init__`?\n",
        "\n",
        "These method names with double underscores on the sides indicate that this is a **magic method**. They are special names that Python reserves for methods that have a specific function. For example, the magic method `__init__` will run automatically when we create an instance of the class.\n",
        "\n",
        "Let's see an example where inside the `__init__` method we add some other code block:"
      ]
    },
    {
      "cell_type": "code",
      "execution_count": null,
      "metadata": {
        "id": "EoCfp55sDf8j"
      },
      "outputs": [],
      "source": [
        "class Person:\n",
        "    \"\"\"\n",
        "    This is a class where all the data regarding a person is aggregated.\n",
        "    \"\"\"\n",
        "    def __init__(self, name, age,speed):\n",
        "        # All we define in __init__ will ran\n",
        "        # after we create an instance of the class\n",
        "        self.name = name\n",
        "        self.age = age\n",
        "        self.speed = speed\n",
        "\n",
        "        print('New Person has been created!')\n",
        "\n",
        "    def Introduce_myself(self):\n",
        "        print(\"Hi, my name is \" + self.name)\n",
        "\n",
        "    def Birthday(self):\n",
        "        self.age = self.age + 1\n",
        "        # The return causes that, when executing the method,\n",
        "        # it returns the value of age\n",
        "        return self.age\n",
        "\n",
        "    def run(self):\n",
        "        print(f\"{self.name} run at these speed: {self.speed}\")\n",
        "\n",
        "    def jump(self):\n",
        "        pass"
      ]
    },
    {
      "cell_type": "code",
      "execution_count": null,
      "metadata": {
        "id": "GtD0BRqhDf8l"
      },
      "outputs": [],
      "source": [
        "p1 = Person(\"Ernesto\", 40, 23)"
      ]
    },
    {
      "cell_type": "markdown",
      "metadata": {
        "id": "NKUefce7Df8q"
      },
      "source": [
        "#### **Examples:**\n",
        "Add to the class named `Rectangle` a method named `longside` that returns the value of the longest side.\n",
        "* Add in the `__init__` of `Rectangle` a new class attribute called `area`. The value of this attribute should be generated automatically from the values of the sides (remember that the area of a rectangle is calculated by multiplying the length of its sides).\n",
        "* Create an instance of the class and verify that your code works properly."
      ]
    },
    {
      "cell_type": "code",
      "execution_count": null,
      "metadata": {
        "id": "VE9IiONUDf8r"
      },
      "outputs": [],
      "source": [
        "class Rectangle:\n",
        "    def __init__(self, side_1, side_2):\n",
        "        self.side_1 = side_1\n",
        "        self.side_2 = side_2\n",
        "        self.area = side_1*side_2\n",
        "\n",
        "    def longSide(self):\n",
        "        if self.side_1 > self.side_2:\n",
        "            return self.side_1\n",
        "        else:\n",
        "            return self.side_2"
      ]
    },
    {
      "cell_type": "code",
      "execution_count": null,
      "metadata": {
        "id": "PINw95UEDf8u"
      },
      "outputs": [],
      "source": [
        "rect_1 = Rectangle(40,20)\n",
        "rect_1.area"
      ]
    },
    {
      "cell_type": "code",
      "execution_count": null,
      "metadata": {
        "id": "gUmxxCi_Df8x"
      },
      "outputs": [],
      "source": [
        "rect_1.longSide()"
      ]
    },
    {
      "cell_type": "markdown",
      "metadata": {
        "id": "eOuuzeC3Df84"
      },
      "source": [
        "### Consistency\n",
        "\n",
        "One of the benefits of working with classes is the fact of being able to check the consistency of the different attributes belonging to the same instance of that class.\n",
        "\n",
        "Suppose we have a class called `Department`. This class groups all the variables related to the same department. This allows us to check that all these variables have a proper relationship. For example, we know that the covered area cannot be greater than the total area. So:"
      ]
    },
    {
      "cell_type": "code",
      "execution_count": null,
      "metadata": {
        "id": "-M1ohuf8Df87"
      },
      "outputs": [],
      "source": [
        "class Apartment:\n",
        "    def __init__(self, street, number, floor, total_area, build_area):\n",
        "        self.street = street\n",
        "        self.number = number\n",
        "        self.floor = floor\n",
        "        self.total_area = total_area\n",
        "        if build_area < total_area:\n",
        "            self.build_area = self.build_area\n",
        "        else:\n",
        "            print(\"Inconsistent value of covered area entered\")\n",
        "            self.build_area = self.total_area"
      ]
    },
    {
      "cell_type": "code",
      "execution_count": null,
      "metadata": {
        "id": "tu-SHHF8Df8_"
      },
      "outputs": [],
      "source": [
        "apt_1 = Apartment('Las Heras', 576, 6, 70, 545)"
      ]
    },
    {
      "cell_type": "code",
      "execution_count": null,
      "metadata": {
        "id": "pNXFWfAxDf9P"
      },
      "outputs": [],
      "source": [
        "apt_1.build_area"
      ]
    },
    {
      "cell_type": "markdown",
      "metadata": {
        "id": "CVximuuoDf9U"
      },
      "source": [
        "Another benefit of working with objects is to have all relevant variables grouped in the same object. This makes it easier for us to move this information around.\n",
        "\n",
        "For example, if we have a function that calculates the price of an apartment based on different properties of it, it would be much easier for us to pass to that function a single argument (the apartment object), and not each of its attributes:"
      ]
    },
    {
      "cell_type": "code",
      "execution_count": null,
      "metadata": {
        "id": "vVy-ehCfDf9V"
      },
      "outputs": [],
      "source": [
        "def CalcPrice(apt):\n",
        "    price = 2000 * apt.total_area + 500 * apt.floor\n",
        "    return price"
      ]
    },
    {
      "cell_type": "code",
      "execution_count": null,
      "metadata": {
        "id": "9kfl93zWDf9X"
      },
      "outputs": [],
      "source": [
        "CalcPrice(apt_1)"
      ]
    },
    {
      "cell_type": "code",
      "source": [],
      "metadata": {
        "id": "XtpIlHaGA0-C"
      },
      "execution_count": null,
      "outputs": []
    }
  ],
  "metadata": {
    "colab": {
      "provenance": []
    },
    "kernelspec": {
      "display_name": "Python 3 (ipykernel)",
      "language": "python",
      "name": "python3"
    },
    "language_info": {
      "codemirror_mode": {
        "name": "ipython",
        "version": 3
      },
      "file_extension": ".py",
      "mimetype": "text/x-python",
      "name": "python",
      "nbconvert_exporter": "python",
      "pygments_lexer": "ipython3",
      "version": "3.9.7"
    }
  },
  "nbformat": 4,
  "nbformat_minor": 0
}