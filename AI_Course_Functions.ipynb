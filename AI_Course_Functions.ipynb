{
  "cells": [
    {
      "cell_type": "markdown",
      "metadata": {
        "id": "H0bbO2UehHpH"
      },
      "source": [
        "#Functions in Python: Definition and Usage\n",
        "1. **What is a Function?**\n",
        "In Python, a function is a block of code that is executed only when it is called. Functions allow you to reuse code and make it modular. They can accept input, process it, and return output.\n",
        "\n",
        "**Why Use Functions?**\n",
        "* **Modularity:** Break down complex problems into simpler sub-problems.\n",
        "* **Reusability:** Write code once and reuse it multiple times.\n",
        "* **Maintainability:** Improves the readability and maintainability of code.\n",
        "\n",
        "2. **Defining a Function**\n",
        "To define a function, use the def keyword followed by the function name and parentheses ().\n"
      ]
    },
    {
      "cell_type": "code",
      "execution_count": 1,
      "metadata": {},
      "outputs": [
        {
          "name": "stdout",
          "output_type": "stream",
          "text": [
            "8\n",
            "2\n"
          ]
        }
      ],
      "source": [
        "from functools import reduce\n",
        "\n",
        "# Lista de probabilidades\n",
        "probabilidades = [0.9, 0.8, 0.7]\n",
        "\n",
        "# Calcular el producto de las probabilidades\n",
        "producto = reduce(lambda x, y: x * y, probabilidades)\n",
        "print(producto)  # 0.504 (producto acumulado de las probabilidades)"
      ]
    },
    {
      "cell_type": "code",
      "execution_count": null,
      "metadata": {
        "id": "TAo4WYZ7hcmp"
      },
      "outputs": [],
      "source": [
        "def function_name(parameters):\n",
        "    \"\"\"\n",
        "    Optional docstring to describe the function\n",
        "    \"\"\"\n",
        "    # Block of code\n",
        "    return output"
      ]
    },
    {
      "cell_type": "markdown",
      "metadata": {
        "id": "HNMAP3d7jka0"
      },
      "source": [
        "* **function_name:** The name of the function.\n",
        "* **parameters:** Optional inputs to pass values into the function.\n",
        "* **return:** Optional keyword to return a value from the function.\n",
        "\n",
        "**Example:**"
      ]
    },
    {
      "cell_type": "code",
      "execution_count": null,
      "metadata": {
        "id": "DNeVLbSrjiaU"
      },
      "outputs": [],
      "source": [
        "def greet(name):\n",
        "    \"\"\"\n",
        "    Function to greet a person by their name\n",
        "    \"\"\"\n",
        "    print(f\"Hello, {name}!\")\n",
        "\n",
        "# Calling the function\n",
        "greet(\"David\")"
      ]
    },
    {
      "cell_type": "markdown",
      "metadata": {
        "id": "wQKB321ijX9k"
      },
      "source": [
        "3. **Calling a Function**\n",
        "\n",
        "You call a function by using its name followed by parentheses (). If the function has parameters, provide the values (called arguments) inside the parentheses.\n",
        "\n",
        "**Example:**"
      ]
    },
    {
      "cell_type": "code",
      "execution_count": null,
      "metadata": {
        "id": "LBXDmbXIjUZM"
      },
      "outputs": [],
      "source": [
        "def square(number):\n",
        "    return number ** 2\n",
        "\n",
        "# Calling the function\n",
        "result = square(4)\n",
        "print(result)  # Output: 16"
      ]
    },
    {
      "cell_type": "markdown",
      "metadata": {
        "id": "_HljfAt3jLCi"
      },
      "source": [
        "4. **Parameters and Arguments**\n",
        "\n",
        "Functions can have parameters that serve as placeholders for values provided when the function is called. The values you pass into the function are called arguments.\n",
        "\n",
        "* **Positional Arguments:** Arguments matched by their position in the function definition.\n",
        "* **Keyword Arguments:** Arguments matched by their name (key) in the function call.\n",
        "\n",
        "**Example:**"
      ]
    },
    {
      "cell_type": "code",
      "execution_count": null,
      "metadata": {
        "id": "jWY87AxGjHyI"
      },
      "outputs": [],
      "source": [
        "def introduce(name, age):\n",
        "    print(f\"I am {name} and I am {age} years old.\")\n",
        "\n",
        "# Positional arguments\n",
        "introduce(\"Alice\", 30)\n",
        "\n",
        "# Keyword arguments\n",
        "introduce(age=25, name=\"Bob\")\n"
      ]
    },
    {
      "cell_type": "markdown",
      "metadata": {
        "id": "b27jCoHUi4V8"
      },
      "source": [
        "5. **Default Parameters**\n",
        "You can define default values for parameters in case no argument is provided during the function call.\n",
        "\n",
        "**Example:**"
      ]
    },
    {
      "cell_type": "code",
      "execution_count": null,
      "metadata": {
        "id": "f7ATs9mqi2L_"
      },
      "outputs": [],
      "source": [
        "def greet(name=\"Guest\"):\n",
        "    print(f\"Hello, {name}!\")\n",
        "\n",
        "greet()        # Output: Hello, Guest!\n",
        "greet(\"Anna\")  # Output: Hello, Anna!"
      ]
    },
    {
      "cell_type": "markdown",
      "metadata": {
        "id": "-EAP5Ye6iumo"
      },
      "source": [
        "6. **Returning Values**\n",
        "\n",
        "Functions can return values using the return keyword. Once a return statement is executed, the function terminates.\n",
        "\n",
        "**Example:**"
      ]
    },
    {
      "cell_type": "code",
      "execution_count": null,
      "metadata": {
        "id": "w0fWnw15isvJ"
      },
      "outputs": [],
      "source": [
        "def add(a, b):\n",
        "    return a + b\n",
        "\n",
        "result = add(5, 7)\n",
        "print(result)  # Output: 12"
      ]
    },
    {
      "cell_type": "markdown",
      "metadata": {
        "id": "DpCOnDztioUO"
      },
      "source": [
        "7. **Docstrings**\n",
        "It is a good practice to add docstrings (documentation strings) to your functions. They describe what the function does and are enclosed within triple quotes \"\"\".\n",
        "\n",
        "**Example:**"
      ]
    },
    {
      "cell_type": "code",
      "execution_count": null,
      "metadata": {
        "id": "nJL4Jeypii-b"
      },
      "outputs": [],
      "source": [
        "def multiply(a, b):\n",
        "    \"\"\"\n",
        "    This function multiplies two numbers.\n",
        "    \"\"\"\n",
        "    return a * b\n",
        "\n",
        "print(multiply.__doc__)  # Output: This function multiplies two numbers."
      ]
    },
    {
      "cell_type": "markdown",
      "metadata": {
        "id": "dkYdQG3ribsM"
      },
      "source": [
        "8. **Variable Scope**\n",
        "* **Local variables:** Defined inside a function and can only be used within that function.\n",
        "* **Global variables:** Defined outside of functions and can be accessed globally.\n",
        "Example:"
      ]
    },
    {
      "cell_type": "code",
      "execution_count": null,
      "metadata": {
        "id": "xePRSnW7iZJd"
      },
      "outputs": [],
      "source": [
        "x = 10  # Global variable\n",
        "\n",
        "def show_number():\n",
        "    x = 5  # Local variable\n",
        "    print(x)  # Output: 5\n",
        "\n",
        "show_number()\n",
        "print(x)  # Output: 10"
      ]
    },
    {
      "cell_type": "markdown",
      "metadata": {
        "id": "_3ch0ohtiUlW"
      },
      "source": [
        "9. **Lambda Functions**\n",
        "\n",
        "A lambda function is a small, anonymous function defined with the lambda keyword. It can take any number of arguments but can only have one expression."
      ]
    },
    {
      "cell_type": "code",
      "execution_count": null,
      "metadata": {
        "id": "Q6i-p-oniPd6"
      },
      "outputs": [],
      "source": [
        "lambda arguments: expression"
      ]
    },
    {
      "cell_type": "markdown",
      "metadata": {
        "id": "Nq3fEp2FiL_B"
      },
      "source": [
        "**Example:**"
      ]
    },
    {
      "cell_type": "code",
      "execution_count": null,
      "metadata": {
        "id": "l8KjwRXlh8A_"
      },
      "outputs": [],
      "source": [
        "square = lambda x: x ** 2\n",
        "print(square(3))  # Output: 9\n",
        "\n",
        "add = lambda a, b: a + b\n",
        "print(add(5, 6))  # Output: 11"
      ]
    },
    {
      "cell_type": "markdown",
      "metadata": {
        "id": "uZHSmTlth3g5"
      },
      "source": [
        "10. **Recursion**\n",
        "A function can call itself, known as recursion. It's useful when you need to break down a problem into smaller sub-problems of the same type.\n",
        "\n",
        "**Example:** Factorial using recursion"
      ]
    },
    {
      "cell_type": "code",
      "execution_count": null,
      "metadata": {
        "id": "P2DENM-5hxWC"
      },
      "outputs": [],
      "source": [
        "def factorial(n):\n",
        "    if n == 1:  # Base case\n",
        "        return 1\n",
        "    else:\n",
        "        return n * factorial(n - 1)  # Recursive case\n",
        "\n",
        "print(factorial(5))  # Output: 120"
      ]
    },
    {
      "cell_type": "markdown",
      "metadata": {
        "id": "tgPJmRYKj8x2"
      },
      "source": [
        "11. **Advanced: Functions as First-Class Citizens**\n",
        "\n",
        "In Python, functions are first-class citizens. This means they can be:\n",
        "\n",
        "*  Assigned to variables.\n",
        "*  Passed as arguments to other functions.\n",
        "*  Returned from other functions.\n",
        "\n",
        "**Example:**"
      ]
    },
    {
      "cell_type": "code",
      "execution_count": null,
      "metadata": {
        "id": "Ro13Y3uokKaJ"
      },
      "outputs": [],
      "source": [
        "def shout(text):\n",
        "    return text.upper()\n",
        "\n",
        "def whisper(text):\n",
        "    return text.lower()\n",
        "\n",
        "def greet(func):\n",
        "    return func(\"Hello!\")\n",
        "\n",
        "print(greet(shout))   # Output: HELLO!\n",
        "print(greet(whisper)) # Output: hello!"
      ]
    }
  ],
  "metadata": {
    "colab": {
      "provenance": []
    },
    "kernelspec": {
      "display_name": "Python 3",
      "name": "python3"
    },
    "language_info": {
      "codemirror_mode": {
        "name": "ipython",
        "version": 3
      },
      "file_extension": ".py",
      "mimetype": "text/x-python",
      "name": "python",
      "nbconvert_exporter": "python",
      "pygments_lexer": "ipython3",
      "version": "3.12.4"
    }
  },
  "nbformat": 4,
  "nbformat_minor": 0
}
