{
  "cells": [
    {
      "cell_type": "markdown",
      "metadata": {
        "colab_type": "text",
        "id": "view-in-github"
      },
      "source": [
        "<a href=\"https://colab.research.google.com/github/davidriveraarbelaez/IA_Explorador/blob/main/AI_Course-Python_Built_in_Functions.ipynb\" target=\"_parent\"><img src=\"https://colab.research.google.com/assets/colab-badge.svg\" alt=\"Open In Colab\"/></a>"
      ]
    },
    {
      "cell_type": "markdown",
      "metadata": {
        "id": "iazx3R58b0vJ"
      },
      "source": [
        "# Built-In Python Functions\n",
        "\n",
        "Sometimes we want to solve a problem and end up overwriting code, when most of the tasks can be simplified or summarized in a built-in function of the python standard library.\n",
        "\n",
        "Let's see a little, the functions that we can use at any time.\n",
        "\n",
        "__Doc:__ [Built-in Functions](https://docs.python.org/3/library/functions.html)"
      ]
    },
    {
      "cell_type": "markdown",
      "metadata": {
        "id": "0Gt0SAo_b0vK"
      },
      "source": [
        "---\n",
        "## ABS()\n",
        "\n",
        "The __abs()__ function is used to return the absolute value of a number."
      ]
    },
    {
      "cell_type": "code",
      "execution_count": null,
      "metadata": {
        "id": "NiIdc3zPb0vL",
        "outputId": "5ea4d113-a465-41f0-9132-f7f3bfc50eb0"
      },
      "outputs": [
        {
          "name": "stdout",
          "output_type": "stream",
          "text": [
            "Absoulute value of -54.26 is 54.26\n"
          ]
        }
      ],
      "source": [
        "number = -54.26\n",
        "print(f'Absoulute value of {number} is {abs(number)}')"
      ]
    },
    {
      "cell_type": "code",
      "execution_count": null,
      "metadata": {
        "id": "AXYSkezJb0vM",
        "outputId": "d7051c80-1eec-40dd-ed95-37eb1e101e45"
      },
      "outputs": [
        {
          "name": "stdout",
          "output_type": "stream",
          "text": [
            "Absoulute value of -100 is 100\n"
          ]
        }
      ],
      "source": [
        "number = -100\n",
        "print(f'Absoulute value of {number} is {abs(number)}')"
      ]
    },
    {
      "cell_type": "markdown",
      "metadata": {
        "id": "uUqvXI_Fb0vN"
      },
      "source": [
        "## ALL()\n",
        "\n",
        "The all() function returns True if all elements of an iterable are True; otherwise it returns False.\n",
        "\n",
        "If the iterable object is empty, the all() function also returns True."
      ]
    },
    {
      "cell_type": "markdown",
      "metadata": {
        "id": "4CZKvsshb0vN"
      },
      "source": [
        "### List"
      ]
    },
    {
      "cell_type": "code",
      "execution_count": null,
      "metadata": {
        "id": "lcjNFMz4b0vN",
        "outputId": "d9bc80c9-95f7-400b-ab6b-ce18ddfef02c"
      },
      "outputs": [
        {
          "name": "stdout",
          "output_type": "stream",
          "text": [
            "False\n"
          ]
        }
      ],
      "source": [
        "my_lista = [0, 1, 1]\n",
        "x = all(my_lista)\n",
        "print(x)"
      ]
    },
    {
      "cell_type": "code",
      "execution_count": null,
      "metadata": {
        "id": "2CA9VVOHb0vN",
        "outputId": "28f029d9-e000-4852-fbdc-2fad0224f6df"
      },
      "outputs": [
        {
          "name": "stdout",
          "output_type": "stream",
          "text": [
            "True\n"
          ]
        }
      ],
      "source": [
        "my_lista = [True, True, True]\n",
        "x = all(my_lista)\n",
        "print(x)"
      ]
    },
    {
      "cell_type": "markdown",
      "metadata": {
        "id": "i-BI15kOb0vN"
      },
      "source": [
        "### Tuple"
      ]
    },
    {
      "cell_type": "code",
      "execution_count": null,
      "metadata": {
        "id": "5hVvO9dHb0vO",
        "outputId": "57f0ce9c-b74f-4a9f-b204-549e212b0db6"
      },
      "outputs": [
        {
          "name": "stdout",
          "output_type": "stream",
          "text": [
            "False\n"
          ]
        }
      ],
      "source": [
        "my_tuple = (0, True, False)\n",
        "x = all(my_tuple)\n",
        "print(x)"
      ]
    },
    {
      "cell_type": "code",
      "execution_count": null,
      "metadata": {
        "id": "zHWR0T7db0vO",
        "outputId": "f46163df-94d4-42e4-d0d0-48369b3c5a6a"
      },
      "outputs": [
        {
          "name": "stdout",
          "output_type": "stream",
          "text": [
            "True\n"
          ]
        }
      ],
      "source": [
        "my_tuple = (True, True, True)\n",
        "x = all(my_tuple)\n",
        "print(x)"
      ]
    },
    {
      "cell_type": "markdown",
      "metadata": {
        "id": "aUq2Jan1b0vO"
      },
      "source": [
        "### Dictionary"
      ]
    },
    {
      "cell_type": "code",
      "execution_count": null,
      "metadata": {
        "colab": {
          "base_uri": "https://localhost:8080/"
        },
        "id": "zES_xk73b0vO",
        "outputId": "cdc60497-6c7d-4c1c-c9ac-e89229945651"
      },
      "outputs": [
        {
          "name": "stdout",
          "output_type": "stream",
          "text": [
            "False\n"
          ]
        }
      ],
      "source": [
        "my_dict = {0 : \"zero\", 2 : \"two\"}\n",
        "x = all(my_dict)\n",
        "print(x)"
      ]
    },
    {
      "cell_type": "code",
      "execution_count": null,
      "metadata": {
        "colab": {
          "base_uri": "https://localhost:8080/"
        },
        "id": "HcjfrC1xb0vO",
        "outputId": "0f78bf80-d360-4586-b0f0-b9e96212b1a1"
      },
      "outputs": [
        {
          "name": "stdout",
          "output_type": "stream",
          "text": [
            "True\n"
          ]
        }
      ],
      "source": [
        "my_dict = {1 : \"one\", 2 : \"two\"}\n",
        "x = all(my_dict)\n",
        "print(x)"
      ]
    },
    {
      "cell_type": "markdown",
      "metadata": {
        "id": "eH8tEt_Ab0vP"
      },
      "source": [
        "## ANY()\n",
        "\n",
        "The any() function returns True if any element of an iterable is True; otherwise it returns False.\n",
        "\n",
        "If the iterable object is empty, the any() function will return False."
      ]
    },
    {
      "cell_type": "markdown",
      "metadata": {
        "id": "R7TGeegNb0vP"
      },
      "source": [
        "### List"
      ]
    },
    {
      "cell_type": "code",
      "execution_count": null,
      "metadata": {
        "colab": {
          "base_uri": "https://localhost:8080/"
        },
        "id": "q61maYzJb0vP",
        "outputId": "b664f901-6005-4343-f2be-eb270ef7fe7a"
      },
      "outputs": [
        {
          "name": "stdout",
          "output_type": "stream",
          "text": [
            "True\n"
          ]
        }
      ],
      "source": [
        "my_list = [False, True, False]\n",
        "x = any(my_list)\n",
        "print(x)"
      ]
    },
    {
      "cell_type": "code",
      "execution_count": null,
      "metadata": {
        "colab": {
          "base_uri": "https://localhost:8080/"
        },
        "id": "_lghfMjvb0vP",
        "outputId": "9d2204b9-cf24-42c1-cd4d-df4e465a52b2"
      },
      "outputs": [
        {
          "name": "stdout",
          "output_type": "stream",
          "text": [
            "False\n"
          ]
        }
      ],
      "source": [
        "my_list = [False, False, False]\n",
        "x = any(my_list)\n",
        "print(x)"
      ]
    },
    {
      "cell_type": "markdown",
      "metadata": {
        "id": "OVD2sl2nb0vP"
      },
      "source": [
        "### Tuple"
      ]
    },
    {
      "cell_type": "code",
      "execution_count": null,
      "metadata": {
        "id": "VWry6ub2b0vQ",
        "outputId": "0dcff2bd-f6de-4724-e33b-b24dd7f4d74f"
      },
      "outputs": [
        {
          "name": "stdout",
          "output_type": "stream",
          "text": [
            "True\n"
          ]
        }
      ],
      "source": [
        "my_tuple = (0, 1, False)\n",
        "x = any(my_tuple)\n",
        "print(x)"
      ]
    },
    {
      "cell_type": "code",
      "execution_count": null,
      "metadata": {
        "id": "nwkhjDsxb0vQ",
        "outputId": "f2abb9c6-8024-4cc2-fe44-9d312f43f76d"
      },
      "outputs": [
        {
          "name": "stdout",
          "output_type": "stream",
          "text": [
            "False\n"
          ]
        }
      ],
      "source": [
        "my_tuple = (0, 0, False)\n",
        "x = any(my_tuple)\n",
        "print(x)"
      ]
    },
    {
      "cell_type": "markdown",
      "metadata": {
        "id": "rsrERaWXb0vQ"
      },
      "source": [
        "### Dictionary"
      ]
    },
    {
      "cell_type": "code",
      "execution_count": null,
      "metadata": {
        "id": "zVctdPjUb0vQ",
        "outputId": "e29a401b-e388-4643-bd21-1bf3ec5dc799"
      },
      "outputs": [
        {
          "name": "stdout",
          "output_type": "stream",
          "text": [
            "True\n"
          ]
        }
      ],
      "source": [
        "my_dict = {0, 1, 0}\n",
        "x = any(my_dict)\n",
        "print(x)"
      ]
    },
    {
      "cell_type": "code",
      "execution_count": null,
      "metadata": {
        "id": "BsoX3uZLb0vQ",
        "outputId": "0f9bbd50-b0c9-47c3-ba0f-297d8ab11e30"
      },
      "outputs": [
        {
          "name": "stdout",
          "output_type": "stream",
          "text": [
            "False\n"
          ]
        }
      ],
      "source": [
        "my_dict = {0, 0, 0}\n",
        "x = any(my_dict)\n",
        "print(x)"
      ]
    },
    {
      "cell_type": "markdown",
      "metadata": {
        "id": "_uyShOMeb0vQ"
      },
      "source": [
        "## ASCII()\n",
        "\n",
        "The ascii() function returns a human-readable version of any object (strings, tuples, lists, etc).\n",
        "\n",
        "The ascii() function will replace any non-ascii characters with escape characters."
      ]
    },
    {
      "cell_type": "code",
      "execution_count": null,
      "metadata": {
        "id": "vEBJ0zYsb0vQ",
        "outputId": "9983afd3-c3ca-41bc-d88e-b75b45f9ecbb"
      },
      "outputs": [
        {
          "name": "stdout",
          "output_type": "stream",
          "text": [
            "'My name is St\\xe5le'\n"
          ]
        }
      ],
      "source": [
        "x = ascii(\"My name is Ståle\")\n",
        "print(x)"
      ]
    },
    {
      "cell_type": "code",
      "execution_count": null,
      "metadata": {
        "id": "gYz58d_9b0vR",
        "outputId": "27f25717-1cf5-4cd5-c364-84b105ab2027"
      },
      "outputs": [
        {
          "name": "stdout",
          "output_type": "stream",
          "text": [
            "'Horse in chinese is \\u9a6c'\n"
          ]
        }
      ],
      "source": [
        "x = ascii(\"Horse in chinese is 马\")\n",
        "print(x)"
      ]
    },
    {
      "cell_type": "code",
      "execution_count": null,
      "metadata": {
        "id": "GYnbX1KAb0vR",
        "outputId": "e0fe98da-d36f-4276-a7f5-301a75445e78"
      },
      "outputs": [
        {
          "name": "stdout",
          "output_type": "stream",
          "text": [
            "Horse in chinese is 马\n"
          ]
        }
      ],
      "source": [
        "x = \"Horse in chinese is 马\"\n",
        "print(x)"
      ]
    },
    {
      "cell_type": "markdown",
      "metadata": {
        "id": "A0tmhDc7b0vR"
      },
      "source": [
        "## BIN()\n",
        "\n",
        "The bin() function returns the binary version of a given integer. The result will always start with the prefix 0b."
      ]
    },
    {
      "cell_type": "code",
      "execution_count": null,
      "metadata": {
        "id": "BjPTcRmub0vR",
        "outputId": "786778c2-a4ec-4fea-d185-223fc1eb7c04"
      },
      "outputs": [
        {
          "name": "stdout",
          "output_type": "stream",
          "text": [
            "0b1100100\n"
          ]
        }
      ],
      "source": [
        "n = bin(100)\n",
        "print(n)"
      ]
    },
    {
      "cell_type": "code",
      "execution_count": null,
      "metadata": {
        "id": "pIBqSFk8b0vR",
        "outputId": "4d3e7eca-ecb8-4313-c754-c7de9a40c3cc"
      },
      "outputs": [
        {
          "name": "stdout",
          "output_type": "stream",
          "text": [
            "0b11001000\n"
          ]
        }
      ],
      "source": [
        "n = bin(200)\n",
        "print(n)"
      ]
    },
    {
      "cell_type": "markdown",
      "metadata": {
        "id": "eOye1ojDb0vR"
      },
      "source": [
        "## BOOL()\n",
        "\n",
        "The bool() function returns the Boolean value of a specified object."
      ]
    },
    {
      "cell_type": "code",
      "execution_count": null,
      "metadata": {
        "colab": {
          "base_uri": "https://localhost:8080/"
        },
        "id": "MKTfgvnOb0vS",
        "outputId": "ef493d22-0428-433d-8b35-e17f80da08a5"
      },
      "outputs": [
        {
          "name": "stdout",
          "output_type": "stream",
          "text": [
            "True\n"
          ]
        }
      ],
      "source": [
        "x = bool(1)\n",
        "print(x)"
      ]
    },
    {
      "cell_type": "code",
      "execution_count": null,
      "metadata": {
        "colab": {
          "base_uri": "https://localhost:8080/"
        },
        "id": "UYD1SFZ1b0vS",
        "outputId": "4e06b06e-b39c-484b-a171-12a467af7390"
      },
      "outputs": [
        {
          "name": "stdout",
          "output_type": "stream",
          "text": [
            "False\n"
          ]
        }
      ],
      "source": [
        "x = bool(0)\n",
        "print(x)"
      ]
    },
    {
      "cell_type": "markdown",
      "metadata": {
        "id": "a6cTGnjfb0vS"
      },
      "source": [
        "## Bytes\n",
        "\n",
        "The bytes() function returns a bytes object. You can convert objects to byte objects or create empty byte objects of the specified size.\n",
        "\n",
        "The difference between bytes() and bytearray() is that bytes() returns an object that cannot be modified, and bytearray() returns an object that can be modified.\n",
        "\n",
        "How is it used? __bytes(x, encoding, error)__\n",
        "\n",
        "* __x:__ A source to use when creating the bytes object. If it is an integer, an empty bytes object of the specified size will be created. If it's a string, be sure to specify the source encoding.\n",
        "* __encoding:__ The encoding of the string.\n",
        "* __error:__ Specify what to do if encoding fails."
      ]
    },
    {
      "cell_type": "code",
      "execution_count": null,
      "metadata": {
        "id": "Bu13kHwIb0vS",
        "outputId": "258c31f6-e1b3-43c3-88bc-5380fb13eb2e"
      },
      "outputs": [
        {
          "name": "stdout",
          "output_type": "stream",
          "text": [
            "b'\\x00\\x00\\x00\\x00'\n"
          ]
        }
      ],
      "source": [
        "x = bytes(4)\n",
        "print(x)"
      ]
    },
    {
      "cell_type": "code",
      "execution_count": null,
      "metadata": {
        "id": "cHuB7neib0vS",
        "outputId": "9f24b6f0-f192-4d79-ab8c-7b54422deb91"
      },
      "outputs": [
        {
          "name": "stdout",
          "output_type": "stream",
          "text": [
            "b'Hello my friend'\n"
          ]
        }
      ],
      "source": [
        "x = bytes('Hello my friend', 'UTF-8')\n",
        "print(x)"
      ]
    },
    {
      "cell_type": "code",
      "execution_count": null,
      "metadata": {
        "id": "ZlzbcFcMb0vS",
        "outputId": "e36a3763-be0b-495e-ed71-d717385b5341"
      },
      "outputs": [
        {
          "ename": "TypeError",
          "evalue": "string argument without an encoding",
          "output_type": "error",
          "traceback": [
            "\u001b[1;31m---------------------------------------------------------------------------\u001b[0m",
            "\u001b[1;31mTypeError\u001b[0m                                 Traceback (most recent call last)",
            "Input \u001b[1;32mIn [24]\u001b[0m, in \u001b[0;36m<cell line: 1>\u001b[1;34m()\u001b[0m\n\u001b[1;32m----> 1\u001b[0m x \u001b[38;5;241m=\u001b[39m \u001b[38;5;28;43mbytes\u001b[39;49m\u001b[43m(\u001b[49m\u001b[38;5;124;43m'\u001b[39;49m\u001b[38;5;124;43mHola que tal\u001b[39;49m\u001b[38;5;124;43m'\u001b[39;49m\u001b[43m)\u001b[49m\n\u001b[0;32m      2\u001b[0m \u001b[38;5;28mprint\u001b[39m(x)\n",
            "\u001b[1;31mTypeError\u001b[0m: string argument without an encoding"
          ]
        }
      ],
      "source": [
        "x = bytes('Hola que tal')\n",
        "print(x)"
      ]
    },
    {
      "cell_type": "markdown",
      "metadata": {
        "id": "Sy7iJv0Lb0vT"
      },
      "source": [
        "## CALLABLE()\n",
        "\n",
        "The callable() function returns True if the specified object is callable; otherwise it returns False."
      ]
    },
    {
      "cell_type": "code",
      "execution_count": null,
      "metadata": {
        "id": "D7UA4W9eb0vT",
        "outputId": "4c349321-9f63-4c79-d7bb-a121e60c3474"
      },
      "outputs": [
        {
          "name": "stdout",
          "output_type": "stream",
          "text": [
            "True\n"
          ]
        }
      ],
      "source": [
        "def x():\n",
        "    a = 5\n",
        "\n",
        "print(callable(x))"
      ]
    },
    {
      "cell_type": "code",
      "execution_count": null,
      "metadata": {
        "id": "-KeRW9ohb0vT",
        "outputId": "0c0b3a36-7ff5-473c-c4f6-46b91eb0fae2"
      },
      "outputs": [
        {
          "name": "stdout",
          "output_type": "stream",
          "text": [
            "False\n"
          ]
        }
      ],
      "source": [
        "x = 5\n",
        "\n",
        "print(callable(x))"
      ]
    },
    {
      "cell_type": "markdown",
      "metadata": {
        "id": "tGEEmLVGb0vT"
      },
      "source": [
        "## CHR()\n",
        "\n",
        "The chr() function returns the character that represents the specified unicode."
      ]
    },
    {
      "cell_type": "code",
      "execution_count": null,
      "metadata": {
        "id": "Hsb04nYRb0vT",
        "outputId": "1c6f26f9-aabc-4597-f9da-48b5e1563858"
      },
      "outputs": [
        {
          "name": "stdout",
          "output_type": "stream",
          "text": [
            "*\n"
          ]
        }
      ],
      "source": [
        "x = chr(42)\n",
        "print(x)"
      ]
    },
    {
      "cell_type": "code",
      "execution_count": null,
      "metadata": {
        "id": "WVFnHG9nb0vT",
        "outputId": "8d2bb2dd-847a-4f74-dacc-a07ae5bcd31a"
      },
      "outputs": [
        {
          "name": "stdout",
          "output_type": "stream",
          "text": [
            "^\n"
          ]
        }
      ],
      "source": [
        "x = chr(94)\n",
        "print(x)"
      ]
    },
    {
      "cell_type": "code",
      "execution_count": null,
      "metadata": {
        "id": "qJzOA1tAb0vT",
        "outputId": "4aecb579-2749-43b5-b953-ee1e24d746d0"
      },
      "outputs": [
        {
          "name": "stdout",
          "output_type": "stream",
          "text": [
            "8\n"
          ]
        }
      ],
      "source": [
        "x = chr(56)\n",
        "print(x)"
      ]
    },
    {
      "cell_type": "markdown",
      "metadata": {
        "id": "3mmFCGi1b0vU"
      },
      "source": [
        "## COMPILE()\n",
        "\n",
        "The compile() function returns the specified source as a code object, ready to be executed.\n",
        "\n",
        "How is it used? __compile(source, filename, mode, flag, dont_inherit, optimize)__\n",
        "\n",
        "* __source:__ Required. The source to compile can be a String, a Bytes object or an AST object\n",
        "* __filename:__ Required. The name of the file that the source comes from. If the source doesn't come from a file, you can write whatever you want\n",
        "* __mode:__ Required. __eval__ if the source is a single expression, __exec__ if the source is a statement block, __single__ if the source is a single interactive statement.\n",
        "* __flag:__ Optional. How to compile the source. Default 0\n",
        "* __dont_inherit:__ Optional. How to compile the source. Default False\n",
        "* __optimize:__ Optional. Defines the optimization level of the compiler. Default -1"
      ]
    },
    {
      "cell_type": "code",
      "execution_count": null,
      "metadata": {
        "id": "oK0rzmJGb0vU",
        "outputId": "4d739a6d-f7a2-493d-a592-5f102f021066"
      },
      "outputs": [
        {
          "name": "stdout",
          "output_type": "stream",
          "text": [
            "55\n",
            "88\n"
          ]
        }
      ],
      "source": [
        "x = compile('print(55)\\nprint(88)', 'test', 'exec')\n",
        "exec(x)"
      ]
    },
    {
      "cell_type": "code",
      "execution_count": null,
      "metadata": {
        "id": "WsZlh4d6b0vU",
        "outputId": "e7cc7e6b-81a0-4e65-afaf-05d963e5f507"
      },
      "outputs": [
        {
          "name": "stdout",
          "output_type": "stream",
          "text": [
            "55\n"
          ]
        }
      ],
      "source": [
        "x = compile('print(55)', 'test', 'eval')\n",
        "exec(x)"
      ]
    },
    {
      "cell_type": "markdown",
      "metadata": {
        "id": "n7yN9rOBb0vU"
      },
      "source": [
        "## COMPLEX()\n",
        "\n",
        "The complex() function returns a complex number by specifying a real number and an imaginary number.\n",
        "\n",
        "How is it used? __complex(real, imaginary)__"
      ]
    },
    {
      "cell_type": "code",
      "execution_count": null,
      "metadata": {
        "id": "i12XTe8ob0vU",
        "outputId": "a1b88294-cd9f-45a6-e3a0-aaa15fde8577"
      },
      "outputs": [
        {
          "name": "stdout",
          "output_type": "stream",
          "text": [
            "(3+5j)\n"
          ]
        }
      ],
      "source": [
        "x = complex('3+5j')\n",
        "print(x)"
      ]
    },
    {
      "cell_type": "code",
      "execution_count": null,
      "metadata": {
        "id": "eWzVdxDqb0vU",
        "outputId": "90e57af5-638b-40ed-fb0c-4309706bf6a6"
      },
      "outputs": [
        {
          "name": "stdout",
          "output_type": "stream",
          "text": [
            "(3+5j)\n"
          ]
        }
      ],
      "source": [
        "x = complex(3, 5)\n",
        "print(x)"
      ]
    },
    {
      "cell_type": "markdown",
      "metadata": {
        "id": "j0dfZ2T7b0vU"
      },
      "source": [
        "## DELATTR()\n",
        "\n",
        "The delattr() function will remove the specified attribute from the specified object.\n",
        "\n",
        "How is it used? __delattr(object, attribute)__"
      ]
    },
    {
      "cell_type": "code",
      "execution_count": null,
      "metadata": {
        "id": "TNjs6XEdb0vV"
      },
      "outputs": [],
      "source": [
        "class Person:\n",
        "    name = \"Antonela\"\n",
        "    age = 28\n",
        "    country = \"Chile\""
      ]
    },
    {
      "cell_type": "code",
      "execution_count": null,
      "metadata": {
        "id": "K44WZGJXb0vV",
        "outputId": "c73ff4c4-731e-43f1-ee11-99b1f302ed6e"
      },
      "outputs": [
        {
          "name": "stdout",
          "output_type": "stream",
          "text": [
            "Antonela\n"
          ]
        }
      ],
      "source": [
        "print(Person.name)"
      ]
    },
    {
      "cell_type": "code",
      "execution_count": null,
      "metadata": {
        "id": "KWV69iHAb0vX",
        "outputId": "768efd9a-6b9e-4522-cf91-725835100e95"
      },
      "outputs": [
        {
          "name": "stdout",
          "output_type": "stream",
          "text": [
            "28\n"
          ]
        }
      ],
      "source": [
        "print(Person.age)"
      ]
    },
    {
      "cell_type": "code",
      "execution_count": null,
      "metadata": {
        "id": "Hql0_YMyb0vX",
        "outputId": "38f42914-8de9-41b1-e6d1-032e15d36e19"
      },
      "outputs": [
        {
          "name": "stdout",
          "output_type": "stream",
          "text": [
            "Chile\n"
          ]
        }
      ],
      "source": [
        "print(Person.country)"
      ]
    },
    {
      "cell_type": "code",
      "execution_count": 1,
      "metadata": {
        "id": "flD5b20Kb0vY"
      },
      "outputs": [
        {
          "ename": "NameError",
          "evalue": "name 'Person' is not defined",
          "output_type": "error",
          "traceback": [
            "\u001b[1;31m---------------------------------------------------------------------------\u001b[0m",
            "\u001b[1;31mNameError\u001b[0m                                 Traceback (most recent call last)",
            "Cell \u001b[1;32mIn[1], line 1\u001b[0m\n\u001b[1;32m----> 1\u001b[0m \u001b[38;5;28mdelattr\u001b[39m(\u001b[43mPerson\u001b[49m, \u001b[38;5;124m'\u001b[39m\u001b[38;5;124mage\u001b[39m\u001b[38;5;124m'\u001b[39m)\n",
            "\u001b[1;31mNameError\u001b[0m: name 'Person' is not defined"
          ]
        }
      ],
      "source": [
        "delattr(Person, 'age')"
      ]
    },
    {
      "cell_type": "code",
      "execution_count": null,
      "metadata": {
        "id": "UUNyJxpKb0vY",
        "outputId": "7650a8a0-eca6-45aa-ad36-e800ffc7f7d6"
      },
      "outputs": [
        {
          "ename": "AttributeError",
          "evalue": "type object 'Person' has no attribute 'age'",
          "output_type": "error",
          "traceback": [
            "\u001b[1;31m---------------------------------------------------------------------------\u001b[0m",
            "\u001b[1;31mAttributeError\u001b[0m                            Traceback (most recent call last)",
            "Input \u001b[1;32mIn [39]\u001b[0m, in \u001b[0;36m<cell line: 1>\u001b[1;34m()\u001b[0m\n\u001b[1;32m----> 1\u001b[0m \u001b[38;5;28mprint\u001b[39m(\u001b[43mPerson\u001b[49m\u001b[38;5;241;43m.\u001b[39;49m\u001b[43mage\u001b[49m)\n",
            "\u001b[1;31mAttributeError\u001b[0m: type object 'Person' has no attribute 'age'"
          ]
        }
      ],
      "source": [
        "print(Person.age)"
      ]
    },
    {
      "cell_type": "code",
      "execution_count": null,
      "metadata": {
        "id": "8jA1F4dRb0vY"
      },
      "outputs": [],
      "source": [
        "delattr(Person, 'country')"
      ]
    },
    {
      "cell_type": "code",
      "execution_count": null,
      "metadata": {
        "id": "ru6uQnCxb0vY",
        "outputId": "fa7cfffe-46a8-41ad-9028-bd9f690eab9e"
      },
      "outputs": [
        {
          "ename": "AttributeError",
          "evalue": "type object 'Person' has no attribute 'country'",
          "output_type": "error",
          "traceback": [
            "\u001b[1;31m---------------------------------------------------------------------------\u001b[0m",
            "\u001b[1;31mAttributeError\u001b[0m                            Traceback (most recent call last)",
            "Input \u001b[1;32mIn [41]\u001b[0m, in \u001b[0;36m<cell line: 1>\u001b[1;34m()\u001b[0m\n\u001b[1;32m----> 1\u001b[0m \u001b[38;5;28mprint\u001b[39m(\u001b[43mPerson\u001b[49m\u001b[38;5;241;43m.\u001b[39;49m\u001b[43mcountry\u001b[49m)\n",
            "\u001b[1;31mAttributeError\u001b[0m: type object 'Person' has no attribute 'country'"
          ]
        }
      ],
      "source": [
        "print(Person.country)"
      ]
    },
    {
      "cell_type": "markdown",
      "metadata": {
        "id": "PQdVGnT8b0vY"
      },
      "source": [
        "## DICT()\n",
        "\n",
        "The dict() function creates a dictionary. A dictionary is an unordered, modifiable and indexed collection."
      ]
    },
    {
      "cell_type": "code",
      "execution_count": null,
      "metadata": {
        "id": "e5Mx_XXib0vY",
        "outputId": "90b4c698-5d22-4326-aaad-0dd1a255ec17"
      },
      "outputs": [
        {
          "data": {
            "text/plain": [
              "{'name': 'Antonela', 'age': 28, 'country': 'Chile'}"
            ]
          },
          "execution_count": 42,
          "metadata": {},
          "output_type": "execute_result"
        }
      ],
      "source": [
        "x = dict(name = \"Antonela\", age = 28, country = \"Chile\")\n",
        "x"
      ]
    },
    {
      "cell_type": "markdown",
      "metadata": {
        "id": "gACldNaWb0vY"
      },
      "source": [
        "## DIR()\n",
        "\n",
        "The dir() function returns all the properties and methods of the specified object, without the values.\n",
        "This function will return all properties and methods, including built-in properties that are default for all objects."
      ]
    },
    {
      "cell_type": "code",
      "execution_count": null,
      "metadata": {
        "id": "tDHh3XiAb0vY",
        "outputId": "c5756294-bbfb-49f6-9bbe-797822d871f0"
      },
      "outputs": [
        {
          "name": "stdout",
          "output_type": "stream",
          "text": [
            "['__class__', '__delattr__', '__dict__', '__dir__', '__doc__', '__eq__', '__format__', '__ge__', '__getattribute__', '__gt__', '__hash__', '__init__', '__init_subclass__', '__le__', '__lt__', '__module__', '__ne__', '__new__', '__reduce__', '__reduce_ex__', '__repr__', '__setattr__', '__sizeof__', '__str__', '__subclasshook__', '__weakref__', 'age', 'country', 'name']\n"
          ]
        }
      ],
      "source": [
        "class Person:\n",
        "    name = \"Antonela\"\n",
        "    age = 28\n",
        "    country = \"Chile\"\n",
        "\n",
        "print(dir(Person))"
      ]
    },
    {
      "cell_type": "markdown",
      "metadata": {
        "id": "X0JYv4iEb0vZ"
      },
      "source": [
        "## DIVMOD()\n",
        "\n",
        "The divmod() function returns a tuple containing the quotient and remainder when argument1 (dividend) is divided by argument2 (divisor)."
      ]
    },
    {
      "cell_type": "code",
      "execution_count": null,
      "metadata": {
        "id": "26be4BnPb0vZ",
        "outputId": "369a8674-29aa-4fd7-ba81-415f5da2743b"
      },
      "outputs": [
        {
          "name": "stdout",
          "output_type": "stream",
          "text": [
            "(2, 1)\n"
          ]
        }
      ],
      "source": [
        "x = divmod(5, 2)\n",
        "print(x)"
      ]
    },
    {
      "cell_type": "code",
      "execution_count": null,
      "metadata": {
        "id": "WuIo_pPxb0vZ",
        "outputId": "6704f0de-8a7e-4a54-d522-03aec49c5cb3"
      },
      "outputs": [
        {
          "name": "stdout",
          "output_type": "stream",
          "text": [
            "(2, 2)\n"
          ]
        }
      ],
      "source": [
        "x = divmod(8, 3)\n",
        "print(x)"
      ]
    },
    {
      "cell_type": "markdown",
      "metadata": {
        "id": "bREnKkm_b0vZ"
      },
      "source": [
        "## ENUMERATE()\n",
        "\n",
        "The enumerate() function takes a collection (for example, a tuple) and returns it as an enumerate object.\n",
        "The enumerate() function adds a counter as the key of the enumerate object."
      ]
    },
    {
      "cell_type": "code",
      "execution_count": null,
      "metadata": {
        "id": "FlLDpJp3b0vZ",
        "outputId": "5e01784c-8bb7-4e76-feab-56bf6624c1a9"
      },
      "outputs": [
        {
          "name": "stdout",
          "output_type": "stream",
          "text": [
            "[(0, 'Hi'), (1, 'Bye'), (2, 'Python'), (3, 'Bitcoin')]\n"
          ]
        }
      ],
      "source": [
        "x = ('Hi', 'Bye', 'Python', 'Bitcoin')\n",
        "y = enumerate(x)\n",
        "print(list(y))"
      ]
    },
    {
      "cell_type": "markdown",
      "metadata": {
        "id": "7aEKlcIFb0vZ"
      },
      "source": [
        "## EVAL()\n",
        "\n",
        "The eval() function evaluates the specified expression, if the expression is a legal Python statement it will be executed."
      ]
    },
    {
      "cell_type": "code",
      "execution_count": null,
      "metadata": {
        "id": "uBCdsB6tb0vZ",
        "outputId": "acfda3a3-7c5a-4707-85a9-46d1c43af7bc"
      },
      "outputs": [
        {
          "name": "stdout",
          "output_type": "stream",
          "text": [
            "55\n"
          ]
        }
      ],
      "source": [
        "x = 'print(55)'\n",
        "eval(x)"
      ]
    },
    {
      "cell_type": "markdown",
      "metadata": {
        "id": "Mk-rXvuLb0vZ"
      },
      "source": [
        "## EXEC()\n",
        "\n",
        "The exec() function executes the specified Python code.\n",
        "The exec() function accepts large blocks of code, unlike the eval() function which only accepts a single expression"
      ]
    },
    {
      "cell_type": "code",
      "execution_count": null,
      "metadata": {
        "id": "yRtADa1pb0vZ",
        "outputId": "9a09a8f6-64f1-4ec0-f030-20a767718cb0"
      },
      "outputs": [
        {
          "name": "stdout",
          "output_type": "stream",
          "text": [
            "Football\n"
          ]
        }
      ],
      "source": [
        "x = 'sport = \"Football\"\\nprint(sport)'\n",
        "exec(x)"
      ]
    },
    {
      "cell_type": "code",
      "execution_count": null,
      "metadata": {
        "id": "0qmMFEdfb0va",
        "outputId": "b06dc04f-e6d7-482b-f9a3-0bb35a40eb1e"
      },
      "outputs": [
        {
          "name": "stdout",
          "output_type": "stream",
          "text": [
            "Messi\n"
          ]
        }
      ],
      "source": [
        "x = 'player = \"Messi\"\\nprint(player)'\n",
        "exec(x)"
      ]
    },
    {
      "cell_type": "markdown",
      "metadata": {
        "id": "Ted6Ttnhb0va"
      },
      "source": [
        "## FILTER()\n",
        "\n",
        "The filter() function returns an iterator where elements are filtered through a function to test whether the element is accepted or not.\n",
        "\n",
        "How is it used? __filter(function, iterable)__\n",
        "* __function:__ A function to execute for each element in the iterable\n",
        "* __iterable:__ The iterable where the filter is to be applied"
      ]
    },
    {
      "cell_type": "code",
      "execution_count": null,
      "metadata": {
        "id": "UJt88fWWb0va",
        "outputId": "5809c141-415c-4c24-9cd8-afe881db6b9f"
      },
      "outputs": [
        {
          "name": "stdout",
          "output_type": "stream",
          "text": [
            "18\n",
            "24\n",
            "32\n"
          ]
        }
      ],
      "source": [
        "ages = [5, 12, 17, 18, 24, 32]\n",
        "\n",
        "def myFunc(x):\n",
        "    if x < 18:\n",
        "        return False\n",
        "    else:\n",
        "        return True\n",
        "\n",
        "adults = filter(myFunc, ages)\n",
        "\n",
        "for x in adults:\n",
        "    print(x)"
      ]
    },
    {
      "cell_type": "markdown",
      "metadata": {
        "id": "agM2pI-Rb0va"
      },
      "source": [
        "## FLOAT()\n",
        "\n",
        "The float() function converts the specified value to a float number (with a comma)"
      ]
    },
    {
      "cell_type": "code",
      "execution_count": null,
      "metadata": {
        "id": "t-KXmm_1b0va",
        "outputId": "db679c7d-1ede-464a-c8b1-ddb19f3b50d0"
      },
      "outputs": [
        {
          "name": "stdout",
          "output_type": "stream",
          "text": [
            "8.1\n"
          ]
        }
      ],
      "source": [
        "x = float(\"8.10\")\n",
        "print(x)"
      ]
    },
    {
      "cell_type": "code",
      "execution_count": null,
      "metadata": {
        "id": "SPhGqwJTb0va",
        "outputId": "3a7c68f0-5187-4c45-a382-2f9fe451a875"
      },
      "outputs": [
        {
          "name": "stdout",
          "output_type": "stream",
          "text": [
            "20.0\n"
          ]
        }
      ],
      "source": [
        "x = float(\"20\")\n",
        "print(x)"
      ]
    },
    {
      "cell_type": "markdown",
      "metadata": {
        "id": "qw7s-Ul2b0va"
      },
      "source": [
        "## FORMAT()\n",
        "\n",
        "The format() method formats the specified values and inserts them into the string placeholder.\n",
        "\n",
        "The placeholder is defined by braces: {}.\n",
        "\n",
        "The format() method returns the formatted string."
      ]
    },
    {
      "cell_type": "code",
      "execution_count": null,
      "metadata": {
        "id": "OcPkh_f6b0vb"
      },
      "outputs": [],
      "source": [
        "txt1 = \"My name is {fname}, I am {age} years old\".format(fname = \"Juan\", age = 34)\n",
        "txt2 = \"My name is {0}, I am {1} years old\".format(\"Juan\",34)\n",
        "txt3 = \"My name is {}, I am {} years old\".format(\"Juan\",34)"
      ]
    },
    {
      "cell_type": "code",
      "execution_count": null,
      "metadata": {
        "id": "O_sivk4Eb0vb",
        "outputId": "5d081d37-4947-4256-b498-2c811356e57b"
      },
      "outputs": [
        {
          "name": "stdout",
          "output_type": "stream",
          "text": [
            "My name is Juan, I am 34 years old\n"
          ]
        }
      ],
      "source": [
        "print(txt1)"
      ]
    },
    {
      "cell_type": "code",
      "execution_count": null,
      "metadata": {
        "id": "oQqRp56Ub0vb",
        "outputId": "63a7aa15-c865-45fc-fc3a-a3be8f9ebfe7"
      },
      "outputs": [
        {
          "name": "stdout",
          "output_type": "stream",
          "text": [
            "My name is Juan, I am 34 years old\n"
          ]
        }
      ],
      "source": [
        "print(txt2)"
      ]
    },
    {
      "cell_type": "code",
      "execution_count": null,
      "metadata": {
        "id": "noGt81Ipb0vb",
        "outputId": "6e72b68f-39da-4f3c-ce3e-46a1f98411be"
      },
      "outputs": [
        {
          "name": "stdout",
          "output_type": "stream",
          "text": [
            "My name is Juan, I am 34 years old\n"
          ]
        }
      ],
      "source": [
        "print(txt3)"
      ]
    },
    {
      "cell_type": "markdown",
      "metadata": {
        "id": "RojFMnKAb0vb"
      },
      "source": [
        "## FROZENSET()\n",
        "\n",
        "The frozenset() function returns an immutable frozenset object (which is like a set object, only immutable)."
      ]
    },
    {
      "cell_type": "code",
      "execution_count": null,
      "metadata": {
        "id": "t6gFu-_Ib0vb",
        "outputId": "81b34369-b0a8-4388-c6c5-d152132748b0"
      },
      "outputs": [
        {
          "name": "stdout",
          "output_type": "stream",
          "text": [
            "frozenset({'is', 'Python', 'the', 'best'})\n"
          ]
        }
      ],
      "source": [
        "mylist = ['Python', 'is', 'the', 'best']\n",
        "x = frozenset(mylist)\n",
        "print(x)"
      ]
    },
    {
      "cell_type": "markdown",
      "metadata": {
        "id": "PDstyZjJb0vb"
      },
      "source": [
        "## GETATTR()\n",
        "\n",
        "The getattr() function returns the value of the specified attribute of the specified object."
      ]
    },
    {
      "cell_type": "code",
      "execution_count": null,
      "metadata": {
        "id": "Di_W9wAQb0vb"
      },
      "outputs": [],
      "source": [
        "class Person:\n",
        "    name = \"Pedro\"\n",
        "    age = 40\n",
        "    country = \"Argentina\""
      ]
    },
    {
      "cell_type": "code",
      "execution_count": null,
      "metadata": {
        "id": "ZQonMrGUb0vc",
        "outputId": "7d040680-ef1f-4475-dfd9-b7cc4841d7ba"
      },
      "outputs": [
        {
          "name": "stdout",
          "output_type": "stream",
          "text": [
            "Argentina\n"
          ]
        }
      ],
      "source": [
        "x = getattr(Person, 'country', 'Japon')\n",
        "print(x)"
      ]
    },
    {
      "cell_type": "markdown",
      "metadata": {
        "id": "n288uy-Kb0vc"
      },
      "source": [
        "## GLOBALS()\n",
        "\n",
        "The globals() function returns the global symbol table as a dictionary."
      ]
    },
    {
      "cell_type": "code",
      "execution_count": null,
      "metadata": {
        "id": "u2V-QIEbb0vc",
        "outputId": "01c5c91f-692c-4f88-bffd-49d3746182c4"
      },
      "outputs": [
        {
          "name": "stdout",
          "output_type": "stream",
          "text": [
            "Automatically created module for IPython interactive environment\n"
          ]
        }
      ],
      "source": [
        "x = globals()\n",
        "print(x['__doc__'])"
      ]
    },
    {
      "cell_type": "markdown",
      "metadata": {
        "id": "zBzsw3PQb0vc"
      },
      "source": [
        "## HELP()\n",
        "\n",
        "The help() method calls Python's built-in help system."
      ]
    },
    {
      "cell_type": "code",
      "execution_count": null,
      "metadata": {
        "id": "WmM2YerHb0vc",
        "outputId": "b7624e8d-9cc8-4754-8650-12468f3f9f56"
      },
      "outputs": [
        {
          "name": "stdout",
          "output_type": "stream",
          "text": [
            "Help on built-in function print in module builtins:\n",
            "\n",
            "print(...)\n",
            "    print(value, ..., sep=' ', end='\\n', file=sys.stdout, flush=False)\n",
            "    \n",
            "    Prints the values to a stream, or to sys.stdout by default.\n",
            "    Optional keyword arguments:\n",
            "    file:  a file-like object (stream); defaults to the current sys.stdout.\n",
            "    sep:   string inserted between values, default a space.\n",
            "    end:   string appended after the last value, default a newline.\n",
            "    flush: whether to forcibly flush the stream.\n",
            "\n"
          ]
        }
      ],
      "source": [
        "help(print)"
      ]
    },
    {
      "cell_type": "code",
      "execution_count": null,
      "metadata": {
        "id": "nOaaPus5b0vc",
        "outputId": "460ee5eb-d202-434e-b39d-65a04510018b"
      },
      "outputs": [
        {
          "name": "stdout",
          "output_type": "stream",
          "text": [
            "Help on built-in function pow in math:\n",
            "\n",
            "math.pow = pow(x, y, /)\n",
            "    Return x**y (x to the power of y).\n",
            "\n"
          ]
        }
      ],
      "source": [
        "from math import *\n",
        "help('math.pow')"
      ]
    },
    {
      "cell_type": "markdown",
      "metadata": {
        "id": "DvkgtKMob0vc"
      },
      "source": [
        "## HEX()\n",
        "\n",
        "The hex() function converts the specified number to a hexadecimal value."
      ]
    },
    {
      "cell_type": "code",
      "execution_count": null,
      "metadata": {
        "id": "ZdD7l9U9b0vc",
        "outputId": "3d06dae0-eb2c-440c-98b0-7ec957bd2b93"
      },
      "outputs": [
        {
          "name": "stdout",
          "output_type": "stream",
          "text": [
            "0xc\n"
          ]
        }
      ],
      "source": [
        "x = hex(12)\n",
        "print(x)"
      ]
    },
    {
      "cell_type": "code",
      "execution_count": null,
      "metadata": {
        "id": "HGPh5PpDb0vc",
        "outputId": "91ecbfbf-0836-4d3b-c9f0-6d071349b778"
      },
      "outputs": [
        {
          "name": "stdout",
          "output_type": "stream",
          "text": [
            "0x0\n"
          ]
        }
      ],
      "source": [
        "x = hex(0)\n",
        "print(x)"
      ]
    },
    {
      "cell_type": "code",
      "execution_count": null,
      "metadata": {
        "id": "wd0JqCI0b0vd",
        "outputId": "ad82fa54-08fe-4abb-d97e-5d324b207efd"
      },
      "outputs": [
        {
          "name": "stdout",
          "output_type": "stream",
          "text": [
            "0xff\n"
          ]
        }
      ],
      "source": [
        "x = hex(255)\n",
        "print(x)"
      ]
    },
    {
      "cell_type": "markdown",
      "metadata": {
        "id": "5MGCAihQb0vd"
      },
      "source": [
        "## ID()\n",
        "\n",
        "The id() function returns a unique id for the specified object.\n",
        "All objects in Python have their own unique ID.\n",
        "The id is assigned to the object when it is created."
      ]
    },
    {
      "cell_type": "code",
      "execution_count": null,
      "metadata": {
        "id": "Fem37Ionb0vd",
        "outputId": "cb0ce139-3766-4f67-beb9-8631a9bb4ba5"
      },
      "outputs": [
        {
          "name": "stdout",
          "output_type": "stream",
          "text": [
            "1972088039600\n"
          ]
        }
      ],
      "source": [
        "x = ('Hi', 'Bye', 'one', 'Martin')\n",
        "y = id(x)\n",
        "print(y)"
      ]
    },
    {
      "cell_type": "code",
      "execution_count": null,
      "metadata": {
        "id": "NvqP3rvrb0vd",
        "outputId": "5964c2d4-7005-403d-8583-124fec675231"
      },
      "outputs": [
        {
          "name": "stdout",
          "output_type": "stream",
          "text": [
            "1972088030144\n"
          ]
        }
      ],
      "source": [
        "x = ('Hi', 'Bye')\n",
        "y = id(x)\n",
        "print(y)"
      ]
    },
    {
      "cell_type": "markdown",
      "metadata": {
        "id": "LqU4XITXb0vd"
      },
      "source": [
        "## INPUT()\n",
        "\n",
        "Allows the user to enter values."
      ]
    },
    {
      "cell_type": "code",
      "execution_count": null,
      "metadata": {
        "id": "_R38CLXqb0vd",
        "outputId": "386d2899-aead-4531-c015-4754bb4288e6",
        "scrolled": true
      },
      "outputs": [
        {
          "name": "stdout",
          "output_type": "stream",
          "text": [
            "Enter your name: Pablo\n"
          ]
        }
      ],
      "source": [
        "x = input('Enter your name: ')"
      ]
    },
    {
      "cell_type": "code",
      "execution_count": null,
      "metadata": {
        "id": "ZYRi4cOMb0vd",
        "outputId": "02ea383d-567c-4aa2-fc02-4483c44dcde8"
      },
      "outputs": [
        {
          "name": "stdout",
          "output_type": "stream",
          "text": [
            "Hi,  Pablo , how are you?\n"
          ]
        }
      ],
      "source": [
        "print('Hi, ', x, ', how are you?')"
      ]
    },
    {
      "cell_type": "markdown",
      "metadata": {
        "id": "jJPE4npkb0vd"
      },
      "source": [
        "## INT()\n",
        "\n",
        "The int() function converts the specified value to an integer."
      ]
    },
    {
      "cell_type": "code",
      "execution_count": null,
      "metadata": {
        "id": "Y40YErVxb0ve",
        "outputId": "762bcfe8-bab3-4365-df5b-f16a474a2588"
      },
      "outputs": [
        {
          "name": "stdout",
          "output_type": "stream",
          "text": [
            "int(225.25) is: 225\n"
          ]
        }
      ],
      "source": [
        "print(\"int(225.25) is:\", int(225.25))"
      ]
    },
    {
      "cell_type": "markdown",
      "metadata": {
        "id": "dBccQCPXb0ve"
      },
      "source": [
        "## ISINSTANCE()\n",
        "\n",
        "The isinstance() function returns True if the specified object is of the specified type; otherwise, False.\n",
        "If the type parameter is a tuple, this function will return True if the object is one of the tuple's types."
      ]
    },
    {
      "cell_type": "code",
      "execution_count": null,
      "metadata": {
        "id": "-RE4P5w9b0ve",
        "outputId": "5782601f-340a-43b6-a80d-dccdb55fdf8c"
      },
      "outputs": [
        {
          "name": "stdout",
          "output_type": "stream",
          "text": [
            "True\n"
          ]
        }
      ],
      "source": [
        "x = isinstance(10, int)\n",
        "print(x)"
      ]
    },
    {
      "cell_type": "code",
      "execution_count": null,
      "metadata": {
        "id": "cBjDjKVEb0ve",
        "outputId": "01cf7bcb-974e-4d76-e367-96f0246d4330"
      },
      "outputs": [
        {
          "name": "stdout",
          "output_type": "stream",
          "text": [
            "False\n"
          ]
        }
      ],
      "source": [
        "x = isinstance('Hi', int)\n",
        "print(x)"
      ]
    },
    {
      "cell_type": "code",
      "execution_count": null,
      "metadata": {
        "id": "zzn4nSh2b0ve",
        "outputId": "f3094d94-52b8-4014-bf0e-a4baf5d2fc83"
      },
      "outputs": [
        {
          "name": "stdout",
          "output_type": "stream",
          "text": [
            "True\n"
          ]
        }
      ],
      "source": [
        "x = isinstance(\"Hello\", (float, int, str, list, dict, tuple))\n",
        "print(x)"
      ]
    },
    {
      "cell_type": "code",
      "execution_count": null,
      "metadata": {
        "id": "hVraKlaWb0ve",
        "outputId": "abe0544a-d1ee-4a37-9d7d-d19aee932862"
      },
      "outputs": [
        {
          "name": "stdout",
          "output_type": "stream",
          "text": [
            "False\n"
          ]
        }
      ],
      "source": [
        "x = isinstance(\"Hello\", (float, int, list, dict, tuple))\n",
        "print(x)"
      ]
    },
    {
      "cell_type": "markdown",
      "metadata": {
        "id": "TbKnwX8Tb0ve"
      },
      "source": [
        "## ITER()\n",
        "\n",
        "The iter() function returns an iterator object."
      ]
    },
    {
      "cell_type": "code",
      "execution_count": null,
      "metadata": {
        "id": "c6KxDEEJb0ve",
        "outputId": "0d09d3d4-3b0e-41fb-86f0-5e725b63981c"
      },
      "outputs": [
        {
          "name": "stdout",
          "output_type": "stream",
          "text": [
            "Hola\n",
            "Chau\n",
            "Jaja\n",
            "Mar\n"
          ]
        }
      ],
      "source": [
        "x = iter([\"Hola\", \"Chau\", \"Jaja\", \"Mar\"])\n",
        "print(next(x))\n",
        "print(next(x))\n",
        "print(next(x))\n",
        "print(next(x))"
      ]
    },
    {
      "cell_type": "markdown",
      "metadata": {
        "id": "MCO48s9Sb0vf"
      },
      "source": [
        "## LEN()\n",
        "\n",
        "The len() function returns the number of elements in an object."
      ]
    },
    {
      "cell_type": "code",
      "execution_count": null,
      "metadata": {
        "id": "rGYtX2HBb0vf",
        "outputId": "2df66b74-26d9-443d-c9a5-326cd8394626"
      },
      "outputs": [
        {
          "data": {
            "text/plain": [
              "12"
            ]
          },
          "execution_count": 95,
          "metadata": {},
          "output_type": "execute_result"
        }
      ],
      "source": [
        "my_text = 'How are you?'\n",
        "len(my_text)"
      ]
    },
    {
      "cell_type": "code",
      "execution_count": null,
      "metadata": {
        "id": "DMraYMHmb0vf",
        "outputId": "a5acbbaf-5f9b-421f-9f19-9b3adce1b9dd"
      },
      "outputs": [
        {
          "data": {
            "text/plain": [
              "4"
            ]
          },
          "execution_count": 96,
          "metadata": {},
          "output_type": "execute_result"
        }
      ],
      "source": [
        "my_list = ['Hola', 'Chau', 'Jaja', 'Mar']\n",
        "len(my_list)"
      ]
    },
    {
      "cell_type": "markdown",
      "metadata": {
        "id": "weiMcb9Tb0vf"
      },
      "source": [
        "## LIST()\n",
        "\n",
        "A list is an ordered and modifiable collection. In Python, lists are enclosed in square brackets."
      ]
    },
    {
      "cell_type": "code",
      "execution_count": null,
      "metadata": {
        "id": "VuNYRNIqb0vf",
        "outputId": "9c84171a-3000-4852-b91d-1613b77366eb"
      },
      "outputs": [
        {
          "name": "stdout",
          "output_type": "stream",
          "text": [
            "['Hola', 'Chau', 'Jaja', 'Mar']\n"
          ]
        }
      ],
      "source": [
        "my_list = ['Hola', 'Chau', 'Jaja', 'Mar']\n",
        "print(my_list)"
      ]
    },
    {
      "cell_type": "markdown",
      "metadata": {
        "id": "7Q0D9jsBb0vf"
      },
      "source": [
        "## LOCALS()\n",
        "\n",
        "The locals() function returns the local symbol table as a dictionary.\n",
        "A symbol table contains necessary information about this notebook."
      ]
    },
    {
      "cell_type": "code",
      "execution_count": null,
      "metadata": {
        "id": "Ui9En9L4b0vf",
        "outputId": "62e75e45-f1c2-46b0-8455-f53093b9d832"
      },
      "outputs": [
        {
          "name": "stdout",
          "output_type": "stream",
          "text": [
            "Automatically created module for IPython interactive environment\n"
          ]
        }
      ],
      "source": [
        "x = locals()\n",
        "print(x['__doc__'])"
      ]
    },
    {
      "cell_type": "markdown",
      "metadata": {
        "id": "CuzXl0Wwb0vg"
      },
      "source": [
        "## MAP()\n",
        "\n",
        "The map() function executes a specific function for each element in an iterable. The item is sent to the function as a parameter."
      ]
    },
    {
      "cell_type": "code",
      "execution_count": null,
      "metadata": {
        "id": "hskIC2Ydb0vg",
        "outputId": "3b6a5112-cc1c-487f-bd10-94c521149c85"
      },
      "outputs": [
        {
          "name": "stdout",
          "output_type": "stream",
          "text": [
            "['HolaMar', 'ChauTierra', 'JajaJojo']\n"
          ]
        }
      ],
      "source": [
        "def myfunc(a, b):\n",
        "    return a + b\n",
        "\n",
        "x = map(myfunc, ('Hola', 'Chau', 'Jaja'), ('Mar', 'Tierra', 'Jojo'))\n",
        "\n",
        "print(list(x))"
      ]
    },
    {
      "cell_type": "markdown",
      "metadata": {
        "id": "ga4xhZpGb0vg"
      },
      "source": [
        "## MAX()\n",
        "\n",
        "The max() method returns the maximum value of a sequence of parameters."
      ]
    },
    {
      "cell_type": "code",
      "execution_count": null,
      "metadata": {
        "id": "3Y5b2NNGb0vg",
        "outputId": "36d31d7e-a938-49b5-a1e5-e5f20c3d9fa7"
      },
      "outputs": [
        {
          "data": {
            "text/plain": [
              "1000"
            ]
          },
          "execution_count": 103,
          "metadata": {},
          "output_type": "execute_result"
        }
      ],
      "source": [
        "max(80, 100, 1000)"
      ]
    },
    {
      "cell_type": "code",
      "execution_count": null,
      "metadata": {
        "id": "WPbNChPmb0vg",
        "outputId": "1e00ce1c-3bf4-42ae-fa0b-a08001e52223"
      },
      "outputs": [
        {
          "data": {
            "text/plain": [
              "700"
            ]
          },
          "execution_count": 104,
          "metadata": {},
          "output_type": "execute_result"
        }
      ],
      "source": [
        "max(500, 600, 700, 600, 500)"
      ]
    },
    {
      "cell_type": "markdown",
      "metadata": {
        "id": "RXjICTlRb0vg"
      },
      "source": [
        "## MIN()\n",
        "\n",
        "The min() method returns the minimum value of a sequence of parameters."
      ]
    },
    {
      "cell_type": "code",
      "execution_count": null,
      "metadata": {
        "id": "PeHeO5YDb0vg",
        "outputId": "3499a7e9-d134-441d-caae-6806f320f27b"
      },
      "outputs": [
        {
          "data": {
            "text/plain": [
              "80"
            ]
          },
          "execution_count": 105,
          "metadata": {},
          "output_type": "execute_result"
        }
      ],
      "source": [
        "min(80, 100, 1000)"
      ]
    },
    {
      "cell_type": "code",
      "execution_count": null,
      "metadata": {
        "id": "8dcwKjz5b0vh",
        "outputId": "898345f6-bd80-4ea1-8240-5f2fc5a12c7c"
      },
      "outputs": [
        {
          "data": {
            "text/plain": [
              "-1"
            ]
          },
          "execution_count": 106,
          "metadata": {},
          "output_type": "execute_result"
        }
      ],
      "source": [
        "min(10, 100, 1, -1, 1000)"
      ]
    },
    {
      "cell_type": "markdown",
      "metadata": {
        "id": "BQpuHR8jb0vh"
      },
      "source": [
        "## NEXT()\n",
        "\n",
        "The next() function returns the next element in an iterator.\n",
        "A default return value can be added, to return if the iterable has completed.\n",
        "How is it used?\n",
        "next(iterable, default)\n",
        "iterable: Required. An iterable object.\n",
        "default: Optional. A default value to return if the iterable has timed out."
      ]
    },
    {
      "cell_type": "code",
      "execution_count": null,
      "metadata": {
        "id": "Ql7Z4_ydb0vh",
        "outputId": "2eeffad0-d976-4bcd-da67-6c1ed325acf7"
      },
      "outputs": [
        {
          "name": "stdout",
          "output_type": "stream",
          "text": [
            "One\n",
            "Two\n",
            "Three\n",
            "Default value\n"
          ]
        }
      ],
      "source": [
        "mylist = iter([\"One\", \"Two\", \"Three\"])\n",
        "x = next(mylist, \"Default value\")\n",
        "print(x)\n",
        "x = next(mylist, \"Default value\")\n",
        "print(x)\n",
        "x = next(mylist, \"Default value\")\n",
        "print(x)\n",
        "x = next(mylist, \"Default value\")\n",
        "print(x)"
      ]
    },
    {
      "cell_type": "markdown",
      "metadata": {
        "id": "cdihDLBKb0vh"
      },
      "source": [
        "## OBJECT()\n",
        "\n",
        "The object() function returns an empty object."
      ]
    },
    {
      "cell_type": "code",
      "execution_count": null,
      "metadata": {
        "id": "Twk4WpBXb0vh",
        "outputId": "0c0a3e02-c900-4e66-d0e8-11ead73cee51"
      },
      "outputs": [
        {
          "name": "stdout",
          "output_type": "stream",
          "text": [
            "<object object at 0x000001CB280B9CE0>\n"
          ]
        }
      ],
      "source": [
        "x = object()\n",
        "print(x)"
      ]
    },
    {
      "cell_type": "markdown",
      "metadata": {
        "id": "sic0TkKeb0vh"
      },
      "source": [
        "## OCT()\n",
        "\n",
        "The oct() function converts an integer to an octal string.\n",
        "Octal strings in Python are prefixed with 0o."
      ]
    },
    {
      "cell_type": "code",
      "execution_count": null,
      "metadata": {
        "id": "sNGngZiRb0vi",
        "outputId": "0cf1d451-6314-44e4-8447-4a551730bca4"
      },
      "outputs": [
        {
          "name": "stdout",
          "output_type": "stream",
          "text": [
            "0o14\n"
          ]
        }
      ],
      "source": [
        "x = oct(12)\n",
        "print(x)"
      ]
    },
    {
      "cell_type": "code",
      "execution_count": null,
      "metadata": {
        "id": "eDLSzI4gb0vi",
        "outputId": "d8f799ff-6c07-4881-cac2-f7991514177b"
      },
      "outputs": [
        {
          "name": "stdout",
          "output_type": "stream",
          "text": [
            "0o50\n"
          ]
        }
      ],
      "source": [
        "x = oct(40)\n",
        "print(x)"
      ]
    },
    {
      "cell_type": "markdown",
      "metadata": {
        "id": "CxFze49ab0vi"
      },
      "source": [
        "## ORD()\n",
        "\n",
        "The ord() function returns the number that represents the Unicode code of a specified character."
      ]
    },
    {
      "cell_type": "code",
      "execution_count": null,
      "metadata": {
        "id": "SgRwSOZeb0vi",
        "outputId": "b794efd1-0b3c-46d9-b44c-49c09383628d"
      },
      "outputs": [
        {
          "name": "stdout",
          "output_type": "stream",
          "text": [
            "108\n"
          ]
        }
      ],
      "source": [
        "x = ord(\"l\")\n",
        "print(x)"
      ]
    },
    {
      "cell_type": "code",
      "execution_count": null,
      "metadata": {
        "id": "8oXsw1bjb0vi",
        "outputId": "6ee00682-fc5a-4a1d-d02d-8f66019c8622"
      },
      "outputs": [
        {
          "name": "stdout",
          "output_type": "stream",
          "text": [
            "42\n"
          ]
        }
      ],
      "source": [
        "x = ord(\"*\")\n",
        "print(x)"
      ]
    },
    {
      "cell_type": "markdown",
      "metadata": {
        "id": "6rSDYqKsb0vi"
      },
      "source": [
        "## POW()\n",
        "\n",
        "The pow() function returns the value of x to the power of y (xy).\n",
        "If a third parameter is present, it returns x to the power of y, modulo z."
      ]
    },
    {
      "cell_type": "code",
      "execution_count": null,
      "metadata": {
        "id": "SkmLXibSb0vi",
        "outputId": "a2413994-9741-4319-9513-082d11413b04"
      },
      "outputs": [
        {
          "name": "stdout",
          "output_type": "stream",
          "text": [
            "64.0\n"
          ]
        }
      ],
      "source": [
        "x = pow(4, 3)\n",
        "print(x)"
      ]
    },
    {
      "cell_type": "markdown",
      "metadata": {
        "id": "fMtmEWT3b0vi"
      },
      "source": [
        "## PRINT()\n",
        "\n",
        "The print() function prints the specified message to the screen or other standard output device.\n",
        "The message can be a string, or any other object, the object will be converted to a string before being written to the screen."
      ]
    },
    {
      "cell_type": "code",
      "execution_count": null,
      "metadata": {
        "id": "QHI_wC7yb0vi",
        "outputId": "2fcdd909-2e8f-4abb-d654-a6e2fb7dd1e8"
      },
      "outputs": [
        {
          "name": "stdout",
          "output_type": "stream",
          "text": [
            "Hello World\n"
          ]
        }
      ],
      "source": [
        "print(\"Hello World\")"
      ]
    },
    {
      "cell_type": "markdown",
      "metadata": {
        "id": "USd6yy7Cb0vj"
      },
      "source": [
        "## RANGE()\n",
        "\n",
        "The range() function returns a sequence of numbers, starting from 0 by default, incrementing by 1 (default), and stopping before a specified number."
      ]
    },
    {
      "cell_type": "code",
      "execution_count": null,
      "metadata": {
        "id": "wFBS1h5Bb0vj",
        "outputId": "4e80a757-53d3-4126-d8f2-c969e982387f"
      },
      "outputs": [
        {
          "name": "stdout",
          "output_type": "stream",
          "text": [
            "0\n",
            "1\n",
            "2\n",
            "3\n",
            "4\n",
            "5\n"
          ]
        }
      ],
      "source": [
        "x = range(6)\n",
        "for n in x:\n",
        "    print(n)"
      ]
    },
    {
      "cell_type": "code",
      "execution_count": null,
      "metadata": {
        "id": "_ScdpTD7b0vj",
        "outputId": "1fa9998b-5dab-4005-953e-696f9183dd66"
      },
      "outputs": [
        {
          "name": "stdout",
          "output_type": "stream",
          "text": [
            "3\n",
            "4\n",
            "5\n"
          ]
        }
      ],
      "source": [
        "x = range(3, 6)\n",
        "for n in x:\n",
        "    print(n)"
      ]
    },
    {
      "cell_type": "code",
      "execution_count": null,
      "metadata": {
        "id": "LlQgDRzQb0vj",
        "outputId": "9a276fee-d903-49a0-926b-cf7a2af74c99"
      },
      "outputs": [
        {
          "name": "stdout",
          "output_type": "stream",
          "text": [
            "3\n",
            "5\n",
            "7\n",
            "9\n",
            "11\n",
            "13\n",
            "15\n",
            "17\n",
            "19\n"
          ]
        }
      ],
      "source": [
        "x = range(3, 20, 2)\n",
        "for n in x:\n",
        "    print(n)"
      ]
    },
    {
      "cell_type": "markdown",
      "metadata": {
        "id": "uD2P2Cfib0vj"
      },
      "source": [
        "## REVERSED()\n",
        "\n",
        "The reversed() function returns a reversed iterator object."
      ]
    },
    {
      "cell_type": "code",
      "execution_count": null,
      "metadata": {
        "id": "uG6yi_0Rb0vj",
        "outputId": "83d528cc-0d6f-4240-f1ac-3e8b15686602"
      },
      "outputs": [
        {
          "name": "stdout",
          "output_type": "stream",
          "text": [
            "4\n",
            "3\n",
            "2\n",
            "1\n"
          ]
        }
      ],
      "source": [
        "ny_numbers = [1, 2, 3, 4]\n",
        "ny_numbers_reversed = reversed(ny_numbers)\n",
        "for x in ny_numbers_reversed:\n",
        "    print(x)"
      ]
    },
    {
      "cell_type": "markdown",
      "metadata": {
        "id": "HvcZkmJtb0vj"
      },
      "source": [
        "## ROUND()\n",
        "\n",
        "The round() function is used to round decimals."
      ]
    },
    {
      "cell_type": "code",
      "execution_count": null,
      "metadata": {
        "id": "nnwe_CCEb0vk",
        "outputId": "f813bc68-e31d-4c26-8da0-946e5521ec6f"
      },
      "outputs": [
        {
          "name": "stdout",
          "output_type": "stream",
          "text": [
            "3.14\n"
          ]
        }
      ],
      "source": [
        "x = round(3.14159265358979323846264338327950288419716939937510582097494459230781640628620, 2)\n",
        "print(x)"
      ]
    },
    {
      "cell_type": "code",
      "execution_count": null,
      "metadata": {
        "id": "TGNV1-kjb0vk",
        "outputId": "fd13bcbe-4c58-41e1-f5a6-d1a580b6d691"
      },
      "outputs": [
        {
          "name": "stdout",
          "output_type": "stream",
          "text": [
            "3.1415926536\n"
          ]
        }
      ],
      "source": [
        "x = round(3.14159265358979323846264338327950288419716939937510582097494459230781640628620, 10)\n",
        "print(x)"
      ]
    },
    {
      "cell_type": "code",
      "execution_count": null,
      "metadata": {
        "id": "0bsXTIleb0vk",
        "outputId": "ca36cd30-b577-4a64-954b-c30ce8d1d14f"
      },
      "outputs": [
        {
          "name": "stdout",
          "output_type": "stream",
          "text": [
            "3\n"
          ]
        }
      ],
      "source": [
        "x = round(3.14159265358979323846264338327950288419716939937510582097494459230781640628620)\n",
        "print(x)"
      ]
    },
    {
      "cell_type": "markdown",
      "metadata": {
        "id": "N1jlEuzdb0vk"
      },
      "source": [
        "## SET()\n",
        "\n",
        "A Set() is a set that is neither ordered nor indexed. In Python, sets are enclosed in braces."
      ]
    },
    {
      "cell_type": "code",
      "execution_count": null,
      "metadata": {
        "id": "HmEswgL8b0vk",
        "outputId": "74ccfe8f-11b8-41c5-8bc3-41a19ce358ef"
      },
      "outputs": [
        {
          "name": "stdout",
          "output_type": "stream",
          "text": [
            "Bye\n",
            "Hi\n"
          ]
        }
      ],
      "source": [
        "greeting = {\"Hi\", \"Bye\"}\n",
        "\n",
        "for x in greeting:\n",
        "    print(x)"
      ]
    },
    {
      "cell_type": "markdown",
      "metadata": {
        "id": "LY4IskwRb0vk"
      },
      "source": [
        "## SLICE()\n",
        "\n",
        "The slice() function returns a slice object.\n",
        "A slice object is used to specify how to slice a stream. You can specify where to start the cut and where to end."
      ]
    },
    {
      "cell_type": "code",
      "execution_count": null,
      "metadata": {
        "id": "_wSBuIOsb0vk",
        "outputId": "61c0cda9-0a8f-483d-834d-94c7c51d8744"
      },
      "outputs": [
        {
          "name": "stdout",
          "output_type": "stream",
          "text": [
            "('a', 'b', 'c', 'd', 'e')\n"
          ]
        }
      ],
      "source": [
        "a = (\"a\", \"b\", \"c\", \"d\", \"e\", \"f\", \"g\", \"h\")\n",
        "x = slice(5)\n",
        "print(a[x])"
      ]
    },
    {
      "cell_type": "code",
      "execution_count": null,
      "metadata": {
        "id": "eDtiUJiUb0vl",
        "outputId": "04cc63be-a38c-4c12-eacb-292cb258b5ec"
      },
      "outputs": [
        {
          "name": "stdout",
          "output_type": "stream",
          "text": [
            "('d', 'e', 'f', 'g', 'h')\n"
          ]
        }
      ],
      "source": [
        "x = slice(3,8)\n",
        "print(a[x])"
      ]
    },
    {
      "cell_type": "markdown",
      "metadata": {
        "id": "-pMwBMKMb0vl"
      },
      "source": [
        "## SORTED()\n",
        "\n",
        "The sort() method sorts the list ascending by default.\n",
        "You can also perform a function to decide the sorting criteria."
      ]
    },
    {
      "cell_type": "code",
      "execution_count": null,
      "metadata": {
        "id": "w4mGL4F7b0vl",
        "outputId": "120c1292-5d30-452c-ff5c-abcee0443909"
      },
      "outputs": [
        {
          "name": "stdout",
          "output_type": "stream",
          "text": [
            "['Volvo', 'Ford', 'BMW']\n"
          ]
        }
      ],
      "source": [
        "cars = ['Ford', 'BMW', 'Volvo']\n",
        "cars.sort(reverse=True)\n",
        "print(cars)"
      ]
    },
    {
      "cell_type": "markdown",
      "metadata": {
        "id": "E2h_t8wWb0vl"
      },
      "source": [
        "## STR()\n",
        "\n",
        "The str() function converts the specified value to a string."
      ]
    },
    {
      "cell_type": "code",
      "execution_count": null,
      "metadata": {
        "id": "VDDdpWDkb0vl",
        "outputId": "fda6241a-36fc-4245-a61c-2b2141233c3f"
      },
      "outputs": [
        {
          "name": "stdout",
          "output_type": "stream",
          "text": [
            "3.5\n"
          ]
        },
        {
          "data": {
            "text/plain": [
              "str"
            ]
          },
          "execution_count": 128,
          "metadata": {},
          "output_type": "execute_result"
        }
      ],
      "source": [
        "x = str(3.5)\n",
        "print(x)\n",
        "type(x)"
      ]
    },
    {
      "cell_type": "markdown",
      "metadata": {
        "id": "872HsCkrb0vl"
      },
      "source": [
        "## SUM()\n",
        "\n",
        "The sum() function returns a number, the sum of all elements in an iterable."
      ]
    },
    {
      "cell_type": "code",
      "execution_count": null,
      "metadata": {
        "id": "BiFNWnmEb0vl",
        "outputId": "aed040e4-796d-4738-e7ed-67c23a8d413a"
      },
      "outputs": [
        {
          "name": "stdout",
          "output_type": "stream",
          "text": [
            "15\n"
          ]
        }
      ],
      "source": [
        "a = (1, 2, 3, 4, 5)\n",
        "x = sum(a)\n",
        "print(x)"
      ]
    },
    {
      "cell_type": "markdown",
      "metadata": {
        "id": "Ws8_5HPZb0vl"
      },
      "source": [
        "## TUPLE()\n",
        "\n",
        "A tuple is an ordered and immutable collection. In Python, tuples are enclosed in square brackets."
      ]
    },
    {
      "cell_type": "code",
      "execution_count": null,
      "metadata": {
        "id": "R7pxnO7ob0vm",
        "outputId": "1e2e1200-fa29-4df0-e79d-24c0e15df4be"
      },
      "outputs": [
        {
          "name": "stdout",
          "output_type": "stream",
          "text": [
            "('Hola', 'Chau', 'Buenas noches')\n"
          ]
        },
        {
          "data": {
            "text/plain": [
              "tuple"
            ]
          },
          "execution_count": 130,
          "metadata": {},
          "output_type": "execute_result"
        }
      ],
      "source": [
        "greeting = (\"Hola\", \"Chau\", \"Buenas noches\")\n",
        "print(greeting)\n",
        "type(greeting)"
      ]
    },
    {
      "cell_type": "markdown",
      "metadata": {
        "id": "s294uRjfb0vm"
      },
      "source": [
        "## TYPE()\n",
        "\n",
        "The type() function returns the type of the object or returns a new type object based on the passed arguments."
      ]
    },
    {
      "cell_type": "code",
      "execution_count": null,
      "metadata": {
        "id": "hqbbluW-b0vm",
        "outputId": "d5f4bbdd-23f2-47c4-8c3e-a93600ae6dde"
      },
      "outputs": [
        {
          "name": "stdout",
          "output_type": "stream",
          "text": [
            "<class 'list'>\n",
            "<class 'dict'>\n",
            "<class '__main__.Foo'>\n"
          ]
        }
      ],
      "source": [
        "numbers_list = [1, 2]\n",
        "print(type(numbers_list))\n",
        "\n",
        "numbers_dict = {1: 'one', 2: 'two'}\n",
        "print(type(numbers_dict))\n",
        "\n",
        "class Foo:\n",
        "    a = 0\n",
        "\n",
        "foo = Foo()\n",
        "print(type(foo))"
      ]
    },
    {
      "cell_type": "markdown",
      "metadata": {
        "id": "wA4uq6ydb0vm"
      },
      "source": [
        "## VARS()\n",
        "\n",
        "The vars() function returns the dic attribute of an object.\n",
        "The dict attribute is a dictionary containing the modifiable attributes of the object."
      ]
    },
    {
      "cell_type": "code",
      "execution_count": null,
      "metadata": {
        "id": "qVtQc-CTb0vm",
        "outputId": "10e9b794-56f8-476b-da88-6b0a718c7620"
      },
      "outputs": [
        {
          "name": "stdout",
          "output_type": "stream",
          "text": [
            "{'__module__': '__main__', 'name': 'Juan', 'age': 21, 'country': 'England', '__dict__': <attribute '__dict__' of 'Person' objects>, '__weakref__': <attribute '__weakref__' of 'Person' objects>, '__doc__': None}\n"
          ]
        }
      ],
      "source": [
        "class Person:\n",
        "    name = \"Juan\"\n",
        "    age = 21\n",
        "    country = \"England\"\n",
        "\n",
        "x = vars(Person)\n",
        "print(x)"
      ]
    },
    {
      "cell_type": "markdown",
      "metadata": {
        "id": "pe57j54Ab0vm"
      },
      "source": [
        "## ZIP()\n",
        "\n",
        "The zip() function returns a zip object, which is an iterator of tuples where the first element in each passed iterator is matched, and then the second element in each passed iterator is matched, etc.\n",
        "If the passed iterators have different lengths, the iterator with the fewest elements decides the length of the new iterator."
      ]
    },
    {
      "cell_type": "code",
      "execution_count": null,
      "metadata": {
        "id": "YKq8_2aSb0vm",
        "outputId": "b46e0499-c7f9-4a17-c1be-1d468e5b63ec"
      },
      "outputs": [
        {
          "name": "stdout",
          "output_type": "stream",
          "text": [
            "(('Juan', 'Jesica'), ('Carlos', 'Cristina'), ('Miguel', 'Monica'))\n"
          ]
        }
      ],
      "source": [
        "a = (\"Juan\", \"Carlos\", \"Miguel\")\n",
        "b = (\"Jesica\", \"Cristina\", \"Monica\")\n",
        "\n",
        "x = zip(a, b)\n",
        "print(tuple(x))"
      ]
    },
    {
      "cell_type": "markdown",
      "metadata": {
        "id": "4nzfAuTub0vm"
      },
      "source": [
        "## __IMPORT__()\n",
        "\n",
        "__Import__() is a function that is called by the import statement.\n",
        "How to use: __import(name, globals=None, locals=None, fromlist=(), level=0)__\n",
        "\n",
        "* __name:__ the name of the module you want to import\n",
        "* __global and local:__ determines how to interpret the name\n",
        "* __fromlist:__ objects or submodules to be imported by name\n",
        "* __level:__ specifies whether absolute or relative imports are used"
      ]
    },
    {
      "cell_type": "code",
      "execution_count": null,
      "metadata": {
        "id": "ZZqt00R2b0vn",
        "outputId": "321ef344-dae9-48ae-b64d-abd2bfa06204"
      },
      "outputs": [
        {
          "name": "stdout",
          "output_type": "stream",
          "text": [
            "2.5\n"
          ]
        }
      ],
      "source": [
        "mathematics = __import__('math', globals(), locals(), [], 0)\n",
        "print(mathematics.fabs(-2.5))"
      ]
    },
    {
      "cell_type": "code",
      "execution_count": null,
      "metadata": {
        "id": "JfUP6F8Qb0vn"
      },
      "outputs": [],
      "source": []
    }
  ],
  "metadata": {
    "colab": {
      "collapsed_sections": [
        "R7TGeegNb0vP",
        "OVD2sl2nb0vP",
        "rsrERaWXb0vQ",
        "_uyShOMeb0vQ",
        "A0tmhDc7b0vR",
        "eOye1ojDb0vR",
        "a6cTGnjfb0vS",
        "Sy7iJv0Lb0vT",
        "tGEEmLVGb0vT",
        "3mmFCGi1b0vU",
        "n7yN9rOBb0vU",
        "j0dfZ2T7b0vU",
        "PQdVGnT8b0vY",
        "gACldNaWb0vY",
        "X0JYv4iEb0vZ",
        "bREnKkm_b0vZ",
        "7aEKlcIFb0vZ",
        "Mk-rXvuLb0vZ",
        "Ted6Ttnhb0va",
        "agM2pI-Rb0va",
        "qw7s-Ul2b0va",
        "RojFMnKAb0vb",
        "PDstyZjJb0vb",
        "n288uy-Kb0vc",
        "zBzsw3PQb0vc",
        "DvkgtKMob0vc",
        "5MGCAihQb0vd",
        "LqU4XITXb0vd",
        "jJPE4npkb0vd",
        "dBccQCPXb0ve",
        "TbKnwX8Tb0ve",
        "MCO48s9Sb0vf",
        "weiMcb9Tb0vf",
        "7Q0D9jsBb0vf",
        "CuzXl0Wwb0vg",
        "ga4xhZpGb0vg",
        "RXjICTlRb0vg",
        "BQpuHR8jb0vh",
        "cdihDLBKb0vh",
        "sic0TkKeb0vh",
        "CxFze49ab0vi",
        "6rSDYqKsb0vi",
        "fMtmEWT3b0vi",
        "USd6yy7Cb0vj",
        "uD2P2Cfib0vj",
        "HvcZkmJtb0vj",
        "N1jlEuzdb0vk",
        "LY4IskwRb0vk",
        "-pMwBMKMb0vl",
        "E2h_t8wWb0vl",
        "872HsCkrb0vl",
        "Ws8_5HPZb0vl",
        "s294uRjfb0vm",
        "wA4uq6ydb0vm",
        "pe57j54Ab0vm",
        "4nzfAuTub0vm"
      ],
      "include_colab_link": true,
      "provenance": []
    },
    "kernelspec": {
      "display_name": "cursoia",
      "language": "python",
      "name": "python3"
    },
    "language_info": {
      "codemirror_mode": {
        "name": "ipython",
        "version": 3
      },
      "file_extension": ".py",
      "mimetype": "text/x-python",
      "name": "python",
      "nbconvert_exporter": "python",
      "pygments_lexer": "ipython3",
      "version": "3.12.4"
    }
  },
  "nbformat": 4,
  "nbformat_minor": 0
}
