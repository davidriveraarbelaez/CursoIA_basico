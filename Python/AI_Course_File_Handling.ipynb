{
 "cells": [
  {
   "cell_type": "markdown",
   "metadata": {},
   "source": [
    "# File Handling in Python: Reading and Writing Files\n",
    "1. Introduction to File Handling\n",
    "File handling is an important part of programming, as it allows you to interact with files on your system. In Python, there are built-in functions that make file handling simple and efficient.\n",
    "\n",
    "Basic File Operations:\n",
    "-   Reading a file: Retrieve and display the contents of a file.\n",
    "-   Writing to a file: Save or append data to a file.\n",
    "-   Python provides various functions and methods to perform these operations in a clean and structured way."
   ]
  },
  {
   "cell_type": "markdown",
   "metadata": {},
   "source": [
    "2. Opening a File\n",
    "To work with files in Python, the first step is to open the file using the built-in open() function. This function requires at least one argument: the file name or path.\n",
    "\n",
    "Syntax:\n",
    "\n",
    "```python\n",
    "file = open(\"filename\", \"mode\")\n",
    "```\n",
    "\n",
    "-   The \"filename\" argument specifies the name of the file you want to open.\n",
    "-   The \"mode\" argument specifies the purpose of opening the file (read, write, append, etc.).\n",
    "    'r': Read (default mode).\n",
    "    'w': Write (creates a new file or overwrites existing content).\n",
    "    'a': Append (adds to the end of the file without overwriting).\n",
    "    'b': Binary mode (useful for non-text files).\n"
   ]
  },
  {
   "cell_type": "markdown",
   "metadata": {},
   "source": [
    "3. Reading Files\n",
    "There are several methods to read files:\n",
    "\n",
    "-   read(): Reads the entire content of a file.\n",
    "-   readline(): Reads a single line from the file.\n",
    "-   readlines(): Reads all lines into a list.\n",
    "\n",
    "**Example:** Reading a File"
   ]
  },
  {
   "cell_type": "code",
   "execution_count": null,
   "metadata": {},
   "outputs": [],
   "source": [
    "# Open the file in read mode\n",
    "file = open(\"example.txt\", \"r\")\n",
    "\n",
    "# Read the entire file content\n",
    "content = file.read()\n",
    "print(content)\n",
    "\n",
    "# Close the file after reading\n",
    "file.close()"
   ]
  },
  {
   "cell_type": "markdown",
   "metadata": {},
   "source": [
    "**Example:** Reading Line by Line"
   ]
  },
  {
   "cell_type": "code",
   "execution_count": null,
   "metadata": {},
   "outputs": [],
   "source": [
    "with open(\"example.txt\", \"r\") as file:\n",
    "    for line in file:\n",
    "        print(line.strip())  # strip() removes extra newlines"
   ]
  },
  {
   "cell_type": "markdown",
   "metadata": {},
   "source": [
    "4. Writing to a File\n",
    "You can write to a file using the following methods:\n",
    "\n",
    "-   write(): Writes a string to the file.\n",
    "-   writelines(): Writes a list of strings to the file.\n",
    "\n",
    "**Example:** Writing to a File"
   ]
  },
  {
   "cell_type": "code",
   "execution_count": null,
   "metadata": {},
   "outputs": [],
   "source": [
    "# Open the file in write mode\n",
    "file = open(\"example.txt\", \"w\")\n",
    "\n",
    "# Write content to the file\n",
    "file.write(\"This is the first line.\\n\")\n",
    "file.write(\"This is the second line.\")\n",
    "\n",
    "# Close the file after writing\n",
    "file.close()"
   ]
  },
  {
   "cell_type": "markdown",
   "metadata": {},
   "source": [
    "5. Appending to a File\n",
    "If you don't want to overwrite the contents of a file, use the 'a' mode to append content.\n",
    "\n",
    "**Example:** Appending to a File"
   ]
  },
  {
   "cell_type": "code",
   "execution_count": null,
   "metadata": {},
   "outputs": [],
   "source": [
    "with open(\"example.txt\", \"a\") as file:\n",
    "    file.write(\"\\nThis is an appended line.\")"
   ]
  },
  {
   "cell_type": "markdown",
   "metadata": {},
   "source": [
    "6. The with Statement\n",
    "The with statement in Python is used to simplify file handling and ensure that the file is closed automatically after its block of code has been executed.\n",
    "\n",
    "**Example:**"
   ]
  },
  {
   "cell_type": "code",
   "execution_count": null,
   "metadata": {},
   "outputs": [],
   "source": [
    "with open(\"example.txt\", \"r\") as file:\n",
    "    content = file.read()\n",
    "    print(content)\n",
    "# File is automatically closed after the block ends.\n"
   ]
  },
  {
   "cell_type": "markdown",
   "metadata": {},
   "source": [
    "Using the with statement eliminates the need for explicitly calling file.close()."
   ]
  },
  {
   "cell_type": "markdown",
   "metadata": {},
   "source": [
    "Exception Handling in Python\n",
    "7. What are Exceptions?\n",
    "Exceptions are errors that occur during the execution of a program. When Python encounters an error, it raises an exception. If not handled properly, exceptions will cause the program to terminate abruptly."
   ]
  },
  {
   "cell_type": "markdown",
   "metadata": {},
   "source": [
    "8. Try-Except Blocks\n",
    "In Python, you can handle exceptions using the try and except blocks.\n",
    "\n",
    "**Syntax:**\n",
    "\n",
    "```python\n",
    "try:\n",
    "    # Code that might raise an exception\n",
    "    risky_code()\n",
    "except ExceptionType:\n",
    "    # Code to handle the exception\n",
    "    print(\"An error occurred.\")\n",
    "```\n"
   ]
  },
  {
   "cell_type": "markdown",
   "metadata": {},
   "source": [
    "9. Example of Exception Handling\n",
    "\n",
    "**Example:** Handling FileNotFoundError\n"
   ]
  },
  {
   "cell_type": "code",
   "execution_count": null,
   "metadata": {},
   "outputs": [],
   "source": [
    "try:\n",
    "    with open(\"non_existent_file.txt\", \"r\") as file:\n",
    "        content = file.read()\n",
    "except FileNotFoundError:\n",
    "    print(\"The file was not found.\")"
   ]
  },
  {
   "cell_type": "markdown",
   "metadata": {},
   "source": [
    "Example: Handling Multiple Exceptions\n",
    "You can catch multiple exceptions by adding different except blocks."
   ]
  },
  {
   "cell_type": "code",
   "execution_count": null,
   "metadata": {},
   "outputs": [],
   "source": [
    "try:\n",
    "    number = int(input(\"Enter a number: \"))\n",
    "    result = 100 / number\n",
    "    print(f\"Result: {result}\")\n",
    "except ValueError:\n",
    "    print(\"Please enter a valid number.\")\n",
    "except ZeroDivisionError:\n",
    "    print(\"Cannot divide by zero.\")"
   ]
  },
  {
   "cell_type": "markdown",
   "metadata": {},
   "source": [
    "10. Finally Block\n",
    "The finally block is used to execute code no matter what—whether an exception occurs or not. This is useful for resource cleanup, such as closing files.\n",
    "\n",
    "**Example:**"
   ]
  },
  {
   "cell_type": "code",
   "execution_count": null,
   "metadata": {},
   "outputs": [],
   "source": [
    "try:\n",
    "    file = open(\"example.txt\", \"r\")\n",
    "    content = file.read()\n",
    "except FileNotFoundError:\n",
    "    print(\"File not found.\")\n",
    "finally:\n",
    "    file.close()  # This will always execute."
   ]
  },
  {
   "cell_type": "markdown",
   "metadata": {},
   "source": [
    "11. Raising Exceptions\n",
    "In some cases, you might want to raise an exception manually using the raise keyword.\n",
    "\n",
    "**Example:**\n"
   ]
  },
  {
   "cell_type": "code",
   "execution_count": 5,
   "metadata": {},
   "outputs": [
    {
     "name": "stdout",
     "output_type": "stream",
     "text": [
      "Access granted.\n"
     ]
    }
   ],
   "source": [
    "\n",
    "def check_age(age):\n",
    "    if age < 18:\n",
    "        raise ValueError(\"Age must be at least 18.\")\n",
    "    return \"Access granted.\"\n",
    "try:\n",
    "    print(check_age(19))\n",
    "except ValueError as e:\n",
    "    print(e)\n"
   ]
  },
  {
   "cell_type": "code",
   "execution_count": null,
   "metadata": {},
   "outputs": [],
   "source": []
  }
 ],
 "metadata": {
  "kernelspec": {
   "display_name": "Python 3",
   "language": "python",
   "name": "python3"
  },
  "language_info": {
   "codemirror_mode": {
    "name": "ipython",
    "version": 3
   },
   "file_extension": ".py",
   "mimetype": "text/x-python",
   "name": "python",
   "nbconvert_exporter": "python",
   "pygments_lexer": "ipython3",
   "version": "3.12.4"
  }
 },
 "nbformat": 4,
 "nbformat_minor": 2
}
