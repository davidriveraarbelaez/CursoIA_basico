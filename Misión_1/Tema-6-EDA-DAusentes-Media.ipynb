{
 "cells": [
  {
   "cell_type": "markdown",
   "metadata": {},
   "source": [
    "##Ejemplo \n",
    "\n",
    "En un conjunto de datos sobre el rendimiento de diferentes tipos de turbinas eólicas, si algunos registros de eficiencia están ausentes, se puede reemplazar esos valores con la media o mediana de los registros disponibles para mantener el conjunto de datos utilizable.\n"
   ]
  },
  {
   "cell_type": "code",
   "execution_count": null,
   "metadata": {},
   "outputs": [],
   "source": [
    "import pandas as pd\n",
    "import numpy as np"
   ]
  },
  {
   "cell_type": "code",
   "execution_count": null,
   "metadata": {},
   "outputs": [],
   "source": [
    "# Crear un DataFrame de ejemplo con valores ausentes\n",
    "data = {\n",
    "    'Turbina': ['A', 'B', 'C', 'D', 'E'],\n",
    "    'Eficiencia': [0.85, np.nan, 0.78, np.nan, 0.92]\n",
    "}\n",
    "df = pd.DataFrame(data)"
   ]
  },
  {
   "cell_type": "code",
   "execution_count": null,
   "metadata": {},
   "outputs": [],
   "source": [
    "# Mostrar el DataFrame original\n",
    "print(\"DataFrame original:\")\n",
    "print(df)"
   ]
  },
  {
   "cell_type": "code",
   "execution_count": null,
   "metadata": {},
   "outputs": [],
   "source": [
    "# Reemplazar valores ausentes con la media\n",
    "df_mean = df.copy()\n",
    "df_mean['Eficiencia'].fillna(df_mean['Eficiencia'].mean(), inplace=True)"
   ]
  },
  {
   "cell_type": "code",
   "execution_count": null,
   "metadata": {},
   "outputs": [],
   "source": [
    "# Reemplazar valores ausentes con la mediana\n",
    "df_median = df.copy()\n",
    "df_median['Eficiencia'].fillna(df_median['Eficiencia'].median(), inplace=True)"
   ]
  },
  {
   "cell_type": "code",
   "execution_count": 1,
   "metadata": {},
   "outputs": [
    {
     "name": "stdout",
     "output_type": "stream",
     "text": [
      "DataFrame original:\n",
      "  Turbina  Eficiencia\n",
      "0       A        0.85\n",
      "1       B         NaN\n",
      "2       C        0.78\n",
      "3       D         NaN\n",
      "4       E        0.92\n",
      "\n",
      "DataFrame con valores ausentes reemplazados por la media:\n",
      "  Turbina  Eficiencia\n",
      "0       A        0.85\n",
      "1       B        0.85\n",
      "2       C        0.78\n",
      "3       D        0.85\n",
      "4       E        0.92\n",
      "\n",
      "DataFrame con valores ausentes reemplazados por la mediana:\n",
      "  Turbina  Eficiencia\n",
      "0       A        0.85\n",
      "1       B        0.85\n",
      "2       C        0.78\n",
      "3       D        0.85\n",
      "4       E        0.92\n"
     ]
    },
    {
     "name": "stderr",
     "output_type": "stream",
     "text": [
      "C:\\Users\\david\\AppData\\Local\\Temp\\ipykernel_24724\\1578275606.py:17: FutureWarning: A value is trying to be set on a copy of a DataFrame or Series through chained assignment using an inplace method.\n",
      "The behavior will change in pandas 3.0. This inplace method will never work because the intermediate object on which we are setting values always behaves as a copy.\n",
      "\n",
      "For example, when doing 'df[col].method(value, inplace=True)', try using 'df.method({col: value}, inplace=True)' or df[col] = df[col].method(value) instead, to perform the operation inplace on the original object.\n",
      "\n",
      "\n",
      "  df_mean['Eficiencia'].fillna(df_mean['Eficiencia'].mean(), inplace=True)\n",
      "C:\\Users\\david\\AppData\\Local\\Temp\\ipykernel_24724\\1578275606.py:21: FutureWarning: A value is trying to be set on a copy of a DataFrame or Series through chained assignment using an inplace method.\n",
      "The behavior will change in pandas 3.0. This inplace method will never work because the intermediate object on which we are setting values always behaves as a copy.\n",
      "\n",
      "For example, when doing 'df[col].method(value, inplace=True)', try using 'df.method({col: value}, inplace=True)' or df[col] = df[col].method(value) instead, to perform the operation inplace on the original object.\n",
      "\n",
      "\n",
      "  df_median['Eficiencia'].fillna(df_median['Eficiencia'].median(), inplace=True)\n"
     ]
    }
   ],
   "source": [
    "# Mostrar los DataFrames modificados\n",
    "print(\"\\nDataFrame con valores ausentes reemplazados por la media:\")\n",
    "print(df_mean)\n",
    "\n",
    "print(\"\\nDataFrame con valores ausentes reemplazados por la mediana:\")\n",
    "print(df_median)"
   ]
  }
 ],
 "metadata": {
  "kernelspec": {
   "display_name": "cursoia",
   "language": "python",
   "name": "python3"
  },
  "language_info": {
   "codemirror_mode": {
    "name": "ipython",
    "version": 3
   },
   "file_extension": ".py",
   "mimetype": "text/x-python",
   "name": "python",
   "nbconvert_exporter": "python",
   "pygments_lexer": "ipython3",
   "version": "3.12.4"
  }
 },
 "nbformat": 4,
 "nbformat_minor": 2
}
