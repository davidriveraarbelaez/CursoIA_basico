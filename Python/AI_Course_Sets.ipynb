{
  "nbformat": 4,
  "nbformat_minor": 0,
  "metadata": {
    "colab": {
      "provenance": []
    },
    "kernelspec": {
      "name": "python3",
      "display_name": "Python 3"
    },
    "language_info": {
      "name": "python"
    }
  },
  "cells": [
    {
      "cell_type": "markdown",
      "source": [
        "1. **Introduction to Sets**\n",
        "\n",
        "What is a Set?\n",
        "A set in Python is an unordered collection of unique elements. Sets are defined by curly braces {} or the set() function. The key feature of a set is that it does not allow duplicate values and is useful when you need to eliminate duplicates or perform mathematical set operations like union, intersection, and difference.\n",
        "\n",
        "**Characteristics of Sets:**\n",
        "*  Unordered: Elements are not stored in any specific order.\n",
        "*  No duplicates: Each element in a set must be unique.\n",
        "*  Mutable: You can add or remove elements after the set is created, although the individual elements must be immutable (like numbers, strings, or tuples).\n",
        "*  No indexing: Since sets are unordered, they do not support indexing or slicing.\n",
        "\n",
        "**Example:**"
      ],
      "metadata": {
        "id": "1w9H72EIbFNp"
      }
    },
    {
      "cell_type": "code",
      "execution_count": null,
      "metadata": {
        "id": "xHLdEnPCbBQM"
      },
      "outputs": [],
      "source": [
        "# Creating a set\n",
        "fruits = {\"apple\", \"banana\", \"cherry\"}\n",
        "print(fruits)  # Output: {'apple', 'banana', 'cherry'}\n",
        "\n",
        "# Using the set() function to create a set\n",
        "empty_set = set()\n",
        "print(empty_set)  # Output: set()\n"
      ]
    },
    {
      "cell_type": "markdown",
      "source": [
        "2. **Basic Set Operations**\n",
        "\n",
        "*  **Adding Elements to a Set:** You can use the **add()** method to insert a single element into a set."
      ],
      "metadata": {
        "id": "9AhypHbebVv2"
      }
    },
    {
      "cell_type": "code",
      "source": [
        "fruits = {\"apple\", \"banana\"}\n",
        "fruits.add(\"orange\")\n",
        "print(fruits)  # Output: {'apple', 'banana', 'orange'}\n"
      ],
      "metadata": {
        "id": "ny_CTHRvbld5"
      },
      "execution_count": null,
      "outputs": []
    },
    {
      "cell_type": "markdown",
      "source": [
        "* **Removing Elements from a Set:**\n",
        "You can use the remove() or discard() methods to remove an element from a set.\n",
        "\n",
        "  *  **remove():** Raises a KeyError if the element is not found.\n",
        "  *  **discard():** Does not raise an error if the element is missing."
      ],
      "metadata": {
        "id": "Jq9lIz8ObpXM"
      }
    },
    {
      "cell_type": "code",
      "source": [
        "# Using remove()\n",
        "fruits.remove(\"banana\")\n",
        "print(fruits)  # Output: {'apple', 'orange'}\n",
        "\n",
        "# Using discard()\n",
        "fruits.discard(\"banana\")  # No error even if \"banana\" is not in the set\n"
      ],
      "metadata": {
        "id": "vtnchGe0b2yF"
      },
      "execution_count": null,
      "outputs": []
    },
    {
      "cell_type": "markdown",
      "source": [
        "*  **Checking Membership:**\n",
        "You can check if an element exists in a set using the **in** keyword."
      ],
      "metadata": {
        "id": "1EWBnfPAb4Cn"
      }
    },
    {
      "cell_type": "code",
      "source": [
        "if \"apple\" in fruits:\n",
        "    print(\"Apple is in the set\")\n"
      ],
      "metadata": {
        "id": "KhDWIsbFcANM"
      },
      "execution_count": null,
      "outputs": []
    },
    {
      "cell_type": "markdown",
      "source": [
        "*  **Removing All Elements:**\n",
        "The **clear()** method removes all elements from the set."
      ],
      "metadata": {
        "id": "8_57nXIQcBEA"
      }
    },
    {
      "cell_type": "code",
      "source": [
        "fruits.clear()\n",
        "print(fruits)  # Output: set()\n"
      ],
      "metadata": {
        "id": "zGn7MkRGcKj9"
      },
      "execution_count": null,
      "outputs": []
    },
    {
      "cell_type": "markdown",
      "source": [
        "3. Mathematical Set Operations\n",
        "Sets support standard mathematical operations like union, intersection, difference, and symmetric difference.\n",
        "\n",
        "* **Union:**\n",
        "The **union()** method or **|** operator returns a new set with all elements from both sets, excluding duplicates."
      ],
      "metadata": {
        "id": "0-gaVT9tcPE5"
      }
    },
    {
      "cell_type": "code",
      "source": [
        "set1 = {\"apple\", \"banana\", \"cherry\"}\n",
        "set2 = {\"cherry\", \"date\", \"elderberry\"}\n",
        "\n",
        "# Union using union()\n",
        "result = set1.union(set2)\n",
        "print(result)  # Output: {'apple', 'banana', 'cherry', 'date', 'elderberry'}\n",
        "\n",
        "# Union using |\n",
        "result = set1 | set2\n",
        "print(result)  # Output: {'apple', 'banana', 'cherry', 'date', 'elderberry'}\n"
      ],
      "metadata": {
        "id": "8VM7gkb7cYvh"
      },
      "execution_count": null,
      "outputs": []
    },
    {
      "cell_type": "markdown",
      "source": [
        "*  **Intersection:**\n",
        "The **intersection()** method or **&** operator returns a new set containing elements common to both sets."
      ],
      "metadata": {
        "id": "_ACM-tu-cZ_D"
      }
    },
    {
      "cell_type": "code",
      "source": [
        "result = set1.intersection(set2)\n",
        "print(result)  # Output: {'cherry'}\n",
        "\n",
        "# Intersection using &\n",
        "result = set1 & set2\n",
        "print(result)  # Output: {'cherry'}\n"
      ],
      "metadata": {
        "id": "HS5x2lAWcgn9"
      },
      "execution_count": null,
      "outputs": []
    },
    {
      "cell_type": "markdown",
      "source": [
        "*  Difference:\n",
        "The **difference()** method or **-** operator returns a new set containing elements that are in the first set but not in the second."
      ],
      "metadata": {
        "id": "sNU92EgOck3t"
      }
    },
    {
      "cell_type": "markdown",
      "source": [
        "* **Symmetric Difference:**\n",
        "The **symmetric_difference()** method or **^** operator returns a new set containing elements that are in either set but not in both."
      ],
      "metadata": {
        "id": "ER32wfIXcuQZ"
      }
    },
    {
      "cell_type": "code",
      "source": [
        "result = set1.symmetric_difference(set2)\n",
        "print(result)  # Output: {'apple', 'banana', 'date', 'elderberry'}\n",
        "\n",
        "# Symmetric Difference using ^\n",
        "result = set1 ^ set2\n",
        "print(result)  # Output: {'apple', 'banana', 'date', 'elderberry'}\n"
      ],
      "metadata": {
        "id": "Ey6Oc21sc2sC"
      },
      "execution_count": null,
      "outputs": []
    },
    {
      "cell_type": "markdown",
      "source": [
        "4. **Set Methods**\n",
        "Here are some common methods used with sets:\n",
        "\n",
        "*  **add():** Adds a single element to the set."
      ],
      "metadata": {
        "id": "SXnxEcDlc_T5"
      }
    },
    {
      "cell_type": "code",
      "source": [
        "fruits = {\"apple\", \"banana\"}\n",
        "fruits.add(\"orange\")\n",
        "print(fruits)  # Output: {'apple', 'banana', 'orange'}\n"
      ],
      "metadata": {
        "id": "IqrhA-_EdEVV"
      },
      "execution_count": null,
      "outputs": []
    },
    {
      "cell_type": "markdown",
      "source": [
        "* **update():** Adds multiple elements (from another set, list, or tuple) to the set.\n"
      ],
      "metadata": {
        "id": "9HT1sDTtdFD5"
      }
    },
    {
      "cell_type": "code",
      "source": [
        "fruits.update([\"mango\", \"grape\"])\n",
        "print(fruits)  # Output: {'apple', 'banana', 'orange', 'mango', 'grape'}\n"
      ],
      "metadata": {
        "id": "Z7fRHMn_dKX3"
      },
      "execution_count": null,
      "outputs": []
    },
    {
      "cell_type": "markdown",
      "source": [
        "*  **remove():** Removes an element. Raises a KeyError if the element is not found.\n"
      ],
      "metadata": {
        "id": "pmbCL7CEdLKB"
      }
    },
    {
      "cell_type": "code",
      "source": [
        "fruits.remove(\"banana\")\n",
        "print(fruits)  # Output: {'apple', 'orange', 'mango', 'grape'}\n"
      ],
      "metadata": {
        "id": "UmHU_AA7dP_9"
      },
      "execution_count": null,
      "outputs": []
    },
    {
      "cell_type": "markdown",
      "source": [
        "*  **discard():** Removes an element but does not raise an error if the element is missing."
      ],
      "metadata": {
        "id": "3GXLIeB6dT7F"
      }
    },
    {
      "cell_type": "code",
      "source": [
        "fruits.discard(\"banana\")  # No error even though \"banana\" is not in the set\n"
      ],
      "metadata": {
        "id": "KuZmXcajdXZI"
      },
      "execution_count": null,
      "outputs": []
    },
    {
      "cell_type": "markdown",
      "source": [
        "*  **pop():** Removes and returns an arbitrary element from the set.\n"
      ],
      "metadata": {
        "id": "tKobv-JAdYJL"
      }
    },
    {
      "cell_type": "code",
      "source": [
        "removed_element = fruits.pop()\n",
        "print(removed_element)  # Output: an element (like 'apple') chosen randomly\n"
      ],
      "metadata": {
        "id": "tu-mzfZEdcJq"
      },
      "execution_count": null,
      "outputs": []
    },
    {
      "cell_type": "markdown",
      "source": [
        "5. **Set Comparisons**\n",
        "Sets also support comparison operations to check if one set is a subset or superset of another.\n",
        "\n",
        "* **Subset:**\n",
        "The **issubset()** method or **<=** operator checks if one set is a subset of another."
      ],
      "metadata": {
        "id": "N2JP4limde0a"
      }
    },
    {
      "cell_type": "code",
      "source": [
        "*  **Superset:**\n",
        "The **issuperset()** method or **>=** operator checks if one set is a superset of another."
      ],
      "metadata": {
        "id": "5uJc35LSdudn"
      },
      "execution_count": null,
      "outputs": []
    },
    {
      "cell_type": "code",
      "source": [
        "print(set2.issuperset(set1))  # Output: True\n",
        "print(set2 >= set1)           # Output: True\n"
      ],
      "metadata": {
        "id": "hSatD7Tod0HA"
      },
      "execution_count": null,
      "outputs": []
    },
    {
      "cell_type": "markdown",
      "source": [
        "6. **Frozenset**\n",
        "A frozenset is an immutable version of a set, meaning you cannot modify it after creation. Frozensets are useful when you need a constant set of values that should not be changed.\n",
        "\n",
        "**Example:**"
      ],
      "metadata": {
        "id": "5pgFbY94d24f"
      }
    },
    {
      "cell_type": "code",
      "source": [
        "frozen_fruits = frozenset({\"apple\", \"banana\", \"cherry\"})\n",
        "# frozen_fruits.add(\"orange\")  # Raises AttributeError since frozenset is immutable\n"
      ],
      "metadata": {
        "id": "UGJojIc3d6LR"
      },
      "execution_count": null,
      "outputs": []
    },
    {
      "cell_type": "markdown",
      "source": [
        "7. **When to Use Sets?**\n",
        "* **Eliminating duplicates:** Sets automatically remove duplicates from a collection.\n",
        "* **Membership testing:** Sets are highly efficient for testing whether an element exists (in operation has an average time complexity of O(1)).\n",
        "* **Mathematical set operations:** If you need to perform operations like union, intersection, and difference, sets are ideal.\n",
        "* **Unordered collections:** When the order of elements is irrelevant, sets can be more efficient than lists.\n",
        "\n",
        "**Use Cases:**\n",
        "*  Removing duplicate values from a list.\n",
        "*  Storing unique items like user IDs or product SKUs.\n",
        "*  Performing set-based operations like checking for common elements between datasets."
      ],
      "metadata": {
        "id": "o5Es3leNd8R6"
      }
    },
    {
      "cell_type": "markdown",
      "source": [
        "8. **Practice Exercises**\n",
        "  1. Create two sets: one containing the names of fruits and another containing names of vegetables. Write a program that finds the union, intersection, and difference between the two sets.\n",
        "\n",
        "  2. Write a program that takes a list of numbers and converts it to a set, eliminating any duplicates.\n",
        "\n",
        "  3. Given a list of words, write a program that finds and prints the unique words.\n",
        "\n",
        "  4. Create two sets representing a class of students and another class of students. Find out which students are in both classes (intersection) and those that are only in one of the classes (symmetric difference)."
      ],
      "metadata": {
        "id": "UD1-zpPteRJi"
      }
    }
  ]
}