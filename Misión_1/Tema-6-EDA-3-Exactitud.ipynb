{
 "cells": [
  {
   "cell_type": "markdown",
   "metadata": {},
   "source": [
    "# Exactitud \n",
    "\n",
    "En un estudio sobre la producción de hidrógeno verde, los datos sobre la cantidad de hidrógeno producido deben ser exactos y reflejar la producción real. Si los datos están errados, por ejemplo, debido a errores en la calibración de los sensores, los resultados del estudio serán incorrectos.\n"
   ]
  },
  {
   "cell_type": "code",
   "execution_count": null,
   "metadata": {},
   "outputs": [],
   "source": [
    "import pandas as pd\n",
    "import numpy as np"
   ]
  },
  {
   "cell_type": "code",
   "execution_count": null,
   "metadata": {},
   "outputs": [],
   "source": [
    "# Simulación de datos de producción de hidrógeno\n",
    "np.random.seed(0)\n",
    "dias = pd.date_range(start='2023-01-01', periods=10, freq='D')\n",
    "produccion_real = np.random.uniform(low=50, high=100, size=len(dias))"
   ]
  },
  {
   "cell_type": "code",
   "execution_count": null,
   "metadata": {},
   "outputs": [],
   "source": [
    "# Introducción de errores en la calibración de los sensores\n",
    "errores_calibracion = np.random.normal(loc=0, scale=5, size=len(dias))\n",
    "produccion_erronea = produccion_real + errores_calibracion"
   ]
  },
  {
   "cell_type": "code",
   "execution_count": null,
   "metadata": {},
   "outputs": [],
   "source": [
    "# Creación del DataFrame\n",
    "df = pd.DataFrame({\n",
    "    'Fecha': dias,\n",
    "    'Produccion_Real': produccion_real,\n",
    "    'Produccion_Erronea': produccion_erronea\n",
    "})"
   ]
  },
  {
   "cell_type": "code",
   "execution_count": 1,
   "metadata": {},
   "outputs": [
    {
     "name": "stdout",
     "output_type": "stream",
     "text": [
      "       Fecha  Produccion_Real  Produccion_Erronea\n",
      "0 2023-01-01        77.440675           78.160893\n",
      "1 2023-01-02        85.759468           93.030836\n",
      "2 2023-01-03        80.138169           83.943357\n",
      "3 2023-01-04        77.244159           77.852534\n",
      "4 2023-01-05        71.182740           73.402056\n",
      "5 2023-01-06        82.294706           83.963077\n",
      "6 2023-01-07        71.879361           79.349756\n",
      "7 2023-01-08        94.588650           93.562859\n",
      "8 2023-01-09        98.183138           99.748477\n",
      "9 2023-01-10        69.172076           64.901597\n"
     ]
    }
   ],
   "source": [
    "print(df)"
   ]
  }
 ],
 "metadata": {
  "kernelspec": {
   "display_name": "cursoia",
   "language": "python",
   "name": "python3"
  },
  "language_info": {
   "codemirror_mode": {
    "name": "ipython",
    "version": 3
   },
   "file_extension": ".py",
   "mimetype": "text/x-python",
   "name": "python",
   "nbconvert_exporter": "python",
   "pygments_lexer": "ipython3",
   "version": "3.12.4"
  }
 },
 "nbformat": 4,
 "nbformat_minor": 2
}
