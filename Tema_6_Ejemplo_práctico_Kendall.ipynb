{
  "nbformat": 4,
  "nbformat_minor": 0,
  "metadata": {
    "colab": {
      "provenance": [],
      "authorship_tag": "ABX9TyNV8rdffPR9t0XYxA0t0ykP",
      "include_colab_link": true
    },
    "kernelspec": {
      "name": "python3",
      "display_name": "Python 3"
    },
    "language_info": {
      "name": "python"
    }
  },
  "cells": [
    {
      "cell_type": "markdown",
      "metadata": {
        "id": "view-in-github",
        "colab_type": "text"
      },
      "source": [
        "<a href=\"https://colab.research.google.com/github/davidriveraarbelaez/IA_Explorador/blob/main/Tema_6_Ejemplo_pr%C3%A1ctico_Kendall.ipynb\" target=\"_parent\"><img src=\"https://colab.research.google.com/assets/colab-badge.svg\" alt=\"Open In Colab\"/></a>"
      ]
    },
    {
      "cell_type": "markdown",
      "source": [
        "**Ejemplo práctico**\n",
        "\n",
        "Una empresa de ventas de suministros industriales desea desarrollar un modelo de clasificación ordinal para predecir la satisfacción de clientes en una escala de 1 a 5, y desean verificar la consistencia entre el orden de las predicciones y las etiquetas reales. Al calcular el coeficiente de Kendall, podrán ver si el modelo está clasificando correctamente en términos de orden, sin requerir que la distancia entre las calificaciones sea precisa.\n"
      ],
      "metadata": {
        "id": "0mwow_0YrP3U"
      }
    },
    {
      "cell_type": "code",
      "source": [
        "# Paso 1: Importar las librerías necesarias\n",
        "import pandas as pd\n",
        "import numpy as np\n",
        "from scipy.stats import kendalltau"
      ],
      "metadata": {
        "id": "_1u9mrfMqahu"
      },
      "execution_count": 1,
      "outputs": []
    },
    {
      "cell_type": "code",
      "source": [
        "# Paso 2: Generar el dataset sintético\n",
        "np.random.seed(42)  # Para reproducibilidad\n",
        "n = 100  # Número de clientes\n",
        "\n",
        "# Crear un ID de cliente\n",
        "customer_id = np.arange(1, n + 1)\n",
        "\n",
        "# Generar calificaciones de satisfacción reales (actual_satisfaction)\n",
        "# Distribución de satisfacción entre 1 y 5\n",
        "actual_satisfaction = np.random.choice([1, 2, 3, 4, 5], size=n, p=[0.1, 0.2, 0.3, 0.2, 0.2])\n",
        "\n",
        "# Generar calificaciones de satisfacción predichas (predicted_satisfaction)\n",
        "# Agregar un poco de error a las predicciones para simular imperfecciones\n",
        "predicted_satisfaction = np.clip(actual_satisfaction + np.random.choice([-1, 0, 1], size=n, p=[0.2, 0.6, 0.2]), 1, 5)\n",
        "\n",
        "# Crear el DataFrame\n",
        "data = pd.DataFrame({\n",
        "    'customer_id': customer_id,\n",
        "    'actual_satisfaction': actual_satisfaction,\n",
        "    'predicted_satisfaction': predicted_satisfaction\n",
        "})\n",
        "\n",
        "# Visualizar los primeros datos para confirmar\n",
        "print(\"Datos generados:\")\n",
        "print(data.head(8))"
      ],
      "metadata": {
        "colab": {
          "base_uri": "https://localhost:8080/"
        },
        "id": "MLMfypD0qfaD",
        "outputId": "dc4f941d-81aa-4cd5-965b-91f7c33e2faa"
      },
      "execution_count": null,
      "outputs": [
        {
          "output_type": "stream",
          "name": "stdout",
          "text": [
            "Datos generados:\n",
            "   customer_id  actual_satisfaction  predicted_satisfaction\n",
            "0            1                    3                       2\n",
            "1            2                    5                       5\n",
            "2            3                    4                       4\n",
            "3            4                    3                       3\n",
            "4            5                    2                       3\n",
            "5            6                    2                       2\n",
            "6            7                    1                       1\n",
            "7            8                    5                       5\n"
          ]
        }
      ]
    },
    {
      "cell_type": "code",
      "source": [
        "# Calcular el coeficiente de correlación de Kendall y el p-valor\n",
        "kendall_corr, p_value = kendalltau(data['actual_satisfaction'], data['predicted_satisfaction'])\n",
        "\n",
        "# Mostrar el resultado del coeficiente de correlación y el p-valor\n",
        "print(\"Coeficiente de correlación de Kendall:\", kendall_corr)\n",
        "print(\"P-valor:\", p_value)\n"
      ],
      "metadata": {
        "colab": {
          "base_uri": "https://localhost:8080/"
        },
        "id": "dokYhZvVr0UA",
        "outputId": "0b9251ea-4eb9-473b-f58e-4568e0405aae"
      },
      "execution_count": null,
      "outputs": [
        {
          "output_type": "stream",
          "name": "stdout",
          "text": [
            "Coeficiente de correlación de Kendall: 0.8192490125959975\n",
            "P-valor: 4.451116836976397e-24\n"
          ]
        }
      ]
    }
  ]
}