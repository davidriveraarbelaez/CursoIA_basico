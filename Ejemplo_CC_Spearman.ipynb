{
  "nbformat": 4,
  "nbformat_minor": 0,
  "metadata": {
    "colab": {
      "provenance": [],
      "authorship_tag": "ABX9TyP1RnPjeC1mTUyCCFkSALnA",
      "include_colab_link": true
    },
    "kernelspec": {
      "name": "python3",
      "display_name": "Python 3"
    },
    "language_info": {
      "name": "python"
    }
  },
  "cells": [
    {
      "cell_type": "markdown",
      "metadata": {
        "id": "view-in-github",
        "colab_type": "text"
      },
      "source": [
        "<a href=\"https://colab.research.google.com/github/davidriveraarbelaez/IA_Explorador/blob/main/Ejemplo_CC_Spearman.ipynb\" target=\"_parent\"><img src=\"https://colab.research.google.com/assets/colab-badge.svg\" alt=\"Open In Colab\"/></a>"
      ]
    },
    {
      "cell_type": "markdown",
      "source": [
        "**Ejemplo:**\n",
        "En el análisis de la relación entre la clasificación de eficiencia de diferentes tecnologías de energía y su adopción en el mercado, el coeficiente de Spearman puede ayudar a evaluar si hay una tendencia general a medida que una variable aumenta."
      ],
      "metadata": {
        "id": "WV0-zuKonDng"
      }
    },
    {
      "cell_type": "code",
      "source": [
        "# Paso 1: Importar las librerías necesarias\n",
        "\n",
        "import numpy as np\n",
        "from scipy.stats import spearmanr\n",
        "import matplotlib.pyplot as plt"
      ],
      "metadata": {
        "id": "5n1bgJ6VnEPq"
      },
      "execution_count": null,
      "outputs": []
    },
    {
      "cell_type": "code",
      "source": [
        "# Paso 2: Generar datos simulados\n",
        "\"\"\"\n",
        "Creamos datos simulados para la clasificación de eficiencia de las tecnologías\n",
        "(1 a 10, siendo 1 menos eficiente y 10 más eficiente) y su adopción en el mercado\n",
        "(en millones de usuarios o cualquier otra métrica de popularidad).\n",
        "\"\"\"\n",
        "# Clasificación de eficiencia (de 1 a 10)\n",
        "clasificacion_eficiencia = np.array([1, 2, 3, 4, 5, 6, 7, 8, 9, 10])\n",
        "\n",
        "# Adopción en el mercado (en millones de usuarios)\n",
        "adopcion_mercado = np.array([5, 8, 10, 15, 18, 20, 25, 30, 35, 40])"
      ],
      "metadata": {
        "id": "Vn91ZDWmnHmq"
      },
      "execution_count": null,
      "outputs": []
    },
    {
      "cell_type": "code",
      "source": [
        "# Paso 3: Visualizar los datos\n",
        "\"\"\"\n",
        "Para entender mejor la relación entre la clasificación de eficiencia y la\n",
        "adopción en el mercado, realizamos un gráfico de dispersión.\n",
        "\"\"\"\n",
        "\n",
        "plt.scatter(clasificacion_eficiencia, adopcion_mercado)\n",
        "plt.title('Relación entre Clasificación de Eficiencia y Adopción en el Mercado')\n",
        "plt.xlabel('Clasificación de Eficiencia')\n",
        "plt.ylabel('Adopción en el Mercado (millones)')\n",
        "plt.grid()\n",
        "plt.show()"
      ],
      "metadata": {
        "id": "6C-t0084nKMw"
      },
      "execution_count": null,
      "outputs": []
    },
    {
      "cell_type": "code",
      "source": [
        "# Paso 4: Calcular el coeficiente de Spearman\n",
        "\n",
        "\"\"\"\n",
        "Calculamos el coeficiente de correlación de Spearman para medir la relación\n",
        "monótona entre la clasificación de eficiencia y la adopción en el mercado.\n",
        "\"\"\"\n",
        "\n",
        "# Calcular el coeficiente de Spearman\n",
        "coef, p_valor = spearmanr(clasificacion_eficiencia, adopcion_mercado)\n",
        "print(f'Coeficiente de correlación de Spearman: {coef:.2f}')\n",
        "print(f'Valor p: {p_valor:.4f}')\n"
      ],
      "metadata": {
        "id": "s6XPrT2UnMMu"
      },
      "execution_count": null,
      "outputs": []
    }
  ]
}