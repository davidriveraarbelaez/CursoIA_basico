{
 "cells": [
  {
   "cell_type": "markdown",
   "metadata": {},
   "source": [
    "# Ejemplo\n",
    "En un proyecto de análisis de consumo energético, un conjunto de datos completo debería incluir información sobre el consumo energético diario de cada hogar, así como datos sobre el tipo de vivienda, el número de ocupantes, y el clima. Si faltan datos sobre algún aspecto importante, el análisis podría estar incompleto."
   ]
  },
  {
   "cell_type": "code",
   "execution_count": 2,
   "metadata": {},
   "outputs": [
    {
     "name": "stdout",
     "output_type": "stream",
     "text": [
      "    Hogar  Ingresos  Gastos  Ahorros\n",
      "0       1      1000     900      100\n",
      "1       2      2000    1800      200\n",
      "2       3      3000    2700      300\n",
      "3       4      4000    3600      400\n",
      "4       5      5000    4500      500\n",
      "5       6      6000    5400      600\n",
      "6       7      7000    6300      700\n",
      "7       8      8000    7200      800\n",
      "8       9      9000    8100      900\n",
      "9      10     10000    9000     1000\n",
      "10     11     11000    9900     1100\n",
      "11     12     12000   10800     1200\n",
      "12     13     13000   11700     1300\n",
      "13     14     14000   12600     1400\n",
      "14     15     15000   13500     1500\n",
      "15     16     16000   14400     1600\n",
      "16     17     17000   15300     1700\n",
      "17     18     18000   16200     1800\n",
      "18     19     19000   17100     1900\n",
      "19     20     20000   18000     2000\n"
     ]
    }
   ],
   "source": [
    "import pandas as pd\n",
    "\n",
    "# Crear un DataFrame con datos de ejemplo para 20 hogares\n",
    "data = {\n",
    "    'Hogar': range(1, 21),\n",
    "    'Ingresos': [1000, 2000, 3000, 4000, 5000, 6000, 7000, 8000, 9000, 10000,\n",
    "                 11000, 12000, 13000, 14000, 15000, 16000, 17000, 18000, 19000, 20000],\n",
    "    'Gastos': [900, 1800, 2700, 3600, 4500, 5400, 6300, 7200, 8100, 9000,\n",
    "                9900, 10800, 11700, 12600, 13500, 14400, 15300, 16200, 17100, 18000],\n",
    "    'Ahorros': [100, 200, 300, 400, 500, 600, 700, 800, 900, 1000,  \n",
    "                1100, 1200, 1300, 1400, 1500, 1600, 1700, 1800, 1900, 2000]\n",
    "}\n",
    "\n",
    "df = pd.DataFrame(data)\n",
    "print(df)"
   ]
  }
 ],
 "metadata": {
  "kernelspec": {
   "display_name": "cursoia",
   "language": "python",
   "name": "python3"
  },
  "language_info": {
   "codemirror_mode": {
    "name": "ipython",
    "version": 3
   },
   "file_extension": ".py",
   "mimetype": "text/x-python",
   "name": "python",
   "nbconvert_exporter": "python",
   "pygments_lexer": "ipython3",
   "version": "3.12.4"
  }
 },
 "nbformat": 4,
 "nbformat_minor": 2
}
