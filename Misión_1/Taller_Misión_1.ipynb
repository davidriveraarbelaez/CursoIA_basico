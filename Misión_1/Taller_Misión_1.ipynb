{
 "cells": [
  {
   "cell_type": "code",
   "execution_count": 61,
   "metadata": {},
   "outputs": [
    {
     "data": {
      "text/html": [
       "<div>\n",
       "<style scoped>\n",
       "    .dataframe tbody tr th:only-of-type {\n",
       "        vertical-align: middle;\n",
       "    }\n",
       "\n",
       "    .dataframe tbody tr th {\n",
       "        vertical-align: top;\n",
       "    }\n",
       "\n",
       "    .dataframe thead th {\n",
       "        text-align: right;\n",
       "    }\n",
       "</style>\n",
       "<table border=\"1\" class=\"dataframe\">\n",
       "  <thead>\n",
       "    <tr style=\"text-align: right;\">\n",
       "      <th></th>\n",
       "      <th>color</th>\n",
       "      <th>director_name</th>\n",
       "      <th>num_critic_for_reviews</th>\n",
       "      <th>duration</th>\n",
       "      <th>director_facebook_likes</th>\n",
       "      <th>actor_3_facebook_likes</th>\n",
       "      <th>actor_2_name</th>\n",
       "      <th>actor_1_facebook_likes</th>\n",
       "      <th>gross</th>\n",
       "      <th>genres</th>\n",
       "      <th>...</th>\n",
       "      <th>num_user_for_reviews</th>\n",
       "      <th>language</th>\n",
       "      <th>country</th>\n",
       "      <th>content_rating</th>\n",
       "      <th>budget</th>\n",
       "      <th>title_year</th>\n",
       "      <th>actor_2_facebook_likes</th>\n",
       "      <th>imdb_score</th>\n",
       "      <th>aspect_ratio</th>\n",
       "      <th>movie_facebook_likes</th>\n",
       "    </tr>\n",
       "  </thead>\n",
       "  <tbody>\n",
       "    <tr>\n",
       "      <th>0</th>\n",
       "      <td>Color</td>\n",
       "      <td>James Cameron</td>\n",
       "      <td>723.0</td>\n",
       "      <td>178.0</td>\n",
       "      <td>0.0</td>\n",
       "      <td>855.0</td>\n",
       "      <td>Joel David Moore</td>\n",
       "      <td>1000.0</td>\n",
       "      <td>760505847.0</td>\n",
       "      <td>Action|Adventure|Fantasy|Sci-Fi</td>\n",
       "      <td>...</td>\n",
       "      <td>3054.0</td>\n",
       "      <td>English</td>\n",
       "      <td>USA</td>\n",
       "      <td>PG-13</td>\n",
       "      <td>237000000.0$</td>\n",
       "      <td>2009.0</td>\n",
       "      <td>936.0</td>\n",
       "      <td>7.9</td>\n",
       "      <td>1.78</td>\n",
       "      <td>33000</td>\n",
       "    </tr>\n",
       "    <tr>\n",
       "      <th>1</th>\n",
       "      <td>Color</td>\n",
       "      <td>Gore Verbinski</td>\n",
       "      <td>302.0</td>\n",
       "      <td>169.0</td>\n",
       "      <td>563.0</td>\n",
       "      <td>1000.0</td>\n",
       "      <td>Orlando Bloom</td>\n",
       "      <td>40000.0</td>\n",
       "      <td>309404152.0</td>\n",
       "      <td>Action|Adventure|Fantasy</td>\n",
       "      <td>...</td>\n",
       "      <td>1238.0</td>\n",
       "      <td>English</td>\n",
       "      <td>USA</td>\n",
       "      <td>PG-13</td>\n",
       "      <td>300000000.0$</td>\n",
       "      <td>2007.0</td>\n",
       "      <td>5000.0</td>\n",
       "      <td>7.1</td>\n",
       "      <td>2.35</td>\n",
       "      <td>0</td>\n",
       "    </tr>\n",
       "    <tr>\n",
       "      <th>2</th>\n",
       "      <td>Color</td>\n",
       "      <td>Sam Mendes</td>\n",
       "      <td>602.0</td>\n",
       "      <td>148.0</td>\n",
       "      <td>0.0</td>\n",
       "      <td>161.0</td>\n",
       "      <td>Rory Kinnear</td>\n",
       "      <td>11000.0</td>\n",
       "      <td>200074175.0</td>\n",
       "      <td>Action|Adventure|Thriller</td>\n",
       "      <td>...</td>\n",
       "      <td>994.0</td>\n",
       "      <td>English</td>\n",
       "      <td>UK</td>\n",
       "      <td>PG-13</td>\n",
       "      <td>245000000.0$</td>\n",
       "      <td>2015.0</td>\n",
       "      <td>393.0</td>\n",
       "      <td>6.8</td>\n",
       "      <td>2.35</td>\n",
       "      <td>85000</td>\n",
       "    </tr>\n",
       "    <tr>\n",
       "      <th>3</th>\n",
       "      <td>Color</td>\n",
       "      <td>Christopher Nolan</td>\n",
       "      <td>813.0</td>\n",
       "      <td>164.0</td>\n",
       "      <td>22000.0</td>\n",
       "      <td>23000.0</td>\n",
       "      <td>Christian Bale</td>\n",
       "      <td>27000.0</td>\n",
       "      <td>448130642.0</td>\n",
       "      <td>Action|Thriller</td>\n",
       "      <td>...</td>\n",
       "      <td>2701.0</td>\n",
       "      <td>English</td>\n",
       "      <td>USA</td>\n",
       "      <td>PG-13</td>\n",
       "      <td>250000000.0$</td>\n",
       "      <td>2012.0</td>\n",
       "      <td>23000.0</td>\n",
       "      <td>8.5</td>\n",
       "      <td>2.35</td>\n",
       "      <td>164000</td>\n",
       "    </tr>\n",
       "    <tr>\n",
       "      <th>4</th>\n",
       "      <td>NaN</td>\n",
       "      <td>Doug Walker</td>\n",
       "      <td>NaN</td>\n",
       "      <td>NaN</td>\n",
       "      <td>131.0</td>\n",
       "      <td>NaN</td>\n",
       "      <td>Rob Walker</td>\n",
       "      <td>131.0</td>\n",
       "      <td>NaN</td>\n",
       "      <td>Documentary</td>\n",
       "      <td>...</td>\n",
       "      <td>NaN</td>\n",
       "      <td>NaN</td>\n",
       "      <td>NaN</td>\n",
       "      <td>NaN</td>\n",
       "      <td>0.0$</td>\n",
       "      <td>NaN</td>\n",
       "      <td>12.0</td>\n",
       "      <td>7.1</td>\n",
       "      <td>NaN</td>\n",
       "      <td>0</td>\n",
       "    </tr>\n",
       "  </tbody>\n",
       "</table>\n",
       "<p>5 rows × 28 columns</p>\n",
       "</div>"
      ],
      "text/plain": [
       "   color      director_name  num_critic_for_reviews  duration  \\\n",
       "0  Color      James Cameron                   723.0     178.0   \n",
       "1  Color     Gore Verbinski                   302.0     169.0   \n",
       "2  Color         Sam Mendes                   602.0     148.0   \n",
       "3  Color  Christopher Nolan                   813.0     164.0   \n",
       "4    NaN        Doug Walker                     NaN       NaN   \n",
       "\n",
       "   director_facebook_likes  actor_3_facebook_likes      actor_2_name  \\\n",
       "0                      0.0                   855.0  Joel David Moore   \n",
       "1                    563.0                  1000.0     Orlando Bloom   \n",
       "2                      0.0                   161.0      Rory Kinnear   \n",
       "3                  22000.0                 23000.0    Christian Bale   \n",
       "4                    131.0                     NaN        Rob Walker   \n",
       "\n",
       "   actor_1_facebook_likes        gross                           genres  ...  \\\n",
       "0                  1000.0  760505847.0  Action|Adventure|Fantasy|Sci-Fi  ...   \n",
       "1                 40000.0  309404152.0         Action|Adventure|Fantasy  ...   \n",
       "2                 11000.0  200074175.0        Action|Adventure|Thriller  ...   \n",
       "3                 27000.0  448130642.0                  Action|Thriller  ...   \n",
       "4                   131.0          NaN                      Documentary  ...   \n",
       "\n",
       "  num_user_for_reviews language  country  content_rating        budget  \\\n",
       "0               3054.0  English      USA           PG-13  237000000.0$   \n",
       "1               1238.0  English      USA           PG-13  300000000.0$   \n",
       "2                994.0  English       UK           PG-13  245000000.0$   \n",
       "3               2701.0  English      USA           PG-13  250000000.0$   \n",
       "4                  NaN      NaN      NaN             NaN          0.0$   \n",
       "\n",
       "   title_year actor_2_facebook_likes imdb_score  aspect_ratio  \\\n",
       "0      2009.0                  936.0        7.9          1.78   \n",
       "1      2007.0                 5000.0        7.1          2.35   \n",
       "2      2015.0                  393.0        6.8          2.35   \n",
       "3      2012.0                23000.0        8.5          2.35   \n",
       "4         NaN                   12.0        7.1           NaN   \n",
       "\n",
       "  movie_facebook_likes  \n",
       "0                33000  \n",
       "1                    0  \n",
       "2                85000  \n",
       "3               164000  \n",
       "4                    0  \n",
       "\n",
       "[5 rows x 28 columns]"
      ]
     },
     "execution_count": 61,
     "metadata": {},
     "output_type": "execute_result"
    }
   ],
   "source": [
    "# Cargar el dataset movies_metadata.csv y mostrar las columnas que contiene.\n",
    "import pandas as pd # Importamos la librería pandas\n",
    "df = pd.read_csv('../Datasets/movie_metadata.csv') # Cargamos el dataset movies_metadata.csv\n",
    "\n",
    "# Mostrar las primeras filas\n",
    "df.head()\n"
   ]
  },
  {
   "cell_type": "code",
   "execution_count": 62,
   "metadata": {},
   "outputs": [
    {
     "name": "stdout",
     "output_type": "stream",
     "text": [
      "<class 'pandas.core.frame.DataFrame'>\n",
      "RangeIndex: 5043 entries, 0 to 5042\n",
      "Data columns (total 28 columns):\n",
      " #   Column                     Non-Null Count  Dtype  \n",
      "---  ------                     --------------  -----  \n",
      " 0   color                      5024 non-null   object \n",
      " 1   director_name              4939 non-null   object \n",
      " 2   num_critic_for_reviews     4993 non-null   float64\n",
      " 3   duration                   5028 non-null   float64\n",
      " 4   director_facebook_likes    4939 non-null   float64\n",
      " 5   actor_3_facebook_likes     5020 non-null   float64\n",
      " 6   actor_2_name               5030 non-null   object \n",
      " 7   actor_1_facebook_likes     5036 non-null   float64\n",
      " 8   gross                      4159 non-null   float64\n",
      " 9   genres                     5043 non-null   object \n",
      " 10  actor_1_name               5036 non-null   object \n",
      " 11  movie_title                5043 non-null   object \n",
      " 12  num_voted_users            5043 non-null   int64  \n",
      " 13  cast_total_facebook_likes  5043 non-null   int64  \n",
      " 14  actor_3_name               5020 non-null   object \n",
      " 15  facenumber_in_poster       5030 non-null   float64\n",
      " 16  plot_keywords              4890 non-null   object \n",
      " 17  movie_imdb_link            5043 non-null   object \n",
      " 18  num_user_for_reviews       5022 non-null   float64\n",
      " 19  language                   5029 non-null   object \n",
      " 20  country                    5038 non-null   object \n",
      " 21  content_rating             4740 non-null   object \n",
      " 22  budget                     5043 non-null   object \n",
      " 23  title_year                 4935 non-null   float64\n",
      " 24  actor_2_facebook_likes     5030 non-null   float64\n",
      " 25  imdb_score                 5043 non-null   float64\n",
      " 26  aspect_ratio               4714 non-null   float64\n",
      " 27  movie_facebook_likes       5043 non-null   int64  \n",
      "dtypes: float64(12), int64(3), object(13)\n",
      "memory usage: 1.1+ MB\n"
     ]
    }
   ],
   "source": [
    "# Información del dataset\n",
    "df.info()"
   ]
  },
  {
   "cell_type": "code",
   "execution_count": 63,
   "metadata": {},
   "outputs": [
    {
     "data": {
      "text/plain": [
       "0    237000000.0$\n",
       "1    300000000.0$\n",
       "2    245000000.0$\n",
       "3    250000000.0$\n",
       "4            0.0$\n",
       "5    263700000.0$\n",
       "6    258000000.0$\n",
       "7    260000000.0$\n",
       "8    250000000.0$\n",
       "9    250000000.0$\n",
       "Name: budget, dtype: object"
      ]
     },
     "execution_count": 63,
     "metadata": {},
     "output_type": "execute_result"
    }
   ],
   "source": [
    "df['budget'].head(10)"
   ]
  },
  {
   "cell_type": "code",
   "execution_count": 52,
   "metadata": {},
   "outputs": [
    {
     "name": "stdout",
     "output_type": "stream",
     "text": [
      "Index(['color', 'director_name', 'num_critic_for_reviews', 'duration',\n",
      "       'director_facebook_likes', 'actor_3_facebook_likes', 'actor_2_name',\n",
      "       'actor_1_facebook_likes', 'gross', 'genres', 'actor_1_name',\n",
      "       'movie_title', 'num_voted_users', 'cast_total_facebook_likes',\n",
      "       'actor_3_name', 'facenumber_in_poster', 'plot_keywords',\n",
      "       'movie_imdb_link', 'num_user_for_reviews', 'language', 'country',\n",
      "       'content_rating', 'budget', 'title_year', 'actor_2_facebook_likes',\n",
      "       'imdb_score', 'aspect_ratio', 'movie_facebook_likes'],\n",
      "      dtype='object')\n"
     ]
    }
   ],
   "source": [
    "print(df.columns) # Mostramos las columnas que contiene el dataset"
   ]
  },
  {
   "cell_type": "code",
   "execution_count": 53,
   "metadata": {},
   "outputs": [
    {
     "name": "stdout",
     "output_type": "stream",
     "text": [
      "color                         True\n",
      "director_name                 True\n",
      "num_critic_for_reviews        True\n",
      "duration                      True\n",
      "director_facebook_likes       True\n",
      "actor_3_facebook_likes        True\n",
      "actor_2_name                  True\n",
      "actor_1_facebook_likes        True\n",
      "gross                         True\n",
      "genres                       False\n",
      "actor_1_name                  True\n",
      "movie_title                  False\n",
      "num_voted_users              False\n",
      "cast_total_facebook_likes    False\n",
      "actor_3_name                  True\n",
      "facenumber_in_poster          True\n",
      "plot_keywords                 True\n",
      "movie_imdb_link              False\n",
      "num_user_for_reviews          True\n",
      "language                      True\n",
      "country                       True\n",
      "content_rating                True\n",
      "budget                       False\n",
      "title_year                    True\n",
      "actor_2_facebook_likes        True\n",
      "imdb_score                   False\n",
      "aspect_ratio                  True\n",
      "movie_facebook_likes         False\n",
      "dtype: bool\n"
     ]
    }
   ],
   "source": [
    "# Identificar las columnas que contienen valores nulos\n",
    "print(df.isnull().any()) # Mostramos las columnas que contienen valores nulos\n"
   ]
  },
  {
   "cell_type": "code",
   "execution_count": 54,
   "metadata": {},
   "outputs": [
    {
     "name": "stdout",
     "output_type": "stream",
     "text": [
      "color                         19\n",
      "director_name                104\n",
      "num_critic_for_reviews        50\n",
      "duration                      15\n",
      "director_facebook_likes      104\n",
      "actor_3_facebook_likes        23\n",
      "actor_2_name                  13\n",
      "actor_1_facebook_likes         7\n",
      "gross                        884\n",
      "genres                         0\n",
      "actor_1_name                   7\n",
      "movie_title                    0\n",
      "num_voted_users                0\n",
      "cast_total_facebook_likes      0\n",
      "actor_3_name                  23\n",
      "facenumber_in_poster          13\n",
      "plot_keywords                153\n",
      "movie_imdb_link                0\n",
      "num_user_for_reviews          21\n",
      "language                      14\n",
      "country                        5\n",
      "content_rating               303\n",
      "budget                         0\n",
      "title_year                   108\n",
      "actor_2_facebook_likes        13\n",
      "imdb_score                     0\n",
      "aspect_ratio                 329\n",
      "movie_facebook_likes           0\n",
      "dtype: int64\n"
     ]
    }
   ],
   "source": [
    "# Identificar la cantidad de valores nulos en cada columna\n",
    "# Identificar valores nulos por columna\n",
    "nulos_por_columna = df.isnull().sum()\n",
    "print(nulos_por_columna)"
   ]
  },
  {
   "cell_type": "code",
   "execution_count": 64,
   "metadata": {},
   "outputs": [
    {
     "data": {
      "text/plain": [
       "0    237000000.0\n",
       "1    300000000.0\n",
       "2    245000000.0\n",
       "3    250000000.0\n",
       "4            0.0\n",
       "5    263700000.0\n",
       "6    258000000.0\n",
       "7    260000000.0\n",
       "8    250000000.0\n",
       "9    250000000.0\n",
       "Name: budget, dtype: float64"
      ]
     },
     "execution_count": 64,
     "metadata": {},
     "output_type": "execute_result"
    }
   ],
   "source": [
    "# 3. Limpieza de columnas mal formateadas (budget):\n",
    "# Convertir la columna budget a numérica\n",
    "# Eliminar el símbolo de dólar en la columna 'budget' y convertir a numérico\n",
    "df['budget'] = pd.to_numeric(df['budget'].str.replace(r'\\$', '', regex=True), errors='coerce')\n",
    "df['budget'].head(10)"
   ]
  },
  {
   "cell_type": "code",
   "execution_count": 69,
   "metadata": {},
   "outputs": [
    {
     "data": {
      "text/plain": [
       "0    237000000.0\n",
       "1    300000000.0\n",
       "2    245000000.0\n",
       "3    250000000.0\n",
       "4            0.0\n",
       "Name: budget, dtype: float64"
      ]
     },
     "execution_count": 69,
     "metadata": {},
     "output_type": "execute_result"
    }
   ],
   "source": [
    "# Muéstrame las primeras filas de la columna budget\n",
    "df['budget'].head()"
   ]
  },
  {
   "cell_type": "code",
   "execution_count": 70,
   "metadata": {},
   "outputs": [
    {
     "name": "stdout",
     "output_type": "stream",
     "text": [
      "Duplicados antes: 45, Duplicados después: 0\n"
     ]
    }
   ],
   "source": [
    "# 4. Eliminación de duplicados\n",
    "\n",
    "# Verificar duplicados\n",
    "duplicados_antes = df.duplicated().sum()\n",
    "\n",
    "# Eliminar duplicados\n",
    "df_limpia = df.drop_duplicates()\n",
    "\n",
    "# Verificar nuevamente duplicados\n",
    "duplicados_despues = df_limpia.duplicated().sum()\n",
    "\n",
    "print(f\"Duplicados antes: {duplicados_antes}, Duplicados después: {duplicados_despues}\")\n"
   ]
  },
  {
   "cell_type": "code",
   "execution_count": 71,
   "metadata": {},
   "outputs": [
    {
     "name": "stdout",
     "output_type": "stream",
     "text": [
      "(4998, 28)\n"
     ]
    }
   ],
   "source": [
    "# Revisamos la cantidad de filas y columnas del dataset\n",
    "print(df_limpia.shape)"
   ]
  },
  {
   "cell_type": "code",
   "execution_count": 73,
   "metadata": {},
   "outputs": [
    {
     "data": {
      "text/plain": [
       "(4121, 28)"
      ]
     },
     "execution_count": 73,
     "metadata": {},
     "output_type": "execute_result"
    }
   ],
   "source": [
    "# 5. Manejo de valores nulos:\n",
    "# Eliminar filas con valores nulos en columnas críticas (director_name, gross):\n",
    "\n",
    "# Eliminar filas con valores nulos en las columnas 'director_name' y 'gross'\n",
    "df_limpia = df_limpia.dropna(subset=['director_name', 'gross'])\n",
    "df_limpia.shape # Revisamos la cantidad de filas y columnas del dataset\n"
   ]
  },
  {
   "cell_type": "code",
   "execution_count": 79,
   "metadata": {},
   "outputs": [
    {
     "name": "stderr",
     "output_type": "stream",
     "text": [
      "C:\\Users\\david\\AppData\\Local\\Temp\\ipykernel_12660\\2267025913.py:5: FutureWarning: A value is trying to be set on a copy of a DataFrame or Series through chained assignment using an inplace method.\n",
      "The behavior will change in pandas 3.0. This inplace method will never work because the intermediate object on which we are setting values always behaves as a copy.\n",
      "\n",
      "For example, when doing 'df[col].method(value, inplace=True)', try using 'df.method({col: value}, inplace=True)' or df[col] = df[col].method(value) instead, to perform the operation inplace on the original object.\n",
      "\n",
      "\n",
      "  df_limpia['aspect_ratio'].fillna(df_limpia['aspect_ratio'].median(), inplace=True)\n"
     ]
    },
    {
     "data": {
      "text/plain": [
       "color                         True\n",
       "director_name                False\n",
       "num_critic_for_reviews        True\n",
       "duration                      True\n",
       "director_facebook_likes      False\n",
       "actor_3_facebook_likes        True\n",
       "actor_2_name                  True\n",
       "actor_1_facebook_likes        True\n",
       "gross                        False\n",
       "genres                       False\n",
       "actor_1_name                  True\n",
       "movie_title                  False\n",
       "num_voted_users              False\n",
       "cast_total_facebook_likes    False\n",
       "actor_3_name                  True\n",
       "facenumber_in_poster          True\n",
       "plot_keywords                 True\n",
       "movie_imdb_link              False\n",
       "num_user_for_reviews          True\n",
       "language                      True\n",
       "country                      False\n",
       "content_rating               False\n",
       "budget                       False\n",
       "title_year                   False\n",
       "actor_2_facebook_likes        True\n",
       "imdb_score                   False\n",
       "aspect_ratio                 False\n",
       "movie_facebook_likes         False\n",
       "dtype: bool"
      ]
     },
     "execution_count": 79,
     "metadata": {},
     "output_type": "execute_result"
    }
   ],
   "source": [
    "# 5 \n",
    "# Rellenar valores nulos con la mediana o el valor más común (aspect_ratio, content_rating):\n",
    "\n",
    "# Rellenar valores nulos en 'aspect_ratio' con la mediana\n",
    "df_limpia['aspect_ratio'].fillna(df_limpia['aspect_ratio'].median(), inplace=True)\n",
    "\n",
    "# Rellenar valores nulos en 'content_rating' con el valor más común\n",
    "df_limpia['content_rating'].fillna(df_limpia['content_rating'].mode()[0], inplace=True)\n",
    "\n",
    "# Verificar si hay valores nulos\n",
    "df_limpia.isnull().any()\n"
   ]
  },
  {
   "cell_type": "code",
   "execution_count": 76,
   "metadata": {},
   "outputs": [
    {
     "name": "stdout",
     "output_type": "stream",
     "text": [
      "<class 'pandas.core.frame.DataFrame'>\n",
      "Index: 4121 entries, 0 to 5042\n",
      "Data columns (total 28 columns):\n",
      " #   Column                     Non-Null Count  Dtype  \n",
      "---  ------                     --------------  -----  \n",
      " 0   color                      4119 non-null   object \n",
      " 1   director_name              4121 non-null   object \n",
      " 2   num_critic_for_reviews     4118 non-null   float64\n",
      " 3   duration                   4119 non-null   float64\n",
      " 4   director_facebook_likes    4121 non-null   float64\n",
      " 5   actor_3_facebook_likes     4108 non-null   float64\n",
      " 6   actor_2_name               4115 non-null   object \n",
      " 7   actor_1_facebook_likes     4117 non-null   float64\n",
      " 8   gross                      4121 non-null   float64\n",
      " 9   genres                     4121 non-null   object \n",
      " 10  actor_1_name               4117 non-null   object \n",
      " 11  movie_title                4121 non-null   object \n",
      " 12  num_voted_users            4121 non-null   int64  \n",
      " 13  cast_total_facebook_likes  4121 non-null   int64  \n",
      " 14  actor_3_name               4108 non-null   object \n",
      " 15  facenumber_in_poster       4114 non-null   float64\n",
      " 16  plot_keywords              4081 non-null   object \n",
      " 17  movie_imdb_link            4121 non-null   object \n",
      " 18  num_user_for_reviews       4120 non-null   float64\n",
      " 19  language                   4117 non-null   object \n",
      " 20  country                    4121 non-null   object \n",
      " 21  content_rating             4121 non-null   object \n",
      " 22  budget                     4121 non-null   float64\n",
      " 23  title_year                 4121 non-null   float64\n",
      " 24  actor_2_facebook_likes     4115 non-null   float64\n",
      " 25  imdb_score                 4121 non-null   float64\n",
      " 26  aspect_ratio               4121 non-null   float64\n",
      " 27  movie_facebook_likes       4121 non-null   int64  \n",
      "dtypes: float64(13), int64(3), object(12)\n",
      "memory usage: 933.7+ KB\n"
     ]
    }
   ],
   "source": [
    "df_limpia.info()"
   ]
  },
  {
   "cell_type": "code",
   "execution_count": null,
   "metadata": {},
   "outputs": [],
   "source": [
    "# "
   ]
  }
 ],
 "metadata": {
  "kernelspec": {
   "display_name": "cursoia",
   "language": "python",
   "name": "python3"
  },
  "language_info": {
   "codemirror_mode": {
    "name": "ipython",
    "version": 3
   },
   "file_extension": ".py",
   "mimetype": "text/x-python",
   "name": "python",
   "nbconvert_exporter": "python",
   "pygments_lexer": "ipython3",
   "version": "3.12.4"
  }
 },
 "nbformat": 4,
 "nbformat_minor": 2
}
