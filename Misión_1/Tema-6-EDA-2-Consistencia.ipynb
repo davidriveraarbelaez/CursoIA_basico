{
 "cells": [
  {
   "cell_type": "markdown",
   "metadata": {},
   "source": [
    "# Ejemplo\n",
    "\n",
    "En un proyecto de evaluación de la eficiencia de paneles solares, los datos de generación de energía deben ser consistentes en términos de unidades de medida (por ejemplo, siempre en kWh). Si algunos datos están en MWh, habrá inconsistencias que podrían llevar a errores en el análisis."
   ]
  },
  {
   "cell_type": "code",
   "execution_count": 1,
   "metadata": {},
   "outputs": [
    {
     "name": "stdout",
     "output_type": "stream",
     "text": [
      "  Panel  Energía (MWh)  Energía (kWh)\n",
      "0     A            1.5         1500.0\n",
      "1     B            2.0         2000.0\n",
      "2     C            2.5         2500.0\n"
     ]
    }
   ],
   "source": [
    "import pandas as pd\n",
    "\n",
    "# Supongamos que tenemos un DataFrame con datos de generación de energía en diferentes unidades\n",
    "\n",
    "data = {\n",
    "    'Panel': ['A', 'B', 'C'],\n",
    "    'Energía (MWh)': [1.5, 2.0, 2.5]  # Datos en MWh\n",
    "}\n",
    "\n",
    "df = pd.DataFrame(data)\n",
    "\n",
    "# Convertir MWh a kWh (1 MWh = 1000 kWh)\n",
    "df['Energía (kWh)'] = df['Energía (MWh)'] * 1000\n",
    "\n",
    "print(df)\n",
    "\n"
   ]
  }
 ],
 "metadata": {
  "kernelspec": {
   "display_name": "cursoia",
   "language": "python",
   "name": "python3"
  },
  "language_info": {
   "codemirror_mode": {
    "name": "ipython",
    "version": 3
   },
   "file_extension": ".py",
   "mimetype": "text/x-python",
   "name": "python",
   "nbconvert_exporter": "python",
   "pygments_lexer": "ipython3",
   "version": "3.12.4"
  }
 },
 "nbformat": 4,
 "nbformat_minor": 2
}
