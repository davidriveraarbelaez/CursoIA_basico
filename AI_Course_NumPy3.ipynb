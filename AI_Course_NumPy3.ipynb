{
 "cells": [
  {
   "cell_type": "code",
   "execution_count": 1,
   "metadata": {},
   "outputs": [],
   "source": [
    "import numpy as np\n"
   ]
  },
  {
   "cell_type": "code",
   "execution_count": null,
   "metadata": {},
   "outputs": [],
   "source": [
    "# Crear un array\n",
    "arr = np.array([1, 2, 3, 4, 5]) # Crear un array de 1D\n",
    "arr "
   ]
  },
  {
   "cell_type": "code",
   "execution_count": null,
   "metadata": {},
   "outputs": [],
   "source": [
    "# Operaciones básicas\n",
    "# Suma 2 a cada elemento\n",
    "print(arr + 2)  \n",
    "# Multiplica cada elemento por 2\n",
    "print(arr * 2)  "
   ]
  },
  {
   "cell_type": "code",
   "execution_count": null,
   "metadata": {},
   "outputs": [],
   "source": [
    "# Crear una matriz\n",
    "# Crear un array de 2D\n",
    "matrix = np.array([[1, 2], [3, 4]]) \n",
    "matrix"
   ]
  },
  {
   "cell_type": "code",
   "execution_count": null,
   "metadata": {},
   "outputs": [],
   "source": [
    "# Transponer una matriz\n",
    "print(matrix.T)"
   ]
  },
  {
   "cell_type": "code",
   "execution_count": null,
   "metadata": {},
   "outputs": [],
   "source": [
    "# Producto punto de dos vectores\n",
    "v1 = np.array([1, 2, 3])\n",
    "v2 = np.array([4, 5, 6])\n",
    "print(np.dot(v1, v2))"
   ]
  },
  {
   "cell_type": "markdown",
   "metadata": {},
   "source": [
    "Números uniformemente espaciados sobre un intervalo especificado."
   ]
  },
  {
   "cell_type": "code",
   "execution_count": null,
   "metadata": {},
   "outputs": [],
   "source": [
    "arr = np.linspace(0, 100, 10)\n",
    "arr"
   ]
  },
  {
   "cell_type": "markdown",
   "metadata": {},
   "source": [
    "Array reshaping"
   ]
  },
  {
   "cell_type": "code",
   "execution_count": null,
   "metadata": {},
   "outputs": [],
   "source": [
    "# Crear un array de 10x10\n",
    "arr = np.arange(100).reshape(10, 10) \n",
    "# Imprimir el array\n",
    "print(arr) \n",
    "# Obtener la forma del array\n",
    "arr.shape  "
   ]
  },
  {
   "cell_type": "code",
   "execution_count": null,
   "metadata": {},
   "outputs": [],
   "source": [
    "# Crear un array de 2x5x10\n",
    "arr = np.arange(100).reshape(2, 5, 10) \n",
    "# Imprimir el array\n",
    "print(arr) \n",
    "# Obtener la forma del array\n",
    "arr.shape "
   ]
  },
  {
   "cell_type": "markdown",
   "metadata": {},
   "source": [
    "**Ejercicio**\n",
    "Crea una función que tome como entrada una matriz NumPy y un eje (axis) y devuelva la suma de los elementos a lo largo del eje especificado.\n"
   ]
  },
  {
   "cell_type": "code",
   "execution_count": null,
   "metadata": {},
   "outputs": [],
   "source": [
    "# Solución\n",
    "\n",
    "def suma_eje(matrix, axis): # Suma a lo largo de un eje\n",
    "    return np.sum(matrix, axis=axis) # Suma a lo largo del eje especificado\n",
    "\n",
    "# Ejemplo de uso\n",
    "matrix = np.array([[1, 2, 3], [4, 5, 6]])\n",
    "print(suma_eje(matrix, axis=0))  # Suma a lo largo de las columnas\n",
    "print(suma_eje(matrix, axis=1))  # Suma a lo largo de las filas\n",
    "\n"
   ]
  },
  {
   "cell_type": "code",
   "execution_count": 6,
   "metadata": {},
   "outputs": [
    {
     "name": "stdout",
     "output_type": "stream",
     "text": [
      "[[ 0  1  2  3]\n",
      " [ 4  5  6  7]\n",
      " [ 8  9 10 11]\n",
      " [12 13 14 15]]\n",
      "120\n",
      "[24 28 32 36]\n",
      "[ 6 22 38 54]\n"
     ]
    }
   ],
   "source": [
    "arr = np.arange(16).reshape(4, 4) # Crear un array de 4x4\n",
    "print(arr) # Imprimir el array\n",
    "print(arr.sum()) # Suma de todos los elementos\n",
    "print(arr.sum(axis=0)) # Suma sobre columnas\n",
    "print(arr.sum(axis=1)) # Suma sobre filas\n"
   ]
  },
  {
   "cell_type": "code",
   "execution_count": null,
   "metadata": {},
   "outputs": [],
   "source": [
    "# Máximo de todos los elementos\n",
    "print(arr.max()) \n",
    "# Mínimo de todos los elementos\n",
    "print(arr.min()) \n",
    "# Mínimo de cada fila\n",
    "print(arr.min(axis=1)) \n",
    "# Mínimo de cada columna\n",
    "print(arr.min(axis=0)) "
   ]
  },
  {
   "cell_type": "markdown",
   "metadata": {},
   "source": [
    "Arrays de 1 y 0"
   ]
  },
  {
   "cell_type": "code",
   "execution_count": null,
   "metadata": {},
   "outputs": [],
   "source": [
    "arr = np.zeros(10) # Crear un array de 10 ceros\n",
    "arr"
   ]
  },
  {
   "cell_type": "code",
   "execution_count": null,
   "metadata": {},
   "outputs": [],
   "source": [
    "arr = np.ones(10) # Crear un array de 10 unos\n",
    "arr"
   ]
  },
  {
   "cell_type": "code",
   "execution_count": null,
   "metadata": {},
   "outputs": [],
   "source": [
    "arr = np.linspace(0, 100, 10) # Crear un array de 10 elementos entre 0 y 100\n",
    "arr.std() # Calcular la desviación estándar"
   ]
  },
  {
   "cell_type": "code",
   "execution_count": null,
   "metadata": {},
   "outputs": [],
   "source": [
    "arr_1 = np.array([1, 2, 3, 4, 6]) # Crear un array de 1D\n",
    "arr_2 = np.arange(5) # Crear un array de 1D\n",
    "\n",
    "np.add(arr_1, arr_2) # Sumar los dos arrays"
   ]
  },
  {
   "cell_type": "markdown",
   "metadata": {},
   "source": [
    "Arrays aleatorios"
   ]
  },
  {
   "cell_type": "code",
   "execution_count": null,
   "metadata": {},
   "outputs": [],
   "source": [
    "dice_samples = np.random.randint(1, 7, size=15)\n",
    "dice_samples"
   ]
  },
  {
   "cell_type": "code",
   "execution_count": 18,
   "metadata": {},
   "outputs": [
    {
     "data": {
      "text/plain": [
       "array([[15, 27, 26,  6],\n",
       "       [22, 24, 23, 13],\n",
       "       [14, 19,  3,  4],\n",
       "       [10, 11, 18, 21],\n",
       "       [16, 20,  8,  1],\n",
       "       [ 2, 12, 28,  9],\n",
       "       [25,  5,  7, 17]])"
      ]
     },
     "execution_count": 18,
     "metadata": {},
     "output_type": "execute_result"
    }
   ],
   "source": [
    "# Crear un array de 7x4 con valores aleatorios entre 1 y 28 sin que se repitan\n",
    "\n",
    "arr = np.random.choice(np.arange(1, 29), size=(7, 4), replace=False)\n",
    "arr\n"
   ]
  },
  {
   "cell_type": "code",
   "execution_count": 22,
   "metadata": {},
   "outputs": [
    {
     "data": {
      "text/plain": [
       "array([10, 25, 16, 13, 20])"
      ]
     },
     "execution_count": 22,
     "metadata": {},
     "output_type": "execute_result"
    }
   ],
   "source": [
    "dice_samples = np.random.choice(arr.flatten(), size=5) # Muestrear 5 elementos del array\n",
    "dice_samples"
   ]
  }
 ],
 "metadata": {
  "kernelspec": {
   "display_name": "Python 3",
   "language": "python",
   "name": "python3"
  },
  "language_info": {
   "codemirror_mode": {
    "name": "ipython",
    "version": 3
   },
   "file_extension": ".py",
   "mimetype": "text/x-python",
   "name": "python",
   "nbconvert_exporter": "python",
   "pygments_lexer": "ipython3",
   "version": "3.12.4"
  }
 },
 "nbformat": 4,
 "nbformat_minor": 2
}
