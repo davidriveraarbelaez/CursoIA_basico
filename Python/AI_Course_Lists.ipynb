{
  "cells": [
    {
      "cell_type": "markdown",
      "metadata": {
        "id": "jKadsgkg0lEU"
      },
      "source": [
        "1.   **Lists**\n",
        "\n",
        "A list in Python is an ordered and modifiable collection of elements. It is defined using square brackets [], and can contain elements of any type: numbers, strings, booleans, and even other lists.\n",
        "\n",
        "Features:\n",
        "* Mutable: items can be changed, added or deleted after creation.\n",
        "* Indexed: elements can be accessed through indexes.\n",
        "* Heterogeneous: it can contain different types of data at the same time."
      ]
    },
    {
      "cell_type": "code",
      "execution_count": null,
      "metadata": {
        "id": "vWr0L4QP0kix"
      },
      "outputs": [],
      "source": [
        "# Create a list with different data types\n",
        "my_list = [1, \"Hello\", True, 3.14]\n",
        "print(my_list)"
      ]
    },
    {
      "cell_type": "markdown",
      "metadata": {
        "id": "oOZz-DitMBau"
      },
      "source": [
        "2.   **Accessing items in lists**\n",
        "\n",
        "Items in a list are accessed using indexes. The index starts at 0."
      ]
    },
    {
      "cell_type": "code",
      "execution_count": null,
      "metadata": {
        "id": "GlnC8KiwMJK5"
      },
      "outputs": [],
      "source": [
        "# Example list\n",
        "numbers = [10, 20, 30, 40, 50] # Access the first element\n",
        "print(numbers[0]) # 10 # Access the last element\n",
        "print(numbers[-1]) # 50\n",
        "# Accessing a sublist (slicing)\n",
        "print(numbers[1:4]) # [20, 30, 40]"
      ]
    },
    {
      "cell_type": "markdown",
      "metadata": {
        "id": "U7k7bxKfMpqk"
      },
      "source": [
        "3.  **Modify lists**\n",
        "\n",
        "Lists are mutable, which means that we can change their elements after they have been created."
      ]
    },
    {
      "cell_type": "code",
      "execution_count": null,
      "metadata": {
        "id": "7v7nrSf3MtxN"
      },
      "outputs": [],
      "source": [
        "# Change an item in the list\n",
        "numbers = [10, 20, 30, 40, 50]\n",
        "numbers[2] = 35\n",
        "print(numbers) # [10, 20, 35, 40, 50]\n",
        "# Add items\n",
        "numbers.append(60)\n",
        "print(numbers) # [10, 20, 35, 40, 50, 60]\n",
        "\n",
        "# Insert an item at a specific position\n",
        "numbers.insert(1, 15)\n",
        "print(numbers) # [10, 15, 20, 35, 40, 50, 60]\n",
        "\n",
        "# Remove an element by value\n",
        "numbers.remove(35)\n",
        "print(numbers) # [10, 15, 20, 40, 50, 60]\n",
        "\n",
        "# Remove an element by index\n",
        "numbers.pop(0)\n",
        "print(numbers) # [15, 20, 40, 50, 60] # [15, 20, 40, 50, 60]\n",
        "# Remove an element by index\n",
        "numbers.pop(0)\n",
        "print(numbers) # [15, 20, 40, 50, 60]"
      ]
    },
    {
      "cell_type": "markdown",
      "metadata": {
        "id": "Eoeu2iKaNesF"
      },
      "source": [
        "4.  **Common operations with lists**\n",
        "\n",
        "Python provides several common and useful operations for working with lists."
      ]
    },
    {
      "cell_type": "code",
      "execution_count": 1,
      "metadata": {
        "id": "A5f-1O7BNeV6"
      },
      "outputs": [
        {
          "name": "stdout",
          "output_type": "stream",
          "text": [
            "5\n"
          ]
        }
      ],
      "source": [
        "# Length of a list:\n",
        "\n",
        "numbers = [10, 20, 30, 40, 50]\n",
        "print(len(numbers))  # 5"
      ]
    },
    {
      "cell_type": "code",
      "execution_count": null,
      "metadata": {
        "id": "J_bGkEY6Nu-l"
      },
      "outputs": [],
      "source": [
        "# Check if an item is in a list:\n",
        "\n",
        "print(30 in numbers)  # True\n",
        "print(100 in numbers)  # False"
      ]
    },
    {
      "cell_type": "code",
      "execution_count": null,
      "metadata": {
        "id": "aJPkQndjN5EL"
      },
      "outputs": [],
      "source": [
        "# Counting repeated elements:\n",
        "\n",
        "my_list = [1, 2, 3, 1, 4, 1]\n",
        "print(my_list.count(1))  # 3"
      ]
    },
    {
      "cell_type": "code",
      "execution_count": null,
      "metadata": {
        "id": "hRloE9zFOJsn"
      },
      "outputs": [],
      "source": [
        "# Reverse a list:\n",
        "\n",
        "my_list = [1, 2, 3, 4]\n",
        "my_list.reverse()\n",
        "print(my_list)  # [4, 3, 2, 1]"
      ]
    },
    {
      "cell_type": "code",
      "execution_count": null,
      "metadata": {
        "id": "ZhrY0RcLOheq"
      },
      "outputs": [],
      "source": [
        "# Order a list:\n",
        "\n",
        "numbers = [50, 10, 40, 30, 20]\n",
        "numbers.sort()\n",
        "print(numbers)  # [10, 20, 30, 40, 50]"
      ]
    },
    {
      "cell_type": "code",
      "execution_count": null,
      "metadata": {
        "id": "Cn_-RdPNOw-u"
      },
      "outputs": [],
      "source": [
        "# Nested lists\n",
        "# Lists can contain other lists, allowing the creation of more complex structures such as arrays.\n",
        "\n",
        "matrix = [[1, 2, 3], [4, 5, 6], [7, 8, 9]]\n",
        "\n",
        "# Acceder a un elemento en una lista anidada\n",
        "print(matrix[1][2])  # 6"
      ]
    },
    {
      "cell_type": "code",
      "execution_count": null,
      "metadata": {
        "id": "4yF0JvFSPEya"
      },
      "outputs": [],
      "source": [
        "# List Comprehension\n",
        "# It is a concise and efficient way to create lists based on iterations or conditions.\n",
        "\n",
        "# Creates a list of number squares\n",
        "squares = [x**2 for x in range(10)]\n",
        "print(squares)  # [0, 1, 4, 9, 16, 25, 36, 49, 64, 81]\n",
        "\n",
        "# Crear una lista con solo números pares\n",
        "odd = [x for x in range(10) if x % 2 == 0]\n",
        "print(odd)  # [0, 2, 4, 6, 8]"
      ]
    },
    {
      "cell_type": "markdown",
      "metadata": {
        "id": "p0RSTXmQPrvQ"
      },
      "source": [
        "5.  **Useful functions for lists**\n",
        "\n",
        "Python provides predefined functions that are useful for handling lists. Examples:\n",
        "*   **sum()**: Adds the elements of a numeric list.\n",
        "*   **min() and max()**: Finds the minimum and maximum value in a list."
      ]
    },
    {
      "cell_type": "code",
      "execution_count": 4,
      "metadata": {
        "id": "B32Z8eNwP-N1"
      },
      "outputs": [
        {
          "name": "stdout",
          "output_type": "stream",
          "text": [
            "150\n",
            "10\n",
            "50\n"
          ]
        }
      ],
      "source": [
        "numbers = [10, 20, 30, 40, 50]\n",
        "print(sum(numbers)) # 150\n",
        "print(min(numbers)) # 10\n",
        "print(max(numbers)) # 50."
      ]
    },
    {
      "cell_type": "markdown",
      "metadata": {
        "id": "ZMsnOyNYL9mL"
      },
      "source": [
        "6. When to use Lists?\n",
        "\n",
        "You should use lists in Python when:\n",
        "   1. **You need to modify the collection:** Lists are mutable, meaning you can change, add, or remove elements after the list is created. If your data needs to be updated frequently, lists are the better option.\n",
        "**Example:** Managing a dynamic list of tasks or items in a shopping cart.\n",
        "   2. **Order of elements matters:** Lists maintain the order in which elements are added. If you care about the order of items (e.g., maintaining a sequence of actions or events), lists are a good choice.\n",
        "**Example:** Keeping track of steps in a process or storing data where order is critical (e.g., timestamps).\n",
        "   3. **You need to store a collection of similar items:**Lists are commonly used to store collections of homogeneous items (like a list of numbers, strings, or objects) but can also handle mixed types if needed.\n",
        "**Example:** Storing a list of students' names, a sequence of numbers, or objects in a game.\n",
        "   4. **You need to perform frequent updates or operations on the collection:**\n",
        "Lists support many operations that make data manipulation easy (such as appending, popping, sorting, reversing, etc.).\n",
        "**Example:** Maintaining a to-do list where you regularly add and remove tasks.\n",
        "   5. **Memory efficiency isn't a concern:** Lists take more memory than tuples since they are mutable. If memory efficiency is not critical, and you value flexibility, lists work well.\n",
        "\n",
        "**Use Cases:**\n",
        "\n",
        "*   **Dynamic collections:** Shopping lists, task lists, chat messages in real-time, sensor data that updates periodically.\n",
        "*   **Frequent modifications:** Storing a list of items where elements will frequently be changed, like managing the state of an application or user input.\n",
        "*   **Iterative processes:** Use lists for looping through elements, especially when the collection needs to be modified during iterations."
      ]
    },
    {
      "cell_type": "markdown",
      "metadata": {
        "id": "C99QnV4uQNq7"
      },
      "source": [
        "7.  **Practical exercises**\n",
        "    1.   Create a list containing the first 10 even numbers and then reverse the order.\n",
        "    2.   Given a list of numbers, eliminate all numbers that are multiples of 3.\n",
        "    3.   Use nested lists to represent a multiplication table from 1 to 5.\n",
        "    4.   Create a list for comprehension that contains the squares of the first 10 numbers, but only if they are odd."
      ]
    },
    {
      "cell_type": "code",
      "execution_count": 2,
      "metadata": {
        "id": "9ym21f7PQb9Y"
      },
      "outputs": [
        {
          "name": "stdout",
          "output_type": "stream",
          "text": [
            "[20, 18, 16, 14, 12, 10, 8, 6, 4, 2]\n"
          ]
        }
      ],
      "source": [
        "# 1. Create a list containing the first 10 even numbers and then reverse the order.\n",
        "\n",
        "even_numbers = [x for x in range(2, 21, 2)]\n",
        "even_numbers.reverse()\n",
        "print(even_numbers)\n",
        "\n"
      ]
    },
    {
      "cell_type": "code",
      "execution_count": 3,
      "metadata": {
        "id": "jf9D6E5uQg-u"
      },
      "outputs": [
        {
          "name": "stdout",
          "output_type": "stream",
          "text": [
            "[10, 20, 40, 50, 70, 80, 100]\n"
          ]
        }
      ],
      "source": [
        "# 2. Given a list of numbers, eliminate all numbers that are multiples of 3.\n",
        "\n",
        "numbers = [10, 20, 30, 40, 50, 60, 70, 80, 90, 100]\n",
        "numbers = [x for x in numbers if x % 3 != 0]\n",
        "print(numbers)\n"
      ]
    },
    {
      "cell_type": "code",
      "execution_count": 1,
      "metadata": {
        "id": "ADKBu-TlQlT6"
      },
      "outputs": [
        {
          "name": "stdout",
          "output_type": "stream",
          "text": [
            "[[1, 2, 3, 4, 5], [2, 4, 6, 8, 10], [3, 6, 9, 12, 15], [4, 8, 12, 16, 20], [5, 10, 15, 20, 25]]\n"
          ]
        }
      ],
      "source": [
        "# 3. Use nested lists to represent a multiplication table from 1 to 5.\n",
        "\n",
        "table = [[i * j for j in range(1, 6)] for i in range(1, 6)]\n",
        "print(table)\n"
      ]
    },
    {
      "cell_type": "code",
      "execution_count": 3,
      "metadata": {
        "id": "ApVuefqBQoUu"
      },
      "outputs": [
        {
          "name": "stdout",
          "output_type": "stream",
          "text": [
            "[1, 9, 25, 49, 81]\n"
          ]
        }
      ],
      "source": [
        "# 4. Create a list for comprehension that contains the squares of the first 10 numbers, but only if they are odd.\n",
        "\n",
        "squares = [x**2 for x in range(1, 11) if x % 2 != 0]\n",
        "print(squares)"
      ]
    },
    {
      "cell_type": "markdown",
      "metadata": {
        "id": "mwIlNSuJ1Dcx"
      },
      "source": []
    }
  ],
  "metadata": {
    "colab": {
      "provenance": []
    },
    "kernelspec": {
      "display_name": "Python 3",
      "language": "python",
      "name": "python3"
    },
    "language_info": {
      "codemirror_mode": {
        "name": "ipython",
        "version": 3
      },
      "file_extension": ".py",
      "mimetype": "text/x-python",
      "name": "python",
      "nbconvert_exporter": "python",
      "pygments_lexer": "ipython3",
      "version": "3.12.4"
    }
  },
  "nbformat": 4,
  "nbformat_minor": 0
}
