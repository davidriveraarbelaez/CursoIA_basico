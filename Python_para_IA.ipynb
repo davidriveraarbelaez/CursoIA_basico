{
 "cells": [
  {
   "cell_type": "markdown",
   "metadata": {},
   "source": [
    "Curso introductorio de Python para Inteligencia Artificial"
   ]
  },
  {
   "cell_type": "code",
   "execution_count": null,
   "metadata": {},
   "outputs": [],
   "source": [
    "# Hola Python\n",
    "\n",
    "# Comentario de una sola línea\n",
    "\n",
    "'''\n",
    "Comentario de varias líneas\n",
    "'''\n",
    "\n",
    "print(\"Hola Python\")"
   ]
  },
  {
   "cell_type": "markdown",
   "metadata": {},
   "source": [
    "## ¿Qué es una variable en Python?\n",
    "\n",
    "Una variable es un espacio de memoria que se utiliza para almacenar un valor. En Python, las variables se crean cuando se les asigna un valor. Por ejemplo:\n",
    "\n",
    "```python\n",
    "nombre = \"Juan\"\n",
    "edad = 25\n",
    "altura = 1.75\n",
    "es_hombre = True\n",
    "```\n",
    "\n",
    "## Reglas para nombrar variables en Python\n",
    "\n",
    "1. Los nombres de las variables deben comenzar con una letra o un guión bajo. Por ejemplo: `nombre`, `Nombre`, `NOMBRE`, `nOmbre`, `NOMBRE`, `nOMBRE`, `_nombre`, `_Nombre`, `_NOMBRE`, `_nOmbre`, `_NOMBRE`, `_nOMBRE`\n",
    "2. El resto de la variable puede contener letras, números y guiones bajos. Por ejemplo: `nombre`, `Nombre`, `NOMBRE`, `nOmbre`, `NOMBRE`, `nOMBRE`, `nombre1`, `Nombre1`, `NOMBRE1`, `nOmbre1`, `NOMBRE1`, `nOMBRE1`, `nombre_1`, `Nombre_1`, `NOMBRE_1`, `nOmbre_1`, `NOMBRE_1`, `nOMBRE_1`\n",
    "3. Los nombres de las variables distinguen entre mayúsculas y minúsculas. Por ejemplo: `nombre`, `Nombre`, `NOMBRE`, `nOmbre`, `NOMBRE`, `nOMBRE\n",
    "4. Los nombres de las variables no pueden ser palabras reservadas de Python. Por ejemplo: `if`, `else`, `for`, `while`, `and`, `or`, `not`, `break`, `continue`, `pass`, `def`, `return`, `lambda`, `class`, `global`, `nonlocal`, `del`, `import`, `from`, `as`, `with`, `try`, `except`, `finally`, `raise`, `assert`, `yield`, `in`, `is`, `None`, `True`, `False`, `print`, `input`, `int`, `float`, `str`, `list`, `tuple`, `dict`, `set`, `frozenset`, `range`, `enumerate`, `zip`, `sorted`, `reversed`, `sum`, `min`, `max`, `abs`, `round`, `len`, `type`, `id`, `dir`, `help`, `hasattr`, `getattr`, `setattr`, `delattr`, `isinstance`, `issubclass`, `callable`, `open`, `close`, `read`, `write`, `seek`, `tell`, `flush`, `fileno`, `readline`, `readlines`, `writelines`, `truncate`, `split`, `join`, `strip`, `lstrip`, `rstrip`, `replace`, `find`, `index`, `count`, `lower`, `upper`, `title`, `capitalize`, `swapcase`, `casefold`, `center`, `ljust`, `rjust`, `zfill`, `format`, `encode`, `decode`, `isalpha`, `isdigit`, `isalnum`, `islower`, `isupper`, `istitle`, `isspace`, `isdecimal`, `isnumeric`, `isidentifier`, `isprintable`, `isascii`, `isidentifier`, `isprintable`, `isascii`, `isdecimal`, `isnumeric`, `isalpha`, `isdigit`, `isalnum`, `islower`, `isupper`, `istitle`, `isspace`, `splitlines`, `partition`, `rpartition`, `startswith`, `endswith`, `expandtabs`, `translate`, `maketrans`, `findall`, `compile`, `match`, `fullmatch`, `search`, `sub`, `subn`, `finditer`, `escape`, `Pattern`, `Match`, `Scanner`, `RegexFlag`, `RegexMatch`, `RegexPattern`, `RegexScanner`, `RegexSet`, `\n"
   ]
  },
  {
   "cell_type": "code",
   "execution_count": null,
   "metadata": {},
   "outputs": [],
   "source": [
    "# Ejemplo de operadores en Python\n",
    "# Operadores aritméticos\n",
    "a = 2\n",
    "b = 3\n",
    "print(a + b)\n",
    "print(a - b)\n",
    "print(a * b)\n",
    "print(a / b)\n",
    "print(a % b)\n",
    "print(a ** b)\n",
    "print(a // b)\n",
    "\n",
    "# Operadores de comparación\n",
    "a = 2\n",
    "b = 3\n",
    "print(a == b)\n",
    "print(a != b)\n",
    "print(a > b)\n",
    "print(a < b)\n",
    "print(a >= b)\n",
    "print(a <= b)\n",
    "\n",
    "# Operadores lógicos\n",
    "a = True\n",
    "b = False\n",
    "print(a and b)\n",
    "print(a or b)\n",
    "print(not a)"
   ]
  },
  {
   "cell_type": "markdown",
   "metadata": {},
   "source": [
    "#Tipos de datos en Python\n",
    "\n",
    "Python es un lenguaje de programación de alto nivel, interpretado y orientado a objetos. Es un lenguaje de programación muy versátil y fácil de aprender. En Python, los tipos de datos son los distintos valores que pueden ser asignados a una variable. Los tipos de datos en Python son los siguientes:\n",
    "\n",
    "1. Números\n",
    "2. Booleanos\n",
    "3. Cadenas\n",
    "4. Listas\n",
    "5. Tuplas\n",
    "6. Conjuntos\n",
    "7. Diccionarios\n"
   ]
  },
  {
   "cell_type": "code",
   "execution_count": null,
   "metadata": {},
   "outputs": [],
   "source": [
    "# Ejemplo de números en Python\n",
    "# Enteros\n",
    "a = 2\n",
    "b = 3\n",
    "print(a + b)\n",
    "\n",
    "# Flotantes\n",
    "c = 2.5\n",
    "d = 3.5\n",
    "print(c + d)\n",
    "print(type(a))\n",
    "print(type(c))"
   ]
  },
  {
   "cell_type": "code",
   "execution_count": 3,
   "metadata": {},
   "outputs": [
    {
     "name": "stdout",
     "output_type": "stream",
     "text": [
      "<class 'bool'>\n",
      "<class 'bool'>\n"
     ]
    }
   ],
   "source": [
    "# Ejemplo de booleanos en Python\n",
    "# Verdadero\n",
    "e = True\n",
    "# Falso\n",
    "f = False\n",
    "print(type(e))\n",
    "print(type(f))\n"
   ]
  },
  {
   "cell_type": "code",
   "execution_count": null,
   "metadata": {},
   "outputs": [],
   "source": [
    "# Ejemplo de cadenas (String) en Python\n",
    "\n",
    "# Cadena de texto\n",
    "cadena = \"Hola Python \"\n",
    "print(cadena)\n",
    "\n",
    "# Concatenación de cadenas\n",
    "cadena1 = \"Hola\"\n",
    "cadena2 = \"Python\"\n",
    "print(cadena1 + \" \" + cadena2)\n",
    "\n",
    "# Multiplicación de cadenas\n",
    "print(cadena * 3)\n",
    "\n",
    "type(cadena)"
   ]
  },
  {
   "cell_type": "markdown",
   "metadata": {},
   "source": [
    "Listas"
   ]
  },
  {
   "cell_type": "code",
   "execution_count": null,
   "metadata": {},
   "outputs": [],
   "source": [
    "# Ejemplo de listas en Python\n",
    "# Lista de números\n",
    "numeros = [1, 2, 3, 4, 5]\n",
    "print(numeros)"
   ]
  },
  {
   "cell_type": "code",
   "execution_count": null,
   "metadata": {},
   "outputs": [],
   "source": [
    "# Lista de cadenas\n",
    "cadenas = [\"Hola\", \"Python\"]\n",
    "print(cadenas)"
   ]
  },
  {
   "cell_type": "code",
   "execution_count": null,
   "metadata": {},
   "outputs": [],
   "source": [
    "# Lista de booleanos\n",
    "booleanos = [True, False]\n",
    "print(booleanos)"
   ]
  },
  {
   "cell_type": "code",
   "execution_count": null,
   "metadata": {},
   "outputs": [],
   "source": [
    "# Lista de listas\n",
    "listas = [[1, 2], [3, 4]]\n",
    "print(listas)"
   ]
  },
  {
   "cell_type": "code",
   "execution_count": null,
   "metadata": {},
   "outputs": [],
   "source": [
    "# Operaciones con listas\n",
    "# Longitud de una lista\n",
    "print(len(numeros))"
   ]
  },
  {
   "cell_type": "code",
   "execution_count": null,
   "metadata": {},
   "outputs": [],
   "source": [
    "# Agregar un elemento a una lista\n",
    "numeros.append(6)\n",
    "print(numeros)\n",
    "\n",
    "# Eliminar un elemento de una lista\n",
    "numeros.remove(6)\n",
    "print(numeros)"
   ]
  },
  {
   "cell_type": "code",
   "execution_count": null,
   "metadata": {},
   "outputs": [],
   "source": [
    "# Ejemplo de tuplas en Python\n",
    "# Tupla de números\n",
    "numeros = (1, 2, 3, 4, 5)\n",
    "print(numeros)\n",
    "\n",
    "# Tupla de cadenas\n",
    "cadenas = (\"Hola\", \"Python\")\n",
    "print(cadenas)\n",
    "\n",
    "# Tupla de booleanos\n",
    "booleanos = (True, False)\n",
    "print(booleanos)\n",
    "\n",
    "# Tupla de listas\n",
    "listas = ([1, 2], [3, 4])\n",
    "print(listas)"
   ]
  },
  {
   "cell_type": "code",
   "execution_count": null,
   "metadata": {},
   "outputs": [],
   "source": [
    "# Operaciones con tuplas\n",
    "# Longitud de una tupla \n",
    "print(len(numeros))\n",
    "\n",
    "# Acceder a un elemento de una tupla\n",
    "print(numeros[0])"
   ]
  },
  {
   "cell_type": "code",
   "execution_count": null,
   "metadata": {},
   "outputs": [],
   "source": [
    "# Ejemplo de tuplas para almacenar información de estudiantes de ingeniería industrial\n",
    "\n",
    "# Tupla de estudiantes\n",
    "estudiantes = ( \n",
    "    (\"Juan\", 21, \"M\"), # Nombre, Edad, Género\n",
    "    (\"Ana\", 22, \"F\"),\n",
    "    (\"Luis\", 23, \"M\"),\n",
    "    (\"Maria\", 24, \"F\")\n",
    ")\n",
    "\n",
    "# Imprimir información de los estudiantes\n",
    "for estudiante in estudiantes:\n",
    "    nombre, edad, genero = estudiante\n",
    "    print(f\"Nombre: {nombre}, Edad: {edad}, Género: {genero}\")\n",
    "\n",
    "# Acceder a un estudiante específico\n",
    "print(\"\\nInformación del primer estudiante:\")\n",
    "print(f\"Nombre: {estudiantes[0][0]}, Edad: {estudiantes[0][1]}, Género: {estudiantes[0][2]}\")"
   ]
  },
  {
   "cell_type": "code",
   "execution_count": null,
   "metadata": {},
   "outputs": [],
   "source": [
    "# Ejemplo de diccionarios en Python\n",
    "# Diccionario de números\n",
    "numeros = {\"uno\": 1, \"dos\": 2, \"tres\": 3}\n",
    "print(numeros)\n",
    "\n",
    "# Diccionario de cadenas\n",
    "cadenas = {\"saludo\": \"Hola\", \"lenguaje\": \"Python\"}\n",
    "print(cadenas)\n",
    "\n",
    "# Diccionario de booleanos\n",
    "booleanos = {\"verdadero\": True, \"falso\": False}\n",
    "print(booleanos)\n",
    "\n",
    "# Diccionario de listas\n",
    "listas = {\"numeros\": [1, 2, 3], \"cadenas\": [\"Hola\", \"Python\"]}\n",
    "print(listas)"
   ]
  },
  {
   "cell_type": "code",
   "execution_count": null,
   "metadata": {},
   "outputs": [],
   "source": [
    "# Operaciones con diccionarios\n",
    "# Longitud de un diccionario\n",
    "print(len(numeros))\n",
    "\n",
    "# Agregar un elemento a un diccionario\n",
    "numeros[\"cuatro\"] = 4\n",
    "print(numeros)\n",
    "\n",
    "# Eliminar un elemento de un diccionario\n",
    "del numeros[\"cuatro\"]\n",
    "print(numeros)"
   ]
  },
  {
   "cell_type": "code",
   "execution_count": null,
   "metadata": {},
   "outputs": [],
   "source": [
    "# Ejemplo de uso de diccionarios para almacenar información de estudiantes\n",
    "\n",
    "# Diccionario para almacenar información de estudiantes\n",
    "estudiantes_ia = {\n",
    "    \"Juan\": {\"edad\": 21, \"genero\": \"M\", \"nota\": 1.5},\n",
    "    \"Ana\": {\"edad\": 22, \"genero\": \"F\", \"nota\": 2.9},\n",
    "    \"Luis\": {\"edad\": 23, \"genero\": \"M\", \"nota\": 4.8},\n",
    "    \"Maria\": {\"edad\": 24, \"genero\": \"F\", \"nota\": 3.2}\n",
    "}\n",
    "\n",
    "# Imprimir información de los estudiantes\n",
    "for nombre, info in estudiantes_ia.items():\n",
    "    print(f\"Nombre: {nombre}, Edad: {info['edad']}, Género: {info['genero']}, Nota: {info['nota']}\")\n",
    "\n",
    "# Acceder a la información de un estudiante específico\n",
    "nombre_estudiante = \"Maria\"\n",
    "if nombre_estudiante in estudiantes_ia:\n",
    "    info = estudiantes_ia[nombre_estudiante]\n",
    "    print(f\"\\nInformación de {nombre_estudiante}: Edad: {info['edad']}, Género: {info['genero']}, Nota: {info['nota']}\")\n",
    "else:\n",
    "    print(f\"\\nEstudiante {nombre_estudiante} no encontrado\")\n",
    "\n",
    "# Calcular la nota promedio de los estudiantes\n",
    "total_notas = sum(info['nota'] for info in estudiantes_ia.values())\n",
    "promedio_notas = total_notas / len(estudiantes_ia)\n",
    "print(f\"\\nNota promedio de los estudiantes: {promedio_notas}\")"
   ]
  },
  {
   "cell_type": "code",
   "execution_count": null,
   "metadata": {},
   "outputs": [],
   "source": [
    "# Ejemplo de conjuntos en Python\n",
    "# Conjunto de números\n",
    "numeros = {1, 2, 3, 4, 5}\n",
    "print(numeros)\n",
    "\n",
    "# Conjunto de cadenas\n",
    "cadenas = {\"Hola\", \"Python\"}\n",
    "print(cadenas)\n",
    "\n",
    "# Conjunto de booleanos\n",
    "booleanos = {True, False}\n",
    "print(booleanos)\n",
    "\n",
    "# Operaciones con conjuntos\n",
    "# Longitud de un conjunto\n",
    "print(len(numeros))\n",
    "\n",
    "# Agregar un elemento a un conjunto\n",
    "numeros.add(6)\n",
    "print(numeros)\n",
    "\n",
    "# Eliminar un elemento de un conjunto\n",
    "numeros.remove(6)\n",
    "print(numeros)"
   ]
  },
  {
   "cell_type": "code",
   "execution_count": null,
   "metadata": {},
   "outputs": [],
   "source": [
    "count = 0\n",
    "while count < 5:\n",
    "    print(count)\n",
    "    count += 1"
   ]
  },
  {
   "cell_type": "code",
   "execution_count": null,
   "metadata": {},
   "outputs": [],
   "source": [
    "# Ejemplo de estructuras de control en Python\n",
    "# Estructura if\n",
    "a = 2\n",
    "b = 3\n",
    "if a < b:\n",
    "    print(\"a es menor que b\")\n",
    "\n",
    "# Estructura if-else\n",
    "a = 2\n",
    "b = 3\n",
    "if a < b:\n",
    "    print(\"a es menor que b\")\n",
    "else:\n",
    "    print(\"a es mayor o igual que b\")\n",
    "\n",
    "# Estructura if-elif-else\n",
    "a = 2\n",
    "b = 3\n",
    "if a < b:\n",
    "    print(\"a es menor que b\")\n",
    "elif a == b:\n",
    "    print(\"a es igual que b\")\n",
    "else:\n",
    "    print(\"a es mayor que b\")"
   ]
  },
  {
   "cell_type": "code",
   "execution_count": null,
   "metadata": {},
   "outputs": [],
   "source": [
    "# Estructura while\n",
    "i = 0\n",
    "while i < 5:\n",
    "    print(i)\n",
    "    i += 1"
   ]
  },
  {
   "cell_type": "code",
   "execution_count": null,
   "metadata": {},
   "outputs": [],
   "source": [
    "# Estructura for\n",
    "numeros = [1, 2, 3, 4, 5]\n",
    "for numero in numeros:\n",
    "    print(numero)"
   ]
  },
  {
   "cell_type": "code",
   "execution_count": null,
   "metadata": {},
   "outputs": [],
   "source": [
    "# Control de bucles\n",
    "# Estructura break\n",
    "for i in range(5):\n",
    "    if i == 3:\n",
    "        break\n",
    "    print(i)"
   ]
  },
  {
   "cell_type": "code",
   "execution_count": null,
   "metadata": {},
   "outputs": [],
   "source": [
    "# Estructura continue\n",
    "for i in range(5):\n",
    "    if i == 3:\n",
    "        continue\n",
    "    print(i)"
   ]
  },
  {
   "cell_type": "code",
   "execution_count": null,
   "metadata": {},
   "outputs": [],
   "source": [
    "# Estructura pass\n",
    "for i in range(5):\n",
    "    if i == 3:\n",
    "        pass\n",
    "    print(i)"
   ]
  },
  {
   "cell_type": "code",
   "execution_count": null,
   "metadata": {},
   "outputs": [],
   "source": [
    "# Ejemplo de funciones en Python\n",
    "# Función sin parámetros y sin retorno\n",
    "def saludar():\n",
    "    print(\"Hola Python\")\n",
    "\n",
    "saludar()"
   ]
  },
  {
   "cell_type": "code",
   "execution_count": 13,
   "metadata": {},
   "outputs": [
    {
     "name": "stdout",
     "output_type": "stream",
     "text": [
      "Hola Juan\n"
     ]
    }
   ],
   "source": [
    "# Función con parámetros\n",
    "def saludar(nombre):\n",
    "    print(f\"Hola {nombre}\")\n",
    "\n",
    "# Llamada a la función con un argumento\n",
    "saludar(\"Juan\")"
   ]
  },
  {
   "cell_type": "code",
   "execution_count": null,
   "metadata": {},
   "outputs": [],
   "source": [
    "# Función con parámetros y retorno\n",
    "def sumar(a, b):\n",
    "    return a + b\n",
    "\n",
    "print(sumar(2, 3))"
   ]
  },
  {
   "cell_type": "code",
   "execution_count": null,
   "metadata": {},
   "outputs": [],
   "source": [
    "# Función con valor por defecto\n",
    "def sumar(a, b=3):\n",
    "    return a + b\n",
    "\n",
    "print(sumar(2))"
   ]
  },
  {
   "cell_type": "code",
   "execution_count": null,
   "metadata": {},
   "outputs": [],
   "source": [
    "# Función con parámetros variables\n",
    "def sumar(*numeros):\n",
    "    suma = 0\n",
    "    for numero in numeros:\n",
    "        suma += numero\n",
    "    return suma\n",
    "\n",
    "print(sumar(1, 2, 3, 4, 5))"
   ]
  },
  {
   "cell_type": "code",
   "execution_count": null,
   "metadata": {},
   "outputs": [],
   "source": [
    "# Funciones que retornan múltiples valores\n",
    "def operaciones(a, b):\n",
    "    suma = a + b\n",
    "    resta = a - b\n",
    "    multiplicacion = a * b\n",
    "    division = a / b\n",
    "    return suma, resta, multiplicacion, division\n",
    "\n",
    "resultados = operaciones(2, 3)\n",
    "print(resultados)"
   ]
  },
  {
   "cell_type": "code",
   "execution_count": null,
   "metadata": {},
   "outputs": [],
   "source": [
    "# Funciones anónimas (lambda).\n",
    "\n",
    "# Función lambda que suma dos números\n",
    "suma = lambda a, b: a + b\n",
    "print(suma(2, 3))"
   ]
  },
  {
   "cell_type": "code",
   "execution_count": null,
   "metadata": {},
   "outputs": [],
   "source": [
    "# Funciones de orden superior: map\n",
    "\n",
    "numeros = [1, 2, 3, 4, 5]\n",
    "cuadrados = list(map(lambda x: x ** 2, numeros))\n",
    "print(cuadrados)"
   ]
  },
  {
   "cell_type": "code",
   "execution_count": null,
   "metadata": {},
   "outputs": [],
   "source": [
    "# Funciones de orden superior:filter\n",
    "\n",
    "numeros = [1, 2, 3, 4, 5]\n",
    "pares = list(filter(lambda x: x % 2 == 0, numeros))\n",
    "print(pares)"
   ]
  },
  {
   "cell_type": "code",
   "execution_count": null,
   "metadata": {},
   "outputs": [],
   "source": [
    "# Funciones de orden superior: reduce\n",
    "\n",
    "from functools import reduce # Importar la función reduce\n",
    "numeros = [1, 2, 3, 4, 5] # Lista de números\n",
    "suma = reduce(lambda x, y: x + y, numeros) # Sumar los números de la lista\n",
    "print(suma)"
   ]
  },
  {
   "cell_type": "markdown",
   "metadata": {},
   "source": [
    "Manejo de archivos"
   ]
  },
  {
   "cell_type": "code",
   "execution_count": null,
   "metadata": {},
   "outputs": [],
   "source": [
    "# Ejemplo de manejo de archivos en Python\n",
    "# Abrir un archivo\n",
    "archivo = open(\"archivo.txt\", \"w\")\n",
    "\n",
    "# Escribir en un archivo\n",
    "archivo.write(\"Hola Python\")\n",
    "\n",
    "# Cerrar un archivo\n",
    "archivo.close()\n",
    "\n",
    "# Abrir un archivo\n",
    "archivo = open(\"archivo.txt\", \"r\")\n",
    "\n",
    "# Leer un archivo\n",
    "contenido = archivo.read()\n",
    "print(contenido)\n",
    "\n",
    "# Cerrar un archivo\n",
    "archivo.close()"
   ]
  },
  {
   "cell_type": "code",
   "execution_count": null,
   "metadata": {},
   "outputs": [],
   "source": [
    "with open('archivo.txt', 'r') as archivo:\n",
    "    # Trabaja con el archivo\n"
   ]
  },
  {
   "cell_type": "code",
   "execution_count": null,
   "metadata": {},
   "outputs": [],
   "source": [
    "# Leer línea por línea\n",
    "with open('archivo.txt', 'r') as archivo:\n",
    "    for linea in archivo:\n",
    "        print(linea)\n",
    "\n",
    "# Leer todas las líneas como lista\n",
    "with open('archivo.txt', 'r') as archivo:\n",
    "    lineas = archivo.readlines()\n",
    "    print(lineas)\n"
   ]
  },
  {
   "cell_type": "markdown",
   "metadata": {},
   "source": [
    "**Escribir en un archivo (sobreescribir)**\n",
    "El modo 'w' sobrescribe el contenido del archivo."
   ]
  },
  {
   "cell_type": "code",
   "execution_count": null,
   "metadata": {},
   "outputs": [],
   "source": [
    "with open('archivo.txt', 'w') as archivo:\n",
    "    archivo.write('Este es un nuevo contenido.\\n')"
   ]
  },
  {
   "cell_type": "markdown",
   "metadata": {},
   "source": [
    "**Añadir contenido a un archivo**\n",
    "El modo 'a' permite añadir contenido sin borrar el existente."
   ]
  },
  {
   "cell_type": "code",
   "execution_count": null,
   "metadata": {},
   "outputs": [],
   "source": [
    "with open('archivo.txt', 'a') as archivo:\n",
    "    archivo.write('Esta línea se añade al final del archivo.\\n')\n"
   ]
  },
  {
   "cell_type": "markdown",
   "metadata": {},
   "source": [
    "**Escribir múltiples líneas**\n",
    "Puedes escribir varias líneas de texto utilizando un bucle o una lista."
   ]
  },
  {
   "cell_type": "code",
   "execution_count": null,
   "metadata": {},
   "outputs": [],
   "source": [
    "lineas = ['Primera línea\\n', 'Segunda línea\\n', 'Tercera línea\\n']\n",
    "\n",
    "with open('archivo.txt', 'w') as archivo:\n",
    "    archivo.writelines(lineas)\n"
   ]
  },
  {
   "cell_type": "markdown",
   "metadata": {},
   "source": [
    "Manejo de archivos binarios\n",
    "Python también puede manejar archivos binarios, como imágenes o archivos ejecutables. Para esto, se abre el archivo en modo binario ('b'). Por ejemplo:"
   ]
  },
  {
   "cell_type": "code",
   "execution_count": 28,
   "metadata": {},
   "outputs": [],
   "source": [
    "# Leer un archivo binario\n",
    "with open('imagen.png', 'rb') as archivo_bin:\n",
    "    contenido = archivo_bin.read()\n",
    "    # Trabaja con el contenido binario\n",
    "    "
   ]
  },
  {
   "cell_type": "markdown",
   "metadata": {},
   "source": [
    "Escribir en un archivo binario\n"
   ]
  },
  {
   "cell_type": "code",
   "execution_count": 29,
   "metadata": {},
   "outputs": [],
   "source": [
    "    # Crear una copia de la imagen\n",
    "with open('copia_imagen.png', 'wb') as archivo_bin: \n",
    "    archivo_bin.write(contenido) # Escribir el contenido binario en el archivo\n"
   ]
  },
  {
   "cell_type": "code",
   "execution_count": null,
   "metadata": {},
   "outputs": [],
   "source": [
    "# Ejemplo de manejo de archivos CSV en Python\n",
    "import csv\n",
    "\n",
    "# Escribir en un archivo CSV\n",
    "with open(\"archivo.csv\", mode=\"w\", newline=\"\") as archivo:\n",
    "    escritor = csv.writer(archivo)\n",
    "    escritor.writerow([\"Nombre\", \"Edad\"])\n",
    "    escritor.writerow([\"Juan\", 30])\n",
    "    escritor.writerow([\"Ana\", 25])\n",
    "\n",
    "# Leer un archivo CSV\n",
    "with open(\"archivo.csv\", mode=\"r\") as archivo:\n",
    "    lector = csv.reader(archivo)\n",
    "    for fila in lector:\n",
    "        print(fila)"
   ]
  },
  {
   "cell_type": "code",
   "execution_count": null,
   "metadata": {},
   "outputs": [],
   "source": [
    "# Ejemplo de manejo de archivos de Excel en Python\n",
    "import openpyxl as openpyxl\n",
    "\n",
    "# Crear un archivo de Excel\n",
    "libro = openpyxl.Workbook()\n",
    "hoja = libro.active\n",
    "hoja.title = \"Estudiantes\"\n",
    "hoja[\"A1\"] = \"Nombre\"\n",
    "hoja[\"B1\"] = \"Edad\"\n",
    "hoja[\"A2\"] = \"Juan\"\n",
    "hoja[\"B2\"] = 30\n",
    "hoja[\"A3\"] = \"Ana\"\n",
    "hoja[\"B3\"] = 25\n",
    "libro.save(\"archivo.xlsx\")\n",
    "\n",
    "# Leer un archivo de Excel\n",
    "libro = openpyxl.load_workbook(\"archivo.xlsx\")\n",
    "hoja = libro.active\n",
    "print(hoja[\"A1\"].value)\n",
    "print(hoja[\"B1\"].value)\n",
    "print(hoja[\"A2\"].value)\n",
    "print(hoja[\"B2\"].value)\n",
    "print(hoja[\"A3\"].value)\n",
    "print(hoja[\"B3\"].value)"
   ]
  },
  {
   "cell_type": "code",
   "execution_count": null,
   "metadata": {},
   "outputs": [],
   "source": [
    "# Ejemplo de manejo de archivos JSON en Python\n",
    "import json\n",
    "\n",
    "# Escribir en un archivo JSON\n",
    "datos = {\n",
    "    \"nombre\": \"Juan\",\n",
    "    \"edad\": 30\n",
    "}\n",
    "\n",
    "with open(\"archivo.json\", mode=\"w\") as archivo:\n",
    "    json.dump(datos, archivo)\n",
    "\n",
    "# Leer un archivo JSON\n",
    "with open(\"archivo.json\", mode=\"r\") as archivo:\n",
    "    datos = json.load(archivo)\n",
    "    print(datos)"
   ]
  },
  {
   "cell_type": "markdown",
   "metadata": {},
   "source": [
    "**Manejo de excepciones al trabajar con archivos**\n",
    "\n",
    "Es fundamental manejar correctamente las excepciones cuando se trabaja con archivos, ya que pueden ocurrir errores como intentar abrir un archivo que no existe o problemas de permisos.\n"
   ]
  },
  {
   "cell_type": "code",
   "execution_count": null,
   "metadata": {},
   "outputs": [],
   "source": [
    "try:\n",
    "    with open('archivo_inexistente.txt', 'r') as archivo:\n",
    "        contenido = archivo.read()\n",
    "except FileNotFoundError:\n",
    "    print(\"Error: El archivo no fue encontrado.\")\n",
    "except IOError:\n",
    "    print(\"Error: No se pudo leer el archivo.\")\n",
    "finally:\n",
    "    print(\"Finalización del manejo de archivos.\")\n"
   ]
  },
  {
   "cell_type": "markdown",
   "metadata": {},
   "source": [
    "NumPy: Es una biblioteca de Python que proporciona una estructura de datos llamada matriz que es mucho más eficiente que las listas de Python. Las matrices son especialmente útiles para realizar cálculos matemáticos y científicos. \n",
    "\n",
    "NumPy también proporciona funciones para realizar operaciones matemáticas en matrices, como la multiplicación.\n",
    "\n"
   ]
  },
  {
   "cell_type": "code",
   "execution_count": null,
   "metadata": {},
   "outputs": [],
   "source": [
    "import numpy as np\n",
    "\n",
    "# Ejemplo de uso de la librería NumPy en Python\n",
    "# Crear un arreglo de NumPy\n",
    "arreglo = np.array([1, 2, 3, 4, 5])\n",
    "print(arreglo)\n",
    "\n",
    "# Crear un arreglo de NumPy con ceros\n",
    "arreglo = np.zeros(5)\n",
    "print(arreglo)\n",
    "\n",
    "# Crear un arreglo de NumPy con unos\n",
    "arreglo = np.ones(5)\n",
    "\n",
    "# Crear un arreglo de NumPy con valores aleatorios\n",
    "arreglo = np.random.rand(5)\n",
    "\n",
    "# Crear un arreglo de NumPy con valores en un rango\n",
    "arreglo = np.arange(5)\n",
    "\n",
    "# Crear un arreglo de NumPy con valores en un rango con paso\n",
    "arreglo = np.arange(1, 10, 2)\n",
    "\n",
    "# Crear un arreglo de NumPy con valores espaciados\n",
    "arreglo = np.linspace(1, 10, 5)"
   ]
  },
  {
   "cell_type": "code",
   "execution_count": null,
   "metadata": {},
   "outputs": [],
   "source": [
    "# Crear un arreglo de NumPy con valores en una matriz\n",
    "matriz = np.array([[1, 2], [3, 4]])\n",
    "print(matriz)\n",
    "\n",
    "# Crear un arreglo de NumPy con valores en una matriz de ceros\n",
    "matriz = np.zeros((2, 2))\n",
    "\n",
    "# Crear un arreglo de NumPy con valores en una matriz de unos\n",
    "matriz = np.ones((2, 2))\n",
    "\n",
    "# Crear un arreglo de NumPy con valores en una matriz identidad\n",
    "matriz = np.eye(2)\n",
    "\n",
    "# Crear un arreglo de NumPy con valores en una matriz aleatoria\n",
    "matriz = np.random.rand(2, 2)\n",
    "\n",
    "'''Crear un arreglo de NumPy con valores en una matriz con valores \n",
    "   aleatorios enteros'''\n",
    "matriz = np.random.randint(1, 10, (2, 2))"
   ]
  },
  {
   "cell_type": "code",
   "execution_count": null,
   "metadata": {},
   "outputs": [],
   "source": [
    "# Acceder a un elemento de un arreglo de NumPy\n",
    "arreglo = np.array([1, 2, 3, 4, 5])\n",
    "\n",
    "# Acceder a un elemento de un arreglo de NumPy\n",
    "print(arreglo[0])"
   ]
  },
  {
   "cell_type": "code",
   "execution_count": null,
   "metadata": {},
   "outputs": [],
   "source": [
    "# Acceder a un elemento de una matriz de NumPy\n",
    "matriz = np.array([[1, 2], [3, 4]])\n",
    "\n",
    "# Acceder a un elemento de una matriz de NumPy\n",
    "print(matriz[0, 0])\n",
    "\n",
    "# Acceder a una fila de una matriz de NumPy\n",
    "print(matriz[0])\n",
    "\n",
    "# Acceder a una columna de una matriz de NumPy\n",
    "print(matriz[:, 0])"
   ]
  },
  {
   "cell_type": "code",
   "execution_count": null,
   "metadata": {},
   "outputs": [],
   "source": [
    "# Ejemplo de operaciones con arreglos de NumPy\n",
    "# Suma de arreglos de NumPy\n",
    "arreglo1 = np.array([1, 2, 3])\n",
    "arreglo2 = np.array([4, 5, 6])\n",
    "print(arreglo1 + arreglo2)\n",
    "\n",
    "# Resta de arreglos de NumPy\n",
    "print(arreglo1 - arreglo2)\n",
    "\n",
    "# Multiplicación de arreglos de NumPy\n",
    "print(arreglo1 * arreglo2)\n",
    "\n",
    "# División de arreglos de NumPy\n",
    "print(arreglo1 / arreglo2)\n",
    "\n",
    "# Producto punto de arreglos de NumPy\n",
    "print(np.dot(arreglo1, arreglo2))"
   ]
  },
  {
   "cell_type": "code",
   "execution_count": null,
   "metadata": {},
   "outputs": [],
   "source": [
    "# Ejemplo de operaciones con matrices de NumPy\n",
    "# Suma de matrices de NumPy\n",
    "matriz1 = np.array([[1, 2], [3, 4]])\n",
    "matriz2 = np.array([[5, 6], [7, 8]])\n",
    "print(matriz1 + matriz2)\n",
    "\n",
    "# Resta de matrices de NumPy\n",
    "print(matriz1 - matriz2)\n",
    "\n",
    "# Multiplicación de matrices de NumPy\n",
    "print(matriz1 * matriz2)\n",
    "\n",
    "# División de matrices de NumPy\n",
    "print(matriz1 / matriz2)\n",
    "\n",
    "# Producto punto de matrices de NumPy\n",
    "print(np.dot(matriz1, matriz2))"
   ]
  },
  {
   "cell_type": "code",
   "execution_count": null,
   "metadata": {},
   "outputs": [],
   "source": [
    "# Ejemplo de funciones matemáticas en NumPy\n",
    "# Función seno\n",
    "arreglo = np.array([0, np.pi / 2, np.pi])\n",
    "print(np.sin(arreglo))\n",
    "\n",
    "# Función coseno\n",
    "print(np.cos(arreglo))\n",
    "\n",
    "# Función tangente\n",
    "print(np.tan(arreglo))\n",
    "\n",
    "# Función exponencial\n",
    "print(np.exp(arreglo))\n",
    "\n",
    "# Función logaritmo\n",
    "print(np.log(arreglo))\n",
    "\n",
    "# Función raíz cuadrada\n",
    "print(np.sqrt(arreglo))"
   ]
  },
  {
   "cell_type": "code",
   "execution_count": null,
   "metadata": {},
   "outputs": [],
   "source": [
    "# Ejemplo de estadísticas en NumPy\n",
    "# Calcular la media de un arreglo de NumPy\n",
    "arreglo = np.array([1, 2, 3, 4, 5])\n",
    "print(np.mean(arreglo))\n",
    "\n",
    "# Calcular la mediana de un arreglo de NumPy\n",
    "print(np.median(arreglo))\n",
    "\n",
    "# Calcular la desviación estándar de un arreglo de NumPy\n",
    "print(np.std(arreglo))\n",
    "\n",
    "# Calcular la varianza de un arreglo de NumPy\n",
    "print(np.var(arreglo))\n",
    "\n",
    "# Calcular el máximo de un arreglo de NumPy\n",
    "print(np.max(arreglo))\n",
    "\n",
    "# Calcular el mínimo de un arreglo de NumPy\n",
    "print(np.min(arreglo))"
   ]
  },
  {
   "cell_type": "markdown",
   "metadata": {},
   "source": [
    "Pandas: Es una biblioteca de Python que proporciona estructuras de datos y herramientas de análisis de datos. Pandas es especialmente útil para trabajar con datos tabulares y series temporales."
   ]
  },
  {
   "cell_type": "code",
   "execution_count": 6,
   "metadata": {},
   "outputs": [],
   "source": [
    "import pandas as pd"
   ]
  },
  {
   "cell_type": "code",
   "execution_count": 28,
   "metadata": {},
   "outputs": [],
   "source": [
    "# Ejemplo de uso de la librería Pandas en Python\n",
    "# Creación de una serie\n",
    "serie = pd.Series([1, 3, 5, 6, 8])"
   ]
  },
  {
   "cell_type": "code",
   "execution_count": 29,
   "metadata": {},
   "outputs": [
    {
     "name": "stdout",
     "output_type": "stream",
     "text": [
      "  nombre  edad genero\n",
      "0   Juan    21      M\n",
      "1    Ana    22      F\n",
      "2   Luis    23      M\n",
      "3  Maria    24      F\n"
     ]
    }
   ],
   "source": [
    "# Ejemplo de uso de la librería Pandas en Python\n",
    "# Crear un DataFrame de Pandas\n",
    "datos = {\n",
    "    \"nombre\": [\"Juan\", \"Ana\", \"Luis\", \"Maria\"],\n",
    "    \"edad\": [21, 22, 23, 24],\n",
    "    \"genero\": [\"M\", \"F\", \"M\", \"F\"]\n",
    "}\n",
    "\n",
    "dataframe = pd.DataFrame(datos)\n",
    "\n",
    "# Imprimir un DataFrame de Pandas\n",
    "print(dataframe)"
   ]
  },
  {
   "cell_type": "code",
   "execution_count": null,
   "metadata": {},
   "outputs": [],
   "source": [
    "# describe() para obtener estadísticas de un DataFrame\n",
    "print(dataframe.describe())\n"
   ]
  },
  {
   "cell_type": "markdown",
   "metadata": {},
   "source": [
    "* head(): Muestra las primeras filas de un DataFrame.\n",
    "* tail(): Muestra las últimas filas de un DataFrame.\n",
    "* info(): Muestra información sobre un DataFrame, como el número de filas y columnas, el número de valores no nulos y el tipo de datos de cada columna."
   ]
  },
  {
   "cell_type": "code",
   "execution_count": null,
   "metadata": {},
   "outputs": [],
   "source": [
    "# Leer un archivo CSV con Pandas\n",
    "dataframe = pd.read_csv(\"archivo.csv\")"
   ]
  },
  {
   "cell_type": "code",
   "execution_count": null,
   "metadata": {},
   "outputs": [],
   "source": [
    "# Imprimir un DataFrame de Pandas\n",
    "print(dataframe)"
   ]
  },
  {
   "cell_type": "code",
   "execution_count": null,
   "metadata": {},
   "outputs": [],
   "source": [
    "# Leer un archivo de Excel con Pandas\n",
    "dataframe = pd.read_excel(\"archivo.xlsx\")"
   ]
  },
  {
   "cell_type": "code",
   "execution_count": null,
   "metadata": {},
   "outputs": [],
   "source": [
    "# Imprimir un DataFrame de Pandas\n",
    "print(dataframe)"
   ]
  },
  {
   "cell_type": "code",
   "execution_count": null,
   "metadata": {},
   "outputs": [],
   "source": [
    "# Leer un archivo JSON con Pandas\n",
    "dataframe = pd.read_json(\"archivo.json\")"
   ]
  },
  {
   "cell_type": "code",
   "execution_count": null,
   "metadata": {},
   "outputs": [],
   "source": [
    "# Ejemplo de operaciones con DataFrames de Pandas\n",
    "# Filtrar un DataFrame de Pandas\n",
    "dataframe = pd.DataFrame({\n",
    "    \"nombre\": [\"Juan\", \"Ana\", \"Luis\", \"Maria\"],\n",
    "    \"edad\": [21, 22, 23, 24],\n",
    "    \"genero\": [\"M\", \"F\", \"M\", \"F\"]\n",
    "})\n",
    "\n",
    "filtro = dataframe[\"edad\"] > 22\n",
    "\n",
    "print(dataframe[filtro])"
   ]
  },
  {
   "cell_type": "code",
   "execution_count": null,
   "metadata": {},
   "outputs": [],
   "source": [
    "# Ordenar un DataFrame de Pandas\n",
    "dataframe = pd.DataFrame({\n",
    "    \"nombre\": [\"Juan\", \"Ana\", \"Luis\", \"Maria\"],\n",
    "    \"edad\": [21, 22, 23, 24],\n",
    "    \"genero\": [\"M\", \"F\", \"M\", \"F\"]\n",
    "})\n",
    "\n",
    "dataframe = dataframe.sort_values(\"edad\")\n",
    "\n",
    "print(dataframe)"
   ]
  },
  {
   "cell_type": "code",
   "execution_count": null,
   "metadata": {},
   "outputs": [],
   "source": [
    "# Agrupar un DataFrame de Pandas\n",
    "dataframe = pd.DataFrame({\n",
    "    \"nombre\": [\"Juan\", \"Ana\", \"Luis\", \"Maria\"],\n",
    "    \"edad\": [21, 22, 23, 24],\n",
    "    \"genero\": [\"M\", \"F\", \"M\", \"F\"]\n",
    "})\n",
    "\n",
    "grupo = dataframe.groupby(\"genero\")"
   ]
  },
  {
   "cell_type": "code",
   "execution_count": null,
   "metadata": {},
   "outputs": [],
   "source": [
    "for genero, datos in grupo:\n",
    "    print(f\"Genero: {genero}\")\n",
    "    print(datos)"
   ]
  },
  {
   "cell_type": "code",
   "execution_count": 32,
   "metadata": {},
   "outputs": [
    {
     "name": "stdout",
     "output_type": "stream",
     "text": [
      "  nombre  edad genero  edad_doble\n",
      "0   Juan    21      M          42\n",
      "1    Ana    22      F          44\n",
      "2   Luis    23      M          46\n",
      "3  Maria    24      F          48\n"
     ]
    }
   ],
   "source": [
    "# Creación de columnas con Pandas\n",
    "\n",
    "dataframe = pd.DataFrame({\n",
    "    \"nombre\": [\"Juan\", \"Ana\", \"Luis\", \"Maria\"],\n",
    "    \"edad\": [21, 22, 23, 24],\n",
    "    \"genero\": [\"M\", \"F\", \"M\", \"F\"]\n",
    "})\n",
    "\n",
    "dataframe[\"edad_doble\"] = dataframe[\"edad\"] * 2\n",
    "print(dataframe)"
   ]
  },
  {
   "cell_type": "code",
   "execution_count": 35,
   "metadata": {},
   "outputs": [
    {
     "name": "stdout",
     "output_type": "stream",
     "text": [
      "  nombre  edad genero\n",
      "0   Juan    21      M\n",
      "1    Ana    22      F\n",
      "2   Luis    23      M\n",
      "3  Maria    24      F\n",
      "  Nombre  Edad Genero\n",
      "0   Juan    21      M\n",
      "1    Ana    22      F\n",
      "2   Luis    23      M\n",
      "3  Maria    24      F\n"
     ]
    }
   ],
   "source": [
    "# Renoimbrar columnas con Pandas\n",
    "\n",
    "dataframe = pd.DataFrame({\n",
    "    \"nombre\": [\"Juan\", \"Ana\", \"Luis\", \"Maria\"],\n",
    "    \"edad\": [21, 22, 23, 24],\n",
    "    \"genero\": [\"M\", \"F\", \"M\", \"F\"]\n",
    "})\n",
    "\n",
    "print(dataframe) # Imprimir el DataFrame original\n",
    "dataframe = dataframe.rename(columns={\"nombre\": \"Nombre\", \"edad\": \"Edad\", \"genero\": \"Genero\"})\n",
    "print(dataframe)"
   ]
  },
  {
   "cell_type": "markdown",
   "metadata": {},
   "source": [
    "# Concatenación, unión y combinación de DataFrames de Pandas\n",
    "\n",
    "-   Concatenación: Combina DataFrames a lo largo de un eje (por defecto, el eje 0, que es el eje de las filas).\n",
    "-   Unión: Combina DataFrames utilizando columnas en común.\n",
    "-   Combinación: Combina DataFrames utilizando un índice en común."
   ]
  },
  {
   "cell_type": "code",
   "execution_count": null,
   "metadata": {},
   "outputs": [],
   "source": [
    "# Concatenación, unión y combinación de DataFrames de Pandas\n",
    "\n",
    "dataframe1 = pd.DataFrame({\n",
    "    \"nombre\": [\"Juan\", \"Ana\", \"Luis\", \"Maria\"],\n",
    "    \"edad\": [21, 22, 23, 24],\n",
    "    \"genero\": [\"M\", \"F\", \"M\", \"F\"]\n",
    "})\n",
    "\n",
    "dataframe2 = pd.DataFrame({\n",
    "    \"nombre\": [\"Carlos\", \"Sofia\", \"Pedro\", \"Laura\"],\n",
    "    \"edad\": [25, 26, 27, 28],\n",
    "    \"genero\": [\"M\", \"F\", \"M\", \"F\"]\n",
    "})\n",
    "\n",
    "# Concatenar DataFrames\n",
    "dataframe = pd.concat([dataframe1, dataframe2])\n",
    "print(dataframe)"
   ]
  },
  {
   "cell_type": "markdown",
   "metadata": {},
   "source": [
    "Uniones de DataFrames de Pandas\n",
    "\n",
    "-   Inner join: Devuelve las filas que tienen valores coincidentes en ambos DataFrames.\n",
    "-   Left join: Devuelve todas las filas del DataFrame de la izquierda y las filas coincidentes del DataFrame de la derecha.\n",
    "-   Right join: Devuelve todas las filas del DataFrame de la derecha y las filas coincidentes del DataFrame de la izquierda.\n",
    "-   Outer join: Devuelve todas las filas de ambos DataFrames."
   ]
  },
  {
   "cell_type": "code",
   "execution_count": 37,
   "metadata": {},
   "outputs": [
    {
     "name": "stdout",
     "output_type": "stream",
     "text": [
      "  nombre  edad genero  nota\n",
      "0   Juan    21      M   3.5\n",
      "1    Ana    22      F   4.5\n",
      "2   Luis    23      M   2.5\n",
      "3  Maria    24      F   3.0\n"
     ]
    }
   ],
   "source": [
    "# Unión de DataFrames\n",
    "\n",
    "dataframe1 = pd.DataFrame({\n",
    "    \"nombre\": [\"Juan\", \"Ana\", \"Luis\", \"Maria\"],\n",
    "    \"edad\": [21, 22, 23, 24],\n",
    "    \"genero\": [\"M\", \"F\", \"M\", \"F\"]\n",
    "})\n",
    "\n",
    "dataframe2 = pd.DataFrame({\n",
    "    \"nombre\": [\"Juan\", \"Ana\", \"Luis\", \"Maria\"],\n",
    "    \"nota\": [3.5, 4.5, 2.5, 3.0]\n",
    "})\n",
    "\n",
    "dataframe = pd.merge(dataframe1, dataframe2, on=\"nombre\")\n",
    "print(dataframe)"
   ]
  },
  {
   "cell_type": "markdown",
   "metadata": {},
   "source": [
    "Combinaciones de DataFrames de Pandas\n",
    "\n",
    "Tipos de combinaciones de DataFrames de Pandas\n",
    "\n",
    "-  Outer join: Devuelve todas las filas de ambos DataFrames.\n",
    "-  Inner join: Devuelve las filas que tienen valores coincidentes en ambos DataFrames.\n",
    "-  Left join: Devuelve todas las filas del DataFrame de la izquierda y las filas coincidentes del DataFrame de la derecha.\n",
    "-  Right join: Devuelve todas las filas del DataFrame de la derecha y las filas coincidentes del DataFrame de la izquierda.\n"
   ]
  },
  {
   "cell_type": "code",
   "execution_count": null,
   "metadata": {},
   "outputs": [],
   "source": [
    "# Combinación de DataFrames con Pandas, outer join\n",
    "\n",
    "dataframe1 = pd.DataFrame({\n",
    "    \"nombre\": [\"Juan\", \"Ana\", \"Luis\", \"Maria\"],\n",
    "    \"edad\": [21, 22, 23, 24],\n",
    "    \"genero\": [\"M\", \"F\", \"M\", \"F\"]\n",
    "})\n",
    "\n",
    "dataframe2 = pd.DataFrame({\n",
    "    \"nombre\": [\"Juan\", \"Ana\", \"Luis\", \"Maria\"],\n",
    "    \"nota\": [3.5, 4.5, 2.5, 3.0]\n",
    "})\n",
    "\n",
    "dataframe = pd.merge(dataframe1, dataframe2, on=\"nombre\", how=\"outer\") # Combinación externa (outer)\n",
    "print(dataframe)"
   ]
  },
  {
   "cell_type": "code",
   "execution_count": 41,
   "metadata": {},
   "outputs": [
    {
     "name": "stdout",
     "output_type": "stream",
     "text": [
      "  nombre  edad genero  nota\n",
      "0   Juan    21      M   3.5\n",
      "1    Ana    22      F   4.5\n",
      "2   Luis    23      M   2.5\n",
      "3  Maria    24      F   3.0\n"
     ]
    }
   ],
   "source": [
    "# inner join\n",
    "dataframe = pd.merge(dataframe1, dataframe2, on=\"nombre\", how=\"inner\") # Combinación interna (inner)\n",
    "print(dataframe)"
   ]
  },
  {
   "cell_type": "code",
   "execution_count": null,
   "metadata": {},
   "outputs": [],
   "source": [
    "# left join\n",
    "dataframe = pd.merge(dataframe1, dataframe2, on=\"nombre\", how=\"left\") # Combinación izquierda (left)\n",
    "print(dataframe)"
   ]
  },
  {
   "cell_type": "markdown",
   "metadata": {},
   "source": [
    "Matplotlib: Es una biblioteca de Python que proporciona herramientas para crear gráficos y visualizaciones de datos. Matplotlib es especialmente útil para visualizar datos en 2D y 3D."
   ]
  },
  {
   "cell_type": "code",
   "execution_count": 17,
   "metadata": {},
   "outputs": [],
   "source": [
    "# Ejemplo de gráficos en Python\n",
    "import matplotlib.pyplot as plt"
   ]
  },
  {
   "cell_type": "code",
   "execution_count": 19,
   "metadata": {},
   "outputs": [
    {
     "data": {
      "text/plain": [
       "Text(0, 0.5, 'Edad')"
      ]
     },
     "execution_count": 19,
     "metadata": {},
     "output_type": "execute_result"
    },
    {
     "data": {
      "image/png": "[encoded data removed]",
      "text/plain": [
       "<Figure size 640x480 with 1 Axes>"
      ]
     },
     "metadata": {},
     "output_type": "display_data"
    }
   ],
   "source": [
    "# Crear un gráfico de líneas\n",
    "nombres = [\"Juan\", \"Ana\", \"Luis\", \"Maria\"]\n",
    "edades = [21, 22, 23, 24]\n",
    "plt.plot(nombres, edades)\n",
    "plt.xlabel(\"Nombre\")\n",
    "plt.ylabel(\"Edad\")"
   ]
  },
  {
   "cell_type": "code",
   "execution_count": null,
   "metadata": {},
   "outputs": [],
   "source": [
    "# Crear un gráfico de barras\n",
    "nombres = [\"Juan\", \"Ana\", \"Luis\", \"Maria\"]\n",
    "edades = [21, 22, 23, 24]\n",
    "\n",
    "plt.bar(nombres, edades)\n",
    "plt.xlabel(\"Nombre\")\n",
    "plt.ylabel(\"Edad\")\n",
    "plt.show()"
   ]
  },
  {
   "cell_type": "code",
   "execution_count": null,
   "metadata": {},
   "outputs": [],
   "source": [
    "# Crear un gráfico de pastel\n",
    "nombres = [\"Juan\", \"Ana\", \"Luis\", \"Maria\"]\n",
    "edades = [21, 22, 23, 24]\n",
    "plt.pie(edades, labels=nombres)\n",
    "plt.show()"
   ]
  },
  {
   "cell_type": "code",
   "execution_count": null,
   "metadata": {},
   "outputs": [],
   "source": [
    "# Crear un gráfico de dispersión\n",
    "nombres = [\"Juan\", \"Ana\", \"Luis\", \"Maria\"]\n",
    "edades = [21, 22, 23, 24]\n",
    "plt.scatter(nombres, edades)\n",
    "plt.xlabel(\"Nombre\")\n",
    "plt.ylabel(\"Edad\")\n",
    "plt.show()"
   ]
  },
  {
   "cell_type": "code",
   "execution_count": null,
   "metadata": {},
   "outputs": [],
   "source": [
    "# Crear un gráfico de caja\n",
    "nombres = [\"Juan\", \"Ana\", \"Luis\", \"Maria\"]\n",
    "edades = [21, 22, 23, 24]\n",
    "plt.boxplot(edades)\n",
    "plt.show()"
   ]
  },
  {
   "cell_type": "code",
   "execution_count": null,
   "metadata": {},
   "outputs": [],
   "source": [
    "# Crear un gráfico de histograma\n",
    "nombres = [\"Juan\", \"Ana\", \"Luis\", \"Maria\"]\n",
    "edades = [21, 22, 23, 24]\n",
    "plt.hist(edades)\n",
    "plt.xlabel(\"Edad\")\n",
    "plt.ylabel(\"Frecuencia\")"
   ]
  },
  {
   "cell_type": "code",
   "execution_count": null,
   "metadata": {},
   "outputs": [],
   "source": [
    "# Crear un gráfico de violín\n",
    "nombres = [\"Juan\", \"Ana\", \"Luis\", \"Maria\"]\n",
    "edades = [21, 22, 23, 24]\n",
    "plt.violinplot(edades)\n",
    "plt.show()"
   ]
  },
  {
   "cell_type": "code",
   "execution_count": 51,
   "metadata": {},
   "outputs": [
    {
     "name": "stdout",
     "output_type": "stream",
     "text": [
      "    IDCliente     Nombre   Apellido        Ciudad        Departamento\n",
      "0           1      María      López   Bucaramanga           Santander\n",
      "1           2      María  Rodríguez  Barranquilla           Atlántico\n",
      "2           3      Lucía     Castro       Pereira           Risaralda\n",
      "3           4     Carlos    Sánchez     Risaralda              Caldas\n",
      "4           5        Ana      Gómez       Anserma              Caldas\n",
      "..        ...        ...        ...           ...                 ...\n",
      "95         96        Ana      López          Apia           Risaralda\n",
      "96         97  Valentina    Ramírez        Cúcuta  Norte de Santander\n",
      "97         98      Sofía     Castro      Envigado           Antioquia\n",
      "98         99     Miguel   Martínez     Manizales              Caldas\n",
      "99        100     Miguel     Castro       Pereira           Risaralda\n",
      "\n",
      "[100 rows x 5 columns]\n"
     ]
    }
   ],
   "source": [
    "# Cargar usuarios_colombia.csv\n",
    "\n",
    "with open(\"usuarios_colombia.csv\", mode=\"r\", encoding=\"utf-8\") as archivo:\n",
    "    dataframe = pd.read_csv(archivo)\n",
    "    # Imprimir el DataFrame\n",
    "    print(dataframe)"
   ]
  },
  {
   "cell_type": "code",
   "execution_count": 52,
   "metadata": {},
   "outputs": [
    {
     "name": "stdout",
     "output_type": "stream",
     "text": [
      "   IDCliente  Nombre   Apellido        Ciudad Departamento\n",
      "0          1   María      López   Bucaramanga    Santander\n",
      "1          2   María  Rodríguez  Barranquilla    Atlántico\n",
      "2          3   Lucía     Castro       Pereira    Risaralda\n",
      "3          4  Carlos    Sánchez     Risaralda       Caldas\n",
      "4          5     Ana      Gómez       Anserma       Caldas\n"
     ]
    }
   ],
   "source": [
    "# Muéstrame los primeros 5 registros\n",
    "print(dataframe.head())"
   ]
  },
  {
   "cell_type": "code",
   "execution_count": 53,
   "metadata": {},
   "outputs": [
    {
     "name": "stdout",
     "output_type": "stream",
     "text": [
      "    IDCliente     Nombre  Apellido     Ciudad        Departamento\n",
      "95         96        Ana     López       Apia           Risaralda\n",
      "96         97  Valentina   Ramírez     Cúcuta  Norte de Santander\n",
      "97         98      Sofía    Castro   Envigado           Antioquia\n",
      "98         99     Miguel  Martínez  Manizales              Caldas\n",
      "99        100     Miguel    Castro    Pereira           Risaralda\n"
     ]
    }
   ],
   "source": [
    "# Muéstrame los últimos 5 registros\n",
    "print(dataframe.tail())"
   ]
  },
  {
   "cell_type": "code",
   "execution_count": 54,
   "metadata": {},
   "outputs": [
    {
     "name": "stdout",
     "output_type": "stream",
     "text": [
      "<class 'pandas.core.frame.DataFrame'>\n",
      "RangeIndex: 100 entries, 0 to 99\n",
      "Data columns (total 5 columns):\n",
      " #   Column        Non-Null Count  Dtype \n",
      "---  ------        --------------  ----- \n",
      " 0   IDCliente     100 non-null    int64 \n",
      " 1   Nombre        100 non-null    object\n",
      " 2   Apellido      100 non-null    object\n",
      " 3   Ciudad        100 non-null    object\n",
      " 4   Departamento  100 non-null    object\n",
      "dtypes: int64(1), object(4)\n",
      "memory usage: 4.0+ KB\n",
      "None\n"
     ]
    }
   ],
   "source": [
    "# Muéstrame la información del DataFrame\n",
    "print(dataframe.info())"
   ]
  },
  {
   "cell_type": "code",
   "execution_count": 55,
   "metadata": {},
   "outputs": [
    {
     "name": "stdout",
     "output_type": "stream",
     "text": [
      "        IDCliente\n",
      "count  100.000000\n",
      "mean    50.500000\n",
      "std     29.011492\n",
      "min      1.000000\n",
      "25%     25.750000\n",
      "50%     50.500000\n",
      "75%     75.250000\n",
      "max    100.000000\n"
     ]
    }
   ],
   "source": [
    "# Descripción del DataFrame\n",
    "print(dataframe.describe())"
   ]
  },
  {
   "cell_type": "code",
   "execution_count": 56,
   "metadata": {},
   "outputs": [
    {
     "name": "stdout",
     "output_type": "stream",
     "text": [
      "    IDCliente  Nombre  Apellido   Ciudad Departamento\n",
      "2           3   Lucía    Castro  Pereira    Risaralda\n",
      "15         16   María  Martínez  Pereira    Risaralda\n",
      "27         28    Luis   Sánchez  Pereira    Risaralda\n",
      "55         56  Carlos   Sánchez  Pereira    Risaralda\n",
      "56         57  Carlos   Sánchez  Pereira    Risaralda\n",
      "66         67   Lucía  Martínez  Pereira    Risaralda\n",
      "99        100  Miguel    Castro  Pereira    Risaralda\n"
     ]
    }
   ],
   "source": [
    "# Usuarios de Pereira\n",
    "filtro = dataframe[\"Ciudad\"] == \"Pereira\"\n",
    "usuarios_pereira = dataframe[filtro]\n",
    "\n",
    "print(usuarios_pereira)"
   ]
  },
  {
   "cell_type": "code",
   "execution_count": 57,
   "metadata": {},
   "outputs": [
    {
     "name": "stdout",
     "output_type": "stream",
     "text": [
      "7\n"
     ]
    }
   ],
   "source": [
    "# Cuántos usuarios hay en Pereira\n",
    "print(len(usuarios_pereira))\n"
   ]
  },
  {
   "cell_type": "code",
   "execution_count": 66,
   "metadata": {},
   "outputs": [
    {
     "name": "stdout",
     "output_type": "stream",
     "text": [
      "    IDCliente     Nombre   Apellido    Ciudad Departamento\n",
      "2           3      Lucía     Castro   Pereira    Risaralda\n",
      "15         16      María   Martínez   Pereira    Risaralda\n",
      "27         28       Luis    Sánchez   Pereira    Risaralda\n",
      "42         43     Miguel     Torres  Medellín    Antioquia\n",
      "48         49      Lucía    Sánchez  Medellín    Antioquia\n",
      "55         56     Carlos    Sánchez   Pereira    Risaralda\n",
      "56         57     Carlos    Sánchez   Pereira    Risaralda\n",
      "66         67      Lucía   Martínez   Pereira    Risaralda\n",
      "76         77     Miguel   Martínez  Medellín    Antioquia\n",
      "78         79      María  Rodríguez  Medellín    Antioquia\n",
      "84         85  Valentina     Torres  Medellín    Antioquia\n",
      "86         87      María     Castro  Medellín    Antioquia\n",
      "87         88      Sofía      Pérez  Medellín    Antioquia\n",
      "88         89  Valentina     García  Medellín    Antioquia\n",
      "99        100     Miguel     Castro   Pereira    Risaralda\n",
      "Hay 15 usuarios en Pereira y Medellín\n"
     ]
    }
   ],
   "source": [
    "# Mostrar los usuarios de Pereira y Medellín\n",
    "\n",
    "filtro = (dataframe[\"Ciudad\"] == \"Pereira\") | (dataframe[\"Ciudad\"] == \"Medellín\") # Filtro de usuarios de Pereira y Medellín\n",
    "usuarios_pereira_medellin = dataframe[filtro] # Usuarios de Pereira y Medellín\n",
    "\n",
    "print(usuarios_pereira_medellin)\n",
    "print(\"Hay\" , len(usuarios_pereira_medellin) , \"usuarios en Pereira y Medellín\")\n"
   ]
  },
  {
   "cell_type": "code",
   "execution_count": 67,
   "metadata": {},
   "outputs": [
    {
     "name": "stdout",
     "output_type": "stream",
     "text": [
      "Hay 48 ciudades en el DataFrame\n"
     ]
    }
   ],
   "source": [
    "# Cuántas ciudades hay en el DataFrame\n",
    "\n",
    "ciudades = dataframe[\"Ciudad\"].unique() # Ciudades únicas\n",
    "print(\"Hay\" , len(ciudades) , \"ciudades en el DataFrame\")\n"
   ]
  },
  {
   "cell_type": "code",
   "execution_count": 69,
   "metadata": {},
   "outputs": [
    {
     "name": "stdout",
     "output_type": "stream",
     "text": [
      "Ciudad\n",
      "Medellín           8\n",
      "Ibagué             8\n",
      "Manizales          7\n",
      "Pereira            7\n",
      "Cartagena          7\n",
      "Barranquilla       5\n",
      "Cali               5\n",
      "Cúcuta             5\n",
      "Bucaramanga        4\n",
      "Bogotá             4\n",
      "Risaralda          2\n",
      "Gramalote          2\n",
      "Pauna              1\n",
      "Piojó              1\n",
      "Paya               1\n",
      "Mariquita          1\n",
      "Peque              1\n",
      "Ragonvalia         1\n",
      "Restrepo           1\n",
      "Lenguazaque        1\n",
      "Palmira            1\n",
      "Barrancominas      1\n",
      "Chicoral           1\n",
      "Pamplona           1\n",
      "Santa Marta        1\n",
      "Villavicencio      1\n",
      "Apia               1\n",
      "Luruaco            1\n",
      "Santuario          1\n",
      "Labateca           1\n",
      "Fredonia           1\n",
      "Anserma            1\n",
      "Herveo             1\n",
      "Armenia            1\n",
      "Galapa             1\n",
      "Girón              1\n",
      "Soledad            1\n",
      "Espinal            1\n",
      "Guamo              1\n",
      "Pensilvania        1\n",
      "Honda              1\n",
      "Abejorral          1\n",
      "Anapoima           1\n",
      "Zapatoca           1\n",
      "Calamar            1\n",
      "Convención         1\n",
      "Belén de Umbría    1\n",
      "Envigado           1\n",
      "Name: count, dtype: int64\n"
     ]
    }
   ],
   "source": [
    "# Muéstrame las ciudades y la cantidad de usuarios por ciudad\n",
    "\n",
    "ciudades = dataframe[\"Ciudad\"].value_counts() # Cantidad de usuarios por ciudad\n",
    "print(ciudades)"
   ]
  },
  {
   "cell_type": "code",
   "execution_count": 2,
   "metadata": {},
   "outputs": [
    {
     "data": {
      "image/png": "[encoded data removed]",
      "text/plain": [
       "<Figure size 640x480 with 1 Axes>"
      ]
     },
     "metadata": {},
     "output_type": "display_data"
    }
   ],
   "source": [
    "import seaborn as sns\n",
    "import matplotlib.pyplot as plt\n",
    "import numpy as np\n",
    "\n",
    "# Generar datos de ejemplo\n",
    "data = np.random.normal(size=100)\n",
    "\n",
    "# Crear gráfico de histograma\n",
    "sns.histplot(data, kde=True)\n",
    "plt.title('Distribución de datos')\n",
    "plt.show()"
   ]
  },
  {
   "cell_type": "code",
   "execution_count": 4,
   "metadata": {},
   "outputs": [
    {
     "data": {
      "image/png": "[encoded data removed]",
      "text/plain": [
       "<Figure size 640x480 with 1 Axes>"
      ]
     },
     "metadata": {},
     "output_type": "display_data"
    }
   ],
   "source": [
    "sns.kdeplot(data, fill=True) # Curva de densidad con sombreado\n",
    "plt.title('Curva de densidad con sombreado') # Título del gráfico\n",
    "plt.show()\n"
   ]
  },
  {
   "cell_type": "code",
   "execution_count": 7,
   "metadata": {},
   "outputs": [
    {
     "data": {
      "image/png": "[encoded data removed]",
      "text/plain": [
       "<Figure size 640x480 with 1 Axes>"
      ]
     },
     "metadata": {},
     "output_type": "display_data"
    }
   ],
   "source": [
    "# Crear datos de ejemplo\n",
    "data = pd.DataFrame({\n",
    "    \"x\": np.random.rand(50),\n",
    "    \"y\": np.random.rand(50)\n",
    "})\n",
    "\n",
    "# Crear scatter plot\n",
    "sns.scatterplot(x=\"x\", y=\"y\", data=data) # Gráfico de dispersión\n",
    "plt.title('Gráfico de Dispersión')\n",
    "plt.show()"
   ]
  },
  {
   "cell_type": "code",
   "execution_count": 8,
   "metadata": {},
   "outputs": [
    {
     "data": {
      "image/png": "[encoded data removed]",
      "text/plain": [
       "<Figure size 640x480 with 1 Axes>"
      ]
     },
     "metadata": {},
     "output_type": "display_data"
    }
   ],
   "source": [
    "sns.regplot(x=\"x\", y=\"y\", data=data)\n",
    "plt.title('Scatter Plot con Línea de Regresión')\n",
    "plt.show()\n"
   ]
  },
  {
   "cell_type": "markdown",
   "metadata": {},
   "source": [
    "**Ejemplo**"
   ]
  },
  {
   "cell_type": "code",
   "execution_count": 9,
   "metadata": {},
   "outputs": [
    {
     "data": {
      "image/png": "[encoded data removed]",
      "text/plain": [
       "<Figure size 640x480 with 1 Axes>"
      ]
     },
     "metadata": {},
     "output_type": "display_data"
    }
   ],
   "source": [
    "# Datos de ejemplo\n",
    "df = pd.DataFrame({\n",
    "    'tamaño': [50, 60, 70, 80, 90, 100],\n",
    "    'precio': [150, 180, 200, 220, 240, 260]\n",
    "})\n",
    "\n",
    "# Gráfico de dispersión con ajuste de regresión\n",
    "sns.regplot(x='tamaño', y='precio', data=df)\n",
    "plt.title('Ajuste de Regresión para Predicción de Precios')\n",
    "plt.show()"
   ]
  },
  {
   "cell_type": "code",
   "execution_count": 13,
   "metadata": {},
   "outputs": [
    {
     "data": {
      "image/png": "[encoded data removed]",
      "text/plain": [
       "<Figure size 640x480 with 1 Axes>"
      ]
     },
     "metadata": {},
     "output_type": "display_data"
    }
   ],
   "source": [
    "# Crear un DataFrame de ejemplo\n",
    "df = pd.DataFrame({\n",
    "    'categoría': ['A', 'B', 'C', 'D'],\n",
    "    'valor': [4, 7, 1, 8]\n",
    "})\n",
    "\n",
    "# Crear bar plot\n",
    "sns.barplot(x='categoría', y='valor', data=df)\n",
    "plt.title('Gráfico de Barras')\n",
    "plt.show()\n"
   ]
  },
  {
   "cell_type": "markdown",
   "metadata": {},
   "source": [
    "Apilado de Barras con hue:\n"
   ]
  },
  {
   "cell_type": "code",
   "execution_count": 14,
   "metadata": {},
   "outputs": [
    {
     "data": {
      "image/png": "[encoded data removed]",
      "text/plain": [
       "<Figure size 640x480 with 1 Axes>"
      ]
     },
     "metadata": {},
     "output_type": "display_data"
    }
   ],
   "source": [
    "df = pd.DataFrame({\n",
    "    'categoría': ['A', 'A', 'B', 'B'],\n",
    "    'subcategoría': ['X', 'Y', 'X', 'Y'],\n",
    "    'valor': [3, 5, 6, 4]\n",
    "})\n",
    "\n",
    "sns.barplot(x='categoría', y='valor', hue='subcategoría', data=df)\n",
    "plt.title('Gráfico de Barras Apilado')\n",
    "plt.show()"
   ]
  },
  {
   "cell_type": "markdown",
   "metadata": {},
   "source": [
    "**Ajuste del Estilo**\n",
    "Seaborn tiene varios estilos predefinidos para cambiar el aspecto visual de los gráficos. Usa sns.set_style() para definir el estilo:"
   ]
  },
  {
   "cell_type": "code",
   "execution_count": 15,
   "metadata": {},
   "outputs": [
    {
     "data": {
      "image/png": "[encoded data removed]",
      "text/plain": [
       "<Figure size 640x480 with 1 Axes>"
      ]
     },
     "metadata": {},
     "output_type": "display_data"
    }
   ],
   "source": [
    "sns.set_style(\"whitegrid\")\n",
    "sns.scatterplot(x=\"x\", y=\"y\", data=data)\n",
    "plt.title('Gráfico con Whitegrid')\n",
    "plt.show()"
   ]
  },
  {
   "cell_type": "markdown",
   "metadata": {},
   "source": [
    "**Paletas de Colores**\n",
    "Puedes cambiar la paleta de colores con sns.set_palette():\n"
   ]
  },
  {
   "cell_type": "code",
   "execution_count": 16,
   "metadata": {},
   "outputs": [
    {
     "data": {
      "image/png": "[encoded data removed]",
      "text/plain": [
       "<Figure size 640x480 with 1 Axes>"
      ]
     },
     "metadata": {},
     "output_type": "display_data"
    }
   ],
   "source": [
    "sns.set_palette(\"husl\")\n",
    "sns.barplot(x='categoría', y='valor', data=df)\n",
    "plt.title('Gráfico con Paleta HUSL')\n",
    "plt.show()\n"
   ]
  },
  {
   "cell_type": "markdown",
   "metadata": {},
   "source": [
    "Seaborn incluye muchas paletas de colores, como pastel, muted, Blues, coolwarm, entre otras."
   ]
  },
  {
   "cell_type": "markdown",
   "metadata": {},
   "source": [
    "**Tamaño de las Figuras**\n",
    "Para cambiar el tamaño de los gráficos:"
   ]
  },
  {
   "cell_type": "code",
   "execution_count": 17,
   "metadata": {},
   "outputs": [
    {
     "data": {
      "image/png": "[encoded data removed]",
      "text/plain": [
       "<Figure size 800x600 with 1 Axes>"
      ]
     },
     "metadata": {},
     "output_type": "display_data"
    }
   ],
   "source": [
    "plt.figure(figsize=(8, 6))\n",
    "sns.scatterplot(x=\"x\", y=\"y\", data=data)\n",
    "plt.title('Gráfico de tamaño personalizado')\n",
    "plt.show()\n"
   ]
  },
  {
   "cell_type": "markdown",
   "metadata": {},
   "source": [
    "#Gráficos Avanzados en Seaborn\n",
    "**Gráficos de Cajas y Bigotes (Boxplots)**\n",
    "Los boxplots se usan para mostrar la distribución de datos a través de cuartiles y detectar outliers."
   ]
  },
  {
   "cell_type": "code",
   "execution_count": 18,
   "metadata": {},
   "outputs": [
    {
     "data": {
      "image/png": "[encoded data removed]",
      "text/plain": [
       "<Figure size 640x480 with 1 Axes>"
      ]
     },
     "metadata": {},
     "output_type": "display_data"
    }
   ],
   "source": [
    "# Crear datos de ejemplo\n",
    "tips = sns.load_dataset(\"tips\")\n",
    "\n",
    "# Crear boxplot\n",
    "sns.boxplot(x=\"day\", y=\"total_bill\", data=tips)\n",
    "plt.title('Boxplot de Gastos Totales por Día')\n",
    "plt.show()\n"
   ]
  },
  {
   "cell_type": "markdown",
   "metadata": {},
   "source": [
    "**Gráficos de Calor (Heatmaps)**\n",
    "Los heatmaps son gráficos útiles para visualizar matrices de datos o correlaciones."
   ]
  },
  {
   "cell_type": "code",
   "execution_count": 21,
   "metadata": {},
   "outputs": [
    {
     "data": {
      "image/png": "[encoded data removed]",
      "text/plain": [
       "<Figure size 640x480 with 2 Axes>"
      ]
     },
     "metadata": {},
     "output_type": "display_data"
    }
   ],
   "source": [
    "# Convertir variables categóricas a valores numéricos\n",
    "tips_encoded = tips.copy()\n",
    "tips_encoded['sex'] = tips_encoded['sex'].map({'Male': 0, 'Female': 1})\n",
    "tips_encoded['smoker'] = tips_encoded['smoker'].map({'No': 0, 'Yes': 1})\n",
    "tips_encoded['day'] = tips_encoded['day'].map({'Thur': 0, 'Fri': 1, 'Sat': 2, 'Sun': 3})\n",
    "tips_encoded['time'] = tips_encoded['time'].map({'Lunch': 0, 'Dinner': 1})\n",
    "\n",
    "# Crear matriz de correlación\n",
    "corr = tips_encoded.corr()\n",
    "\n",
    "# Crear heatmap\n",
    "sns.heatmap(corr, annot=True, cmap=\"coolwarm\")\n",
    "plt.title('Mapa de Calor de Correlaciones')\n",
    "plt.show()"
   ]
  },
  {
   "cell_type": "markdown",
   "metadata": {},
   "source": [
    "Limpieza y preprocesamiento de datos"
   ]
  },
  {
   "cell_type": "code",
   "execution_count": 22,
   "metadata": {},
   "outputs": [],
   "source": [
    "import pandas as pd\n"
   ]
  },
  {
   "cell_type": "code",
   "execution_count": 30,
   "metadata": {},
   "outputs": [],
   "source": [
    "# Leer datos desde un archivo CSV\n",
    "movies = pd.read_csv(\"movie_metadata.csv\")"
   ]
  },
  {
   "cell_type": "code",
   "execution_count": 39,
   "metadata": {},
   "outputs": [
    {
     "name": "stdout",
     "output_type": "stream",
     "text": [
      "(5043, 28)\n"
     ]
    }
   ],
   "source": [
    "# Dimensiones del DataFrame\n",
    "print(movies.shape)"
   ]
  },
  {
   "cell_type": "code",
   "execution_count": null,
   "metadata": {},
   "outputs": [],
   "source": [
    "# Información del DataFrame\n",
    "print(movies.info())"
   ]
  },
  {
   "cell_type": "code",
   "execution_count": 31,
   "metadata": {},
   "outputs": [],
   "source": [
    "# Revisar valores faltantes\n",
    "valores_faltantes = movies.isna().sum()"
   ]
  },
  {
   "cell_type": "code",
   "execution_count": 32,
   "metadata": {},
   "outputs": [
    {
     "name": "stdout",
     "output_type": "stream",
     "text": [
      "color                         19\n",
      "director_name                104\n",
      "num_critic_for_reviews        50\n",
      "duration                      15\n",
      "director_facebook_likes      104\n",
      "actor_3_facebook_likes        23\n",
      "actor_2_name                  13\n",
      "actor_1_facebook_likes         7\n",
      "gross                        884\n",
      "genres                         0\n",
      "actor_1_name                   7\n",
      "movie_title                    0\n",
      "num_voted_users                0\n",
      "cast_total_facebook_likes      0\n",
      "actor_3_name                  23\n",
      "facenumber_in_poster          13\n",
      "plot_keywords                153\n",
      "movie_imdb_link                0\n",
      "num_user_for_reviews          21\n",
      "language                      14\n",
      "country                        5\n",
      "content_rating               303\n",
      "budget                         0\n",
      "title_year                   108\n",
      "actor_2_facebook_likes        13\n",
      "imdb_score                     0\n",
      "aspect_ratio                 329\n",
      "movie_facebook_likes           0\n",
      "dtype: int64\n"
     ]
    }
   ],
   "source": [
    "# Mostrar valores faltantes\n",
    "print(valores_faltantes)"
   ]
  },
  {
   "cell_type": "code",
   "execution_count": 36,
   "metadata": {},
   "outputs": [
    {
     "name": "stdout",
     "output_type": "stream",
     "text": [
      "Hay 45 registros duplicados\n"
     ]
    }
   ],
   "source": [
    "# Duplicados\n",
    "\n",
    "duplicados = movies.duplicated().sum()\n",
    "print(\"Hay\", duplicados, \"registros duplicados\")"
   ]
  },
  {
   "cell_type": "code",
   "execution_count": 38,
   "metadata": {},
   "outputs": [
    {
     "name": "stdout",
     "output_type": "stream",
     "text": [
      "                 color         director_name  num_critic_for_reviews  \\\n",
      "137              Color           David Yates                   248.0   \n",
      "187              Color           Bill Condon                   322.0   \n",
      "204              Color          Hideaki Anno                     1.0   \n",
      "303              Color            Joe Wright                   256.0   \n",
      "389              Color            Josh Trank                   369.0   \n",
      "395              Color             Rob Cohen                   187.0   \n",
      "590              Color          Brett Ratner                   245.0   \n",
      "656              Color        Paul Verhoeven                   196.0   \n",
      "794              Color           Joss Whedon                   703.0   \n",
      "1220             Color   Angelina Jolie Pitt                   322.0   \n",
      "1305             Color         Paul McGuigan                   159.0   \n",
      "1449             Color         Albert Hughes                   208.0   \n",
      "2169             Color         Paul McGuigan                    98.0   \n",
      "2292             Color              Frank Oz                   168.0   \n",
      "2472             Color            Jon Cassar                    45.0   \n",
      "2493   Black and White           Yimou Zhang                   283.0   \n",
      "2533             Color           Neil Burger                   236.0   \n",
      "2562             Color             Jon Lucas                    81.0   \n",
      "2568             Color         Vic Armstrong                   169.0   \n",
      "2619             Color        John Carpenter                   318.0   \n",
      "2771             Color          Ole Bornedal                   264.0   \n",
      "2777             Color        Stephen Frears                    51.0   \n",
      "2798             Color            Shawn Levy                    69.0   \n",
      "2971             Color      John Lee Hancock                   106.0   \n",
      "3117             Color           Guy Ritchie                   151.0   \n",
      "3345             Color          Herbert Ross                    60.0   \n",
      "3452             Color           Paul Haggis                   287.0   \n",
      "3480             Color  Michael Winterbottom                    71.0   \n",
      "3729             Color      Tim Blake Nelson                    92.0   \n",
      "3900             Color                   NaN                     9.0   \n",
      "3915             Color            Wes Craven                   160.0   \n",
      "4182             Color            Rob Zombie                   220.0   \n",
      "4226             Color      William Friedkin                   138.0   \n",
      "4282             Color       Kenneth Branagh                    85.0   \n",
      "4313             Color       Bruce McCulloch                    52.0   \n",
      "4408             Color           Yimou Zhang                   101.0   \n",
      "4565             Color        Peter Cattaneo                   122.0   \n",
      "4573             Color            Mel Brooks                    48.0   \n",
      "4631             Color           Danny Boyle                   393.0   \n",
      "4769             Color           Tamra Davis                   111.0   \n",
      "4882             Color            Dan Curtis                     NaN   \n",
      "4927             Color           Jason Stone                    48.0   \n",
      "4942             Color         Paul Schrader                   130.0   \n",
      "4950             Color         David Hewlett                     8.0   \n",
      "4951   Black and White      George A. Romero                   284.0   \n",
      "\n",
      "      duration  director_facebook_likes  actor_3_facebook_likes  \\\n",
      "137      110.0                    282.0                   103.0   \n",
      "187      115.0                    386.0                 12000.0   \n",
      "204      120.0                     28.0                    12.0   \n",
      "303      111.0                    456.0                   394.0   \n",
      "389      100.0                    128.0                    78.0   \n",
      "395      106.0                    357.0                  4000.0   \n",
      "590      101.0                    420.0                   467.0   \n",
      "656      113.0                    719.0                   217.0   \n",
      "794      173.0                      0.0                 19000.0   \n",
      "1220     137.0                  11000.0                   465.0   \n",
      "1305     110.0                    118.0                   287.0   \n",
      "1449     122.0                    117.0                   140.0   \n",
      "2169     114.0                    118.0                    40.0   \n",
      "2292      87.0                      0.0                   548.0   \n",
      "2472      90.0                     78.0                   720.0   \n",
      "2493      80.0                    611.0                   576.0   \n",
      "2533     110.0                    168.0                    96.0   \n",
      "2562     100.0                     24.0                   851.0   \n",
      "2568     110.0                    179.0                   734.0   \n",
      "2619     101.0                      0.0                   598.0   \n",
      "2771      92.0                     30.0                   309.0   \n",
      "2777     119.0                    350.0                   418.0   \n",
      "2798      88.0                    189.0                   799.0   \n",
      "2971     137.0                    102.0                   877.0   \n",
      "3117     104.0                      0.0                  1000.0   \n",
      "3345     107.0                     71.0                   304.0   \n",
      "3452     115.0                    549.0                   911.0   \n",
      "3480     115.0                    187.0                   887.0   \n",
      "3729      95.0                    596.0                   697.0   \n",
      "3900      60.0                      NaN                   904.0   \n",
      "3915     107.0                      0.0                   255.0   \n",
      "4182     119.0                      0.0                   593.0   \n",
      "4226     104.0                    607.0                   109.0   \n",
      "4282     150.0                      0.0                   401.0   \n",
      "4313      85.0                     54.0                   455.0   \n",
      "4408      95.0                    611.0                     3.0   \n",
      "4565      91.0                     11.0                   121.0   \n",
      "4573      92.0                      0.0                   842.0   \n",
      "4631     101.0                      0.0                   888.0   \n",
      "4769      93.0                     33.0                   135.0   \n",
      "4882      99.0                     45.0                   224.0   \n",
      "4927     108.0                     14.0                   826.0   \n",
      "4942      93.0                    261.0                   697.0   \n",
      "4950      88.0                    686.0                   405.0   \n",
      "4951      96.0                      0.0                    56.0   \n",
      "\n",
      "             actor_2_name  actor_1_facebook_likes        gross  \\\n",
      "137   Alexander Skarsgård                 11000.0  124051759.0   \n",
      "187       Kristen Stewart                 21000.0  292298923.0   \n",
      "204     Shin'ya Tsukamoto                   544.0          NaN   \n",
      "303       Cara Delevingne                 20000.0   34964818.0   \n",
      "389         Reg E. Cathey                   596.0   56114221.0   \n",
      "395            Vin Diesel                 23000.0  144512310.0   \n",
      "590          Rufus Sewell                 12000.0   72660029.0   \n",
      "656        Rachel Ticotin                   605.0  119412921.0   \n",
      "794     Robert Downey Jr.                 26000.0  623279547.0   \n",
      "1220       Jack O'Connell                   769.0  115603980.0   \n",
      "1305      Spencer Wilding                 11000.0    5773519.0   \n",
      "1449        Jason Flemyng                 40000.0   31598308.0   \n",
      "2169  Christopher Cousins                   489.0   12831121.0   \n",
      "2292         Ewen Bremner                 22000.0    8579684.0   \n",
      "2472      Landon Liboiron                  2000.0          NaN   \n",
      "2493  Tony Chiu Wai Leung                  5000.0      84961.0   \n",
      "2533         Eddie Marsan                  3000.0   39825798.0   \n",
      "2562        Jay Hernandez                 15000.0   55461307.0   \n",
      "2568         Lea Thompson                 12000.0   13998282.0   \n",
      "2619     Donald Pleasence                  2000.0   47000000.0   \n",
      "2771    Madison Davenport                   941.0   49122319.0   \n",
      "2777        Peter Capaldi                 18000.0   34700000.0   \n",
      "2798        Donald Faison                   934.0   47811275.0   \n",
      "2971          Marc Blucas                  2000.0   22406362.0   \n",
      "3117            Brad Pitt                 26000.0   30093107.0   \n",
      "3345           Chris Penn                   967.0   80000000.0   \n",
      "3452       Loretta Devine                  3000.0   54557348.0   \n",
      "3480         Sarah Polley                 14000.0     403932.0   \n",
      "3729        Andrew Keegan                  1000.0   16017403.0   \n",
      "3900       Dylan Minnette                  1000.0          NaN   \n",
      "3915          Emily Meade                   798.0   14637490.0   \n",
      "4182           Tyler Mane                   908.0   33386128.0   \n",
      "4226         Fernando Rey                   813.0          NaN   \n",
      "4282        Brian Blessed                   597.0    4414535.0   \n",
      "4313       Megan Mullally                   985.0   13973532.0   \n",
      "4408               Ni Yan                     9.0     190666.0   \n",
      "4565            Mark Addy                  1000.0   45857453.0   \n",
      "4573           Sid Caesar                  1000.0          NaN   \n",
      "4631      Spencer Wilding                  3000.0    2319187.0   \n",
      "4769    Katherine Boecher                  1000.0   37188667.0   \n",
      "4882       Campbell Scott                  1000.0          NaN   \n",
      "4927        Ellen Burstyn                  2000.0          NaN   \n",
      "4942             Ruby Dee                   783.0          NaN   \n",
      "4950        David Hewlett                   847.0          NaN   \n",
      "4951          Duane Jones                   125.0          NaN   \n",
      "\n",
      "                                     genres  ... num_user_for_reviews  \\\n",
      "137          Action|Adventure|Drama|Romance  ...                239.0   \n",
      "187         Adventure|Drama|Fantasy|Romance  ...                329.0   \n",
      "204    Action|Adventure|Drama|Horror|Sci-Fi  ...                 13.0   \n",
      "303                Adventure|Family|Fantasy  ...                186.0   \n",
      "389                 Action|Adventure|Sci-Fi  ...                695.0   \n",
      "395                   Action|Crime|Thriller  ...                988.0   \n",
      "590                        Action|Adventure  ...                269.0   \n",
      "656                           Action|Sci-Fi  ...                391.0   \n",
      "794                 Action|Adventure|Sci-Fi  ...               1722.0   \n",
      "1220              Biography|Drama|Sport|War  ...                351.0   \n",
      "1305           Drama|Horror|Sci-Fi|Thriller  ...                 91.0   \n",
      "1449                Horror|Mystery|Thriller  ...                541.0   \n",
      "2169         Drama|Mystery|Romance|Thriller  ...                298.0   \n",
      "2292                                 Comedy  ...                199.0   \n",
      "2472                          Drama|Western  ...                 49.0   \n",
      "2493               Action|Adventure|History  ...                841.0   \n",
      "2533         Drama|Mystery|Romance|Thriller  ...                645.0   \n",
      "2562                                 Comedy  ...                 46.0   \n",
      "2568  Action|Drama|Fantasy|Mystery|Thriller  ...                374.0   \n",
      "2619                        Horror|Thriller  ...               1191.0   \n",
      "2771                        Horror|Thriller  ...                162.0   \n",
      "2777                          Drama|Romance  ...                143.0   \n",
      "2798                Adventure|Comedy|Family  ...                 99.0   \n",
      "2971              Drama|History|War|Western  ...                267.0   \n",
      "3117                           Comedy|Crime  ...                726.0   \n",
      "3345                    Drama|Music|Romance  ...                113.0   \n",
      "3452                   Crime|Drama|Thriller  ...               1624.0   \n",
      "3480                  Drama|Romance|Western  ...                 92.0   \n",
      "3729                 Drama|Romance|Thriller  ...                153.0   \n",
      "3900                          Drama|Fantasy  ...                 47.0   \n",
      "3915                Horror|Mystery|Thriller  ...                136.0   \n",
      "4182                                 Horror  ...                491.0   \n",
      "4226            Action|Crime|Drama|Thriller  ...                280.0   \n",
      "4282                                  Drama  ...                224.0   \n",
      "4313                           Comedy|Crime  ...                 92.0   \n",
      "4408                           Comedy|Drama  ...                 20.0   \n",
      "4565                     Comedy|Drama|Music  ...                174.0   \n",
      "4573                                 Comedy  ...                131.0   \n",
      "4631           Crime|Drama|Mystery|Thriller  ...                212.0   \n",
      "4769                           Comedy|Drama  ...                578.0   \n",
      "4882                        Fantasy|Romance  ...                 56.0   \n",
      "4927                               Thriller  ...                 28.0   \n",
      "4942                Fantasy|Horror|Thriller  ...                106.0   \n",
      "4950                                 Comedy  ...                 46.0   \n",
      "4951                   Drama|Horror|Mystery  ...                580.0   \n",
      "\n",
      "      language  country  content_rating        budget  title_year  \\\n",
      "137    English      USA           PG-13  180000000.0$      2016.0   \n",
      "187    English      USA           PG-13  120000000.0$      2012.0   \n",
      "204   Japanese    Japan             NaN          0.0$      2016.0   \n",
      "303    English      USA              PG  150000000.0$      2015.0   \n",
      "389    English      USA           PG-13  120000000.0$      2015.0   \n",
      "395    English      USA           PG-13   38000000.0$      2001.0   \n",
      "590    English      USA           PG-13  100000000.0$      2014.0   \n",
      "656    English      USA               R   65000000.0$      1990.0   \n",
      "794    English      USA           PG-13  220000000.0$      2012.0   \n",
      "1220   English      USA           PG-13   65000000.0$      2014.0   \n",
      "1305   English      USA           PG-13   40000000.0$      2015.0   \n",
      "1449   English      USA               R   35000000.0$      2001.0   \n",
      "2169   English      USA           PG-13   30000000.0$      2004.0   \n",
      "2292   English      USA               R    9000000.0$      2007.0   \n",
      "2472   English   Canada               R   11000000.0$      2015.0   \n",
      "2493  Mandarin    China           PG-13   31000000.0$      2002.0   \n",
      "2533   English      USA           PG-13   16000000.0$      2006.0   \n",
      "2562   English      USA               R   20000000.0$      2016.0   \n",
      "2568   English      USA           PG-13   16000000.0$      2014.0   \n",
      "2619   English      USA               R     300000.0$      1978.0   \n",
      "2771   English      USA           PG-13   14000000.0$      2012.0   \n",
      "2777   English      USA               R   14000000.0$      1988.0   \n",
      "2798   English      USA              PG   15000000.0$      2002.0   \n",
      "2971   English      USA           PG-13  107000000.0$      2004.0   \n",
      "3117   English       UK               R    6000000.0$      2000.0   \n",
      "3345   English      USA              PG    8200000.0$      1984.0   \n",
      "3452   English  Germany               R    6500000.0$      2004.0   \n",
      "3480   English       UK               R   20000000.0$      2000.0   \n",
      "3729   English      USA               R    5000000.0$      2001.0   \n",
      "3900   English      USA           TV-MA          0.0$         NaN   \n",
      "3915   English      USA               R   25000000.0$      2010.0   \n",
      "4182   English      USA               R   15000000.0$      2009.0   \n",
      "4226   English      USA               R    1800000.0$      1971.0   \n",
      "4282   English       UK           PG-13   18000000.0$      1996.0   \n",
      "4313   English      USA           PG-13   25000000.0$      2002.0   \n",
      "4408  Mandarin    China               R          0.0$      2009.0   \n",
      "4565   English       UK               R    3500000.0$      1997.0   \n",
      "4573   English      USA               R   11000000.0$      1981.0   \n",
      "4631   English       UK               R   20000000.0$      2013.0   \n",
      "4769   English      USA           PG-13   12000000.0$      2002.0   \n",
      "4882   English      USA         Unrated          0.0$      1998.0   \n",
      "4927   English      USA               R          0.0$      2014.0   \n",
      "4942   English      USA               R   18000000.0$      1982.0   \n",
      "4950   English   Canada             NaN     120000.0$      2007.0   \n",
      "4951   English      USA         Unrated     114000.0$      1968.0   \n",
      "\n",
      "     actor_2_facebook_likes imdb_score  aspect_ratio movie_facebook_likes  \n",
      "137                 10000.0        6.6          2.35                29000  \n",
      "187                 17000.0        5.5          2.35                65000  \n",
      "204                   106.0        8.2          2.35                    0  \n",
      "303                   548.0        5.8          2.35                24000  \n",
      "389                   360.0        4.3          2.35                41000  \n",
      "395                 14000.0        6.7          2.35                14000  \n",
      "590                  3000.0        6.0          2.35                21000  \n",
      "656                   308.0        7.5          1.85                    0  \n",
      "794                 21000.0        8.1          1.85               123000  \n",
      "1220                  698.0        7.2          2.35                35000  \n",
      "1305                 1000.0        6.0          2.35                11000  \n",
      "1449                 1000.0        6.8          2.35                    0  \n",
      "2169                   93.0        7.0          2.35                    0  \n",
      "2292                  557.0        7.4          1.85                    0  \n",
      "2472                 1000.0        6.3          2.35                    0  \n",
      "2493                  643.0        7.9          2.35                    0  \n",
      "2533                  979.0        7.6          1.85                15000  \n",
      "2562                 1000.0        6.7           NaN                18000  \n",
      "2568                 1000.0        3.1          2.35                31000  \n",
      "2619                  742.0        7.9          2.35                12000  \n",
      "2771                  459.0        5.9          2.35                17000  \n",
      "2777                17000.0        7.7          1.85                    0  \n",
      "2798                  927.0        5.4          1.85                  896  \n",
      "2971                  973.0        6.0          2.35                  701  \n",
      "3117                11000.0        8.3          1.85                27000  \n",
      "3345                  455.0        6.5          1.85                    0  \n",
      "3452                  912.0        7.9          2.35                18000  \n",
      "3480                  900.0        6.5          2.35                  141  \n",
      "3729                  835.0        6.2          1.85                    0  \n",
      "3900                 1000.0        7.5          1.78                  634  \n",
      "3915                  374.0        4.8          2.35                    0  \n",
      "4182                  764.0        4.9          1.85                 3000  \n",
      "4226                  165.0        7.8          1.85                    0  \n",
      "4282                  591.0        7.8          2.20                    0  \n",
      "4313                  637.0        5.1          1.85                  215  \n",
      "4408                    4.0        5.7          2.35                  784  \n",
      "4565                  891.0        7.2          1.85                    0  \n",
      "4573                  898.0        6.9          2.35                    0  \n",
      "4631                 1000.0        7.0          2.35                23000  \n",
      "4769                  188.0        3.3          1.85                    0  \n",
      "4882                  393.0        7.4          1.33                  515  \n",
      "4927                 1000.0        5.8           NaN                    0  \n",
      "4942                  782.0        6.1          1.85                    0  \n",
      "4950                  686.0        7.0          1.78                  377  \n",
      "4951                  108.0        8.0          1.85                    0  \n",
      "\n",
      "[45 rows x 28 columns]\n"
     ]
    }
   ],
   "source": [
    "# Mostrar las películas repetidas\n",
    "repetidas = movies[movies.duplicated()]\n",
    "print(repetidas)"
   ]
  }
 ],
 "metadata": {
  "kernelspec": {
   "display_name": "cursoia",
   "language": "python",
   "name": "python3"
  },
  "language_info": {
   "codemirror_mode": {
    "name": "ipython",
    "version": 3
   },
   "file_extension": ".py",
   "mimetype": "text/x-python",
   "name": "python",
   "nbconvert_exporter": "python",
   "pygments_lexer": "ipython3",
   "version": "3.12.4"
  }
 },
 "nbformat": 4,
 "nbformat_minor": 2
}
