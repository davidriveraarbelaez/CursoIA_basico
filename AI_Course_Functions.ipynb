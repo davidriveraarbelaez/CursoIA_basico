{
  "nbformat": 4,
  "nbformat_minor": 0,
  "metadata": {
    "colab": {
      "provenance": []
    },
    "kernelspec": {
      "name": "python3",
      "display_name": "Python 3"
    },
    "language_info": {
      "name": "python"
    }
  },
  "cells": [
    {
      "cell_type": "markdown",
      "source": [
        "#Functions in Python: Definition and Usage\n",
        "1. **What is a Function?**\n",
        "In Python, a function is a block of code that is executed only when it is called. Functions allow you to reuse code and make it modular. They can accept input, process it, and return output.\n",
        "\n",
        "**Why Use Functions?**\n",
        "* **Modularity:** Break down complex problems into simpler sub-problems.\n",
        "* **Reusability:** Write code once and reuse it multiple times.\n",
        "* **Maintainability:** Improves the readability and maintainability of code.\n",
        "\n",
        "2. **Defining a Function**\n",
        "To define a function, use the def keyword followed by the function name and parentheses ().\n"
      ],
      "metadata": {
        "id": "H0bbO2UehHpH"
      }
    },
    {
      "cell_type": "code",
      "source": [
        "def function_name(parameters):\n",
        "    \"\"\"\n",
        "    Optional docstring to describe the function\n",
        "    \"\"\"\n",
        "    # Block of code\n",
        "    return output"
      ],
      "metadata": {
        "id": "TAo4WYZ7hcmp"
      },
      "execution_count": null,
      "outputs": []
    },
    {
      "cell_type": "markdown",
      "source": [
        "* **function_name:** The name of the function.\n",
        "* **parameters:** Optional inputs to pass values into the function.\n",
        "* **return:** Optional keyword to return a value from the function.\n",
        "\n",
        "**Example:**"
      ],
      "metadata": {
        "id": "HNMAP3d7jka0"
      }
    },
    {
      "cell_type": "code",
      "source": [
        "def greet(name):\n",
        "    \"\"\"\n",
        "    Function to greet a person by their name\n",
        "    \"\"\"\n",
        "    print(f\"Hello, {name}!\")\n",
        "\n",
        "# Calling the function\n",
        "greet(\"David\")"
      ],
      "metadata": {
        "id": "DNeVLbSrjiaU"
      },
      "execution_count": null,
      "outputs": []
    },
    {
      "cell_type": "markdown",
      "source": [
        "3. **Calling a Function**\n",
        "\n",
        "You call a function by using its name followed by parentheses (). If the function has parameters, provide the values (called arguments) inside the parentheses.\n",
        "\n",
        "**Example:**"
      ],
      "metadata": {
        "id": "wQKB321ijX9k"
      }
    },
    {
      "cell_type": "code",
      "source": [
        "def square(number):\n",
        "    return number ** 2\n",
        "\n",
        "# Calling the function\n",
        "result = square(4)\n",
        "print(result)  # Output: 16"
      ],
      "metadata": {
        "id": "LBXDmbXIjUZM"
      },
      "execution_count": null,
      "outputs": []
    },
    {
      "cell_type": "markdown",
      "source": [
        "4. **Parameters and Arguments**\n",
        "\n",
        "Functions can have parameters that serve as placeholders for values provided when the function is called. The values you pass into the function are called arguments.\n",
        "\n",
        "* **Positional Arguments:** Arguments matched by their position in the function definition.\n",
        "* **Keyword Arguments:** Arguments matched by their name (key) in the function call.\n",
        "\n",
        "**Example:**"
      ],
      "metadata": {
        "id": "_HljfAt3jLCi"
      }
    },
    {
      "cell_type": "code",
      "source": [
        "def introduce(name, age):\n",
        "    print(f\"I am {name} and I am {age} years old.\")\n",
        "\n",
        "# Positional arguments\n",
        "introduce(\"Alice\", 30)\n",
        "\n",
        "# Keyword arguments\n",
        "introduce(age=25, name=\"Bob\")\n"
      ],
      "metadata": {
        "id": "jWY87AxGjHyI"
      },
      "execution_count": null,
      "outputs": []
    },
    {
      "cell_type": "markdown",
      "source": [
        "5. **Default Parameters**\n",
        "You can define default values for parameters in case no argument is provided during the function call.\n",
        "\n",
        "**Example:**"
      ],
      "metadata": {
        "id": "b27jCoHUi4V8"
      }
    },
    {
      "cell_type": "code",
      "source": [
        "def greet(name=\"Guest\"):\n",
        "    print(f\"Hello, {name}!\")\n",
        "\n",
        "greet()        # Output: Hello, Guest!\n",
        "greet(\"Anna\")  # Output: Hello, Anna!"
      ],
      "metadata": {
        "id": "f7ATs9mqi2L_"
      },
      "execution_count": null,
      "outputs": []
    },
    {
      "cell_type": "markdown",
      "source": [
        "6. **Returning Values**\n",
        "\n",
        "Functions can return values using the return keyword. Once a return statement is executed, the function terminates.\n",
        "\n",
        "**Example:**"
      ],
      "metadata": {
        "id": "-EAP5Ye6iumo"
      }
    },
    {
      "cell_type": "code",
      "source": [
        "def add(a, b):\n",
        "    return a + b\n",
        "\n",
        "result = add(5, 7)\n",
        "print(result)  # Output: 12"
      ],
      "metadata": {
        "id": "w0fWnw15isvJ"
      },
      "execution_count": null,
      "outputs": []
    },
    {
      "cell_type": "markdown",
      "source": [
        "7. **Docstrings**\n",
        "It is a good practice to add docstrings (documentation strings) to your functions. They describe what the function does and are enclosed within triple quotes \"\"\".\n",
        "\n",
        "**Example:**"
      ],
      "metadata": {
        "id": "DpCOnDztioUO"
      }
    },
    {
      "cell_type": "code",
      "source": [
        "def multiply(a, b):\n",
        "    \"\"\"\n",
        "    This function multiplies two numbers.\n",
        "    \"\"\"\n",
        "    return a * b\n",
        "\n",
        "print(multiply.__doc__)  # Output: This function multiplies two numbers."
      ],
      "metadata": {
        "id": "nJL4Jeypii-b"
      },
      "execution_count": null,
      "outputs": []
    },
    {
      "cell_type": "markdown",
      "source": [
        "8. **Variable Scope**\n",
        "* **Local variables:** Defined inside a function and can only be used within that function.\n",
        "* **Global variables:** Defined outside of functions and can be accessed globally.\n",
        "Example:"
      ],
      "metadata": {
        "id": "dkYdQG3ribsM"
      }
    },
    {
      "cell_type": "code",
      "source": [
        "x = 10  # Global variable\n",
        "\n",
        "def show_number():\n",
        "    x = 5  # Local variable\n",
        "    print(x)  # Output: 5\n",
        "\n",
        "show_number()\n",
        "print(x)  # Output: 10"
      ],
      "metadata": {
        "id": "xePRSnW7iZJd"
      },
      "execution_count": null,
      "outputs": []
    },
    {
      "cell_type": "markdown",
      "source": [
        "9. **Lambda Functions**\n",
        "\n",
        "A lambda function is a small, anonymous function defined with the lambda keyword. It can take any number of arguments but can only have one expression."
      ],
      "metadata": {
        "id": "_3ch0ohtiUlW"
      }
    },
    {
      "cell_type": "code",
      "source": [
        "lambda arguments: expression"
      ],
      "metadata": {
        "id": "Q6i-p-oniPd6"
      },
      "execution_count": null,
      "outputs": []
    },
    {
      "cell_type": "markdown",
      "source": [
        "**Example:**"
      ],
      "metadata": {
        "id": "Nq3fEp2FiL_B"
      }
    },
    {
      "cell_type": "code",
      "source": [
        "square = lambda x: x ** 2\n",
        "print(square(3))  # Output: 9\n",
        "\n",
        "add = lambda a, b: a + b\n",
        "print(add(5, 6))  # Output: 11"
      ],
      "metadata": {
        "id": "l8KjwRXlh8A_"
      },
      "execution_count": null,
      "outputs": []
    },
    {
      "cell_type": "markdown",
      "source": [
        "10. **Recursion**\n",
        "A function can call itself, known as recursion. It's useful when you need to break down a problem into smaller sub-problems of the same type.\n",
        "\n",
        "**Example:** Factorial using recursion"
      ],
      "metadata": {
        "id": "uZHSmTlth3g5"
      }
    },
    {
      "cell_type": "code",
      "source": [
        "def factorial(n):\n",
        "    if n == 1:  # Base case\n",
        "        return 1\n",
        "    else:\n",
        "        return n * factorial(n - 1)  # Recursive case\n",
        "\n",
        "print(factorial(5))  # Output: 120"
      ],
      "metadata": {
        "id": "P2DENM-5hxWC"
      },
      "execution_count": null,
      "outputs": []
    },
    {
      "cell_type": "markdown",
      "source": [
        "11. **Advanced: Functions as First-Class Citizens**\n",
        "\n",
        "In Python, functions are first-class citizens. This means they can be:\n",
        "\n",
        "*  Assigned to variables.\n",
        "*  Passed as arguments to other functions.\n",
        "*  Returned from other functions.\n",
        "\n",
        "**Example:**"
      ],
      "metadata": {
        "id": "tgPJmRYKj8x2"
      }
    },
    {
      "cell_type": "code",
      "source": [
        "def shout(text):\n",
        "    return text.upper()\n",
        "\n",
        "def whisper(text):\n",
        "    return text.lower()\n",
        "\n",
        "def greet(func):\n",
        "    return func(\"Hello!\")\n",
        "\n",
        "print(greet(shout))   # Output: HELLO!\n",
        "print(greet(whisper)) # Output: hello!"
      ],
      "metadata": {
        "id": "Ro13Y3uokKaJ"
      },
      "execution_count": null,
      "outputs": []
    }
  ]
}