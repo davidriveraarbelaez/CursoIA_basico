{
  "nbformat": 4,
  "nbformat_minor": 0,
  "metadata": {
    "colab": {
      "provenance": [],
      "authorship_tag": "ABX9TyO5zLn5b/OwGLmPJ+WoagIP",
      "include_colab_link": true
    },
    "kernelspec": {
      "name": "python3",
      "display_name": "Python 3"
    },
    "language_info": {
      "name": "python"
    }
  },
  "cells": [
    {
      "cell_type": "markdown",
      "metadata": {
        "id": "view-in-github",
        "colab_type": "text"
      },
      "source": [
        "<a href=\"https://colab.research.google.com/github/davidriveraarbelaez/IA_Explorador/blob/main/Tema_1_Misi%C3%B3n3.ipynb\" target=\"_parent\"><img src=\"https://colab.research.google.com/assets/colab-badge.svg\" alt=\"Open In Colab\"/></a>"
      ]
    },
    {
      "cell_type": "markdown",
      "source": [
        "1. Descarga del Conjunto de Datos:\n",
        "\n",
        "*  Accede al conjunto de datos en [Kaggle](https://www.kaggle.com/datasets/datafiniti/consumer-reviews-of-amazon-products).\n",
        "*  Inicia sesión en tu cuenta de Kaggle y descarga el archivo CSV correspondiente."
      ],
      "metadata": {
        "id": "YQAVFxIkf6Wb"
      }
    },
    {
      "cell_type": "markdown",
      "source": [
        "2. Carga del Conjunto de Datos en Jupyter Notebook:\n",
        "\n",
        "*  Utiliza la biblioteca **pandas** para cargar el archivo CSV en un DataFrame"
      ],
      "metadata": {
        "id": "T756dalxgRm_"
      }
    },
    {
      "cell_type": "code",
      "execution_count": null,
      "metadata": {
        "id": "SVQaEyePfw_n"
      },
      "outputs": [],
      "source": [
        "import pandas as pd\n",
        "\n",
        "# Cargar el conjunto de datos\n",
        "df = pd.read_csv('/content/Datafiniti_Amazon_Consumer_Reviews_of_Amazon_Products.csv')\n",
        "\n",
        "# Mostrar las primeras filas del DataFrame\n"
      ]
    },
    {
      "cell_type": "markdown",
      "source": [
        "3. Tokenización:\n",
        "\n",
        "Emplea nltk para dividir el texto en tokens:"
      ],
      "metadata": {
        "id": "qR6C5QXpgcrH"
      }
    },
    {
      "cell_type": "code",
      "source": [
        "import nltk\n",
        "from nltk.tokenize import word_tokenize\n",
        "\n",
        "# Descargar recursos necesarios\n",
        "\n",
        "\n",
        "# Tokenizar una reseña de ejemplo\n",
        "\n"
      ],
      "metadata": {
        "colab": {
          "base_uri": "https://localhost:8080/"
        },
        "id": "jJfRzB2SgfOh",
        "outputId": "13f2a3ab-3ebc-446e-dea9-3fbab9f3e6d0"
      },
      "execution_count": null,
      "outputs": [
        {
          "output_type": "stream",
          "name": "stderr",
          "text": [
            "[nltk_data] Downloading package punkt to /root/nltk_data...\n",
            "[nltk_data]   Package punkt is already up-to-date!\n",
            "[nltk_data] Downloading package punkt_tab to /root/nltk_data...\n",
            "[nltk_data]   Unzipping tokenizers/punkt_tab.zip.\n"
          ]
        },
        {
          "output_type": "stream",
          "name": "stdout",
          "text": [
            "['i', 'thought', 'it', 'would', 'be', 'as', 'big', 'as', 'small', 'paper', 'but', 'turn', 'out', 'to', 'be', 'just', 'like', 'my', 'palm', '.', 'i', 'think', 'it', 'is', 'too', 'small', 'to', 'read', 'on', 'it', '...', 'not', 'very', 'comfortable', 'as', 'regular', 'kindle', '.', 'would', 'definitely', 'recommend', 'a', 'paperwhite', 'instead', '.']\n"
          ]
        }
      ]
    },
    {
      "cell_type": "markdown",
      "source": [
        "4. Normalización:\n",
        "\n",
        "Convierte el texto a minúsculas y elimina caracteres especiales:"
      ],
      "metadata": {
        "id": "fhXxNLoJiJha"
      }
    },
    {
      "cell_type": "code",
      "source": [
        "\n"
      ],
      "metadata": {
        "id": "m4K5fQaMgmhy"
      },
      "execution_count": null,
      "outputs": []
    },
    {
      "cell_type": "markdown",
      "source": [
        "5. Eliminación de Stopwords:\n",
        "\n",
        "Utiliza **nltk** para eliminar palabras comunes que no aportan valor semántico:"
      ],
      "metadata": {
        "id": "oCVyNA3sgowO"
      }
    },
    {
      "cell_type": "code",
      "source": [
        "from nltk.corpus import stopwords\n",
        "\n",
        "# Descargar lista de stopwords\n",
        "\n"
      ],
      "metadata": {
        "colab": {
          "base_uri": "https://localhost:8080/"
        },
        "id": "tH0T1AQvgt9E",
        "outputId": "af1e6f77-09ce-48ef-f76f-436408405453"
      },
      "execution_count": null,
      "outputs": [
        {
          "output_type": "stream",
          "name": "stderr",
          "text": [
            "[nltk_data] Downloading package stopwords to /root/nltk_data...\n",
            "[nltk_data]   Unzipping corpora/stopwords.zip.\n"
          ]
        }
      ]
    },
    {
      "cell_type": "markdown",
      "source": [
        "6. Lematización:\n",
        "\n",
        "Aplica WordNetLemmatizer de nltk para reducir las palabras a su forma base:"
      ],
      "metadata": {
        "id": "2bru-gvjgxbz"
      }
    },
    {
      "cell_type": "code",
      "source": [
        "from nltk.stem import WordNetLemmatizer\n",
        "\n",
        "# Descargar recursos necesarios\n",
        "\n"
      ],
      "metadata": {
        "colab": {
          "base_uri": "https://localhost:8080/"
        },
        "id": "h3jrxlGEgvxU",
        "outputId": "e88a48ef-d3cf-491c-c95f-311d1d4cce53"
      },
      "execution_count": null,
      "outputs": [
        {
          "output_type": "stream",
          "name": "stderr",
          "text": [
            "[nltk_data] Downloading package wordnet to /root/nltk_data...\n",
            "[nltk_data] Downloading package omw-1.4 to /root/nltk_data...\n"
          ]
        }
      ]
    },
    {
      "cell_type": "markdown",
      "source": [
        "7. Stemming:\n",
        "\n",
        "Alternativamente, utiliza **PorterStemmer** para reducir las palabras a su raíz:"
      ],
      "metadata": {
        "id": "Nl_a-G9rg39k"
      }
    },
    {
      "cell_type": "code",
      "source": [
        "from nltk.stem import PorterStemmer\n",
        "\n",
        "\n"
      ],
      "metadata": {
        "id": "MWZN_o3Bg7iX"
      },
      "execution_count": null,
      "outputs": []
    },
    {
      "cell_type": "markdown",
      "source": [
        "8. Representación de Texto:\n",
        "\n",
        "*  Bolsa de Palabras (Bag of Words):\n",
        "\n",
        "  *  Utiliza CountVectorizer de **sklearn**:"
      ],
      "metadata": {
        "id": "pBJ8wereg-gZ"
      }
    },
    {
      "cell_type": "code",
      "source": [
        "from sklearn.feature_extraction.text import CountVectorizer\n",
        "\n",
        "\n"
      ],
      "metadata": {
        "id": "kleTUVaPhFSI"
      },
      "execution_count": null,
      "outputs": []
    },
    {
      "cell_type": "markdown",
      "source": [
        "*  TF-IDF:\n",
        "\n",
        "  *  Aplica TfidfVectorizer de sklearn:"
      ],
      "metadata": {
        "id": "rUpbp3NVhH-A"
      }
    },
    {
      "cell_type": "code",
      "source": [
        "from sklearn.feature_extraction.text import TfidfVectorizer\n",
        "\n",
        "\n"
      ],
      "metadata": {
        "id": "QYnAbwPohL0c"
      },
      "execution_count": null,
      "outputs": []
    }
  ]
}