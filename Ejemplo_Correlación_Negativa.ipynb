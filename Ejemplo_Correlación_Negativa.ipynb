{
  "nbformat": 4,
  "nbformat_minor": 0,
  "metadata": {
    "colab": {
      "provenance": [],
      "authorship_tag": "ABX9TyMJVmoHIBqurQA1+DL2WQAd",
      "include_colab_link": true
    },
    "kernelspec": {
      "name": "python3",
      "display_name": "Python 3"
    },
    "language_info": {
      "name": "python"
    }
  },
  "cells": [
    {
      "cell_type": "markdown",
      "metadata": {
        "id": "view-in-github",
        "colab_type": "text"
      },
      "source": [
        "<a href=\"https://colab.research.google.com/github/davidriveraarbelaez/IA_Explorador/blob/main/Ejemplo_Correlaci%C3%B3n_Negativa.ipynb\" target=\"_parent\"><img src=\"https://colab.research.google.com/assets/colab-badge.svg\" alt=\"Open In Colab\"/></a>"
      ]
    },
    {
      "cell_type": "markdown",
      "source": [
        "**Ejemplo Correlación Negativa**\n",
        "\n",
        "En un estudio sobre consumo de energía y eficiencia de iluminación, se podría encontrar una correlación negativa entre el uso de iluminación LED y el consumo total de energía. A medida que la adopción de luces LED aumenta, el consumo de energía eléctrica disminuye debido a su eficiencia."
      ],
      "metadata": {
        "id": "qFKovgjtgtbe"
      }
    },
    {
      "cell_type": "code",
      "source": [
        "# Paso 1: Importar las librerías necesarias\n",
        "\n",
        "import numpy as np\n",
        "from scipy.stats import pearsonr\n",
        "import matplotlib.pyplot as plt\n",
        "\n"
      ],
      "metadata": {
        "id": "f6VS8ZKVgQcg"
      },
      "execution_count": null,
      "outputs": []
    },
    {
      "cell_type": "code",
      "source": [
        "# Paso 2: Generar datos simulados\n",
        "\"\"\"\n",
        "Creamos datos de ejemplo para la cantidad de luces LED utilizadas (en porcentaje\n",
        "de adopción) y el consumo total de energía (en kWh).\n",
        "\"\"\"\n",
        "\n",
        "# Datos simulados de adopción de luces LED (en %)\n",
        "adopcion_led = np.array([10, 20, 30, 40, 50, 60, 70, 80, 90, 100])\n",
        "\n",
        "# Datos simulados de consumo total de energía (en kWh)\n",
        "consumo_energia = np.array([1000, 900, 850, 800, 750, 700, 650, 600, 550, 500])\n"
      ],
      "metadata": {
        "id": "jpLNpdB-gTpV"
      },
      "execution_count": null,
      "outputs": []
    },
    {
      "cell_type": "code",
      "source": [
        "# Paso 3: Visualizar los datos\n",
        "\n",
        "\"\"\"\n",
        "Utilizamos un gráfico de dispersión para observar visualmente la relación entre\n",
        "la adopción de luces LED y el consumo total de energía.\n",
        "\"\"\"\n",
        "\n",
        "plt.scatter(adopcion_led, consumo_energia)\n",
        "plt.title('Relación entre Adopción de Luces LED y Consumo de Energía')\n",
        "plt.xlabel('Adopción de Luces LED (%)')\n",
        "plt.ylabel('Consumo de Energía (kWh)')\n",
        "plt.grid()\n",
        "plt.show()"
      ],
      "metadata": {
        "id": "N2OHayCHg5fr"
      },
      "execution_count": null,
      "outputs": []
    },
    {
      "cell_type": "code",
      "source": [
        "# Paso 4: Calcular el coeficiente de correlación de Pearson\n",
        "\"\"\"\n",
        "Calculamos el coeficiente de correlación de Pearson para medir la relación entre\n",
        "la adopción de luces LED y el consumo de energía.\n",
        "\"\"\"\n",
        "\n",
        "# Calcular el coeficiente de correlación de Pearson\n",
        "coef, p_valor = pearsonr(adopcion_led, consumo_energia)\n",
        "print(f'Coeficiente de correlación: {coef:.2f}')\n",
        "print(f'Valor p: {p_valor:.4f}')"
      ],
      "metadata": {
        "id": "16GnjUkehAx6"
      },
      "execution_count": null,
      "outputs": []
    },
    {
      "cell_type": "code",
      "source": [],
      "metadata": {
        "id": "nK4uybqLia6t"
      },
      "execution_count": null,
      "outputs": []
    }
  ]
}