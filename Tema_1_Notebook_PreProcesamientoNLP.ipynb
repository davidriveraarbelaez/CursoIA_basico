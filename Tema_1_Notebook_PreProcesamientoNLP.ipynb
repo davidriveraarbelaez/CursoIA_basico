{
  "nbformat": 4,
  "nbformat_minor": 0,
  "metadata": {
    "colab": {
      "provenance": [],
      "include_colab_link": true
    },
    "kernelspec": {
      "name": "python3",
      "display_name": "Python 3"
    },
    "language_info": {
      "name": "python"
    }
  },
  "cells": [
    {
      "cell_type": "markdown",
      "metadata": {
        "id": "view-in-github",
        "colab_type": "text"
      },
      "source": [
        "<a href=\"https://colab.research.google.com/github/davidriveraarbelaez/IA_Explorador/blob/main/Tema_1_Notebook_PreProcesamientoNLP.ipynb\" target=\"_parent\"><img src=\"https://colab.research.google.com/assets/colab-badge.svg\" alt=\"Open In Colab\"/></a>"
      ]
    },
    {
      "cell_type": "code",
      "execution_count": null,
      "metadata": {
        "colab": {
          "base_uri": "https://localhost:8080/"
        },
        "id": "BNW28mJQ3PI4",
        "outputId": "4609a7e0-38bc-4b38-b367-595030af8c90"
      },
      "outputs": [
        {
          "output_type": "stream",
          "name": "stderr",
          "text": [
            "[nltk_data] Downloading package punkt to /root/nltk_data...\n",
            "[nltk_data]   Package punkt is already up-to-date!\n",
            "[nltk_data] Downloading package stopwords to /root/nltk_data...\n",
            "[nltk_data]   Package stopwords is already up-to-date!\n",
            "[nltk_data] Downloading package wordnet to /root/nltk_data...\n",
            "[nltk_data]   Package wordnet is already up-to-date!\n",
            "[nltk_data] Downloading package punkt_tab to /root/nltk_data...\n",
            "[nltk_data]   Unzipping tokenizers/punkt_tab.zip.\n"
          ]
        },
        {
          "output_type": "stream",
          "name": "stdout",
          "text": [
            "Tokens: ['Los', 'gatos', 'son', 'animales', 'muy', 'interesantes', '.', 'Me', 'encanta', 'ver', 'cómo', 'juegan', 'y', 'exploran', 'el', 'mundo', '.']\n",
            "Tokens Normalizados: ['los', 'gatos', 'son', 'animales', 'muy', 'interesantes', '.', 'me', 'encanta', 'ver', 'cómo', 'juegan', 'y', 'exploran', 'el', 'mundo', '.']\n",
            "Tokens sin Stopwords: ['gatos', 'animales', 'interesantes', '.', 'encanta', 'ver', 'cómo', 'juegan', 'exploran', 'mundo', '.']\n",
            "Tokens Lematizados: ['gatos', 'animales', 'interesantes', '.', 'encanta', 'ver', 'cómo', 'juegan', 'exploran', 'mundo', '.']\n",
            "Tokens Stemmed: ['gato', 'animal', 'interesant', '.', 'encanta', 'ver', 'cómo', 'juegan', 'exploran', 'mundo', '.']\n",
            "\n",
            "Bolsa de Palabras:\n",
            "[[1 1 1 1 1 1 1 1 1]]\n",
            "Características (BOW): ['animales' 'cómo' 'encanta' 'exploran' 'gatos' 'interesantes' 'juegan'\n",
            " 'mundo' 'ver']\n",
            "\n",
            "TF-IDF:\n",
            "[[0.33333333 0.33333333 0.33333333 0.33333333 0.33333333 0.33333333\n",
            "  0.33333333 0.33333333 0.33333333]]\n",
            "Características (TF-IDF): ['animales' 'cómo' 'encanta' 'exploran' 'gatos' 'interesantes' 'juegan'\n",
            " 'mundo' 'ver']\n"
          ]
        }
      ],
      "source": [
        "import pandas as pd\n",
        "import numpy as np\n",
        "import nltk\n",
        "from nltk.tokenize import word_tokenize\n",
        "from nltk.corpus import stopwords\n",
        "from nltk.stem import WordNetLemmatizer, PorterStemmer\n",
        "from sklearn.feature_extraction.text import CountVectorizer, TfidfVectorizer\n",
        "\n",
        "# Descargar recursos de NLTK\n",
        "nltk.download('punkt')\n",
        "nltk.download('stopwords')\n",
        "nltk.download('wordnet')\n",
        "# Si sale un error\n",
        "# nltk.download('punkt_tab')  # Descomentar esta línea\n",
        "\n",
        "# Ejemplo de texto\n",
        "text = \"Los gatos son animales muy interesantes. Me encanta ver cómo juegan y exploran el mundo.\"\n",
        "\n",
        "# 1. Tokenización\n",
        "tokens = word_tokenize(text)\n",
        "print(\"Tokens:\", tokens)\n",
        "\n",
        "# 2. Normalización (conversión a minúsculas)\n",
        "tokens_normalized = [token.lower() for token in tokens]\n",
        "print(\"Tokens Normalizados:\", tokens_normalized)\n",
        "\n",
        "# 3. Eliminación de Stopwords\n",
        "stop_words = set(stopwords.words('spanish'))\n",
        "tokens_no_stopwords = [token for token in tokens_normalized if token not in stop_words]\n",
        "print(\"Tokens sin Stopwords:\", tokens_no_stopwords)\n",
        "\n",
        "# 4. Lematización\n",
        "lemmatizer = WordNetLemmatizer()\n",
        "tokens_lemmatized = [lemmatizer.lemmatize(token) for token in tokens_no_stopwords]\n",
        "print(\"Tokens Lematizados:\", tokens_lemmatized)\n",
        "\n",
        "# 5. Stemming\n",
        "stemmer = PorterStemmer()\n",
        "tokens_stemmed = [stemmer.stem(token) for token in tokens_no_stopwords]\n",
        "print(\"Tokens Stemmed:\", tokens_stemmed)\n",
        "\n",
        "# Representación de Texto\n",
        "\n",
        "# 6. Bolsa de Palabras\n",
        "vectorizer_bow = CountVectorizer()\n",
        "X_bow = vectorizer_bow.fit_transform([' '.join(tokens_no_stopwords)])\n",
        "print(\"\\nBolsa de Palabras:\")\n",
        "print(X_bow.toarray())\n",
        "print(\"Características (BOW):\", vectorizer_bow.get_feature_names_out())\n",
        "\n",
        "# 7. TF-IDF\n",
        "vectorizer_tfidf = TfidfVectorizer()\n",
        "X_tfidf = vectorizer_tfidf.fit_transform([' '.join(tokens_no_stopwords)])\n",
        "print(\"\\nTF-IDF:\")\n",
        "print(X_tfidf.toarray())\n",
        "print(\"Características (TF-IDF):\", vectorizer_tfidf.get_feature_names_out())\n"
      ]
    }
  ]
}